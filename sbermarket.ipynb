{
 "cells": [
  {
   "cell_type": "code",
   "execution_count": 1,
   "metadata": {},
   "outputs": [],
   "source": [
    "%config Completer.use_jedi = False\n",
    "\n",
    "import pandas as pd\n",
    "import numpy as np\n",
    "import matplotlib.pyplot as plt\n",
    "import pandasql as ps"
   ]
  },
  {
   "cell_type": "code",
   "execution_count": 2,
   "metadata": {},
   "outputs": [],
   "source": [
    "data_path = './test-recsys/'  # ../input"
   ]
  },
  {
   "cell_type": "code",
   "execution_count": 3,
   "metadata": {},
   "outputs": [],
   "source": [
    "import os"
   ]
  },
  {
   "cell_type": "code",
   "execution_count": 4,
   "metadata": {},
   "outputs": [
    {
     "data": {
      "text/plain": [
       "['kaggle_tab_1345',\n",
       " 'sample_submission.csv',\n",
       " 'sbermarket_tab_2_1',\n",
       " 'sbermarket_tab_2_2',\n",
       " 'sbermarket_tab_2_3',\n",
       " 'sbermarket_tab_2_4',\n",
       " 'sbermarket_tab_2_5',\n",
       " 'sbermarket_tab_2_6',\n",
       " 'tab_6_city.csv']"
      ]
     },
     "execution_count": 4,
     "metadata": {},
     "output_type": "execute_result"
    }
   ],
   "source": [
    "os.listdir(data_path)"
   ]
  },
  {
   "cell_type": "markdown",
   "metadata": {},
   "source": [
    "## Categoties table analysis"
   ]
  },
  {
   "cell_type": "code",
   "execution_count": 5,
   "metadata": {},
   "outputs": [],
   "source": [
    "cat = pd.read_csv(data_path + 'kaggle_tab_1345/tab_3_categories.csv')"
   ]
  },
  {
   "cell_type": "code",
   "execution_count": 19,
   "metadata": {
    "scrolled": false
   },
   "outputs": [],
   "source": [
    "hier = cat\n",
    "i=0\n",
    "\n",
    "q = \"\"\"\n",
    "select t1.id as lvl_\"\"\" + str(i) + \"\"\"_id,\n",
    "    t1.name as lvl_\"\"\" + str(i) + \"\"\"_name,\n",
    "    t1.parent_id as lvl_\"\"\" + str(i+1) + \"\"\"_id,\n",
    "    t2.name as lvl_\"\"\" + str(i+1) + \"\"\"_name,\n",
    "    t2.parent_id as lvl_\"\"\" + str(i+2) + \"\"\"_id\n",
    "from hier t1\n",
    "left join cat t2\n",
    "on t1.parent_id == t2.id\n",
    "\n",
    "\"\"\"\n",
    "hier = ps.sqldf(q)\n",
    "i = i + 1\n",
    "hier['lvl_' + str(i) + '_name'].fillna(\"\",inplace=True)\n",
    "hier['lvl_' + str(i+1) + '_id'].fillna(0.0,inplace=True)\n",
    "\n",
    "while not (hier['lvl_' + str(i+1) + '_id'] == 0.0).all():\n",
    "    \n",
    "    q = \"\"\"\n",
    "    select t1.*,\n",
    "        t2.name as lvl_\"\"\" + str(i+1) + \"\"\"_name,\n",
    "        t2.parent_id as lvl_\"\"\" + str(i+2) + \"\"\"_id\n",
    "    from hier t1\n",
    "    left join cat t2\n",
    "    on t1.lvl_\"\"\" + str(i+1) + \"\"\"_id == t2.id\n",
    "\n",
    "    \"\"\"\n",
    "    hier = ps.sqldf(q)\n",
    "    i = i + 1  \n",
    "    hier['lvl_' + str(i) + '_name'].fillna(\"\",inplace=True)\n",
    "    hier['lvl_' + str(i+1) + '_id'].fillna(0.0,inplace=True)\n",
    "\n",
    "# hier.drop(['lvl_' + str(i+1) + '_id'], axis=1, inplace=True)"
   ]
  },
  {
   "cell_type": "code",
   "execution_count": 10,
   "metadata": {},
   "outputs": [
    {
     "data": {
      "text/html": [
       "<div>\n",
       "<style scoped>\n",
       "    .dataframe tbody tr th:only-of-type {\n",
       "        vertical-align: middle;\n",
       "    }\n",
       "\n",
       "    .dataframe tbody tr th {\n",
       "        vertical-align: top;\n",
       "    }\n",
       "\n",
       "    .dataframe thead th {\n",
       "        text-align: right;\n",
       "    }\n",
       "</style>\n",
       "<table border=\"1\" class=\"dataframe\">\n",
       "  <thead>\n",
       "    <tr style=\"text-align: right;\">\n",
       "      <th></th>\n",
       "      <th>lvl_0_id</th>\n",
       "      <th>lvl_0_name</th>\n",
       "      <th>lvl_1_id</th>\n",
       "      <th>lvl_1_name</th>\n",
       "      <th>lvl_2_id</th>\n",
       "      <th>lvl_2_name</th>\n",
       "      <th>lvl_3_id</th>\n",
       "    </tr>\n",
       "  </thead>\n",
       "  <tbody>\n",
       "    <tr>\n",
       "      <th>0</th>\n",
       "      <td>1</td>\n",
       "      <td>Продукты питания</td>\n",
       "      <td>0</td>\n",
       "      <td></td>\n",
       "      <td>0.0</td>\n",
       "      <td></td>\n",
       "      <td>0.0</td>\n",
       "    </tr>\n",
       "    <tr>\n",
       "      <th>1</th>\n",
       "      <td>2</td>\n",
       "      <td>Замороженные продукты</td>\n",
       "      <td>1</td>\n",
       "      <td>Продукты питания</td>\n",
       "      <td>0.0</td>\n",
       "      <td></td>\n",
       "      <td>0.0</td>\n",
       "    </tr>\n",
       "    <tr>\n",
       "      <th>2</th>\n",
       "      <td>3</td>\n",
       "      <td>Замороженные овощи и фрукты</td>\n",
       "      <td>2</td>\n",
       "      <td>Замороженные продукты</td>\n",
       "      <td>1.0</td>\n",
       "      <td>Продукты питания</td>\n",
       "      <td>0.0</td>\n",
       "    </tr>\n",
       "    <tr>\n",
       "      <th>3</th>\n",
       "      <td>4</td>\n",
       "      <td>Замороженные полуфабрикаты</td>\n",
       "      <td>2</td>\n",
       "      <td>Замороженные продукты</td>\n",
       "      <td>1.0</td>\n",
       "      <td>Продукты питания</td>\n",
       "      <td>0.0</td>\n",
       "    </tr>\n",
       "    <tr>\n",
       "      <th>4</th>\n",
       "      <td>5</td>\n",
       "      <td>Рыба замороженная</td>\n",
       "      <td>2</td>\n",
       "      <td>Замороженные продукты</td>\n",
       "      <td>1.0</td>\n",
       "      <td>Продукты питания</td>\n",
       "      <td>0.0</td>\n",
       "    </tr>\n",
       "  </tbody>\n",
       "</table>\n",
       "</div>"
      ],
      "text/plain": [
       "   lvl_0_id                   lvl_0_name  lvl_1_id             lvl_1_name  \\\n",
       "0         1             Продукты питания         0                          \n",
       "1         2        Замороженные продукты         1       Продукты питания   \n",
       "2         3  Замороженные овощи и фрукты         2  Замороженные продукты   \n",
       "3         4   Замороженные полуфабрикаты         2  Замороженные продукты   \n",
       "4         5            Рыба замороженная         2  Замороженные продукты   \n",
       "\n",
       "   lvl_2_id        lvl_2_name  lvl_3_id  \n",
       "0       0.0                         0.0  \n",
       "1       0.0                         0.0  \n",
       "2       1.0  Продукты питания       0.0  \n",
       "3       1.0  Продукты питания       0.0  \n",
       "4       1.0  Продукты питания       0.0  "
      ]
     },
     "execution_count": 10,
     "metadata": {},
     "output_type": "execute_result"
    }
   ],
   "source": [
    "hier.head()"
   ]
  },
  {
   "cell_type": "code",
   "execution_count": 49,
   "metadata": {},
   "outputs": [
    {
     "data": {
      "text/plain": [
       "24"
      ]
     },
     "execution_count": 49,
     "metadata": {},
     "output_type": "execute_result"
    }
   ],
   "source": [
    "(hier.lvl_1_id == 0).sum()"
   ]
  },
  {
   "cell_type": "code",
   "execution_count": 50,
   "metadata": {},
   "outputs": [
    {
     "data": {
      "text/plain": [
       "207"
      ]
     },
     "execution_count": 50,
     "metadata": {},
     "output_type": "execute_result"
    }
   ],
   "source": [
    "(hier.lvl_2_id == 0).sum()"
   ]
  },
  {
   "cell_type": "code",
   "execution_count": 51,
   "metadata": {},
   "outputs": [
    {
     "data": {
      "text/plain": [
       "1016"
      ]
     },
     "execution_count": 51,
     "metadata": {},
     "output_type": "execute_result"
    }
   ],
   "source": [
    "(hier.lvl_3_id == 0).sum()"
   ]
  },
  {
   "cell_type": "code",
   "execution_count": 52,
   "metadata": {},
   "outputs": [
    {
     "data": {
      "text/plain": [
       "809"
      ]
     },
     "execution_count": 52,
     "metadata": {},
     "output_type": "execute_result"
    }
   ],
   "source": [
    "(hier.lvl_2_id != 0).sum()"
   ]
  },
  {
   "cell_type": "code",
   "execution_count": 54,
   "metadata": {},
   "outputs": [
    {
     "data": {
      "text/plain": [
       "992"
      ]
     },
     "execution_count": 54,
     "metadata": {},
     "output_type": "execute_result"
    }
   ],
   "source": [
    "(hier.lvl_1_id != 0).sum()"
   ]
  },
  {
   "cell_type": "markdown",
   "metadata": {},
   "source": [
    "__!!! NEED TO CHECK HOW COLUMN MASTER_CATEGORY FOR PRODUCTS IS CONNECTED TO THE HIERARCHY. is it covered by the ids with lvl2_id != 0?__"
   ]
  },
  {
   "cell_type": "code",
   "execution_count": null,
   "metadata": {},
   "outputs": [],
   "source": []
  },
  {
   "cell_type": "markdown",
   "metadata": {},
   "source": [
    "## Order table analysis"
   ]
  },
  {
   "cell_type": "code",
   "execution_count": 61,
   "metadata": {},
   "outputs": [],
   "source": [
    "# orders = pd.read_csv('./tab_1_orders.csv')\n",
    "\n",
    "\n",
    "orders = pd.read_csv(f'{data_path}/kaggle_tab_1345/tab_1_orders.csv')"
   ]
  },
  {
   "cell_type": "code",
   "execution_count": 12,
   "metadata": {},
   "outputs": [
    {
     "data": {
      "text/html": [
       "<div>\n",
       "<style scoped>\n",
       "    .dataframe tbody tr th:only-of-type {\n",
       "        vertical-align: middle;\n",
       "    }\n",
       "\n",
       "    .dataframe tbody tr th {\n",
       "        vertical-align: top;\n",
       "    }\n",
       "\n",
       "    .dataframe thead th {\n",
       "        text-align: right;\n",
       "    }\n",
       "</style>\n",
       "<table border=\"1\" class=\"dataframe\">\n",
       "  <thead>\n",
       "    <tr style=\"text-align: right;\">\n",
       "      <th></th>\n",
       "      <th>user_id</th>\n",
       "      <th>order_id</th>\n",
       "      <th>order_created_time</th>\n",
       "      <th>retailer</th>\n",
       "      <th>store_id</th>\n",
       "      <th>platform</th>\n",
       "    </tr>\n",
       "  </thead>\n",
       "  <tbody>\n",
       "    <tr>\n",
       "      <th>0</th>\n",
       "      <td>72</td>\n",
       "      <td>17431000</td>\n",
       "      <td>2020-09-26 10:48:57</td>\n",
       "      <td>METRO</td>\n",
       "      <td>21</td>\n",
       "      <td>app</td>\n",
       "    </tr>\n",
       "    <tr>\n",
       "      <th>1</th>\n",
       "      <td>83</td>\n",
       "      <td>9718154</td>\n",
       "      <td>2020-05-08 09:46:18</td>\n",
       "      <td>METRO</td>\n",
       "      <td>87</td>\n",
       "      <td>web</td>\n",
       "    </tr>\n",
       "    <tr>\n",
       "      <th>2</th>\n",
       "      <td>142</td>\n",
       "      <td>10056850</td>\n",
       "      <td>2020-05-14 15:06:03</td>\n",
       "      <td>METRO</td>\n",
       "      <td>320</td>\n",
       "      <td>app</td>\n",
       "    </tr>\n",
       "    <tr>\n",
       "      <th>3</th>\n",
       "      <td>187</td>\n",
       "      <td>15952443</td>\n",
       "      <td>2020-09-01 17:34:00</td>\n",
       "      <td>ВкусВилл</td>\n",
       "      <td>533</td>\n",
       "      <td>app</td>\n",
       "    </tr>\n",
       "    <tr>\n",
       "      <th>4</th>\n",
       "      <td>224</td>\n",
       "      <td>10409918</td>\n",
       "      <td>2020-05-20 06:32:50</td>\n",
       "      <td>Ашан</td>\n",
       "      <td>183</td>\n",
       "      <td>web</td>\n",
       "    </tr>\n",
       "  </tbody>\n",
       "</table>\n",
       "</div>"
      ],
      "text/plain": [
       "   user_id  order_id   order_created_time  retailer  store_id platform\n",
       "0       72  17431000  2020-09-26 10:48:57     METRO        21      app\n",
       "1       83   9718154  2020-05-08 09:46:18     METRO        87      web\n",
       "2      142  10056850  2020-05-14 15:06:03     METRO       320      app\n",
       "3      187  15952443  2020-09-01 17:34:00  ВкусВилл       533      app\n",
       "4      224  10409918  2020-05-20 06:32:50      Ашан       183      web"
      ]
     },
     "execution_count": 12,
     "metadata": {},
     "output_type": "execute_result"
    }
   ],
   "source": [
    "orders.head()"
   ]
  },
  {
   "cell_type": "code",
   "execution_count": null,
   "metadata": {
    "collapsed": true
   },
   "outputs": [],
   "source": [
    "q = \"\"\"\n",
    "select t1.*,\n",
    "    t2.order_created_time\n",
    "from prod t1\n",
    "left join orders t2\n",
    "on t1.user_id == t2.user_id and t1.order_id == t2.order_id\n",
    "\n",
    "\"\"\"\n",
    "ps.sqldf(q)"
   ]
  },
  {
   "cell_type": "code",
   "execution_count": null,
   "metadata": {},
   "outputs": [],
   "source": [
    "orders = orders.sort_values(['user_id', 'order_created_time','order_id'])"
   ]
  },
  {
   "cell_type": "code",
   "execution_count": null,
   "metadata": {},
   "outputs": [],
   "source": [
    "tmp = orders.groupby(['user_id', 'order_id']).order_created_time.agg('count')"
   ]
  },
  {
   "cell_type": "code",
   "execution_count": null,
   "metadata": {},
   "outputs": [],
   "source": [
    "(tmp > 1).sum()"
   ]
  },
  {
   "cell_type": "code",
   "execution_count": null,
   "metadata": {},
   "outputs": [],
   "source": [
    "tmp.value_counts()"
   ]
  },
  {
   "cell_type": "code",
   "execution_count": null,
   "metadata": {
    "collapsed": true
   },
   "outputs": [],
   "source": [
    "tmp[tmp==4]"
   ]
  },
  {
   "cell_type": "code",
   "execution_count": null,
   "metadata": {
    "scrolled": true
   },
   "outputs": [],
   "source": [
    "duplicates = orders[orders.set_index(['user_id', 'order_id']).index.isin((tmp[tmp==4].keys()))]"
   ]
  },
  {
   "cell_type": "code",
   "execution_count": null,
   "metadata": {},
   "outputs": [],
   "source": [
    "duplicates.head()"
   ]
  },
  {
   "cell_type": "code",
   "execution_count": null,
   "metadata": {
    "collapsed": true
   },
   "outputs": [],
   "source": [
    "duplicates.groupby(['user_id', 'order_id']).retailer.nunique()"
   ]
  },
  {
   "cell_type": "markdown",
   "metadata": {},
   "source": [
    "__!!! if there are several rows with the same order and time, this means that user offers goods from different retailers. Probably, it will be more convenient to recommend products from one retailer__"
   ]
  },
  {
   "cell_type": "code",
   "execution_count": null,
   "metadata": {},
   "outputs": [],
   "source": [
    "order_cnt = orders.drop_duplicates(['user_id', 'order_id']).groupby('user_id').order_id.agg('count')"
   ]
  },
  {
   "cell_type": "code",
   "execution_count": null,
   "metadata": {},
   "outputs": [],
   "source": [
    "(order_cnt >1).sum()"
   ]
  },
  {
   "cell_type": "code",
   "execution_count": null,
   "metadata": {},
   "outputs": [],
   "source": [
    "order_cnt.clip(upper=order_cnt.quantile(0.99)).plot(kind='hist', bins=25)"
   ]
  },
  {
   "cell_type": "markdown",
   "metadata": {},
   "source": [
    "__!!! for most of the users we don't have big history of purchaises. So it will be difficult to calculate statistics.__"
   ]
  },
  {
   "cell_type": "markdown",
   "metadata": {},
   "source": [
    "## Products table analysis"
   ]
  },
  {
   "cell_type": "code",
   "execution_count": 5,
   "metadata": {},
   "outputs": [],
   "source": [
    "from tqdm.notebook import tqdm"
   ]
  },
  {
   "cell_type": "code",
   "execution_count": 6,
   "metadata": {},
   "outputs": [
    {
     "data": {
      "application/vnd.jupyter.widget-view+json": {
       "model_id": "60f46ef081bb4ac88cd1b8c13365a73d",
       "version_major": 2,
       "version_minor": 0
      },
      "text/plain": [
       "HBox(children=(HTML(value=''), FloatProgress(value=0.0, max=2.0), HTML(value='')))"
      ]
     },
     "metadata": {},
     "output_type": "display_data"
    },
    {
     "name": "stdout",
     "output_type": "stream",
     "text": [
      "./test-recsys/sbermarket_tab_2_6/tab_2_products_2020-09-07.csv\n",
      "./test-recsys/sbermarket_tab_2_6/tab_2_products_2020-08-28.csv\n",
      "./test-recsys/sbermarket_tab_2_6/tab_2_products_2020-08-18.csv\n",
      "./test-recsys/sbermarket_tab_2_6/tab_2_products_2020-08-08.csv\n",
      "./test-recsys/sbermarket_tab_2_5/tab_2_products_2020-07-29.csv\n",
      "./test-recsys/sbermarket_tab_2_5/tab_2_products_2020-07-19.csv\n",
      "./test-recsys/sbermarket_tab_2_5/tab_2_products_2020-07-09.csv\n",
      "\n"
     ]
    }
   ],
   "source": [
    "for i in tqdm(range(6,4,-1)):\n",
    "    for j, name in enumerate(os.listdir(data_path+'sbermarket_tab_2_' + str(i))[::-1]):\n",
    "        print(data_path+'sbermarket_tab_2_' + str(i)  + '/' + name)\n",
    "        if i==6 and j==0:\n",
    "            prod = pd.read_csv(data_path+'sbermarket_tab_2_' + str(i) + '/' + name)\n",
    "        else:\n",
    "            t = pd.read_csv(data_path+'sbermarket_tab_2_' + str(i) + '/' + name)\n",
    "            prod = prod.append(t)\n",
    "#         print(prod.shape)"
   ]
  },
  {
   "cell_type": "code",
   "execution_count": 13,
   "metadata": {},
   "outputs": [],
   "source": [
    "# import gc\n",
    "# gc.collect()\n",
    "# gc.collect()\n",
    "# gc.collect()\n",
    "# gc.collect()"
   ]
  },
  {
   "cell_type": "code",
   "execution_count": 8,
   "metadata": {},
   "outputs": [
    {
     "data": {
      "text/plain": [
       "(20279418, 11)"
      ]
     },
     "execution_count": 8,
     "metadata": {},
     "output_type": "execute_result"
    }
   ],
   "source": [
    "prod.shape"
   ]
  },
  {
   "cell_type": "code",
   "execution_count": 14,
   "metadata": {},
   "outputs": [],
   "source": [
    "tmp = prod.groupby('user_id').order_id.nunique()"
   ]
  },
  {
   "cell_type": "code",
   "execution_count": 17,
   "metadata": {},
   "outputs": [
    {
     "data": {
      "text/plain": [
       "<AxesSubplot:ylabel='Frequency'>"
      ]
     },
     "execution_count": 17,
     "metadata": {},
     "output_type": "execute_result"
    },
    {
     "data": {
      "image/png": "[encoded data removed]",
      "text/plain": [
       "<Figure size 432x288 with 1 Axes>"
      ]
     },
     "metadata": {
      "needs_background": "light"
     },
     "output_type": "display_data"
    }
   ],
   "source": [
    "tmp.clip(upper=tmp.quantile(0.99)).plot(kind='hist', bins=25)"
   ]
  },
  {
   "cell_type": "code",
   "execution_count": 33,
   "metadata": {},
   "outputs": [],
   "source": [
    "master_cat_list = pd.Series(prod.master_category_id.unique())"
   ]
  },
  {
   "cell_type": "code",
   "execution_count": 34,
   "metadata": {},
   "outputs": [
    {
     "data": {
      "text/plain": [
       "49"
      ]
     },
     "execution_count": 34,
     "metadata": {},
     "output_type": "execute_result"
    }
   ],
   "source": [
    "(master_cat_list.isin(hier[hier.lvl_2_id != 0].lvl_0_id.values) == False).sum()"
   ]
  },
  {
   "cell_type": "code",
   "execution_count": 35,
   "metadata": {},
   "outputs": [
    {
     "data": {
      "text/plain": [
       "612"
      ]
     },
     "execution_count": 35,
     "metadata": {},
     "output_type": "execute_result"
    }
   ],
   "source": [
    "len(master_cat_list)"
   ]
  },
  {
   "cell_type": "code",
   "execution_count": 36,
   "metadata": {},
   "outputs": [
    {
     "data": {
      "text/plain": [
       "1"
      ]
     },
     "execution_count": 36,
     "metadata": {},
     "output_type": "execute_result"
    }
   ],
   "source": [
    "(master_cat_list.isin(hier.lvl_0_id) == False).sum()"
   ]
  },
  {
   "cell_type": "markdown",
   "metadata": {},
   "source": [
    "__!!! master_category_id = lvl_0_id__"
   ]
  },
  {
   "cell_type": "code",
   "execution_count": 33,
   "metadata": {},
   "outputs": [
    {
     "data": {
      "text/html": [
       "<div>\n",
       "<style scoped>\n",
       "    .dataframe tbody tr th:only-of-type {\n",
       "        vertical-align: middle;\n",
       "    }\n",
       "\n",
       "    .dataframe tbody tr th {\n",
       "        vertical-align: top;\n",
       "    }\n",
       "\n",
       "    .dataframe thead th {\n",
       "        text-align: right;\n",
       "    }\n",
       "</style>\n",
       "<table border=\"1\" class=\"dataframe\">\n",
       "  <thead>\n",
       "    <tr style=\"text-align: right;\">\n",
       "      <th></th>\n",
       "      <th>lvl_0_id</th>\n",
       "      <th>lvl_0_name</th>\n",
       "      <th>lvl_1_id</th>\n",
       "      <th>lvl_1_name</th>\n",
       "      <th>lvl_2_id</th>\n",
       "      <th>lvl_2_name</th>\n",
       "      <th>lvl_3_id</th>\n",
       "    </tr>\n",
       "  </thead>\n",
       "  <tbody>\n",
       "    <tr>\n",
       "      <th>0</th>\n",
       "      <td>1</td>\n",
       "      <td>Продукты питания</td>\n",
       "      <td>0</td>\n",
       "      <td></td>\n",
       "      <td>0.0</td>\n",
       "      <td></td>\n",
       "      <td>0.0</td>\n",
       "    </tr>\n",
       "    <tr>\n",
       "      <th>1</th>\n",
       "      <td>2</td>\n",
       "      <td>Замороженные продукты</td>\n",
       "      <td>1</td>\n",
       "      <td>Продукты питания</td>\n",
       "      <td>0.0</td>\n",
       "      <td></td>\n",
       "      <td>0.0</td>\n",
       "    </tr>\n",
       "    <tr>\n",
       "      <th>2</th>\n",
       "      <td>3</td>\n",
       "      <td>Замороженные овощи и фрукты</td>\n",
       "      <td>2</td>\n",
       "      <td>Замороженные продукты</td>\n",
       "      <td>1.0</td>\n",
       "      <td>Продукты питания</td>\n",
       "      <td>0.0</td>\n",
       "    </tr>\n",
       "    <tr>\n",
       "      <th>3</th>\n",
       "      <td>4</td>\n",
       "      <td>Замороженные полуфабрикаты</td>\n",
       "      <td>2</td>\n",
       "      <td>Замороженные продукты</td>\n",
       "      <td>1.0</td>\n",
       "      <td>Продукты питания</td>\n",
       "      <td>0.0</td>\n",
       "    </tr>\n",
       "    <tr>\n",
       "      <th>4</th>\n",
       "      <td>5</td>\n",
       "      <td>Рыба замороженная</td>\n",
       "      <td>2</td>\n",
       "      <td>Замороженные продукты</td>\n",
       "      <td>1.0</td>\n",
       "      <td>Продукты питания</td>\n",
       "      <td>0.0</td>\n",
       "    </tr>\n",
       "  </tbody>\n",
       "</table>\n",
       "</div>"
      ],
      "text/plain": [
       "   lvl_0_id                   lvl_0_name  lvl_1_id             lvl_1_name  \\\n",
       "0         1             Продукты питания         0                          \n",
       "1         2        Замороженные продукты         1       Продукты питания   \n",
       "2         3  Замороженные овощи и фрукты         2  Замороженные продукты   \n",
       "3         4   Замороженные полуфабрикаты         2  Замороженные продукты   \n",
       "4         5            Рыба замороженная         2  Замороженные продукты   \n",
       "\n",
       "   lvl_2_id        lvl_2_name  lvl_3_id  \n",
       "0       0.0                         0.0  \n",
       "1       0.0                         0.0  \n",
       "2       1.0  Продукты питания       0.0  \n",
       "3       1.0  Продукты питания       0.0  \n",
       "4       1.0  Продукты питания       0.0  "
      ]
     },
     "execution_count": 33,
     "metadata": {},
     "output_type": "execute_result"
    }
   ],
   "source": [
    "hier.head()"
   ]
  },
  {
   "cell_type": "code",
   "execution_count": 37,
   "metadata": {},
   "outputs": [
    {
     "data": {
      "text/plain": [
       "48"
      ]
     },
     "execution_count": 37,
     "metadata": {},
     "output_type": "execute_result"
    }
   ],
   "source": [
    "(hier[hier.lvl_0_id.isin(master_cat_list)].lvl_2_id == 0).sum()"
   ]
  },
  {
   "cell_type": "code",
   "execution_count": 42,
   "metadata": {},
   "outputs": [],
   "source": [
    "tmp = prod.groupby('user_id').order_id.nunique()"
   ]
  },
  {
   "cell_type": "code",
   "execution_count": 44,
   "metadata": {},
   "outputs": [
    {
     "data": {
      "text/plain": [
       "<AxesSubplot:ylabel='Frequency'>"
      ]
     },
     "execution_count": 44,
     "metadata": {},
     "output_type": "execute_result"
    },
    {
     "data": {
      "image/png": "[encoded data removed]",
      "text/plain": [
       "<Figure size 432x288 with 1 Axes>"
      ]
     },
     "metadata": {
      "needs_background": "light"
     },
     "output_type": "display_data"
    }
   ],
   "source": [
    "tmp.clip(upper=tmp.quantile(0.99)).plot(kind='hist', bins=25)"
   ]
  },
  {
   "cell_type": "code",
   "execution_count": 19,
   "metadata": {},
   "outputs": [
    {
     "data": {
      "text/plain": [
       "623603"
      ]
     },
     "execution_count": 19,
     "metadata": {},
     "output_type": "execute_result"
    }
   ],
   "source": [
    "prod.parent_category_id.value_counts().loc[0]"
   ]
  },
  {
   "cell_type": "code",
   "execution_count": 21,
   "metadata": {},
   "outputs": [
    {
     "data": {
      "text/plain": [
       "477.0    76\n",
       "475.0    41\n",
       "474.0    12\n",
       "Name: master_category_id, dtype: int64"
      ]
     },
     "execution_count": 21,
     "metadata": {},
     "output_type": "execute_result"
    }
   ],
   "source": [
    "prod[prod.parent_category_id == 0].master_category_id.value_counts()"
   ]
  },
  {
   "cell_type": "code",
   "execution_count": 42,
   "metadata": {
    "collapsed": true
   },
   "outputs": [
    {
     "ename": "MemoryError",
     "evalue": "Unable to allocate 2.20 GiB for an array with shape (5, 58973506) and data type float64",
     "output_type": "error",
     "traceback": [
      "\u001b[1;31m---------------------------------------------------------------------------\u001b[0m",
      "\u001b[1;31mMemoryError\u001b[0m                               Traceback (most recent call last)",
      "\u001b[1;32m<ipython-input-42-711fc7cf6be3>\u001b[0m in \u001b[0;36m<module>\u001b[1;34m\u001b[0m\n\u001b[1;32m----> 1\u001b[1;33m \u001b[0mprod\u001b[0m\u001b[1;33m[\u001b[0m\u001b[0mprod\u001b[0m\u001b[1;33m.\u001b[0m\u001b[0mdtypes\u001b[0m\u001b[1;33m.\u001b[0m\u001b[0mkeys\u001b[0m\u001b[1;33m(\u001b[0m\u001b[1;33m)\u001b[0m\u001b[1;33m[\u001b[0m\u001b[0mprod\u001b[0m\u001b[1;33m.\u001b[0m\u001b[0mdtypes\u001b[0m \u001b[1;33m==\u001b[0m \u001b[1;34m'int64'\u001b[0m\u001b[1;33m]\u001b[0m\u001b[1;33m]\u001b[0m\u001b[1;33m.\u001b[0m\u001b[0mastype\u001b[0m\u001b[1;33m(\u001b[0m\u001b[1;34m'int32'\u001b[0m\u001b[1;33m)\u001b[0m\u001b[1;33m\u001b[0m\u001b[1;33m\u001b[0m\u001b[0m\n\u001b[0m",
      "\u001b[1;32mc:\\users\\alexander\\envs\\goldobina\\lib\\site-packages\\pandas\\core\\frame.py\u001b[0m in \u001b[0;36m__getitem__\u001b[1;34m(self, key)\u001b[0m\n\u001b[0;32m   2912\u001b[0m             \u001b[0mindexer\u001b[0m \u001b[1;33m=\u001b[0m \u001b[0mnp\u001b[0m\u001b[1;33m.\u001b[0m\u001b[0mwhere\u001b[0m\u001b[1;33m(\u001b[0m\u001b[0mindexer\u001b[0m\u001b[1;33m)\u001b[0m\u001b[1;33m[\u001b[0m\u001b[1;36m0\u001b[0m\u001b[1;33m]\u001b[0m\u001b[1;33m\u001b[0m\u001b[1;33m\u001b[0m\u001b[0m\n\u001b[0;32m   2913\u001b[0m \u001b[1;33m\u001b[0m\u001b[0m\n\u001b[1;32m-> 2914\u001b[1;33m         \u001b[0mdata\u001b[0m \u001b[1;33m=\u001b[0m \u001b[0mself\u001b[0m\u001b[1;33m.\u001b[0m\u001b[0m_take_with_is_copy\u001b[0m\u001b[1;33m(\u001b[0m\u001b[0mindexer\u001b[0m\u001b[1;33m,\u001b[0m \u001b[0maxis\u001b[0m\u001b[1;33m=\u001b[0m\u001b[1;36m1\u001b[0m\u001b[1;33m)\u001b[0m\u001b[1;33m\u001b[0m\u001b[1;33m\u001b[0m\u001b[0m\n\u001b[0m\u001b[0;32m   2915\u001b[0m \u001b[1;33m\u001b[0m\u001b[0m\n\u001b[0;32m   2916\u001b[0m         \u001b[1;32mif\u001b[0m \u001b[0mis_single_key\u001b[0m\u001b[1;33m:\u001b[0m\u001b[1;33m\u001b[0m\u001b[1;33m\u001b[0m\u001b[0m\n",
      "\u001b[1;32mc:\\users\\alexander\\envs\\goldobina\\lib\\site-packages\\pandas\\core\\generic.py\u001b[0m in \u001b[0;36m_take_with_is_copy\u001b[1;34m(self, indices, axis)\u001b[0m\n\u001b[0;32m   3361\u001b[0m         \u001b[0mSee\u001b[0m \u001b[0mthe\u001b[0m \u001b[0mdocstring\u001b[0m \u001b[0mof\u001b[0m\u001b[0;31m \u001b[0m\u001b[0;31m`\u001b[0m\u001b[0mtake\u001b[0m\u001b[0;31m`\u001b[0m \u001b[1;32mfor\u001b[0m \u001b[0mfull\u001b[0m \u001b[0mexplanation\u001b[0m \u001b[0mof\u001b[0m \u001b[0mthe\u001b[0m \u001b[0mparameters\u001b[0m\u001b[1;33m.\u001b[0m\u001b[1;33m\u001b[0m\u001b[1;33m\u001b[0m\u001b[0m\n\u001b[0;32m   3362\u001b[0m         \"\"\"\n\u001b[1;32m-> 3363\u001b[1;33m         \u001b[0mresult\u001b[0m \u001b[1;33m=\u001b[0m \u001b[0mself\u001b[0m\u001b[1;33m.\u001b[0m\u001b[0mtake\u001b[0m\u001b[1;33m(\u001b[0m\u001b[0mindices\u001b[0m\u001b[1;33m=\u001b[0m\u001b[0mindices\u001b[0m\u001b[1;33m,\u001b[0m \u001b[0maxis\u001b[0m\u001b[1;33m=\u001b[0m\u001b[0maxis\u001b[0m\u001b[1;33m)\u001b[0m\u001b[1;33m\u001b[0m\u001b[1;33m\u001b[0m\u001b[0m\n\u001b[0m\u001b[0;32m   3364\u001b[0m         \u001b[1;31m# Maybe set copy if we didn't actually change the index.\u001b[0m\u001b[1;33m\u001b[0m\u001b[1;33m\u001b[0m\u001b[1;33m\u001b[0m\u001b[0m\n\u001b[0;32m   3365\u001b[0m         \u001b[1;32mif\u001b[0m \u001b[1;32mnot\u001b[0m \u001b[0mresult\u001b[0m\u001b[1;33m.\u001b[0m\u001b[0m_get_axis\u001b[0m\u001b[1;33m(\u001b[0m\u001b[0maxis\u001b[0m\u001b[1;33m)\u001b[0m\u001b[1;33m.\u001b[0m\u001b[0mequals\u001b[0m\u001b[1;33m(\u001b[0m\u001b[0mself\u001b[0m\u001b[1;33m.\u001b[0m\u001b[0m_get_axis\u001b[0m\u001b[1;33m(\u001b[0m\u001b[0maxis\u001b[0m\u001b[1;33m)\u001b[0m\u001b[1;33m)\u001b[0m\u001b[1;33m:\u001b[0m\u001b[1;33m\u001b[0m\u001b[1;33m\u001b[0m\u001b[0m\n",
      "\u001b[1;32mc:\\users\\alexander\\envs\\goldobina\\lib\\site-packages\\pandas\\core\\generic.py\u001b[0m in \u001b[0;36mtake\u001b[1;34m(self, indices, axis, is_copy, **kwargs)\u001b[0m\n\u001b[0;32m   3346\u001b[0m         \u001b[0mnv\u001b[0m\u001b[1;33m.\u001b[0m\u001b[0mvalidate_take\u001b[0m\u001b[1;33m(\u001b[0m\u001b[0mtuple\u001b[0m\u001b[1;33m(\u001b[0m\u001b[1;33m)\u001b[0m\u001b[1;33m,\u001b[0m \u001b[0mkwargs\u001b[0m\u001b[1;33m)\u001b[0m\u001b[1;33m\u001b[0m\u001b[1;33m\u001b[0m\u001b[0m\n\u001b[0;32m   3347\u001b[0m \u001b[1;33m\u001b[0m\u001b[0m\n\u001b[1;32m-> 3348\u001b[1;33m         \u001b[0mself\u001b[0m\u001b[1;33m.\u001b[0m\u001b[0m_consolidate_inplace\u001b[0m\u001b[1;33m(\u001b[0m\u001b[1;33m)\u001b[0m\u001b[1;33m\u001b[0m\u001b[1;33m\u001b[0m\u001b[0m\n\u001b[0m\u001b[0;32m   3349\u001b[0m \u001b[1;33m\u001b[0m\u001b[0m\n\u001b[0;32m   3350\u001b[0m         new_data = self._mgr.take(\n",
      "\u001b[1;32mc:\\users\\alexander\\envs\\goldobina\\lib\\site-packages\\pandas\\core\\generic.py\u001b[0m in \u001b[0;36m_consolidate_inplace\u001b[1;34m(self)\u001b[0m\n\u001b[0;32m   5212\u001b[0m             \u001b[0mself\u001b[0m\u001b[1;33m.\u001b[0m\u001b[0m_mgr\u001b[0m \u001b[1;33m=\u001b[0m \u001b[0mself\u001b[0m\u001b[1;33m.\u001b[0m\u001b[0m_mgr\u001b[0m\u001b[1;33m.\u001b[0m\u001b[0mconsolidate\u001b[0m\u001b[1;33m(\u001b[0m\u001b[1;33m)\u001b[0m\u001b[1;33m\u001b[0m\u001b[1;33m\u001b[0m\u001b[0m\n\u001b[0;32m   5213\u001b[0m \u001b[1;33m\u001b[0m\u001b[0m\n\u001b[1;32m-> 5214\u001b[1;33m         \u001b[0mself\u001b[0m\u001b[1;33m.\u001b[0m\u001b[0m_protect_consolidate\u001b[0m\u001b[1;33m(\u001b[0m\u001b[0mf\u001b[0m\u001b[1;33m)\u001b[0m\u001b[1;33m\u001b[0m\u001b[1;33m\u001b[0m\u001b[0m\n\u001b[0m\u001b[0;32m   5215\u001b[0m \u001b[1;33m\u001b[0m\u001b[0m\n\u001b[0;32m   5216\u001b[0m     \u001b[1;32mdef\u001b[0m \u001b[0m_consolidate\u001b[0m\u001b[1;33m(\u001b[0m\u001b[0mself\u001b[0m\u001b[1;33m,\u001b[0m \u001b[0minplace\u001b[0m\u001b[1;33m:\u001b[0m \u001b[0mbool_t\u001b[0m \u001b[1;33m=\u001b[0m \u001b[1;32mFalse\u001b[0m\u001b[1;33m)\u001b[0m\u001b[1;33m:\u001b[0m\u001b[1;33m\u001b[0m\u001b[1;33m\u001b[0m\u001b[0m\n",
      "\u001b[1;32mc:\\users\\alexander\\envs\\goldobina\\lib\\site-packages\\pandas\\core\\generic.py\u001b[0m in \u001b[0;36m_protect_consolidate\u001b[1;34m(self, f)\u001b[0m\n\u001b[0;32m   5201\u001b[0m         \"\"\"\n\u001b[0;32m   5202\u001b[0m         \u001b[0mblocks_before\u001b[0m \u001b[1;33m=\u001b[0m \u001b[0mlen\u001b[0m\u001b[1;33m(\u001b[0m\u001b[0mself\u001b[0m\u001b[1;33m.\u001b[0m\u001b[0m_mgr\u001b[0m\u001b[1;33m.\u001b[0m\u001b[0mblocks\u001b[0m\u001b[1;33m)\u001b[0m\u001b[1;33m\u001b[0m\u001b[1;33m\u001b[0m\u001b[0m\n\u001b[1;32m-> 5203\u001b[1;33m         \u001b[0mresult\u001b[0m \u001b[1;33m=\u001b[0m \u001b[0mf\u001b[0m\u001b[1;33m(\u001b[0m\u001b[1;33m)\u001b[0m\u001b[1;33m\u001b[0m\u001b[1;33m\u001b[0m\u001b[0m\n\u001b[0m\u001b[0;32m   5204\u001b[0m         \u001b[1;32mif\u001b[0m \u001b[0mlen\u001b[0m\u001b[1;33m(\u001b[0m\u001b[0mself\u001b[0m\u001b[1;33m.\u001b[0m\u001b[0m_mgr\u001b[0m\u001b[1;33m.\u001b[0m\u001b[0mblocks\u001b[0m\u001b[1;33m)\u001b[0m \u001b[1;33m!=\u001b[0m \u001b[0mblocks_before\u001b[0m\u001b[1;33m:\u001b[0m\u001b[1;33m\u001b[0m\u001b[1;33m\u001b[0m\u001b[0m\n\u001b[0;32m   5205\u001b[0m             \u001b[0mself\u001b[0m\u001b[1;33m.\u001b[0m\u001b[0m_clear_item_cache\u001b[0m\u001b[1;33m(\u001b[0m\u001b[1;33m)\u001b[0m\u001b[1;33m\u001b[0m\u001b[1;33m\u001b[0m\u001b[0m\n",
      "\u001b[1;32mc:\\users\\alexander\\envs\\goldobina\\lib\\site-packages\\pandas\\core\\generic.py\u001b[0m in \u001b[0;36mf\u001b[1;34m()\u001b[0m\n\u001b[0;32m   5210\u001b[0m \u001b[1;33m\u001b[0m\u001b[0m\n\u001b[0;32m   5211\u001b[0m         \u001b[1;32mdef\u001b[0m \u001b[0mf\u001b[0m\u001b[1;33m(\u001b[0m\u001b[1;33m)\u001b[0m\u001b[1;33m:\u001b[0m\u001b[1;33m\u001b[0m\u001b[1;33m\u001b[0m\u001b[0m\n\u001b[1;32m-> 5212\u001b[1;33m             \u001b[0mself\u001b[0m\u001b[1;33m.\u001b[0m\u001b[0m_mgr\u001b[0m \u001b[1;33m=\u001b[0m \u001b[0mself\u001b[0m\u001b[1;33m.\u001b[0m\u001b[0m_mgr\u001b[0m\u001b[1;33m.\u001b[0m\u001b[0mconsolidate\u001b[0m\u001b[1;33m(\u001b[0m\u001b[1;33m)\u001b[0m\u001b[1;33m\u001b[0m\u001b[1;33m\u001b[0m\u001b[0m\n\u001b[0m\u001b[0;32m   5213\u001b[0m \u001b[1;33m\u001b[0m\u001b[0m\n\u001b[0;32m   5214\u001b[0m         \u001b[0mself\u001b[0m\u001b[1;33m.\u001b[0m\u001b[0m_protect_consolidate\u001b[0m\u001b[1;33m(\u001b[0m\u001b[0mf\u001b[0m\u001b[1;33m)\u001b[0m\u001b[1;33m\u001b[0m\u001b[1;33m\u001b[0m\u001b[0m\n",
      "\u001b[1;32mc:\\users\\alexander\\envs\\goldobina\\lib\\site-packages\\pandas\\core\\internals\\managers.py\u001b[0m in \u001b[0;36mconsolidate\u001b[1;34m(self)\u001b[0m\n\u001b[0;32m    972\u001b[0m         \u001b[0mbm\u001b[0m \u001b[1;33m=\u001b[0m \u001b[0mtype\u001b[0m\u001b[1;33m(\u001b[0m\u001b[0mself\u001b[0m\u001b[1;33m)\u001b[0m\u001b[1;33m(\u001b[0m\u001b[0mself\u001b[0m\u001b[1;33m.\u001b[0m\u001b[0mblocks\u001b[0m\u001b[1;33m,\u001b[0m \u001b[0mself\u001b[0m\u001b[1;33m.\u001b[0m\u001b[0maxes\u001b[0m\u001b[1;33m)\u001b[0m\u001b[1;33m\u001b[0m\u001b[1;33m\u001b[0m\u001b[0m\n\u001b[0;32m    973\u001b[0m         \u001b[0mbm\u001b[0m\u001b[1;33m.\u001b[0m\u001b[0m_is_consolidated\u001b[0m \u001b[1;33m=\u001b[0m \u001b[1;32mFalse\u001b[0m\u001b[1;33m\u001b[0m\u001b[1;33m\u001b[0m\u001b[0m\n\u001b[1;32m--> 974\u001b[1;33m         \u001b[0mbm\u001b[0m\u001b[1;33m.\u001b[0m\u001b[0m_consolidate_inplace\u001b[0m\u001b[1;33m(\u001b[0m\u001b[1;33m)\u001b[0m\u001b[1;33m\u001b[0m\u001b[1;33m\u001b[0m\u001b[0m\n\u001b[0m\u001b[0;32m    975\u001b[0m         \u001b[1;32mreturn\u001b[0m \u001b[0mbm\u001b[0m\u001b[1;33m\u001b[0m\u001b[1;33m\u001b[0m\u001b[0m\n\u001b[0;32m    976\u001b[0m \u001b[1;33m\u001b[0m\u001b[0m\n",
      "\u001b[1;32mc:\\users\\alexander\\envs\\goldobina\\lib\\site-packages\\pandas\\core\\internals\\managers.py\u001b[0m in \u001b[0;36m_consolidate_inplace\u001b[1;34m(self)\u001b[0m\n\u001b[0;32m    977\u001b[0m     \u001b[1;32mdef\u001b[0m \u001b[0m_consolidate_inplace\u001b[0m\u001b[1;33m(\u001b[0m\u001b[0mself\u001b[0m\u001b[1;33m)\u001b[0m \u001b[1;33m->\u001b[0m \u001b[1;32mNone\u001b[0m\u001b[1;33m:\u001b[0m\u001b[1;33m\u001b[0m\u001b[1;33m\u001b[0m\u001b[0m\n\u001b[0;32m    978\u001b[0m         \u001b[1;32mif\u001b[0m \u001b[1;32mnot\u001b[0m \u001b[0mself\u001b[0m\u001b[1;33m.\u001b[0m\u001b[0mis_consolidated\u001b[0m\u001b[1;33m(\u001b[0m\u001b[1;33m)\u001b[0m\u001b[1;33m:\u001b[0m\u001b[1;33m\u001b[0m\u001b[1;33m\u001b[0m\u001b[0m\n\u001b[1;32m--> 979\u001b[1;33m             \u001b[0mself\u001b[0m\u001b[1;33m.\u001b[0m\u001b[0mblocks\u001b[0m \u001b[1;33m=\u001b[0m \u001b[0mtuple\u001b[0m\u001b[1;33m(\u001b[0m\u001b[0m_consolidate\u001b[0m\u001b[1;33m(\u001b[0m\u001b[0mself\u001b[0m\u001b[1;33m.\u001b[0m\u001b[0mblocks\u001b[0m\u001b[1;33m)\u001b[0m\u001b[1;33m)\u001b[0m\u001b[1;33m\u001b[0m\u001b[1;33m\u001b[0m\u001b[0m\n\u001b[0m\u001b[0;32m    980\u001b[0m             \u001b[0mself\u001b[0m\u001b[1;33m.\u001b[0m\u001b[0m_is_consolidated\u001b[0m \u001b[1;33m=\u001b[0m \u001b[1;32mTrue\u001b[0m\u001b[1;33m\u001b[0m\u001b[1;33m\u001b[0m\u001b[0m\n\u001b[0;32m    981\u001b[0m             \u001b[0mself\u001b[0m\u001b[1;33m.\u001b[0m\u001b[0m_known_consolidated\u001b[0m \u001b[1;33m=\u001b[0m \u001b[1;32mTrue\u001b[0m\u001b[1;33m\u001b[0m\u001b[1;33m\u001b[0m\u001b[0m\n",
      "\u001b[1;32mc:\\users\\alexander\\envs\\goldobina\\lib\\site-packages\\pandas\\core\\internals\\managers.py\u001b[0m in \u001b[0;36m_consolidate\u001b[1;34m(blocks)\u001b[0m\n\u001b[0;32m   1898\u001b[0m     \u001b[1;32mfor\u001b[0m \u001b[1;33m(\u001b[0m\u001b[0m_can_consolidate\u001b[0m\u001b[1;33m,\u001b[0m \u001b[0mdtype\u001b[0m\u001b[1;33m)\u001b[0m\u001b[1;33m,\u001b[0m \u001b[0mgroup_blocks\u001b[0m \u001b[1;32min\u001b[0m \u001b[0mgrouper\u001b[0m\u001b[1;33m:\u001b[0m\u001b[1;33m\u001b[0m\u001b[1;33m\u001b[0m\u001b[0m\n\u001b[0;32m   1899\u001b[0m         merged_blocks = _merge_blocks(\n\u001b[1;32m-> 1900\u001b[1;33m             \u001b[0mlist\u001b[0m\u001b[1;33m(\u001b[0m\u001b[0mgroup_blocks\u001b[0m\u001b[1;33m)\u001b[0m\u001b[1;33m,\u001b[0m \u001b[0mdtype\u001b[0m\u001b[1;33m=\u001b[0m\u001b[0mdtype\u001b[0m\u001b[1;33m,\u001b[0m \u001b[0mcan_consolidate\u001b[0m\u001b[1;33m=\u001b[0m\u001b[0m_can_consolidate\u001b[0m\u001b[1;33m\u001b[0m\u001b[1;33m\u001b[0m\u001b[0m\n\u001b[0m\u001b[0;32m   1901\u001b[0m         )\n\u001b[0;32m   1902\u001b[0m         \u001b[0mnew_blocks\u001b[0m \u001b[1;33m=\u001b[0m \u001b[0m_extend_blocks\u001b[0m\u001b[1;33m(\u001b[0m\u001b[0mmerged_blocks\u001b[0m\u001b[1;33m,\u001b[0m \u001b[0mnew_blocks\u001b[0m\u001b[1;33m)\u001b[0m\u001b[1;33m\u001b[0m\u001b[1;33m\u001b[0m\u001b[0m\n",
      "\u001b[1;32mc:\\users\\alexander\\envs\\goldobina\\lib\\site-packages\\pandas\\core\\internals\\managers.py\u001b[0m in \u001b[0;36m_merge_blocks\u001b[1;34m(blocks, dtype, can_consolidate)\u001b[0m\n\u001b[0;32m   1920\u001b[0m         \u001b[1;31m# combination of those slices is a slice, too.\u001b[0m\u001b[1;33m\u001b[0m\u001b[1;33m\u001b[0m\u001b[1;33m\u001b[0m\u001b[0m\n\u001b[0;32m   1921\u001b[0m         \u001b[0mnew_mgr_locs\u001b[0m \u001b[1;33m=\u001b[0m \u001b[0mnp\u001b[0m\u001b[1;33m.\u001b[0m\u001b[0mconcatenate\u001b[0m\u001b[1;33m(\u001b[0m\u001b[1;33m[\u001b[0m\u001b[0mb\u001b[0m\u001b[1;33m.\u001b[0m\u001b[0mmgr_locs\u001b[0m\u001b[1;33m.\u001b[0m\u001b[0mas_array\u001b[0m \u001b[1;32mfor\u001b[0m \u001b[0mb\u001b[0m \u001b[1;32min\u001b[0m \u001b[0mblocks\u001b[0m\u001b[1;33m]\u001b[0m\u001b[1;33m)\u001b[0m\u001b[1;33m\u001b[0m\u001b[1;33m\u001b[0m\u001b[0m\n\u001b[1;32m-> 1922\u001b[1;33m         \u001b[0mnew_values\u001b[0m \u001b[1;33m=\u001b[0m \u001b[0mnp\u001b[0m\u001b[1;33m.\u001b[0m\u001b[0mvstack\u001b[0m\u001b[1;33m(\u001b[0m\u001b[1;33m[\u001b[0m\u001b[0mb\u001b[0m\u001b[1;33m.\u001b[0m\u001b[0mvalues\u001b[0m \u001b[1;32mfor\u001b[0m \u001b[0mb\u001b[0m \u001b[1;32min\u001b[0m \u001b[0mblocks\u001b[0m\u001b[1;33m]\u001b[0m\u001b[1;33m)\u001b[0m\u001b[1;33m\u001b[0m\u001b[1;33m\u001b[0m\u001b[0m\n\u001b[0m\u001b[0;32m   1923\u001b[0m \u001b[1;33m\u001b[0m\u001b[0m\n\u001b[0;32m   1924\u001b[0m         \u001b[0margsort\u001b[0m \u001b[1;33m=\u001b[0m \u001b[0mnp\u001b[0m\u001b[1;33m.\u001b[0m\u001b[0margsort\u001b[0m\u001b[1;33m(\u001b[0m\u001b[0mnew_mgr_locs\u001b[0m\u001b[1;33m)\u001b[0m\u001b[1;33m\u001b[0m\u001b[1;33m\u001b[0m\u001b[0m\n",
      "\u001b[1;32m<__array_function__ internals>\u001b[0m in \u001b[0;36mvstack\u001b[1;34m(*args, **kwargs)\u001b[0m\n",
      "\u001b[1;32mc:\\users\\alexander\\envs\\goldobina\\lib\\site-packages\\numpy\\core\\shape_base.py\u001b[0m in \u001b[0;36mvstack\u001b[1;34m(tup)\u001b[0m\n\u001b[0;32m    281\u001b[0m     \u001b[1;32mif\u001b[0m \u001b[1;32mnot\u001b[0m \u001b[0misinstance\u001b[0m\u001b[1;33m(\u001b[0m\u001b[0marrs\u001b[0m\u001b[1;33m,\u001b[0m \u001b[0mlist\u001b[0m\u001b[1;33m)\u001b[0m\u001b[1;33m:\u001b[0m\u001b[1;33m\u001b[0m\u001b[1;33m\u001b[0m\u001b[0m\n\u001b[0;32m    282\u001b[0m         \u001b[0marrs\u001b[0m \u001b[1;33m=\u001b[0m \u001b[1;33m[\u001b[0m\u001b[0marrs\u001b[0m\u001b[1;33m]\u001b[0m\u001b[1;33m\u001b[0m\u001b[1;33m\u001b[0m\u001b[0m\n\u001b[1;32m--> 283\u001b[1;33m     \u001b[1;32mreturn\u001b[0m \u001b[0m_nx\u001b[0m\u001b[1;33m.\u001b[0m\u001b[0mconcatenate\u001b[0m\u001b[1;33m(\u001b[0m\u001b[0marrs\u001b[0m\u001b[1;33m,\u001b[0m \u001b[1;36m0\u001b[0m\u001b[1;33m)\u001b[0m\u001b[1;33m\u001b[0m\u001b[1;33m\u001b[0m\u001b[0m\n\u001b[0m\u001b[0;32m    284\u001b[0m \u001b[1;33m\u001b[0m\u001b[0m\n\u001b[0;32m    285\u001b[0m \u001b[1;33m\u001b[0m\u001b[0m\n",
      "\u001b[1;32m<__array_function__ internals>\u001b[0m in \u001b[0;36mconcatenate\u001b[1;34m(*args, **kwargs)\u001b[0m\n",
      "\u001b[1;31mMemoryError\u001b[0m: Unable to allocate 2.20 GiB for an array with shape (5, 58973506) and data type float64"
     ]
    }
   ],
   "source": [
    "prod[prod.dtypes.keys()[prod.dtypes == 'int64']].astype('int32')"
   ]
  },
  {
   "cell_type": "code",
   "execution_count": null,
   "metadata": {},
   "outputs": [],
   "source": []
  },
  {
   "cell_type": "code",
   "execution_count": null,
   "metadata": {},
   "outputs": [],
   "source": []
  },
  {
   "cell_type": "markdown",
   "metadata": {},
   "source": [
    "## Model (baseline)"
   ]
  },
  {
   "cell_type": "code",
   "execution_count": 7,
   "metadata": {},
   "outputs": [],
   "source": [
    "sbm = pd.read_csv(f'{data_path}/sample_submission.csv')"
   ]
  },
  {
   "cell_type": "code",
   "execution_count": 8,
   "metadata": {},
   "outputs": [],
   "source": [
    "users = sbm.Id.values"
   ]
  },
  {
   "cell_type": "code",
   "execution_count": 9,
   "metadata": {},
   "outputs": [
    {
     "data": {
      "text/plain": [
       "107068"
      ]
     },
     "execution_count": 9,
     "metadata": {},
     "output_type": "execute_result"
    }
   ],
   "source": [
    "users.size"
   ]
  },
  {
   "cell_type": "code",
   "execution_count": 10,
   "metadata": {
    "scrolled": true
   },
   "outputs": [
    {
     "data": {
      "text/plain": [
       "user_id                    0\n",
       "order_id                   0\n",
       "line_item_id               0\n",
       "price                      0\n",
       "quantity                   0\n",
       "discount                   0\n",
       "product_name          179009\n",
       "product_id                 0\n",
       "brand_name            672946\n",
       "master_category_id    182609\n",
       "parent_category_id         0\n",
       "dtype: int64"
      ]
     },
     "execution_count": 10,
     "metadata": {},
     "output_type": "execute_result"
    }
   ],
   "source": [
    "prod.isna().sum()"
   ]
  },
  {
   "cell_type": "code",
   "execution_count": 11,
   "metadata": {},
   "outputs": [],
   "source": [
    "prod.master_category_id.fillna(-1, inplace=True)"
   ]
  },
  {
   "cell_type": "code",
   "execution_count": 12,
   "metadata": {},
   "outputs": [],
   "source": [
    "prod.brand_name.fillna('unk', inplace=True)"
   ]
  },
  {
   "cell_type": "code",
   "execution_count": 13,
   "metadata": {},
   "outputs": [],
   "source": [
    "prod.master_category_id = prod.master_category_id.astype('int64')"
   ]
  },
  {
   "cell_type": "code",
   "execution_count": 14,
   "metadata": {},
   "outputs": [
    {
     "data": {
      "text/html": [
       "<div>\n",
       "<style scoped>\n",
       "    .dataframe tbody tr th:only-of-type {\n",
       "        vertical-align: middle;\n",
       "    }\n",
       "\n",
       "    .dataframe tbody tr th {\n",
       "        vertical-align: top;\n",
       "    }\n",
       "\n",
       "    .dataframe thead th {\n",
       "        text-align: right;\n",
       "    }\n",
       "</style>\n",
       "<table border=\"1\" class=\"dataframe\">\n",
       "  <thead>\n",
       "    <tr style=\"text-align: right;\">\n",
       "      <th></th>\n",
       "      <th>user_id</th>\n",
       "      <th>order_id</th>\n",
       "      <th>line_item_id</th>\n",
       "      <th>price</th>\n",
       "      <th>quantity</th>\n",
       "      <th>discount</th>\n",
       "      <th>product_name</th>\n",
       "      <th>product_id</th>\n",
       "      <th>brand_name</th>\n",
       "      <th>master_category_id</th>\n",
       "      <th>parent_category_id</th>\n",
       "    </tr>\n",
       "  </thead>\n",
       "  <tbody>\n",
       "    <tr>\n",
       "      <th>0</th>\n",
       "      <td>65</td>\n",
       "      <td>16095339</td>\n",
       "      <td>170790864</td>\n",
       "      <td>119.000000</td>\n",
       "      <td>1</td>\n",
       "      <td>96.0</td>\n",
       "      <td>Шоколад Lindt Excellence горький 78%</td>\n",
       "      <td>201286</td>\n",
       "      <td>Lindt</td>\n",
       "      <td>60</td>\n",
       "      <td>56</td>\n",
       "    </tr>\n",
       "    <tr>\n",
       "      <th>1</th>\n",
       "      <td>65</td>\n",
       "      <td>16095339</td>\n",
       "      <td>170790865</td>\n",
       "      <td>172.839996</td>\n",
       "      <td>1</td>\n",
       "      <td>0.0</td>\n",
       "      <td>Грейпфрут</td>\n",
       "      <td>105764</td>\n",
       "      <td>Без бренда</td>\n",
       "      <td>91</td>\n",
       "      <td>90</td>\n",
       "    </tr>\n",
       "    <tr>\n",
       "      <th>2</th>\n",
       "      <td>65</td>\n",
       "      <td>16095339</td>\n",
       "      <td>170790866</td>\n",
       "      <td>118.000000</td>\n",
       "      <td>2</td>\n",
       "      <td>0.0</td>\n",
       "      <td>Творог Valio мягкий обезжиренный 0,1% бзмж</td>\n",
       "      <td>26062</td>\n",
       "      <td>Valio</td>\n",
       "      <td>30</td>\n",
       "      <td>20</td>\n",
       "    </tr>\n",
       "    <tr>\n",
       "      <th>3</th>\n",
       "      <td>65</td>\n",
       "      <td>16095339</td>\n",
       "      <td>170790867</td>\n",
       "      <td>276.329987</td>\n",
       "      <td>1</td>\n",
       "      <td>0.0</td>\n",
       "      <td>Яблоки Роял Гала</td>\n",
       "      <td>3302524</td>\n",
       "      <td>Без бренда</td>\n",
       "      <td>91</td>\n",
       "      <td>90</td>\n",
       "    </tr>\n",
       "    <tr>\n",
       "      <th>4</th>\n",
       "      <td>65</td>\n",
       "      <td>16095339</td>\n",
       "      <td>170790868</td>\n",
       "      <td>379.010010</td>\n",
       "      <td>1</td>\n",
       "      <td>0.0</td>\n",
       "      <td>Авокадо</td>\n",
       "      <td>54728</td>\n",
       "      <td>Без бренда</td>\n",
       "      <td>85</td>\n",
       "      <td>84</td>\n",
       "    </tr>\n",
       "  </tbody>\n",
       "</table>\n",
       "</div>"
      ],
      "text/plain": [
       "   user_id  order_id  line_item_id       price  quantity  discount  \\\n",
       "0       65  16095339     170790864  119.000000         1      96.0   \n",
       "1       65  16095339     170790865  172.839996         1       0.0   \n",
       "2       65  16095339     170790866  118.000000         2       0.0   \n",
       "3       65  16095339     170790867  276.329987         1       0.0   \n",
       "4       65  16095339     170790868  379.010010         1       0.0   \n",
       "\n",
       "                                 product_name  product_id  brand_name  \\\n",
       "0        Шоколад Lindt Excellence горький 78%      201286       Lindt   \n",
       "1                                   Грейпфрут      105764  Без бренда   \n",
       "2  Творог Valio мягкий обезжиренный 0,1% бзмж       26062       Valio   \n",
       "3                            Яблоки Роял Гала     3302524  Без бренда   \n",
       "4                                     Авокадо       54728  Без бренда   \n",
       "\n",
       "   master_category_id  parent_category_id  \n",
       "0                  60                  56  \n",
       "1                  91                  90  \n",
       "2                  30                  20  \n",
       "3                  91                  90  \n",
       "4                  85                  84  "
      ]
     },
     "execution_count": 14,
     "metadata": {},
     "output_type": "execute_result"
    }
   ],
   "source": [
    "prod.head()"
   ]
  },
  {
   "cell_type": "markdown",
   "metadata": {},
   "source": [
    "find most popular products"
   ]
  },
  {
   "cell_type": "code",
   "execution_count": 15,
   "metadata": {},
   "outputs": [],
   "source": [
    "most_pop_prods = prod.groupby('product_id').order_id.nunique().nlargest(50).index"
   ]
  },
  {
   "cell_type": "code",
   "execution_count": 16,
   "metadata": {},
   "outputs": [
    {
     "data": {
      "text/plain": [
       "374412"
      ]
     },
     "execution_count": 16,
     "metadata": {},
     "output_type": "execute_result"
    }
   ],
   "source": [
    "prod.user_id.nunique()"
   ]
  },
  {
   "cell_type": "code",
   "execution_count": 17,
   "metadata": {},
   "outputs": [
    {
     "data": {
      "text/plain": [
       "96382"
      ]
     },
     "execution_count": 17,
     "metadata": {},
     "output_type": "execute_result"
    }
   ],
   "source": [
    "np.intersect1d(prod.user_id.unique(), users).size"
   ]
  },
  {
   "cell_type": "code",
   "execution_count": 18,
   "metadata": {},
   "outputs": [],
   "source": [
    "cnt_user_items = prod.groupby('user_id').product_id.nunique()"
   ]
  },
  {
   "cell_type": "code",
   "execution_count": 19,
   "metadata": {},
   "outputs": [
    {
     "data": {
      "text/plain": [
       "<AxesSubplot:ylabel='Frequency'>"
      ]
     },
     "execution_count": 19,
     "metadata": {},
     "output_type": "execute_result"
    },
    {
     "data": {
      "image/png": "[encoded data removed]",
      "text/plain": [
       "<Figure size 432x288 with 1 Axes>"
      ]
     },
     "metadata": {
      "needs_background": "light"
     },
     "output_type": "display_data"
    }
   ],
   "source": [
    "# plt.figure(figsize)\n",
    "cnt_user_items.clip(upper=cnt_user_items.quantile(0.99)).plot(kind='hist', bins=100)"
   ]
  },
  {
   "cell_type": "code",
   "execution_count": 20,
   "metadata": {},
   "outputs": [
    {
     "data": {
      "text/plain": [
       "4149"
      ]
     },
     "execution_count": 20,
     "metadata": {},
     "output_type": "execute_result"
    }
   ],
   "source": [
    "(cnt_user_items > 250).sum()"
   ]
  },
  {
   "cell_type": "code",
   "execution_count": 21,
   "metadata": {},
   "outputs": [
    {
     "data": {
      "text/plain": [
       "107360"
      ]
     },
     "execution_count": 21,
     "metadata": {},
     "output_type": "execute_result"
    }
   ],
   "source": [
    "(cnt_user_items > 50).sum()"
   ]
  },
  {
   "cell_type": "code",
   "execution_count": 22,
   "metadata": {},
   "outputs": [
    {
     "data": {
      "text/plain": [
       "267052"
      ]
     },
     "execution_count": 22,
     "metadata": {},
     "output_type": "execute_result"
    }
   ],
   "source": [
    "(cnt_user_items <= 50).sum()"
   ]
  },
  {
   "cell_type": "code",
   "execution_count": 23,
   "metadata": {},
   "outputs": [
    {
     "data": {
      "text/plain": [
       "user_id\n",
       "51         59\n",
       "65         76\n",
       "187         2\n",
       "353        21\n",
       "359         8\n",
       "           ..\n",
       "3142901     4\n",
       "3142924     8\n",
       "3142936     9\n",
       "3142965    18\n",
       "3142966    25\n",
       "Name: product_id, Length: 374412, dtype: int64"
      ]
     },
     "execution_count": 23,
     "metadata": {},
     "output_type": "execute_result"
    }
   ],
   "source": [
    "cnt_user_items"
   ]
  },
  {
   "cell_type": "code",
   "execution_count": 24,
   "metadata": {},
   "outputs": [
    {
     "data": {
      "text/plain": [
       "(374412,)"
      ]
     },
     "execution_count": 24,
     "metadata": {},
     "output_type": "execute_result"
    }
   ],
   "source": [
    "cnt_user_items.shape"
   ]
  },
  {
   "cell_type": "code",
   "execution_count": 25,
   "metadata": {},
   "outputs": [],
   "source": [
    "train_users = set(cnt_user_items.index.values.tolist())"
   ]
  },
  {
   "cell_type": "code",
   "execution_count": 26,
   "metadata": {},
   "outputs": [],
   "source": [
    "test_users = set(users.tolist())"
   ]
  },
  {
   "cell_type": "code",
   "execution_count": 27,
   "metadata": {},
   "outputs": [
    {
     "data": {
      "text/plain": [
       "10686"
      ]
     },
     "execution_count": 27,
     "metadata": {},
     "output_type": "execute_result"
    }
   ],
   "source": [
    "len(test_users - train_users)"
   ]
  },
  {
   "cell_type": "code",
   "execution_count": 29,
   "metadata": {},
   "outputs": [],
   "source": [
    "goods = prod[['product_id', 'brand_name', 'master_category_id', 'parent_category_id']]  # , 'order_id', 'price'"
   ]
  },
  {
   "cell_type": "code",
   "execution_count": 30,
   "metadata": {},
   "outputs": [],
   "source": [
    "unique_goods = goods.drop_duplicates()\n"
   ]
  },
  {
   "cell_type": "code",
   "execution_count": 31,
   "metadata": {},
   "outputs": [
    {
     "data": {
      "text/html": [
       "<div>\n",
       "<style scoped>\n",
       "    .dataframe tbody tr th:only-of-type {\n",
       "        vertical-align: middle;\n",
       "    }\n",
       "\n",
       "    .dataframe tbody tr th {\n",
       "        vertical-align: top;\n",
       "    }\n",
       "\n",
       "    .dataframe thead th {\n",
       "        text-align: right;\n",
       "    }\n",
       "</style>\n",
       "<table border=\"1\" class=\"dataframe\">\n",
       "  <thead>\n",
       "    <tr style=\"text-align: right;\">\n",
       "      <th></th>\n",
       "      <th>product_id</th>\n",
       "      <th>brand_name</th>\n",
       "      <th>master_category_id</th>\n",
       "      <th>parent_category_id</th>\n",
       "    </tr>\n",
       "  </thead>\n",
       "  <tbody>\n",
       "    <tr>\n",
       "      <th>0</th>\n",
       "      <td>201286</td>\n",
       "      <td>Lindt</td>\n",
       "      <td>60</td>\n",
       "      <td>56</td>\n",
       "    </tr>\n",
       "    <tr>\n",
       "      <th>1</th>\n",
       "      <td>105764</td>\n",
       "      <td>Без бренда</td>\n",
       "      <td>91</td>\n",
       "      <td>90</td>\n",
       "    </tr>\n",
       "    <tr>\n",
       "      <th>2</th>\n",
       "      <td>26062</td>\n",
       "      <td>Valio</td>\n",
       "      <td>30</td>\n",
       "      <td>20</td>\n",
       "    </tr>\n",
       "    <tr>\n",
       "      <th>3</th>\n",
       "      <td>3302524</td>\n",
       "      <td>Без бренда</td>\n",
       "      <td>91</td>\n",
       "      <td>90</td>\n",
       "    </tr>\n",
       "    <tr>\n",
       "      <th>4</th>\n",
       "      <td>54728</td>\n",
       "      <td>Без бренда</td>\n",
       "      <td>85</td>\n",
       "      <td>84</td>\n",
       "    </tr>\n",
       "    <tr>\n",
       "      <th>...</th>\n",
       "      <td>...</td>\n",
       "      <td>...</td>\n",
       "      <td>...</td>\n",
       "      <td>...</td>\n",
       "    </tr>\n",
       "    <tr>\n",
       "      <th>2918172</th>\n",
       "      <td>5574804</td>\n",
       "      <td>Danone</td>\n",
       "      <td>-1</td>\n",
       "      <td>0</td>\n",
       "    </tr>\n",
       "    <tr>\n",
       "      <th>2918177</th>\n",
       "      <td>5582199</td>\n",
       "      <td>Просто Азбука</td>\n",
       "      <td>-1</td>\n",
       "      <td>0</td>\n",
       "    </tr>\n",
       "    <tr>\n",
       "      <th>2919835</th>\n",
       "      <td>24344</td>\n",
       "      <td>Dosia</td>\n",
       "      <td>249</td>\n",
       "      <td>243</td>\n",
       "    </tr>\n",
       "    <tr>\n",
       "      <th>2921185</th>\n",
       "      <td>3845861</td>\n",
       "      <td>Планета Витаминов</td>\n",
       "      <td>592</td>\n",
       "      <td>90</td>\n",
       "    </tr>\n",
       "    <tr>\n",
       "      <th>2924767</th>\n",
       "      <td>7106251</td>\n",
       "      <td>Домашние Традиции</td>\n",
       "      <td>625</td>\n",
       "      <td>67</td>\n",
       "    </tr>\n",
       "  </tbody>\n",
       "</table>\n",
       "<p>90757 rows × 4 columns</p>\n",
       "</div>"
      ],
      "text/plain": [
       "         product_id         brand_name  master_category_id  parent_category_id\n",
       "0            201286              Lindt                  60                  56\n",
       "1            105764         Без бренда                  91                  90\n",
       "2             26062              Valio                  30                  20\n",
       "3           3302524         Без бренда                  91                  90\n",
       "4             54728         Без бренда                  85                  84\n",
       "...             ...                ...                 ...                 ...\n",
       "2918172     5574804             Danone                  -1                   0\n",
       "2918177     5582199      Просто Азбука                  -1                   0\n",
       "2919835       24344              Dosia                 249                 243\n",
       "2921185     3845861  Планета Витаминов                 592                  90\n",
       "2924767     7106251  Домашние Традиции                 625                  67\n",
       "\n",
       "[90757 rows x 4 columns]"
      ]
     },
     "execution_count": 31,
     "metadata": {},
     "output_type": "execute_result"
    }
   ],
   "source": [
    "unique_goods"
   ]
  },
  {
   "cell_type": "code",
   "execution_count": 32,
   "metadata": {},
   "outputs": [
    {
     "data": {
      "text/plain": [
       "602"
      ]
     },
     "execution_count": 32,
     "metadata": {},
     "output_type": "execute_result"
    }
   ],
   "source": [
    "unique_goods.master_category_id.nunique()"
   ]
  },
  {
   "cell_type": "code",
   "execution_count": 33,
   "metadata": {},
   "outputs": [
    {
     "data": {
      "text/html": [
       "<div>\n",
       "<style scoped>\n",
       "    .dataframe tbody tr th:only-of-type {\n",
       "        vertical-align: middle;\n",
       "    }\n",
       "\n",
       "    .dataframe tbody tr th {\n",
       "        vertical-align: top;\n",
       "    }\n",
       "\n",
       "    .dataframe thead th {\n",
       "        text-align: right;\n",
       "    }\n",
       "</style>\n",
       "<table border=\"1\" class=\"dataframe\">\n",
       "  <thead>\n",
       "    <tr style=\"text-align: right;\">\n",
       "      <th></th>\n",
       "      <th>product_id</th>\n",
       "      <th>master_category_id</th>\n",
       "      <th>parent_category_id</th>\n",
       "      <th>brand_count</th>\n",
       "    </tr>\n",
       "  </thead>\n",
       "  <tbody>\n",
       "    <tr>\n",
       "      <th>0</th>\n",
       "      <td>201286</td>\n",
       "      <td>60</td>\n",
       "      <td>56</td>\n",
       "      <td>22886</td>\n",
       "    </tr>\n",
       "    <tr>\n",
       "      <th>825</th>\n",
       "      <td>25400</td>\n",
       "      <td>61</td>\n",
       "      <td>56</td>\n",
       "      <td>22886</td>\n",
       "    </tr>\n",
       "    <tr>\n",
       "      <th>3734</th>\n",
       "      <td>17318</td>\n",
       "      <td>60</td>\n",
       "      <td>56</td>\n",
       "      <td>22886</td>\n",
       "    </tr>\n",
       "    <tr>\n",
       "      <th>3887</th>\n",
       "      <td>17316</td>\n",
       "      <td>60</td>\n",
       "      <td>56</td>\n",
       "      <td>22886</td>\n",
       "    </tr>\n",
       "    <tr>\n",
       "      <th>4401</th>\n",
       "      <td>17312</td>\n",
       "      <td>60</td>\n",
       "      <td>56</td>\n",
       "      <td>22886</td>\n",
       "    </tr>\n",
       "    <tr>\n",
       "      <th>...</th>\n",
       "      <td>...</td>\n",
       "      <td>...</td>\n",
       "      <td>...</td>\n",
       "      <td>...</td>\n",
       "    </tr>\n",
       "    <tr>\n",
       "      <th>2606188</th>\n",
       "      <td>10913689</td>\n",
       "      <td>660</td>\n",
       "      <td>156</td>\n",
       "      <td>1</td>\n",
       "    </tr>\n",
       "    <tr>\n",
       "      <th>2615589</th>\n",
       "      <td>7385952</td>\n",
       "      <td>85</td>\n",
       "      <td>84</td>\n",
       "      <td>1</td>\n",
       "    </tr>\n",
       "    <tr>\n",
       "      <th>2732525</th>\n",
       "      <td>7385385</td>\n",
       "      <td>637</td>\n",
       "      <td>84</td>\n",
       "      <td>1</td>\n",
       "    </tr>\n",
       "    <tr>\n",
       "      <th>2792286</th>\n",
       "      <td>16721</td>\n",
       "      <td>61</td>\n",
       "      <td>56</td>\n",
       "      <td>1</td>\n",
       "    </tr>\n",
       "    <tr>\n",
       "      <th>2869124</th>\n",
       "      <td>7396067</td>\n",
       "      <td>637</td>\n",
       "      <td>84</td>\n",
       "      <td>1</td>\n",
       "    </tr>\n",
       "  </tbody>\n",
       "</table>\n",
       "<p>90757 rows × 4 columns</p>\n",
       "</div>"
      ],
      "text/plain": [
       "         product_id  master_category_id  parent_category_id  brand_count\n",
       "0            201286                  60                  56        22886\n",
       "825           25400                  61                  56        22886\n",
       "3734          17318                  60                  56        22886\n",
       "3887          17316                  60                  56        22886\n",
       "4401          17312                  60                  56        22886\n",
       "...             ...                 ...                 ...          ...\n",
       "2606188    10913689                 660                 156            1\n",
       "2615589     7385952                  85                  84            1\n",
       "2732525     7385385                 637                  84            1\n",
       "2792286       16721                  61                  56            1\n",
       "2869124     7396067                 637                  84            1\n",
       "\n",
       "[90757 rows x 4 columns]"
      ]
     },
     "execution_count": 33,
     "metadata": {},
     "output_type": "execute_result"
    }
   ],
   "source": [
    "brand_counts = goods.brand_name.value_counts()\n",
    "brand_counts = pd.DataFrame(brand_counts).rename(columns={'brand_name': 'brand_count'})\n",
    "\n",
    "goods2 = unique_goods.merge(brand_counts, left_on='brand_name', right_index=True)\n",
    "goods3 = goods2.drop(columns=['brand_name'])\n",
    "goods3"
   ]
  },
  {
   "cell_type": "code",
   "execution_count": 34,
   "metadata": {},
   "outputs": [
    {
     "data": {
      "text/html": [
       "<div>\n",
       "<style scoped>\n",
       "    .dataframe tbody tr th:only-of-type {\n",
       "        vertical-align: middle;\n",
       "    }\n",
       "\n",
       "    .dataframe tbody tr th {\n",
       "        vertical-align: top;\n",
       "    }\n",
       "\n",
       "    .dataframe thead th {\n",
       "        text-align: right;\n",
       "    }\n",
       "</style>\n",
       "<table border=\"1\" class=\"dataframe\">\n",
       "  <thead>\n",
       "    <tr style=\"text-align: right;\">\n",
       "      <th></th>\n",
       "      <th>product_id</th>\n",
       "      <th>parent_category_id</th>\n",
       "      <th>brand_count</th>\n",
       "      <th>master_cat_count</th>\n",
       "    </tr>\n",
       "  </thead>\n",
       "  <tbody>\n",
       "    <tr>\n",
       "      <th>0</th>\n",
       "      <td>201286</td>\n",
       "      <td>56</td>\n",
       "      <td>22886</td>\n",
       "      <td>436324</td>\n",
       "    </tr>\n",
       "    <tr>\n",
       "      <th>3734</th>\n",
       "      <td>17318</td>\n",
       "      <td>56</td>\n",
       "      <td>22886</td>\n",
       "      <td>436324</td>\n",
       "    </tr>\n",
       "    <tr>\n",
       "      <th>3887</th>\n",
       "      <td>17316</td>\n",
       "      <td>56</td>\n",
       "      <td>22886</td>\n",
       "      <td>436324</td>\n",
       "    </tr>\n",
       "    <tr>\n",
       "      <th>4401</th>\n",
       "      <td>17312</td>\n",
       "      <td>56</td>\n",
       "      <td>22886</td>\n",
       "      <td>436324</td>\n",
       "    </tr>\n",
       "    <tr>\n",
       "      <th>4405</th>\n",
       "      <td>17329</td>\n",
       "      <td>56</td>\n",
       "      <td>22886</td>\n",
       "      <td>436324</td>\n",
       "    </tr>\n",
       "    <tr>\n",
       "      <th>...</th>\n",
       "      <td>...</td>\n",
       "      <td>...</td>\n",
       "      <td>...</td>\n",
       "      <td>...</td>\n",
       "    </tr>\n",
       "    <tr>\n",
       "      <th>1680157</th>\n",
       "      <td>5071869</td>\n",
       "      <td>502</td>\n",
       "      <td>1</td>\n",
       "      <td>1</td>\n",
       "    </tr>\n",
       "    <tr>\n",
       "      <th>77745</th>\n",
       "      <td>55328</td>\n",
       "      <td>392</td>\n",
       "      <td>1</td>\n",
       "      <td>1</td>\n",
       "    </tr>\n",
       "    <tr>\n",
       "      <th>394431</th>\n",
       "      <td>3289</td>\n",
       "      <td>453</td>\n",
       "      <td>6</td>\n",
       "      <td>6</td>\n",
       "    </tr>\n",
       "    <tr>\n",
       "      <th>948860</th>\n",
       "      <td>5474521</td>\n",
       "      <td>546</td>\n",
       "      <td>2</td>\n",
       "      <td>2</td>\n",
       "    </tr>\n",
       "    <tr>\n",
       "      <th>2374920</th>\n",
       "      <td>5474523</td>\n",
       "      <td>546</td>\n",
       "      <td>2</td>\n",
       "      <td>2</td>\n",
       "    </tr>\n",
       "  </tbody>\n",
       "</table>\n",
       "<p>90757 rows × 4 columns</p>\n",
       "</div>"
      ],
      "text/plain": [
       "         product_id  parent_category_id  brand_count  master_cat_count\n",
       "0            201286                  56        22886            436324\n",
       "3734          17318                  56        22886            436324\n",
       "3887          17316                  56        22886            436324\n",
       "4401          17312                  56        22886            436324\n",
       "4405          17329                  56        22886            436324\n",
       "...             ...                 ...          ...               ...\n",
       "1680157     5071869                 502            1                 1\n",
       "77745         55328                 392            1                 1\n",
       "394431         3289                 453            6                 6\n",
       "948860      5474521                 546            2                 2\n",
       "2374920     5474523                 546            2                 2\n",
       "\n",
       "[90757 rows x 4 columns]"
      ]
     },
     "execution_count": 34,
     "metadata": {},
     "output_type": "execute_result"
    }
   ],
   "source": [
    "master_cat_counts = goods.master_category_id.value_counts()\n",
    "master_cat_counts = pd.DataFrame(master_cat_counts).rename(columns={'master_category_id': 'master_cat_count'})\n",
    "\n",
    "goods4 = goods3.merge(master_cat_counts, left_on='master_category_id', right_index=True)\n",
    "goods5 = goods4.drop(columns=['master_category_id'])\n",
    "goods5"
   ]
  },
  {
   "cell_type": "code",
   "execution_count": 35,
   "metadata": {},
   "outputs": [
    {
     "data": {
      "text/html": [
       "<div>\n",
       "<style scoped>\n",
       "    .dataframe tbody tr th:only-of-type {\n",
       "        vertical-align: middle;\n",
       "    }\n",
       "\n",
       "    .dataframe tbody tr th {\n",
       "        vertical-align: top;\n",
       "    }\n",
       "\n",
       "    .dataframe thead th {\n",
       "        text-align: right;\n",
       "    }\n",
       "</style>\n",
       "<table border=\"1\" class=\"dataframe\">\n",
       "  <thead>\n",
       "    <tr style=\"text-align: right;\">\n",
       "      <th></th>\n",
       "      <th>product_id</th>\n",
       "      <th>brand_count</th>\n",
       "      <th>master_cat_count</th>\n",
       "      <th>parent_cat_count</th>\n",
       "    </tr>\n",
       "  </thead>\n",
       "  <tbody>\n",
       "    <tr>\n",
       "      <th>0</th>\n",
       "      <td>201286</td>\n",
       "      <td>22886</td>\n",
       "      <td>436324</td>\n",
       "      <td>1353195</td>\n",
       "    </tr>\n",
       "    <tr>\n",
       "      <th>3734</th>\n",
       "      <td>17318</td>\n",
       "      <td>22886</td>\n",
       "      <td>436324</td>\n",
       "      <td>1353195</td>\n",
       "    </tr>\n",
       "    <tr>\n",
       "      <th>3887</th>\n",
       "      <td>17316</td>\n",
       "      <td>22886</td>\n",
       "      <td>436324</td>\n",
       "      <td>1353195</td>\n",
       "    </tr>\n",
       "    <tr>\n",
       "      <th>4401</th>\n",
       "      <td>17312</td>\n",
       "      <td>22886</td>\n",
       "      <td>436324</td>\n",
       "      <td>1353195</td>\n",
       "    </tr>\n",
       "    <tr>\n",
       "      <th>4405</th>\n",
       "      <td>17329</td>\n",
       "      <td>22886</td>\n",
       "      <td>436324</td>\n",
       "      <td>1353195</td>\n",
       "    </tr>\n",
       "    <tr>\n",
       "      <th>...</th>\n",
       "      <td>...</td>\n",
       "      <td>...</td>\n",
       "      <td>...</td>\n",
       "      <td>...</td>\n",
       "    </tr>\n",
       "    <tr>\n",
       "      <th>1070387</th>\n",
       "      <td>5216575</td>\n",
       "      <td>155</td>\n",
       "      <td>26</td>\n",
       "      <td>109</td>\n",
       "    </tr>\n",
       "    <tr>\n",
       "      <th>1438183</th>\n",
       "      <td>5216566</td>\n",
       "      <td>155</td>\n",
       "      <td>26</td>\n",
       "      <td>109</td>\n",
       "    </tr>\n",
       "    <tr>\n",
       "      <th>2476909</th>\n",
       "      <td>5216570</td>\n",
       "      <td>155</td>\n",
       "      <td>26</td>\n",
       "      <td>109</td>\n",
       "    </tr>\n",
       "    <tr>\n",
       "      <th>205395</th>\n",
       "      <td>5216587</td>\n",
       "      <td>155</td>\n",
       "      <td>26</td>\n",
       "      <td>109</td>\n",
       "    </tr>\n",
       "    <tr>\n",
       "      <th>983968</th>\n",
       "      <td>5216403</td>\n",
       "      <td>116</td>\n",
       "      <td>20</td>\n",
       "      <td>20</td>\n",
       "    </tr>\n",
       "  </tbody>\n",
       "</table>\n",
       "<p>90757 rows × 4 columns</p>\n",
       "</div>"
      ],
      "text/plain": [
       "         product_id  brand_count  master_cat_count  parent_cat_count\n",
       "0            201286        22886            436324           1353195\n",
       "3734          17318        22886            436324           1353195\n",
       "3887          17316        22886            436324           1353195\n",
       "4401          17312        22886            436324           1353195\n",
       "4405          17329        22886            436324           1353195\n",
       "...             ...          ...               ...               ...\n",
       "1070387     5216575          155                26               109\n",
       "1438183     5216566          155                26               109\n",
       "2476909     5216570          155                26               109\n",
       "205395      5216587          155                26               109\n",
       "983968      5216403          116                20                20\n",
       "\n",
       "[90757 rows x 4 columns]"
      ]
     },
     "execution_count": 35,
     "metadata": {},
     "output_type": "execute_result"
    }
   ],
   "source": [
    "parent_cat_counts = goods.parent_category_id.value_counts()\n",
    "parent_cat_counts = pd.DataFrame(parent_cat_counts).rename(columns={'parent_category_id': 'parent_cat_count'})\n",
    "\n",
    "goods6 = goods5.merge(parent_cat_counts, left_on='parent_category_id', right_index=True)\n",
    "goods7 = goods6.drop(columns=['parent_category_id'])\n",
    "goods7"
   ]
  },
  {
   "cell_type": "code",
   "execution_count": 36,
   "metadata": {},
   "outputs": [
    {
     "data": {
      "text/html": [
       "<div>\n",
       "<style scoped>\n",
       "    .dataframe tbody tr th:only-of-type {\n",
       "        vertical-align: middle;\n",
       "    }\n",
       "\n",
       "    .dataframe tbody tr th {\n",
       "        vertical-align: top;\n",
       "    }\n",
       "\n",
       "    .dataframe thead th {\n",
       "        text-align: right;\n",
       "    }\n",
       "</style>\n",
       "<table border=\"1\" class=\"dataframe\">\n",
       "  <thead>\n",
       "    <tr style=\"text-align: right;\">\n",
       "      <th></th>\n",
       "      <th>product_id</th>\n",
       "      <th>brand_count_norm</th>\n",
       "      <th>master_cat_count_norm</th>\n",
       "      <th>parent_cat_count_norm</th>\n",
       "    </tr>\n",
       "  </thead>\n",
       "  <tbody>\n",
       "    <tr>\n",
       "      <th>0</th>\n",
       "      <td>201286</td>\n",
       "      <td>0.001129</td>\n",
       "      <td>2.151561e-02</td>\n",
       "      <td>6.672751e-02</td>\n",
       "    </tr>\n",
       "    <tr>\n",
       "      <th>3734</th>\n",
       "      <td>17318</td>\n",
       "      <td>0.001129</td>\n",
       "      <td>2.151561e-02</td>\n",
       "      <td>6.672751e-02</td>\n",
       "    </tr>\n",
       "    <tr>\n",
       "      <th>3887</th>\n",
       "      <td>17316</td>\n",
       "      <td>0.001129</td>\n",
       "      <td>2.151561e-02</td>\n",
       "      <td>6.672751e-02</td>\n",
       "    </tr>\n",
       "    <tr>\n",
       "      <th>4401</th>\n",
       "      <td>17312</td>\n",
       "      <td>0.001129</td>\n",
       "      <td>2.151561e-02</td>\n",
       "      <td>6.672751e-02</td>\n",
       "    </tr>\n",
       "    <tr>\n",
       "      <th>4405</th>\n",
       "      <td>17329</td>\n",
       "      <td>0.001129</td>\n",
       "      <td>2.151561e-02</td>\n",
       "      <td>6.672751e-02</td>\n",
       "    </tr>\n",
       "    <tr>\n",
       "      <th>...</th>\n",
       "      <td>...</td>\n",
       "      <td>...</td>\n",
       "      <td>...</td>\n",
       "      <td>...</td>\n",
       "    </tr>\n",
       "    <tr>\n",
       "      <th>1070387</th>\n",
       "      <td>5216575</td>\n",
       "      <td>0.000008</td>\n",
       "      <td>1.282088e-06</td>\n",
       "      <td>5.374908e-06</td>\n",
       "    </tr>\n",
       "    <tr>\n",
       "      <th>1438183</th>\n",
       "      <td>5216566</td>\n",
       "      <td>0.000008</td>\n",
       "      <td>1.282088e-06</td>\n",
       "      <td>5.374908e-06</td>\n",
       "    </tr>\n",
       "    <tr>\n",
       "      <th>2476909</th>\n",
       "      <td>5216570</td>\n",
       "      <td>0.000008</td>\n",
       "      <td>1.282088e-06</td>\n",
       "      <td>5.374908e-06</td>\n",
       "    </tr>\n",
       "    <tr>\n",
       "      <th>205395</th>\n",
       "      <td>5216587</td>\n",
       "      <td>0.000008</td>\n",
       "      <td>1.282088e-06</td>\n",
       "      <td>5.374908e-06</td>\n",
       "    </tr>\n",
       "    <tr>\n",
       "      <th>983968</th>\n",
       "      <td>5216403</td>\n",
       "      <td>0.000006</td>\n",
       "      <td>9.862216e-07</td>\n",
       "      <td>9.862216e-07</td>\n",
       "    </tr>\n",
       "  </tbody>\n",
       "</table>\n",
       "<p>90757 rows × 4 columns</p>\n",
       "</div>"
      ],
      "text/plain": [
       "         product_id  brand_count_norm  master_cat_count_norm  \\\n",
       "0            201286          0.001129           2.151561e-02   \n",
       "3734          17318          0.001129           2.151561e-02   \n",
       "3887          17316          0.001129           2.151561e-02   \n",
       "4401          17312          0.001129           2.151561e-02   \n",
       "4405          17329          0.001129           2.151561e-02   \n",
       "...             ...               ...                    ...   \n",
       "1070387     5216575          0.000008           1.282088e-06   \n",
       "1438183     5216566          0.000008           1.282088e-06   \n",
       "2476909     5216570          0.000008           1.282088e-06   \n",
       "205395      5216587          0.000008           1.282088e-06   \n",
       "983968      5216403          0.000006           9.862216e-07   \n",
       "\n",
       "         parent_cat_count_norm  \n",
       "0                 6.672751e-02  \n",
       "3734              6.672751e-02  \n",
       "3887              6.672751e-02  \n",
       "4401              6.672751e-02  \n",
       "4405              6.672751e-02  \n",
       "...                        ...  \n",
       "1070387           5.374908e-06  \n",
       "1438183           5.374908e-06  \n",
       "2476909           5.374908e-06  \n",
       "205395            5.374908e-06  \n",
       "983968            9.862216e-07  \n",
       "\n",
       "[90757 rows x 4 columns]"
      ]
     },
     "execution_count": 36,
     "metadata": {},
     "output_type": "execute_result"
    }
   ],
   "source": [
    "for col in ['brand_count', 'master_cat_count', 'parent_cat_count']:\n",
    "    new_col = col + '_norm'\n",
    "    goods7[new_col] = goods7[col] / brand_counts.sum().values  # goods7[col].sum()\n",
    "\n",
    "goods8 = goods7.drop(columns=['brand_count','master_cat_count','parent_cat_count'])\n",
    "\n",
    "goods8"
   ]
  },
  {
   "cell_type": "code",
   "execution_count": 37,
   "metadata": {},
   "outputs": [
    {
     "data": {
      "text/html": [
       "<div>\n",
       "<style scoped>\n",
       "    .dataframe tbody tr th:only-of-type {\n",
       "        vertical-align: middle;\n",
       "    }\n",
       "\n",
       "    .dataframe tbody tr th {\n",
       "        vertical-align: top;\n",
       "    }\n",
       "\n",
       "    .dataframe thead th {\n",
       "        text-align: right;\n",
       "    }\n",
       "</style>\n",
       "<table border=\"1\" class=\"dataframe\">\n",
       "  <thead>\n",
       "    <tr style=\"text-align: right;\">\n",
       "      <th></th>\n",
       "      <th>user_id</th>\n",
       "      <th>order_id</th>\n",
       "      <th>line_item_id</th>\n",
       "      <th>price</th>\n",
       "      <th>quantity</th>\n",
       "      <th>discount</th>\n",
       "      <th>product_name</th>\n",
       "      <th>product_id</th>\n",
       "      <th>brand_name</th>\n",
       "      <th>master_category_id</th>\n",
       "      <th>parent_category_id</th>\n",
       "    </tr>\n",
       "  </thead>\n",
       "  <tbody>\n",
       "    <tr>\n",
       "      <th>0</th>\n",
       "      <td>65</td>\n",
       "      <td>16095339</td>\n",
       "      <td>170790864</td>\n",
       "      <td>119.000000</td>\n",
       "      <td>1</td>\n",
       "      <td>96.0</td>\n",
       "      <td>Шоколад Lindt Excellence горький 78%</td>\n",
       "      <td>201286</td>\n",
       "      <td>Lindt</td>\n",
       "      <td>60</td>\n",
       "      <td>56</td>\n",
       "    </tr>\n",
       "    <tr>\n",
       "      <th>1</th>\n",
       "      <td>65</td>\n",
       "      <td>16095339</td>\n",
       "      <td>170790865</td>\n",
       "      <td>172.839996</td>\n",
       "      <td>1</td>\n",
       "      <td>0.0</td>\n",
       "      <td>Грейпфрут</td>\n",
       "      <td>105764</td>\n",
       "      <td>Без бренда</td>\n",
       "      <td>91</td>\n",
       "      <td>90</td>\n",
       "    </tr>\n",
       "    <tr>\n",
       "      <th>2</th>\n",
       "      <td>65</td>\n",
       "      <td>16095339</td>\n",
       "      <td>170790866</td>\n",
       "      <td>118.000000</td>\n",
       "      <td>2</td>\n",
       "      <td>0.0</td>\n",
       "      <td>Творог Valio мягкий обезжиренный 0,1% бзмж</td>\n",
       "      <td>26062</td>\n",
       "      <td>Valio</td>\n",
       "      <td>30</td>\n",
       "      <td>20</td>\n",
       "    </tr>\n",
       "    <tr>\n",
       "      <th>3</th>\n",
       "      <td>65</td>\n",
       "      <td>16095339</td>\n",
       "      <td>170790867</td>\n",
       "      <td>276.329987</td>\n",
       "      <td>1</td>\n",
       "      <td>0.0</td>\n",
       "      <td>Яблоки Роял Гала</td>\n",
       "      <td>3302524</td>\n",
       "      <td>Без бренда</td>\n",
       "      <td>91</td>\n",
       "      <td>90</td>\n",
       "    </tr>\n",
       "    <tr>\n",
       "      <th>4</th>\n",
       "      <td>65</td>\n",
       "      <td>16095339</td>\n",
       "      <td>170790868</td>\n",
       "      <td>379.010010</td>\n",
       "      <td>1</td>\n",
       "      <td>0.0</td>\n",
       "      <td>Авокадо</td>\n",
       "      <td>54728</td>\n",
       "      <td>Без бренда</td>\n",
       "      <td>85</td>\n",
       "      <td>84</td>\n",
       "    </tr>\n",
       "    <tr>\n",
       "      <th>...</th>\n",
       "      <td>...</td>\n",
       "      <td>...</td>\n",
       "      <td>...</td>\n",
       "      <td>...</td>\n",
       "      <td>...</td>\n",
       "      <td>...</td>\n",
       "      <td>...</td>\n",
       "      <td>...</td>\n",
       "      <td>...</td>\n",
       "      <td>...</td>\n",
       "      <td>...</td>\n",
       "    </tr>\n",
       "    <tr>\n",
       "      <th>2925647</th>\n",
       "      <td>2435612</td>\n",
       "      <td>13639884</td>\n",
       "      <td>136293736</td>\n",
       "      <td>69.000000</td>\n",
       "      <td>1</td>\n",
       "      <td>0.0</td>\n",
       "      <td>Сметана Простоквашино из топленых сливок 15% 1...</td>\n",
       "      <td>2564091</td>\n",
       "      <td>Простоквашино</td>\n",
       "      <td>29</td>\n",
       "      <td>20</td>\n",
       "    </tr>\n",
       "    <tr>\n",
       "      <th>2925648</th>\n",
       "      <td>2435612</td>\n",
       "      <td>13639884</td>\n",
       "      <td>136293814</td>\n",
       "      <td>117.000000</td>\n",
       "      <td>1</td>\n",
       "      <td>0.0</td>\n",
       "      <td>Мороженое молочное Oreo с печеньем 62 г</td>\n",
       "      <td>3566277</td>\n",
       "      <td>Oreo</td>\n",
       "      <td>33</td>\n",
       "      <td>20</td>\n",
       "    </tr>\n",
       "    <tr>\n",
       "      <th>2925649</th>\n",
       "      <td>2435612</td>\n",
       "      <td>13639884</td>\n",
       "      <td>136294047</td>\n",
       "      <td>103.000000</td>\n",
       "      <td>1</td>\n",
       "      <td>0.0</td>\n",
       "      <td>Мороженое сливочное Магнат Гранат 72 г</td>\n",
       "      <td>5075958</td>\n",
       "      <td>unk</td>\n",
       "      <td>33</td>\n",
       "      <td>20</td>\n",
       "    </tr>\n",
       "    <tr>\n",
       "      <th>2925650</th>\n",
       "      <td>2435612</td>\n",
       "      <td>13639884</td>\n",
       "      <td>136298302</td>\n",
       "      <td>149.000000</td>\n",
       "      <td>1</td>\n",
       "      <td>0.0</td>\n",
       "      <td>Картофель фри 4 Сезона быстрозамороженный 450 г</td>\n",
       "      <td>7033753</td>\n",
       "      <td>4 Сезона</td>\n",
       "      <td>87</td>\n",
       "      <td>84</td>\n",
       "    </tr>\n",
       "    <tr>\n",
       "      <th>2925651</th>\n",
       "      <td>2435612</td>\n",
       "      <td>13639884</td>\n",
       "      <td>136298467</td>\n",
       "      <td>121.000000</td>\n",
       "      <td>1</td>\n",
       "      <td>0.0</td>\n",
       "      <td>Напиток энергетический Black Monster Energy Ul...</td>\n",
       "      <td>7329910</td>\n",
       "      <td>Black Monster</td>\n",
       "      <td>634</td>\n",
       "      <td>74</td>\n",
       "    </tr>\n",
       "  </tbody>\n",
       "</table>\n",
       "<p>20279418 rows × 11 columns</p>\n",
       "</div>"
      ],
      "text/plain": [
       "         user_id  order_id  line_item_id       price  quantity  discount  \\\n",
       "0             65  16095339     170790864  119.000000         1      96.0   \n",
       "1             65  16095339     170790865  172.839996         1       0.0   \n",
       "2             65  16095339     170790866  118.000000         2       0.0   \n",
       "3             65  16095339     170790867  276.329987         1       0.0   \n",
       "4             65  16095339     170790868  379.010010         1       0.0   \n",
       "...          ...       ...           ...         ...       ...       ...   \n",
       "2925647  2435612  13639884     136293736   69.000000         1       0.0   \n",
       "2925648  2435612  13639884     136293814  117.000000         1       0.0   \n",
       "2925649  2435612  13639884     136294047  103.000000         1       0.0   \n",
       "2925650  2435612  13639884     136298302  149.000000         1       0.0   \n",
       "2925651  2435612  13639884     136298467  121.000000         1       0.0   \n",
       "\n",
       "                                              product_name  product_id  \\\n",
       "0                     Шоколад Lindt Excellence горький 78%      201286   \n",
       "1                                                Грейпфрут      105764   \n",
       "2               Творог Valio мягкий обезжиренный 0,1% бзмж       26062   \n",
       "3                                         Яблоки Роял Гала     3302524   \n",
       "4                                                  Авокадо       54728   \n",
       "...                                                    ...         ...   \n",
       "2925647  Сметана Простоквашино из топленых сливок 15% 1...     2564091   \n",
       "2925648            Мороженое молочное Oreo с печеньем 62 г     3566277   \n",
       "2925649             Мороженое сливочное Магнат Гранат 72 г     5075958   \n",
       "2925650    Картофель фри 4 Сезона быстрозамороженный 450 г     7033753   \n",
       "2925651  Напиток энергетический Black Monster Energy Ul...     7329910   \n",
       "\n",
       "            brand_name  master_category_id  parent_category_id  \n",
       "0                Lindt                  60                  56  \n",
       "1           Без бренда                  91                  90  \n",
       "2                Valio                  30                  20  \n",
       "3           Без бренда                  91                  90  \n",
       "4           Без бренда                  85                  84  \n",
       "...                ...                 ...                 ...  \n",
       "2925647  Простоквашино                  29                  20  \n",
       "2925648           Oreo                  33                  20  \n",
       "2925649            unk                  33                  20  \n",
       "2925650       4 Сезона                  87                  84  \n",
       "2925651  Black Monster                 634                  74  \n",
       "\n",
       "[20279418 rows x 11 columns]"
      ]
     },
     "execution_count": 37,
     "metadata": {},
     "output_type": "execute_result"
    }
   ],
   "source": [
    "prod"
   ]
  },
  {
   "cell_type": "code",
   "execution_count": 38,
   "metadata": {},
   "outputs": [],
   "source": [
    "# prod[['price', 'reg_price', '']]"
   ]
  },
  {
   "cell_type": "code",
   "execution_count": 39,
   "metadata": {},
   "outputs": [
    {
     "data": {
      "text/html": [
       "<div>\n",
       "<style scoped>\n",
       "    .dataframe tbody tr th:only-of-type {\n",
       "        vertical-align: middle;\n",
       "    }\n",
       "\n",
       "    .dataframe tbody tr th {\n",
       "        vertical-align: top;\n",
       "    }\n",
       "\n",
       "    .dataframe thead th {\n",
       "        text-align: right;\n",
       "    }\n",
       "</style>\n",
       "<table border=\"1\" class=\"dataframe\">\n",
       "  <thead>\n",
       "    <tr style=\"text-align: right;\">\n",
       "      <th></th>\n",
       "      <th>product_id</th>\n",
       "      <th>order_id</th>\n",
       "      <th>reg_price</th>\n",
       "    </tr>\n",
       "  </thead>\n",
       "  <tbody>\n",
       "    <tr>\n",
       "      <th>0</th>\n",
       "      <td>201286</td>\n",
       "      <td>16095339</td>\n",
       "      <td>215.000000</td>\n",
       "    </tr>\n",
       "    <tr>\n",
       "      <th>1</th>\n",
       "      <td>105764</td>\n",
       "      <td>16095339</td>\n",
       "      <td>172.839996</td>\n",
       "    </tr>\n",
       "    <tr>\n",
       "      <th>2</th>\n",
       "      <td>26062</td>\n",
       "      <td>16095339</td>\n",
       "      <td>118.000000</td>\n",
       "    </tr>\n",
       "    <tr>\n",
       "      <th>3</th>\n",
       "      <td>3302524</td>\n",
       "      <td>16095339</td>\n",
       "      <td>276.329987</td>\n",
       "    </tr>\n",
       "    <tr>\n",
       "      <th>4</th>\n",
       "      <td>54728</td>\n",
       "      <td>16095339</td>\n",
       "      <td>379.010010</td>\n",
       "    </tr>\n",
       "    <tr>\n",
       "      <th>...</th>\n",
       "      <td>...</td>\n",
       "      <td>...</td>\n",
       "      <td>...</td>\n",
       "    </tr>\n",
       "    <tr>\n",
       "      <th>2925647</th>\n",
       "      <td>2564091</td>\n",
       "      <td>13639884</td>\n",
       "      <td>69.000000</td>\n",
       "    </tr>\n",
       "    <tr>\n",
       "      <th>2925648</th>\n",
       "      <td>3566277</td>\n",
       "      <td>13639884</td>\n",
       "      <td>117.000000</td>\n",
       "    </tr>\n",
       "    <tr>\n",
       "      <th>2925649</th>\n",
       "      <td>5075958</td>\n",
       "      <td>13639884</td>\n",
       "      <td>103.000000</td>\n",
       "    </tr>\n",
       "    <tr>\n",
       "      <th>2925650</th>\n",
       "      <td>7033753</td>\n",
       "      <td>13639884</td>\n",
       "      <td>149.000000</td>\n",
       "    </tr>\n",
       "    <tr>\n",
       "      <th>2925651</th>\n",
       "      <td>7329910</td>\n",
       "      <td>13639884</td>\n",
       "      <td>121.000000</td>\n",
       "    </tr>\n",
       "  </tbody>\n",
       "</table>\n",
       "<p>20279418 rows × 3 columns</p>\n",
       "</div>"
      ],
      "text/plain": [
       "         product_id  order_id   reg_price\n",
       "0            201286  16095339  215.000000\n",
       "1            105764  16095339  172.839996\n",
       "2             26062  16095339  118.000000\n",
       "3           3302524  16095339  276.329987\n",
       "4             54728  16095339  379.010010\n",
       "...             ...       ...         ...\n",
       "2925647     2564091  13639884   69.000000\n",
       "2925648     3566277  13639884  117.000000\n",
       "2925649     5075958  13639884  103.000000\n",
       "2925650     7033753  13639884  149.000000\n",
       "2925651     7329910  13639884  121.000000\n",
       "\n",
       "[20279418 rows x 3 columns]"
      ]
     },
     "execution_count": 39,
     "metadata": {},
     "output_type": "execute_result"
    }
   ],
   "source": [
    "prod['reg_price'] = prod.price + prod.discount\n",
    "prods = prod.copy()[['product_id', 'order_id', 'reg_price']]\n",
    "\n",
    "prods"
   ]
  },
  {
   "cell_type": "code",
   "execution_count": 40,
   "metadata": {},
   "outputs": [],
   "source": [
    "# # for product_id in tqdm(prods.product_id.unique()):\n",
    "# # #     print(product_id)\n",
    "# #     cur_prods = prods[prods.product_id == product_id]\n",
    "# #     cur_prods = cur_prods.sort_values(by='order_id')\n",
    "# #     reg_prices = np.r_[cur_prods.reg_price.iloc[0], cur_prods.reg_price.values[:-1]]\n",
    "# #     cur_prods['reg_price'] = reg_prices\n",
    "# # #     prods.loc[cur_prods.index, 'prev_reg_price'] = cur_prods.reg_price\n",
    "# #     break\n",
    "\n",
    "# # cur_prods\n",
    "\n",
    "# # tmp[tmp.index == product_id]\n",
    "\n",
    "# # tmp[tmp.prod]\n",
    "\n",
    "# # # g = prods \\\n",
    "# # #     .sort_values('order_id') \\\n",
    "# # #     .groupby('product_id')\n",
    "# # # #     .apply(lambda x: pd.Series(np.r_[x.iloc[0], x.values[:-1, 0]]))\n",
    "# # # # .reg_price.shift(1)  # .head(10)#reg_price.shift(1)\n",
    "\n",
    "# # # tmp = g.apply(lambda x: x.shift())\n",
    "# # # tmp\n",
    "\n",
    "# cur_prods.reg_price.shift()\n",
    "\n",
    "# cur_prods\n",
    "\n",
    "# cur_prods\n",
    "\n",
    "# prod[prod.product_id == 201286].sort_values(by='order_id')"
   ]
  },
  {
   "cell_type": "code",
   "execution_count": null,
   "metadata": {},
   "outputs": [],
   "source": []
  },
  {
   "cell_type": "code",
   "execution_count": 41,
   "metadata": {},
   "outputs": [],
   "source": [
    "prod = prod[prod.product_id != 0]"
   ]
  },
  {
   "cell_type": "code",
   "execution_count": 42,
   "metadata": {},
   "outputs": [],
   "source": [
    "importances = prod.groupby('product_id').quantity.sum()"
   ]
  },
  {
   "cell_type": "code",
   "execution_count": 43,
   "metadata": {},
   "outputs": [],
   "source": [
    "importances.loc[5481337] /= 500"
   ]
  },
  {
   "cell_type": "code",
   "execution_count": 44,
   "metadata": {},
   "outputs": [
    {
     "data": {
      "text/plain": [
       "product_id\n",
       "709        125399.0\n",
       "158        116057.0\n",
       "1300        94386.0\n",
       "166         73123.0\n",
       "9959        68837.0\n",
       "             ...   \n",
       "7040852         1.0\n",
       "7040849         1.0\n",
       "6565208         1.0\n",
       "6747239         1.0\n",
       "61340           1.0\n",
       "Name: quantity, Length: 90756, dtype: float64"
      ]
     },
     "execution_count": 44,
     "metadata": {},
     "output_type": "execute_result"
    }
   ],
   "source": [
    "importances.sort_values(ascending=False, inplace=True)\n",
    "importances"
   ]
  },
  {
   "cell_type": "code",
   "execution_count": 45,
   "metadata": {},
   "outputs": [
    {
     "data": {
      "text/plain": [
       "<AxesSubplot:ylabel='Frequency'>"
      ]
     },
     "execution_count": 45,
     "metadata": {},
     "output_type": "execute_result"
    },
    {
     "data": {
      "image/png": "[encoded data removed]",
      "text/plain": [
       "<Figure size 432x288 with 1 Axes>"
      ]
     },
     "metadata": {
      "needs_background": "light"
     },
     "output_type": "display_data"
    }
   ],
   "source": [
    "importances.clip(upper=importances.quantile(0.99)).plot(kind='hist', bins=50)"
   ]
  },
  {
   "cell_type": "code",
   "execution_count": 54,
   "metadata": {},
   "outputs": [],
   "source": [
    "# prod[prod.product_id == 5481337]"
   ]
  },
  {
   "cell_type": "code",
   "execution_count": 46,
   "metadata": {},
   "outputs": [],
   "source": [
    "prod = prod.sort_values(['user_id', 'order_id'])"
   ]
  },
  {
   "cell_type": "code",
   "execution_count": 47,
   "metadata": {},
   "outputs": [
    {
     "data": {
      "text/html": [
       "<div>\n",
       "<style scoped>\n",
       "    .dataframe tbody tr th:only-of-type {\n",
       "        vertical-align: middle;\n",
       "    }\n",
       "\n",
       "    .dataframe tbody tr th {\n",
       "        vertical-align: top;\n",
       "    }\n",
       "\n",
       "    .dataframe thead th {\n",
       "        text-align: right;\n",
       "    }\n",
       "</style>\n",
       "<table border=\"1\" class=\"dataframe\">\n",
       "  <thead>\n",
       "    <tr style=\"text-align: right;\">\n",
       "      <th></th>\n",
       "      <th>user_id</th>\n",
       "      <th>order_id</th>\n",
       "      <th>line_item_id</th>\n",
       "      <th>price</th>\n",
       "      <th>quantity</th>\n",
       "      <th>discount</th>\n",
       "      <th>product_name</th>\n",
       "      <th>product_id</th>\n",
       "      <th>brand_name</th>\n",
       "      <th>master_category_id</th>\n",
       "      <th>parent_category_id</th>\n",
       "      <th>reg_price</th>\n",
       "    </tr>\n",
       "  </thead>\n",
       "  <tbody>\n",
       "    <tr>\n",
       "      <th>0</th>\n",
       "      <td>51</td>\n",
       "      <td>13911065</td>\n",
       "      <td>145635438</td>\n",
       "      <td>149.899994</td>\n",
       "      <td>1</td>\n",
       "      <td>0.000000</td>\n",
       "      <td>Кукуруза сладкая в вакууме 230 г</td>\n",
       "      <td>6005183</td>\n",
       "      <td>Без бренда</td>\n",
       "      <td>85</td>\n",
       "      <td>84</td>\n",
       "      <td>149.899994</td>\n",
       "    </tr>\n",
       "    <tr>\n",
       "      <th>1</th>\n",
       "      <td>51</td>\n",
       "      <td>13911065</td>\n",
       "      <td>145635468</td>\n",
       "      <td>74.900002</td>\n",
       "      <td>1</td>\n",
       "      <td>0.000000</td>\n",
       "      <td>Морковь Белая Дача сочная 250 г</td>\n",
       "      <td>15148</td>\n",
       "      <td>Белая Дача</td>\n",
       "      <td>85</td>\n",
       "      <td>84</td>\n",
       "      <td>74.900002</td>\n",
       "    </tr>\n",
       "    <tr>\n",
       "      <th>2</th>\n",
       "      <td>51</td>\n",
       "      <td>13911065</td>\n",
       "      <td>145635515</td>\n",
       "      <td>149.899994</td>\n",
       "      <td>5</td>\n",
       "      <td>0.000000</td>\n",
       "      <td>Томаты Черри Мое лето Санрайз красные 250 г</td>\n",
       "      <td>63057</td>\n",
       "      <td>Мое лето</td>\n",
       "      <td>85</td>\n",
       "      <td>84</td>\n",
       "      <td>149.899994</td>\n",
       "    </tr>\n",
       "    <tr>\n",
       "      <th>3</th>\n",
       "      <td>51</td>\n",
       "      <td>13911065</td>\n",
       "      <td>145635542</td>\n",
       "      <td>99.900002</td>\n",
       "      <td>1</td>\n",
       "      <td>0.000000</td>\n",
       "      <td>Огурцы Луховицкие</td>\n",
       "      <td>3497570</td>\n",
       "      <td>Без бренда</td>\n",
       "      <td>85</td>\n",
       "      <td>84</td>\n",
       "      <td>99.900002</td>\n",
       "    </tr>\n",
       "    <tr>\n",
       "      <th>4</th>\n",
       "      <td>51</td>\n",
       "      <td>13911065</td>\n",
       "      <td>145635579</td>\n",
       "      <td>59.900002</td>\n",
       "      <td>2</td>\n",
       "      <td>0.000000</td>\n",
       "      <td>Томаты черри сливка</td>\n",
       "      <td>688</td>\n",
       "      <td>unk</td>\n",
       "      <td>85</td>\n",
       "      <td>84</td>\n",
       "      <td>59.900002</td>\n",
       "    </tr>\n",
       "    <tr>\n",
       "      <th>...</th>\n",
       "      <td>...</td>\n",
       "      <td>...</td>\n",
       "      <td>...</td>\n",
       "      <td>...</td>\n",
       "      <td>...</td>\n",
       "      <td>...</td>\n",
       "      <td>...</td>\n",
       "      <td>...</td>\n",
       "      <td>...</td>\n",
       "      <td>...</td>\n",
       "      <td>...</td>\n",
       "      <td>...</td>\n",
       "    </tr>\n",
       "    <tr>\n",
       "      <th>3167950</th>\n",
       "      <td>3142966</td>\n",
       "      <td>16654689</td>\n",
       "      <td>173388143</td>\n",
       "      <td>34.889999</td>\n",
       "      <td>1</td>\n",
       "      <td>17.700001</td>\n",
       "      <td>Йогурт Epica гранат и малина 4,8% 130 г бзмж</td>\n",
       "      <td>71049</td>\n",
       "      <td>Epica</td>\n",
       "      <td>21</td>\n",
       "      <td>20</td>\n",
       "      <td>52.590000</td>\n",
       "    </tr>\n",
       "    <tr>\n",
       "      <th>3167951</th>\n",
       "      <td>3142966</td>\n",
       "      <td>16654689</td>\n",
       "      <td>173388392</td>\n",
       "      <td>63.889999</td>\n",
       "      <td>1</td>\n",
       "      <td>73.000000</td>\n",
       "      <td>Шоколад Ritter Sport молочный с начинкой Клубн...</td>\n",
       "      <td>96217</td>\n",
       "      <td>Ritter Sport</td>\n",
       "      <td>60</td>\n",
       "      <td>56</td>\n",
       "      <td>136.889999</td>\n",
       "    </tr>\n",
       "    <tr>\n",
       "      <th>3167952</th>\n",
       "      <td>3142966</td>\n",
       "      <td>16654689</td>\n",
       "      <td>173388690</td>\n",
       "      <td>63.889999</td>\n",
       "      <td>1</td>\n",
       "      <td>82.500000</td>\n",
       "      <td>Шоколад Ritter Sport молочный с начинкой Карам...</td>\n",
       "      <td>94125</td>\n",
       "      <td>Ritter Sport</td>\n",
       "      <td>60</td>\n",
       "      <td>56</td>\n",
       "      <td>146.389999</td>\n",
       "    </tr>\n",
       "    <tr>\n",
       "      <th>3167953</th>\n",
       "      <td>3142966</td>\n",
       "      <td>16654689</td>\n",
       "      <td>173388868</td>\n",
       "      <td>298.489990</td>\n",
       "      <td>1</td>\n",
       "      <td>0.000000</td>\n",
       "      <td>Филе цыпленка-бройлера Троекурово охлажденное ...</td>\n",
       "      <td>4235874</td>\n",
       "      <td>Троекурово</td>\n",
       "      <td>122</td>\n",
       "      <td>119</td>\n",
       "      <td>298.489990</td>\n",
       "    </tr>\n",
       "    <tr>\n",
       "      <th>3167954</th>\n",
       "      <td>3142966</td>\n",
       "      <td>16654689</td>\n",
       "      <td>173389498</td>\n",
       "      <td>210.589996</td>\n",
       "      <td>1</td>\n",
       "      <td>0.000000</td>\n",
       "      <td>Голень цыпленка-бройлера Троекурово охлажденна...</td>\n",
       "      <td>3850672</td>\n",
       "      <td>Троекурово</td>\n",
       "      <td>122</td>\n",
       "      <td>119</td>\n",
       "      <td>210.589996</td>\n",
       "    </tr>\n",
       "  </tbody>\n",
       "</table>\n",
       "<p>20100411 rows × 12 columns</p>\n",
       "</div>"
      ],
      "text/plain": [
       "         user_id  order_id  line_item_id       price  quantity   discount  \\\n",
       "0             51  13911065     145635438  149.899994         1   0.000000   \n",
       "1             51  13911065     145635468   74.900002         1   0.000000   \n",
       "2             51  13911065     145635515  149.899994         5   0.000000   \n",
       "3             51  13911065     145635542   99.900002         1   0.000000   \n",
       "4             51  13911065     145635579   59.900002         2   0.000000   \n",
       "...          ...       ...           ...         ...       ...        ...   \n",
       "3167950  3142966  16654689     173388143   34.889999         1  17.700001   \n",
       "3167951  3142966  16654689     173388392   63.889999         1  73.000000   \n",
       "3167952  3142966  16654689     173388690   63.889999         1  82.500000   \n",
       "3167953  3142966  16654689     173388868  298.489990         1   0.000000   \n",
       "3167954  3142966  16654689     173389498  210.589996         1   0.000000   \n",
       "\n",
       "                                              product_name  product_id  \\\n",
       "0                         Кукуруза сладкая в вакууме 230 г     6005183   \n",
       "1                          Морковь Белая Дача сочная 250 г       15148   \n",
       "2              Томаты Черри Мое лето Санрайз красные 250 г       63057   \n",
       "3                                        Огурцы Луховицкие     3497570   \n",
       "4                                      Томаты черри сливка         688   \n",
       "...                                                    ...         ...   \n",
       "3167950       Йогурт Epica гранат и малина 4,8% 130 г бзмж       71049   \n",
       "3167951  Шоколад Ritter Sport молочный с начинкой Клубн...       96217   \n",
       "3167952  Шоколад Ritter Sport молочный с начинкой Карам...       94125   \n",
       "3167953  Филе цыпленка-бройлера Троекурово охлажденное ...     4235874   \n",
       "3167954  Голень цыпленка-бройлера Троекурово охлажденна...     3850672   \n",
       "\n",
       "           brand_name  master_category_id  parent_category_id   reg_price  \n",
       "0          Без бренда                  85                  84  149.899994  \n",
       "1          Белая Дача                  85                  84   74.900002  \n",
       "2            Мое лето                  85                  84  149.899994  \n",
       "3          Без бренда                  85                  84   99.900002  \n",
       "4                 unk                  85                  84   59.900002  \n",
       "...               ...                 ...                 ...         ...  \n",
       "3167950         Epica                  21                  20   52.590000  \n",
       "3167951  Ritter Sport                  60                  56  136.889999  \n",
       "3167952  Ritter Sport                  60                  56  146.389999  \n",
       "3167953    Троекурово                 122                 119  298.489990  \n",
       "3167954    Троекурово                 122                 119  210.589996  \n",
       "\n",
       "[20100411 rows x 12 columns]"
      ]
     },
     "execution_count": 47,
     "metadata": {},
     "output_type": "execute_result"
    }
   ],
   "source": [
    "prod"
   ]
  },
  {
   "cell_type": "code",
   "execution_count": 51,
   "metadata": {},
   "outputs": [],
   "source": [
    "from collections import defaultdict"
   ]
  },
  {
   "cell_type": "code",
   "execution_count": 52,
   "metadata": {},
   "outputs": [
    {
     "data": {
      "text/plain": [
       "(107068,)"
      ]
     },
     "execution_count": 52,
     "metadata": {},
     "output_type": "execute_result"
    }
   ],
   "source": [
    "users.shape"
   ]
  },
  {
   "cell_type": "code",
   "execution_count": 53,
   "metadata": {},
   "outputs": [
    {
     "data": {
      "application/vnd.jupyter.widget-view+json": {
       "model_id": "52ffad4cfcac4990a4179603e50f7754",
       "version_major": 2,
       "version_minor": 0
      },
      "text/plain": [
       "HBox(children=(HTML(value=''), FloatProgress(value=0.0, max=20100411.0), HTML(value='')))"
      ]
     },
     "metadata": {},
     "output_type": "display_data"
    },
    {
     "name": "stdout",
     "output_type": "stream",
     "text": [
      "\n"
     ]
    }
   ],
   "source": [
    "preds = {}  # Предсказания для всех пользователей\n",
    "\n",
    "\n",
    "prev_user = -1    # какого пользователя рассматривали на предыдущей итерации\n",
    "prev_product = -1 # какой товар рассматривали на предыдущей итерации\n",
    "prev_order = -1\n",
    "cnt_orders = 0    # сколько чеков у пользователя\n",
    "prods_imps = defaultdict(float)   # важности\n",
    "\n",
    "\n",
    "for i, row in tqdm(prod.iterrows(), total=prod.shape[0]):\n",
    "    if prev_user != -1 and prev_user != row.user_id:\n",
    "        if 5481337 in prods_imps:\n",
    "            prods_imps[5481337] /= 500\n",
    "        if cnt_orders < 5:\n",
    "            user_prods = prods_imps.keys()\n",
    "            all_prods_imps = importances.loc[user_prods]\n",
    "            top_prods = all_prods_imps.sort_values(ascending=False).iloc[:50]\n",
    "            prediction = top_prods\n",
    "            if len(top_prods) < 50:\n",
    "                additional_prods = importances.iloc[:100]\n",
    "                to_add = set(additional_prods.index.values.tolist()) - set(top_prods.index.values.tolist())\n",
    "                prods_to_add = additional_prods.loc[list(to_add)].sort_values(ascending=False)[:50-len(top_prods)]\n",
    "                prediction = pd.concat([top_prods, prods_to_add])\n",
    "        else:\n",
    "            prods_imps = pd.Series(prods_imps)\n",
    "            top_prods = prods_imps.sort_values(ascending=False).iloc[:50]\n",
    "            prediction = top_prods\n",
    "            if len(top_prods) < 50:\n",
    "                additional_prods = importances.iloc[:100]\n",
    "                to_add = set(additional_prods.index.values.tolist()) - set(top_prods.index.values.tolist())\n",
    "                prods_to_add = additional_prods.loc[list(to_add)].sort_values(ascending=False)[:50-len(top_prods)]\n",
    "                prediction = pd.concat([top_prods, prods_to_add])\n",
    "\n",
    "        preds[prev_user] = prediction\n",
    "\n",
    "        cnt_orders = 0\n",
    "        prods_imps = defaultdict(float)\n",
    "\n",
    "    cnt_orders += prev_order != row.order_id\n",
    "    prods_imps[row.product_id] += row.quantity\n",
    "\n",
    "\n",
    "    prev_user = row.user_id\n",
    "    prev_product = row.product_id\n",
    "    prev_order = row.order_id\n"
   ]
  },
  {
   "cell_type": "code",
   "execution_count": 48,
   "metadata": {},
   "outputs": [],
   "source": [
    "# preds"
   ]
  },
  {
   "cell_type": "code",
   "execution_count": 63,
   "metadata": {},
   "outputs": [],
   "source": [
    "res = defaultdict(list)"
   ]
  },
  {
   "cell_type": "code",
   "execution_count": 51,
   "metadata": {},
   "outputs": [],
   "source": [
    "preds = np.load('preds.npz.npy', allow_pickle=True)"
   ]
  },
  {
   "cell_type": "code",
   "execution_count": 54,
   "metadata": {},
   "outputs": [],
   "source": [
    "preds = preds.item()"
   ]
  },
  {
   "cell_type": "code",
   "execution_count": 68,
   "metadata": {},
   "outputs": [],
   "source": [
    "res = {k: ' '.join(str(int(x)) for x in v.index.tolist()) for k, v in preds.items()}"
   ]
  },
  {
   "cell_type": "code",
   "execution_count": 69,
   "metadata": {},
   "outputs": [],
   "source": [
    "# for k, v in preds.items():\n",
    "#     tmp = ' '.join(str(int(x)) for x in v.index.tolist())\n",
    "#     break\n",
    "#     s = \"\"\n",
    "#     for elem in item[1].index:\n",
    "#         s += str(elem)+\" \"\n",
    "#     s = s[:-1]\n",
    "#     res[item[0]] = s"
   ]
  },
  {
   "cell_type": "code",
   "execution_count": 71,
   "metadata": {},
   "outputs": [],
   "source": [
    "# res"
   ]
  },
  {
   "cell_type": "code",
   "execution_count": null,
   "metadata": {},
   "outputs": [],
   "source": []
  },
  {
   "cell_type": "code",
   "execution_count": 78,
   "metadata": {},
   "outputs": [],
   "source": [
    "# test_users"
   ]
  },
  {
   "cell_type": "code",
   "execution_count": 79,
   "metadata": {},
   "outputs": [],
   "source": [
    "test_res = {k: v for k, v in res.items() if k in test_users}"
   ]
  },
  {
   "cell_type": "code",
   "execution_count": 81,
   "metadata": {},
   "outputs": [
    {
     "data": {
      "text/plain": [
       "96379"
      ]
     },
     "execution_count": 81,
     "metadata": {},
     "output_type": "execute_result"
    }
   ],
   "source": [
    "len(test_res)"
   ]
  },
  {
   "cell_type": "code",
   "execution_count": 82,
   "metadata": {},
   "outputs": [
    {
     "data": {
      "text/plain": [
       "10689"
      ]
     },
     "execution_count": 82,
     "metadata": {},
     "output_type": "execute_result"
    }
   ],
   "source": [
    "len(test_users) - len(test_res)"
   ]
  },
  {
   "cell_type": "code",
   "execution_count": 87,
   "metadata": {},
   "outputs": [],
   "source": [
    "for_missed = ' '.join(map(str, importances.iloc[:50].index.values.tolist()))"
   ]
  },
  {
   "cell_type": "code",
   "execution_count": 89,
   "metadata": {},
   "outputs": [],
   "source": [
    "for user in test_users:\n",
    "    if user not in test_res:\n",
    "        test_res[user] = for_missed"
   ]
  },
  {
   "cell_type": "code",
   "execution_count": 90,
   "metadata": {},
   "outputs": [],
   "source": [
    "# ' '.join(map(str, importances.iloc[:50].index.values.tolist()))"
   ]
  },
  {
   "cell_type": "code",
   "execution_count": 93,
   "metadata": {},
   "outputs": [
    {
     "data": {
      "text/plain": [
       "107068"
      ]
     },
     "execution_count": 93,
     "metadata": {},
     "output_type": "execute_result"
    }
   ],
   "source": [
    "len(test_res)"
   ]
  },
  {
   "cell_type": "code",
   "execution_count": 94,
   "metadata": {},
   "outputs": [
    {
     "data": {
      "text/plain": [
       "107068"
      ]
     },
     "execution_count": 94,
     "metadata": {},
     "output_type": "execute_result"
    }
   ],
   "source": [
    "len(test_users)"
   ]
  },
  {
   "cell_type": "code",
   "execution_count": null,
   "metadata": {},
   "outputs": [],
   "source": []
  },
  {
   "cell_type": "code",
   "execution_count": 105,
   "metadata": {},
   "outputs": [],
   "source": [
    "preds_to_save = pd.DataFrame(pd.Series(test_res), columns=['Predicted']).reset_index().rename(columns={'index': 'Id'})"
   ]
  },
  {
   "cell_type": "code",
   "execution_count": 106,
   "metadata": {},
   "outputs": [],
   "source": [
    "preds_to_save.to_csv('submission.csv', index=False)"
   ]
  },
  {
   "cell_type": "code",
   "execution_count": 107,
   "metadata": {},
   "outputs": [
    {
     "data": {
      "text/plain": [
       "(107068, 2)"
      ]
     },
     "execution_count": 107,
     "metadata": {},
     "output_type": "execute_result"
    }
   ],
   "source": [
    "preds_to_save.shape"
   ]
  },
  {
   "cell_type": "code",
   "execution_count": null,
   "metadata": {},
   "outputs": [],
   "source": []
  },
  {
   "cell_type": "code",
   "execution_count": null,
   "metadata": {},
   "outputs": [],
   "source": []
  },
  {
   "cell_type": "code",
   "execution_count": 75,
   "metadata": {},
   "outputs": [
    {
     "data": {
      "text/plain": [
       "374357"
      ]
     },
     "execution_count": 75,
     "metadata": {},
     "output_type": "execute_result"
    }
   ],
   "source": [
    "len(res.keys())"
   ]
  },
  {
   "cell_type": "code",
   "execution_count": 82,
   "metadata": {},
   "outputs": [],
   "source": [
    "np.save('preds.npz', preds)"
   ]
  },
  {
   "cell_type": "code",
   "execution_count": 78,
   "metadata": {
    "collapsed": true
   },
   "outputs": [
    {
     "ename": "ValueError",
     "evalue": "If using all scalar values, you must pass an index",
     "output_type": "error",
     "traceback": [
      "\u001b[1;31m---------------------------------------------------------------------------\u001b[0m",
      "\u001b[1;31mValueError\u001b[0m                                Traceback (most recent call last)",
      "\u001b[1;32m<ipython-input-78-5906c8c179d3>\u001b[0m in \u001b[0;36m<module>\u001b[1;34m\u001b[0m\n\u001b[1;32m----> 1\u001b[1;33m \u001b[0mtable\u001b[0m \u001b[1;33m=\u001b[0m \u001b[0mpd\u001b[0m\u001b[1;33m.\u001b[0m\u001b[0mDataFrame\u001b[0m\u001b[1;33m(\u001b[0m\u001b[0mres\u001b[0m\u001b[1;33m)\u001b[0m\u001b[1;33m\u001b[0m\u001b[1;33m\u001b[0m\u001b[0m\n\u001b[0m",
      "\u001b[1;32mc:\\users\\alexander\\envs\\goldobina\\lib\\site-packages\\pandas\\core\\frame.py\u001b[0m in \u001b[0;36m__init__\u001b[1;34m(self, data, index, columns, dtype, copy)\u001b[0m\n\u001b[0;32m    466\u001b[0m \u001b[1;33m\u001b[0m\u001b[0m\n\u001b[0;32m    467\u001b[0m         \u001b[1;32melif\u001b[0m \u001b[0misinstance\u001b[0m\u001b[1;33m(\u001b[0m\u001b[0mdata\u001b[0m\u001b[1;33m,\u001b[0m \u001b[0mdict\u001b[0m\u001b[1;33m)\u001b[0m\u001b[1;33m:\u001b[0m\u001b[1;33m\u001b[0m\u001b[1;33m\u001b[0m\u001b[0m\n\u001b[1;32m--> 468\u001b[1;33m             \u001b[0mmgr\u001b[0m \u001b[1;33m=\u001b[0m \u001b[0minit_dict\u001b[0m\u001b[1;33m(\u001b[0m\u001b[0mdata\u001b[0m\u001b[1;33m,\u001b[0m \u001b[0mindex\u001b[0m\u001b[1;33m,\u001b[0m \u001b[0mcolumns\u001b[0m\u001b[1;33m,\u001b[0m \u001b[0mdtype\u001b[0m\u001b[1;33m=\u001b[0m\u001b[0mdtype\u001b[0m\u001b[1;33m)\u001b[0m\u001b[1;33m\u001b[0m\u001b[1;33m\u001b[0m\u001b[0m\n\u001b[0m\u001b[0;32m    469\u001b[0m         \u001b[1;32melif\u001b[0m \u001b[0misinstance\u001b[0m\u001b[1;33m(\u001b[0m\u001b[0mdata\u001b[0m\u001b[1;33m,\u001b[0m \u001b[0mma\u001b[0m\u001b[1;33m.\u001b[0m\u001b[0mMaskedArray\u001b[0m\u001b[1;33m)\u001b[0m\u001b[1;33m:\u001b[0m\u001b[1;33m\u001b[0m\u001b[1;33m\u001b[0m\u001b[0m\n\u001b[0;32m    470\u001b[0m             \u001b[1;32mimport\u001b[0m \u001b[0mnumpy\u001b[0m\u001b[1;33m.\u001b[0m\u001b[0mma\u001b[0m\u001b[1;33m.\u001b[0m\u001b[0mmrecords\u001b[0m \u001b[1;32mas\u001b[0m \u001b[0mmrecords\u001b[0m\u001b[1;33m\u001b[0m\u001b[1;33m\u001b[0m\u001b[0m\n",
      "\u001b[1;32mc:\\users\\alexander\\envs\\goldobina\\lib\\site-packages\\pandas\\core\\internals\\construction.py\u001b[0m in \u001b[0;36minit_dict\u001b[1;34m(data, index, columns, dtype)\u001b[0m\n\u001b[0;32m    281\u001b[0m             \u001b[0marr\u001b[0m \u001b[1;32mif\u001b[0m \u001b[1;32mnot\u001b[0m \u001b[0mis_datetime64tz_dtype\u001b[0m\u001b[1;33m(\u001b[0m\u001b[0marr\u001b[0m\u001b[1;33m)\u001b[0m \u001b[1;32melse\u001b[0m \u001b[0marr\u001b[0m\u001b[1;33m.\u001b[0m\u001b[0mcopy\u001b[0m\u001b[1;33m(\u001b[0m\u001b[1;33m)\u001b[0m \u001b[1;32mfor\u001b[0m \u001b[0marr\u001b[0m \u001b[1;32min\u001b[0m \u001b[0marrays\u001b[0m\u001b[1;33m\u001b[0m\u001b[1;33m\u001b[0m\u001b[0m\n\u001b[0;32m    282\u001b[0m         ]\n\u001b[1;32m--> 283\u001b[1;33m     \u001b[1;32mreturn\u001b[0m \u001b[0marrays_to_mgr\u001b[0m\u001b[1;33m(\u001b[0m\u001b[0marrays\u001b[0m\u001b[1;33m,\u001b[0m \u001b[0mdata_names\u001b[0m\u001b[1;33m,\u001b[0m \u001b[0mindex\u001b[0m\u001b[1;33m,\u001b[0m \u001b[0mcolumns\u001b[0m\u001b[1;33m,\u001b[0m \u001b[0mdtype\u001b[0m\u001b[1;33m=\u001b[0m\u001b[0mdtype\u001b[0m\u001b[1;33m)\u001b[0m\u001b[1;33m\u001b[0m\u001b[1;33m\u001b[0m\u001b[0m\n\u001b[0m\u001b[0;32m    284\u001b[0m \u001b[1;33m\u001b[0m\u001b[0m\n\u001b[0;32m    285\u001b[0m \u001b[1;33m\u001b[0m\u001b[0m\n",
      "\u001b[1;32mc:\\users\\alexander\\envs\\goldobina\\lib\\site-packages\\pandas\\core\\internals\\construction.py\u001b[0m in \u001b[0;36marrays_to_mgr\u001b[1;34m(arrays, arr_names, index, columns, dtype, verify_integrity)\u001b[0m\n\u001b[0;32m     76\u001b[0m         \u001b[1;31m# figure out the index, if necessary\u001b[0m\u001b[1;33m\u001b[0m\u001b[1;33m\u001b[0m\u001b[1;33m\u001b[0m\u001b[0m\n\u001b[0;32m     77\u001b[0m         \u001b[1;32mif\u001b[0m \u001b[0mindex\u001b[0m \u001b[1;32mis\u001b[0m \u001b[1;32mNone\u001b[0m\u001b[1;33m:\u001b[0m\u001b[1;33m\u001b[0m\u001b[1;33m\u001b[0m\u001b[0m\n\u001b[1;32m---> 78\u001b[1;33m             \u001b[0mindex\u001b[0m \u001b[1;33m=\u001b[0m \u001b[0mextract_index\u001b[0m\u001b[1;33m(\u001b[0m\u001b[0marrays\u001b[0m\u001b[1;33m)\u001b[0m\u001b[1;33m\u001b[0m\u001b[1;33m\u001b[0m\u001b[0m\n\u001b[0m\u001b[0;32m     79\u001b[0m         \u001b[1;32melse\u001b[0m\u001b[1;33m:\u001b[0m\u001b[1;33m\u001b[0m\u001b[1;33m\u001b[0m\u001b[0m\n\u001b[0;32m     80\u001b[0m             \u001b[0mindex\u001b[0m \u001b[1;33m=\u001b[0m \u001b[0mensure_index\u001b[0m\u001b[1;33m(\u001b[0m\u001b[0mindex\u001b[0m\u001b[1;33m)\u001b[0m\u001b[1;33m\u001b[0m\u001b[1;33m\u001b[0m\u001b[0m\n",
      "\u001b[1;32mc:\\users\\alexander\\envs\\goldobina\\lib\\site-packages\\pandas\\core\\internals\\construction.py\u001b[0m in \u001b[0;36mextract_index\u001b[1;34m(data)\u001b[0m\n\u001b[0;32m    385\u001b[0m \u001b[1;33m\u001b[0m\u001b[0m\n\u001b[0;32m    386\u001b[0m         \u001b[1;32mif\u001b[0m \u001b[1;32mnot\u001b[0m \u001b[0mindexes\u001b[0m \u001b[1;32mand\u001b[0m \u001b[1;32mnot\u001b[0m \u001b[0mraw_lengths\u001b[0m\u001b[1;33m:\u001b[0m\u001b[1;33m\u001b[0m\u001b[1;33m\u001b[0m\u001b[0m\n\u001b[1;32m--> 387\u001b[1;33m             \u001b[1;32mraise\u001b[0m \u001b[0mValueError\u001b[0m\u001b[1;33m(\u001b[0m\u001b[1;34m\"If using all scalar values, you must pass an index\"\u001b[0m\u001b[1;33m)\u001b[0m\u001b[1;33m\u001b[0m\u001b[1;33m\u001b[0m\u001b[0m\n\u001b[0m\u001b[0;32m    388\u001b[0m \u001b[1;33m\u001b[0m\u001b[0m\n\u001b[0;32m    389\u001b[0m         \u001b[1;32mif\u001b[0m \u001b[0mhave_series\u001b[0m\u001b[1;33m:\u001b[0m\u001b[1;33m\u001b[0m\u001b[1;33m\u001b[0m\u001b[0m\n",
      "\u001b[1;31mValueError\u001b[0m: If using all scalar values, you must pass an index"
     ]
    }
   ],
   "source": [
    "table = pd.DataFrame(res, index='')"
   ]
  },
  {
   "cell_type": "code",
   "execution_count": null,
   "metadata": {},
   "outputs": [],
   "source": [
    "for user in users:\n",
    "    if user not in preds:\n",
    "        preds[user] = importances.iloc[:50]"
   ]
  },
  {
   "cell_type": "code",
   "execution_count": null,
   "metadata": {},
   "outputs": [],
   "source": [
    "u = set(users)"
   ]
  },
  {
   "cell_type": "code",
   "execution_count": null,
   "metadata": {},
   "outputs": [],
   "source": []
  },
  {
   "cell_type": "code",
   "execution_count": 85,
   "metadata": {},
   "outputs": [
    {
     "data": {
      "text/plain": [
       "defaultdict(list,\n",
       "            {51: '709 5469728 18887 2600 3497570 456 6005364 3817489 478 14863 19562 95359 3562687 4831055 3302554 14632 688 15148 103771 6677915 3817538 5477651 651 2589314 20391 63057 6005183 800 12731 6593937 21976 18910 26259 14648 7724781 69418 10153 562 26753 680 21204 3031068 14668 57399 87007 20307 93825 539 93822 7788',\n",
       "             65: '18450 18439 26062 54728 3817542 4141822 26621 105764 709 5639 201286 77152 2589313 3302524 22061 2589314 14462 103831 3819571 64916 4141811 13821 2833472 26225 89998 5469882 17111 74516 3817552 92368 1037 15441 38512 101069 6375441 100789 199796 39621 101031 10002 26224 27465 4202912 64224 5673 69471 5469736 7386526 5047149 5178',\n",
       "             187: '88086 88084 709 158 1300 166 9959 176 39590 5657365 2586485 2146 23499 180 177 2544 165 8547 66893 13344338 10016 2597 67694 21904 3497419 20499 5217 10095 285 10015 9593 17314 2137 14564 7401 9152094 100 49911 2165 170 66966 9842 66969 224 59980 55133 66967 96161 7000939 159',\n",
       "             353: '69669 2322 2321 80460 407 202196 478 57948 2320 85608 23119 6784393 2326 6824042 28009 28006 5192 4937 71100 28076 28080 709 158 1300 166 9959 176 39590 5657365 2586485 2146 23499 180 177 2544 165 8547 66893 13344338 10016 2597 67694 21904 3497419 20499 5217 10095 285 10015 9593',\n",
       "             359: '63780 407 55266 8472 57279 14862 56 21752 709 158 1300 166 9959 176 39590 5657365 2586485 2146 23499 180 177 2544 165 8547 66893 13344338 10016 2597 67694 21904 3497419 20499 5217 10095 285 10015 9593 17314 2137 14564 7401 9152094 100 49911 2165 170 66966 9842 66969 224',\n",
       "             400: '177 21904 981 61053 5642 26751 20286 20289 94333 5481691 3817507 96437 10198 9936 2834432 12817 8472 63843 8545 69714 67126 67026 4141333 37452 2835403 6613 5474192 4033661 67549 37067 4033792 397 1159914 4203260 3572682 4033793 2834855 95376 65094 6565232 13109 6992 7330505 22452 44255 13541 709 158 1300 166',\n",
       "             547: '709 39590 165 2575 60114 92418 15941 92109 67222 5663 101323 26061 37492 92357 64236 95779 2128 158 1300 166 9959 176 5657365 2586485 2146 23499 180 177 2544 8547 66893 13344338 10016 2597 67694 21904 3497419 20499 5217 10095 285 10015 9593 17314 2137 14564 7401 9152094 100 49911',\n",
       "             576: '177 2600 46469 10002 9959 7103983 60179 65641 9690 9645 102 5479374 5045302 103173 58022 39616 5045301 10186 5657403 14007 5628 10757 49911 4443 21813 14286 15593 96347 84097 5275 60105 18553 104110 9979 7017 14731 5046703 45517 59893 63712 64747 60028 2057 50529 37433 5182 14297 7406913 75485 5060934',\n",
       "             608: '69951 7342615 4211879 64624 201891 84319 7043781 37455 26616 14752 24695 9611 64789 5470984 7313832 55641 7431252 69627 5214802 44781 4443 57406 83974 5305 5481257 37539 4424 36248 7048 5045631 58880 50036 5192 17468 15064 57552 7053 7052 4033800 5178 37558 7466866 80204 5044312 103053 57998 5476180 14000 60104 20188',\n",
       "             640: '165 100 39591 66949 456 9496 67377 74649 24835 478 60 138 46800 21545 13854 75252 84319 22976 50260 3826254 73413 15245 13557 14622 13577 14731 67593 869 141 6756954 67594 71546 3497439 66900 71547 57309 3866665 89654 13612 3833853 22548 1310 57321 64071 7032760 60734 66725 3833463 102617 3052257',\n",
       "             766: '55133 63072 103039 5154 5481688 57199 3302524 22107 1037 7062001 38931 50462 7008786 7062000 96185 131 5659264 45460 105435 6621 92338 13464 64701 45159 29586 5479399 2048 69738 5074655 44765 5566925 67018 6591107 36144 9553 5044972 6190 69731 6018 9551 4141670 5483405 6210644 78891 7030118 7030120 6784816 7343232 709 158',\n",
       "             834: '7401 981 222 20289 6749597 14838 57170 90640 13481 455 4274952 24840 292 6003575 2834359 6749607 76531 6368482 12833 1821 5044804 4033822 9714 5651485 5629993 71179 31175 5892 63613 16677 4276284 5874 95791 59733 64954 7439496 709 158 1300 166 9959 176 39590 5657365 2586485 2146 23499 180 177 2544',\n",
       "             1012: '49911 170 222 66956 52657 75924 14469 64712 48315 66957 5479931 96437 13550019 66958 13793 48322 18984 84099 2531 5469740 6930 7042858 5075323 6749974 58822 3823465 2835385 45314 330 60459 3818718 3818886 5581384 709 158 1300 166 9959 176 39590 5657365 2586485 2146 23499 180 177 2544 165 8547 66893',\n",
       "             1050: '709 10095 73725 182 15593 24831 43 7048452 77094 72003 22045 9496 77079 78643 96208 6685882 60 6805305 39770 73286 73 76996 57198 73733 6744999 92 1749 72282 13239579 76209 72281 178 77096 44788 37212 76593 72084 15602 75679 68370 73937 87282 70481 3818080 3818603 10237 37211 6818358 6375448 73490',\n",
       "             1131: '55134 4275033 3817489 10189 5187 69553 36149 3565486 37484 36148 5062860 5636 60353 27472 3565485 57150 93646 36828 7016418 77060 66794 13416 5217338 14541 57034 96295 94041 60080 709 158 1300 166 9959 176 39590 5657365 2586485 2146 23499 180 177 2544 165 8547 66893 13344338 10016 2597 67694 21904',\n",
       "             1132: '158 2165 96208 9970 91008 64017 66965 1199 15597 10061 1197 95465 7062037 7068063 7062038 7061950 7342604 5997193 10086 63618 61082 3585078 5657394 8823 6785175 6591104 9122189 709 1300 166 9959 176 39590 5657365 2586485 2146 23499 180 177 2544 165 8547 66893 13344338 10016 2597 67694 21904 3497419 20499',\n",
       "             1139: '3497419 45457 21503 6771267 17555 53303 103489 25811 66215 5060882 5073964 7000871 9372261 7030736 709 158 1300 166 9959 176 39590 5657365 2586485 2146 23499 180 177 2544 165 8547 66893 13344338 10016 2597 67694 21904 20499 5217 10095 285 10015 9593 17314 2137 14564 7401 9152094 100 49911 2165',\n",
       "             1154: '9959 67694 15593 67693 52657 72006 95835 45459 63640 6368465 26632 5047346 1086 10000 36266 5481314 6677915 58962 36827 27943 36270 36499 10122 14834 5046017 7036195 54710 55161 12670 709 158 1300 166 176 39590 5657365 2586485 2146 23499 180 177 2544 165 8547 66893 13344338 10016 2597 21904 3497419',\n",
       "             1177: '96306 2322 73570 5074594 20285 2323 3818498 1870 2325 1775 4033823 4141819 4141820 6697013 67199 6695440 1942830 50190 96400 67242 16019 59906 59907 14345 7325219 38242 18569 23 22 7325324 7325322 7004214 7004212 7004209 63815 64273 1590 25639 2833991 3817487 4033458 45435 9790 7342538 4277747 25977 67048 14030 821 1159933',\n",
       "             1221: '9959 2542 1990 2578 58812 1987 59771 1989 58032 199801 78796 25166 58352 4274968 6694783 15535 57832 22993 39627 4276318 21495 39629 196879 709 158 1300 166 176 39590 5657365 2586485 2146 23499 180 177 2544 165 8547 66893 13344338 10016 2597 67694 21904 3497419 20499 5217 10095 285 10015',\n",
       "             1359: '709 158 100 5469728 2521 24836 222 52657 5469736 6005364 5642 304 3817489 9590 1990 65349 15935 95359 4830912 1987 103938 4831055 9571 92368 92038 20214 15263 3817547 2589315 50190 7386392 103771 3817488 2589314 95430 5663 36828 94566 10527043 57398 17055 13930 57211 17213 54965 58077 86455 6371203 4203302 7539',\n",
       "             1360: '71404 38251 96205 91374 93463 20553 71410 20771 51069 3839855 7324107 5076441 7323425 709 158 1300 166 9959 176 39590 5657365 2586485 2146 23499 180 177 2544 165 8547 66893 13344338 10016 2597 67694 21904 3497419 20499 5217 10095 285 10015 9593 17314 2137 14564 7401 9152094 100 49911 2165',\n",
       "             1371: '3817484 39591 981 10049 52657 6005364 45459 7324996 67199 5481688 76476 66843 39723 2599278 91095 44788 13349 75651 37210 67217 66788 103142 50190 31491 38714 59008 5051544 55095 5044600 17319 26769 3818987 199357 5063044 105600 20358 64624 12727 5044753 5217291 64599 24341 7046 64821 5488970 11994 13826 1177 18287 5979',\n",
       "             1408: '709 1300 67694 21904 39591 30361 4592908 18887 100789 3817512 5642 14469 10115 3817507 5481688 65349 26338 4202912 198045 5649 92418 64273 14508 5479493 198044 22107 6951 24845 5997136 4274956 103938 13550019 6640642 5479797 5488990 92368 62826 143 45932 24839 13484 4033668 17024 50235 24873 26632 7032787 64227 96237 5062860',\n",
       "             1436: '67694 4592908 14490 9775 37335 6968 709 158 1300 166 9959 176 39590 5657365 2586485 2146 23499 180 177 2544 165 8547 66893 13344338 10016 2597 21904 3497419 20499 5217 10095 285 10015 9593 17314 2137 14564 7401 9152094 100 49911 2165 170 66966 9842 66969 224 59980 55133 66967',\n",
       "             1474: '176 14564 39591 31277 18720 46800 36666 13481 9990 96321 13349 5634 3039043 7330060 60986 7342764 59610 9127322 7043849 3582674 9806 37433 18423 6695595 3825071 31278 22965 52176 76813 198477 3828260 7397026 90812 13624 709 158 1300 166 9959 39590 5657365 2586485 2146 23499 180 177 2544 165 8547 66893',\n",
       "             1578: '19924 158 6003928 96323 22161 10012 285 65526 4689 59100 78088 304 5689 69131 10019 25524 7106772 66915 8545 6390830 45457 39492 4444 39537 9122126 18019 13048 68347 6606296 5479901 39692 57867 57977 26335 6824042 14836 7439594 83859 80451 16825 5154 13074 5186 2835415 4513 5482872 4275098 100345 2564083 8382',\n",
       "             1608: '709 5217 7401 10039 5178 3817507 5469882 58812 4274956 5177 58782 10120 50027 57659 4274953 64913 4831087 8271 63681 8703 29608 26753 5997193 10086 3865483 5676 27624 22391 158 1300 166 9959 176 39590 5657365 2586485 2146 23499 180 177 2544 165 8547 66893 13344338 10016 2597 67694 21904 3497419',\n",
       "             1647: '4275731 13550359 16897 17204 58146 6466 9925 6468 17228 16887 709 158 1300 166 9959 176 39590 5657365 2586485 2146 23499 180 177 2544 165 8547 66893 13344338 10016 2597 67694 21904 3497419 20499 5217 10095 285 10015 9593 17314 2137 14564 7401 9152094 100 49911 2165 170 66966 9842',\n",
       "             1724: '14337 36362 7008784 2639 199801 65193 2835401 14292 23004 143 19052 24357 397 8102 70117 200863 5997156 478 21495 7716 6697463 29655 7781 6697036 5997155 9775 4276285 7801 4202912 95874 29542 5214959 61225 8053 18984 61078 104839 30247 57517 5471582 93530 58788 5029 70126 74649 15595 84126 7401 151 96168',\n",
       "             1781: '13757 27571 105591 38712 21620 64320 5997186 9692 24348 4592700 5061701 5044296 6678030 7342701 63786 826 67786 5046166 1870 1092 5063238 25964 5044474 84008 709 158 1300 166 9959 176 39590 5657365 2586485 2146 23499 180 177 2544 165 8547 66893 13344338 10016 2597 67694 21904 3497419 20499 5217 10095',\n",
       "             2043: '2550 2549 66966 23499 96212 2519 60021 2518 76110 67082 6785095 159 80248 6634 60022 4141773 63646 6636207 9842 9965697 86248 5062860 67085 67088 38119 86665 2834445 1159946 39560 3817484 6636206 47771 5477651 7386239 20276 68525 7375 7401 68532 875 825 9263101 12463 5470934 25802 17314 51300 95835 1749 12668',\n",
       "             2066: '14876 9959 20766 5488904 3819485 14956 39730 2322 20773 57807 5214960 7021 5062944 36883 98827 7988 45458 8255 3819490 4812 50109 1220 94019 36884 86743 83964 20396 50258 960 7740 3858258 21532 58010 50133 8266 105 5044430 16643 16012 82412 96289 45457 7348 709 158 1300 166 176 39590 5657365',\n",
       "             2073: '67694 49911 7397 30361 52657 64712 1990 15512 29553 7342625 95825 7373 6749599 30368 8181 27472 37536 5046168 64221 57243 7716 8287 64755 8263 29704 8285 29652 4423 58019 28003 709 158 1300 166 9959 176 39590 5657365 2586485 2146 23499 180 177 2544 165 8547 66893 13344338 10016 2597',\n",
       "             2083: '6003978 3048671 3566695 6677976 3047049 3830253 4033791 6770272 709 158 1300 166 9959 176 39590 5657365 2586485 2146 23499 180 177 2544 165 8547 66893 13344338 10016 2597 67694 21904 3497419 20499 5217 10095 285 10015 9593 17314 2137 14564 7401 9152094 100 49911 2165 170 66966 9842 66969 224',\n",
       "             2098: '3497419 14286 43 63780 3497570 67281 138 3497330 3497521 46970 1821 3497585 95667 13667 13562 3497601 5051482 7043738 80231 91899 24638 75201 51058 62663 3497588 7384374 7328054 7048672 94417 91649 709 158 1300 166 9959 176 39590 5657365 2586485 2146 23499 180 177 2544 165 8547 66893 13344338 10016 2597',\n",
       "             2122: '5469728 10049 21767 10039 821 67404 5073714 6565241 76875 64731 875 4991 39771 5479901 878 50027 102474 4033822 20391 87898 69738 53020 75382 6565184 5045 15479 8109 1490954 16993 1823 50207 8306 52899 7532 6593299 66605 16777 57549 3817485 13669 102278 45319 16048 72593 106190 29565 4706 7326741 59784 2561677',\n",
       "             2129: '66969 66967 2549 7397 2521 30361 24831 96236 24851 27569 57174 2551 67679 29676 93461 84240 29556 1159907 5062131 64069 45280 100372 24848 17281 24873 10058 14938 60904 5217410 8213 67140 27629 8199 14967 38301 67353 84085 58149 5479813 5062928 91879 74412 96475 5468821 5481229 58180 14931 2205 96323 6562',\n",
       "             2131: '39590 39591 24831 100849 72875 5469736 3497570 5479511 3817542 407 94333 12565 3817507 2525 58082 55130 100812 55128 7373 55266 5479078 100648 4274636 7061980 38719 25548 94141 105671 94566 5061798 18870 36265 5046080 6005383 29581 7344352 12062 5481323 5478500 16988 93386 7344353 709 158 1300 166 9959 176 5657365 2586485',\n",
       "             2158: '1300 5217 10095 55133 15593 69669 31277 5469736 100789 6371 7324996 6371189 5214 65349 4141754 3817529 55151 6340 2005 60850 5469882 5997136 6343 6697382 55266 91095 5481356 6640642 14404 22616 200939 26197 1309 20273 6784393 36257 26200 5072 6390644 5061260 100446 4275048 4275049 5997200 198493 38464 26198 4274972 37121 60283',\n",
       "             2171: '60179 93456 5628 24858 1818 4276130 50405 10172 10064 10063 24860 13481 8017415 101142 24859 18677 17498 3045035 19479 9496 59610 10243 36296 19493 199604 13222 5046333 5046332 5568848 36487 5568851 709 158 1300 166 9959 176 39590 5657365 2586485 2146 23499 180 177 2544 165 8547 66893 13344338 10016',\n",
       "             2203: '66967 17527 25829 25830 25828 14752 6685956 6565241 102868 4033822 5044296 4033730 1260 709 158 1300 166 9959 176 39590 5657365 2586485 2146 23499 180 177 2544 165 8547 66893 13344338 10016 2597 67694 21904 3497419 20499 5217 10095 285 10015 9593 17314 2137 14564 7401 9152094 100 49911 2165',\n",
       "             2268: '24836 27745 96223 39725 8723 17601 17600 17653 26128 25836 9741 96237 58782 17599 26129 25837 17506 84000 65804 17649 30370 17507 30365 10055 90273 17505 73344 17597 93626 90280 90275 30369 7396 25815 709 158 1300 166 9959 176 39590 5657365 2586485 2146 23499 180 177 2544 165 8547',\n",
       "             2293: '6749597 2005 66843 84319 6749605 58839 6749054 36248 1209 4033825 39548 58651 6388064 59802 29617 6003678 4831295 36240 5654329 196855 44782 69513 27787 59851 6565170 709 158 1300 166 9959 176 39590 5657365 2586485 2146 23499 180 177 2544 165 8547 66893 13344338 10016 2597 67694 21904 3497419 20499 5217',\n",
       "             2362: '36067 63072 22161 4274952 66880 199 1765 10757 5045610 105551 20355 45439 25621 5046218 18757 100646 90432 36106 4893 22505 3497588 7323943 68551 7384372 90469 9251440 90821 709 158 1300 166 9959 176 39590 5657365 2586485 2146 23499 180 177 2544 165 8547 66893 13344338 10016 2597 67694 21904 3497419',\n",
       "             2457: '38458 105764 5051493 3817547 6005363 26589 60151 651 71124 4141820 6697381 6697379 6697380 6390763 55124 6390764 18316 59603 18321 709 158 1300 166 9959 176 39590 5657365 2586485 2146 23499 180 177 2544 165 8547 66893 13344338 10016 2597 67694 21904 3497419 20499 5217 10095 285 10015 9593 17314 2137',\n",
       "             2481: '261 55151 63640 63680 6749556 14099 4275776 64215 4277615 23856 709 158 1300 166 9959 176 39590 5657365 2586485 2146 23499 180 177 2544 165 8547 66893 13344338 10016 2597 67694 21904 3497419 20499 5217 10095 285 10015 9593 17314 2137 14564 7401 9152094 100 49911 2165 170 66966 9842',\n",
       "             2581: '2600 14863 709 158 1300 166 9959 176 39590 5657365 2586485 2146 23499 180 177 2544 165 8547 66893 13344338 10016 2597 67694 21904 3497419 20499 5217 10095 285 10015 9593 17314 2137 14564 7401 9152094 100 49911 2165 170 66966 9842 66969 224 59980 55133 66967 96161 7000939 159',\n",
       "             2682: '18887 104 10189 45458 90518 3497352 7032787 201948 254 3497447 9757 57561 26141 7892 5851 4591 59165 2833414 4431 3497545 57219 38853 7043861 65643 709 158 1300 166 9959 176 39590 5657365 2586485 2146 23499 180 177 2544 165 8547 66893 13344338 10016 2597 67694 21904 3497419 20499 5217 10095',\n",
       "             2693: '9152094 66866 67407 69250 74633 288 66867 66865 6334 4033854 6368554 5655 7325384 5217291 4275049 591 92418 2834847 4033462 25639 7062125 60842 6606298 7062136 5047311 38908 49934 5047312 9936 5479145 5481770 3567885 5479406 5469728 86160 4986 5483164 17033 31300 57985 5651532 10163 3817529 6375429 36293 5074225 67151 3570287 10205 58712',\n",
       "             2741: '60422 142 60730 50 14434 37295 36413 13179 13301 27745 1996 15512 4592908 1865 13129 13128 7324996 1808 9813 19940 5062860 1267 58261 62939 46682 1300 58467 63072 25925 61 4033661 100849 27925 4033505 4274992 151 86746 2833589 39790 7062059 3817484 55134 57170 67576 105 52657 1228 5046679 14506 58470',\n",
       "             2785: '709 158 39590 3497419 96161 69937 63072 100789 73492 45457 57174 57199 2320 7410 96219 72779 24845 2599278 39796 66329 58137 5076176 58715 3497324 96359 7386392 199380 96277 3497401 94058 3559474 64703 198653 7775 66820 5217431 15258 52567 5503 96279 5061039 5061277 6749932 25182 10316 7043360 76457 74643 3103028 3818794',\n",
       "             2858: '158 5217 3817484 69669 103039 7324996 55151 65140 5629938 55266 91095 96560 6640642 9881 14465 5073753 63638 4991 5469740 58962 5073 258 694 6210221 7325193 4274992 5045 71723 200839 7107299 87996 38248 95738 5052 5483043 5483042 31211 618 18478 84420 62938 5568 83916 101546 21834 13550146 36143 709 1300 166',\n",
       "             2882: '14506 57170 17324 26072 58836 70141 89975 61081 64060 3819675 5216726 12300 5216725 3819758 3819139 709 158 1300 166 9959 176 39590 5657365 2586485 2146 23499 180 177 2544 165 8547 66893 13344338 10016 2597 67694 21904 3497419 20499 5217 10095 285 10015 9593 17314 2137 14564 7401 9152094 100',\n",
       "             2887: '7325382 6749604 7342625 45613 6749599 6749603 7342626 128 57561 14575 7295 5051530 31164 709 158 1300 166 9959 176 39590 5657365 2586485 2146 23499 180 177 2544 165 8547 66893 13344338 10016 2597 67694 21904 3497419 20499 5217 10095 285 10015 9593 17314 2137 14564 7401 9152094 100 49911 2165',\n",
       "             2900: '37388 709 158 1300 166 9959 176 39590 5657365 2586485 2146 23499 180 177 2544 165 8547 66893 13344338 10016 2597 67694 21904 3497419 20499 5217 10095 285 10015 9593 17314 2137 14564 7401 9152094 100 49911 2165 170 66966 9842 66969 224 59980 55133 66967 96161 7000939 159 2549',\n",
       "             2961: '709 10095 5469728 63780 3497570 22035 54728 67326 3817489 94125 1990 66088 93684 58082 100812 4276378 22108 13487 91095 58958 100813 1039 22924 64800 1989 63724 84320 46969 9397 63057 184 3817513 100794 57891 65044 5469874 3053897 64640 16588 21178 6784611 5479001 158 1300 166 9959 176 39590 5657365 2586485',\n",
       "             3011: '1300 21904 10095 31277 75676 1590 25516 25248 57294 38105 9127373 7325306 4988 101253 28077 2586486 5479144 5246 57293 3059031 64624 5993735 75487 52899 3497426 95504 5074244 4033636 3053877 24712 201114 52922 71430 6771159 3059032 52890 99381 66991 68787 7034593 3857874 57784 7414818 6771031 7030599 100479 7414817 7030925 9363839 8016910',\n",
       "             3032: '158 20276 103039 104 4141821 38036 20215 20302 70697 20214 199 5634 5061260 6300 94420 9908 20213 14754 5479406 236 4033822 70953 17326 14769 2835235 37202 5654341 26749 7114 4203423 61897 7032291 1867 6565209 50122 102848 13629 57757 3817576 7113 21806 14687 7112 7325330 18835 709 1300 166 9959 176',\n",
       "             3107: '709 176 2544 66969 55133 57342 36242 14630 5469728 68465 72006 39489 6131 9901 7324996 9425 10115 65349 3302524 66252 5479493 18017 4275840 4141721 50218 18015 25987 17009 18013 13411 91183 4141788 58782 3817552 5075401 25560 38677 38731 6748738 67187 94227 38676 200871 2833534 5479848 13424 5061275 3584675 16594 7017',\n",
       "             3146: '709 49911 7397 5469728 2519 66949 104 7324996 478 94333 67408 661 57252 24827 5187 14838 10265 6951 5045001 21450 37061 26222 7373 84319 4235874 58030 45615 39560 50026 3302554 50235 27471 20072 64675 5074584 105435 6375429 21999 18439 6748562 15704 95430 29669 1005 9397 5061275 76866 4592700 9943 60891',\n",
       "             3182: '2542 2561 2541 2560 14478 2833445 22960 71620 64637 709 158 1300 166 9959 176 39590 5657365 2586485 2146 23499 180 177 2544 165 8547 66893 13344338 10016 2597 67694 21904 3497419 20499 5217 10095 285 10015 9593 17314 2137 14564 7401 9152094 100 49911 2165 170 66966 9842 66969',\n",
       "             3191: '2544 2597 2601 5051544 5046277 94863 4500 16647 102521 4275535 5046105 7048058 7048052 709 158 1300 166 9959 176 39590 5657365 2586485 2146 23499 180 177 165 8547 66893 13344338 10016 67694 21904 3497419 20499 5217 10095 285 10015 9593 17314 2137 14564 7401 9152094 100 49911 2165 170 66966',\n",
       "             3240: '4205075 15413 709 158 1300 166 9959 176 39590 5657365 2586485 2146 23499 180 177 2544 165 8547 66893 13344338 10016 2597 67694 21904 3497419 20499 5217 10095 285 10015 9593 17314 2137 14564 7401 9152094 100 49911 2165 170 66966 9842 66969 224 59980 55133 66967 96161 7000939 159',\n",
       "             3263: '709 180 17314 55133 9979 36242 14630 5469728 55140 67693 63072 10049 52657 67407 20276 3497570 100789 45584 57292 6369 57290 3817542 6370 5045301 66962 24827 46887 55151 29553 3821899 76476 10265 72283 1820 1037 4440 45585 39692 85879 13550019 58030 2834432 39560 9760 72281 6003928 7387363 95805 58958 806',\n",
       "             3268: '62866 201749 709 158 1300 166 9959 176 39590 5657365 2586485 2146 23499 180 177 2544 165 8547 66893 13344338 10016 2597 67694 21904 3497419 20499 5217 10095 285 10015 9593 17314 2137 14564 7401 9152094 100 49911 2165 170 66966 9842 66969 224 59980 55133 66967 96161 7000939 159',\n",
       "             3457: '14770 22995 6565238 6565241 12517 167 105650 24433 7344353 31169 9140015 57039 82077 10523918 709 158 1300 166 9959 176 39590 5657365 2586485 2146 23499 180 177 2544 165 8547 66893 13344338 10016 2597 67694 21904 3497419 20499 5217 10095 285 10015 9593 17314 2137 14564 7401 9152094 100 49911',\n",
       "             3487: '709 104 10163 5187 3817544 5630647 158 1300 166 9959 176 39590 5657365 2586485 2146 23499 180 177 2544 165 8547 66893 13344338 10016 2597 67694 21904 3497419 20499 5217 10095 285 10015 9593 17314 2137 14564 7401 9152094 100 49911 2165 170 66966 9842 66969 224 59980 55133 66967',\n",
       "             3495: '37480 14754 22980 26224 94058 7342615 13412 20396 58175 5997095 36274 20274 110 20279 84486 709 158 1300 166 9959 176 39590 5657365 2586485 2146 23499 180 177 2544 165 8547 66893 13344338 10016 2597 67694 21904 3497419 20499 5217 10095 285 10015 9593 17314 2137 14564 7401 9152094 100',\n",
       "             3508: '1300 176 49911 24836 981 67693 1746 66915 45459 45256 66843 67242 95825 29556 5631 6640642 67701 78842 36059 66866 67292 59543 66865 63915 21144 69196 7060815 7048358 67522 30739 4724 67518 198645 18329 5081 36087 7342708 8303 17470 5074551 29552 84213 85627 4276771 69550 4276490 4277677 22361 22390 69248',\n",
       "             3510: '177 55133 14630 63072 5045302 5481691 5045301 38458 85879 31300 14749 1989 21111 5046683 105671 69530 69531 7033593 3566680 3083040 65212 2834236 7342450 47207 201904 94157 13746 5214756 4276003 709 158 1300 166 9959 176 39590 5657365 2586485 2146 23499 180 2544 165 8547 66893 13344338 10016 2597 67694 21904',\n",
       "             3568: '94125 76876 461 46971 6003852 3832659 38053 9652 99554 3845855 82498 7396842 60302 709 158 1300 166 9959 176 39590 5657365 2586485 2146 23499 180 177 2544 165 8547 66893 13344338 10016 2597 67694 21904 3497419 20499 5217 10095 285 10015 9593 17314 2137 14564 7401 9152094 100 49911 2165',\n",
       "             3578: '4033462 2553 4033455 2562 6565165 71775 69011 2625 67377 76417 66962 6692261 4033458 15517 60147 2046 71769 19987 6692257 19986 3818498 10163 66893 6827369 4033636 69669 45459 5481691 5073443 22035 166 5629963 2575 7000939 7048557 5476137 71559 20276 71546 2834444 45584 20553 45929 85823 4276421 76410 14833 6692017 1598 85873',\n",
       "             3591: '39590 5217 981 104 5154 92368 76851 709 158 1300 166 9959 176 5657365 2586485 2146 23499 180 177 2544 165 8547 66893 13344338 10016 2597 67694 21904 3497419 20499 10095 285 10015 9593 17314 2137 14564 7401 9152094 100 49911 2165 170 66966 9842 66969 224 59980 55133 66967',\n",
       "             3634: '61155 77059 6693327 5045826 5045825 3861870 76631 5045192 709 158 1300 166 9959 176 39590 5657365 2586485 2146 23499 180 177 2544 165 8547 66893 13344338 10016 2597 67694 21904 3497419 20499 5217 10095 285 10015 9593 17314 2137 14564 7401 9152094 100 49911 2165 170 66966 9842 66969 224',\n",
       "             3674: '14462 2834960 60230 18450 4033509 39548 6591160 5657399 196 83974 45457 45435 83964 55152 23878 20934 5214742 75006 5190 4235874 56929 5180 4889 2833991 2834972 9961 45567 3817484 54756 22035 9387 7373 6005155 31300 36913 6749974 4275011 5481726 19479 7739 821 94333 66883 72094 4444 38458 55140 73690 4443 10163',\n",
       "             3776: '39590 104 31300 1764 64834 5051543 4979 29547 5081 6318 5217347 6003991 5051542 21749 882 7342416 824 2834941 5044776 65598 709 158 1300 166 9959 176 5657365 2586485 2146 23499 180 177 2544 165 8547 66893 13344338 10016 2597 67694 21904 3497419 20499 5217 10095 285 10015 9593 17314 2137',\n",
       "             3788: '709 180 5469728 78672 1747 2325 3302524 2272 2324 39692 4235874 85879 4443 5180 17685 5051493 24839 6784393 36059 5179 73570 2268 100345 85433 18750 19482 69816 64257 4033787 5261 6784583 15096 50408 5189 1928 67300 50109 92322 5214779 4831370 4592726 78308 6749931 61354 64040 6695883 59733 26098 21917 5470971',\n",
       "             3802: '39726 67212 67214 44787 44788 27815 5047346 14967 3817544 64607 14931 14949 54916 199694 12668 13272 13273 25577 6190 7048284 64592 709 158 1300 166 9959 176 39590 5657365 2586485 2146 23499 180 177 2544 165 8547 66893 13344338 10016 2597 67694 21904 3497419 20499 5217 10095 285 10015 9593',\n",
       "             3826: '9501 9932 2833784 5481688 4274952 14465 9916 4276239 20408 14613 4276320 4274968 458 4274954 6005128 69418 4274951 20462 5073685 5073416 6388155 39629 4274933 6565232 7325400 5469726 709 158 1300 166 9959 176 39590 5657365 2586485 2146 23499 180 177 2544 165 8547 66893 13344338 10016 2597 67694 21904 3497419 20499',\n",
       "             3845: '5074731 7056118 17555 17557 17535 3601878 5062245 709 158 1300 166 9959 176 39590 5657365 2586485 2146 23499 180 177 2544 165 8547 66893 13344338 10016 2597 67694 21904 3497419 20499 5217 10095 285 10015 9593 17314 2137 14564 7401 9152094 100 49911 2165 170 66966 9842 66969 224 59980',\n",
       "             3978: '709 2544 5217 285 17314 9152094 159 52657 67407 13075 13073 288 13074 57280 3818446 67499 487 76876 6371189 9500 661 4276526 19562 63034 45458 57170 10265 18201 22107 22108 96253 18659 26688 13487 84240 58010 455 84318 3883053 3571077 72281 24840 4275840 6749605 6003575 86719 59920 7511 471 6717',\n",
       "             3999: '21904 57342 5469728 2558 69669 5642 5182 80460 5214 46015 72154 10196 24845 455 26763 8550 4517 36593 4275765 3302554 5650 62826 1267 44788 6210228 61045 38931 27471 9416 57608 2303 27472 16825 13478 3569885 1509 25639 10169 21653 90535 5997186 20766 39639 5481616 4274953 21588 12848 10061 102569 58839',\n",
       "             4018: '176 14564 49911 981 69669 24831 10049 52657 24851 2575 5182 3817489 9425 5178 3302557 95736 57170 2272 2324 174 84318 107 37368 6749605 5177 9808 20567 5481726 72473 6621 3851061 94653 3096235 3569076 26223 62448 1005 6607608 12732 6607606 98039 6607607 167 47064 10062 4592950 85341 6607609 5488906 5051530',\n",
       "             4025: '176 10095 59980 55133 57342 3817484 55140 63072 100849 72875 5469736 3497570 100789 37480 72006 6005364 3817542 2305 3817489 5178 9590 3817507 55130 100812 37481 105764 58812 15145 72283 91095 69553 7015896 9760 4517 2304 6003958 198510 6005363 64174 4033455 61490 26086 37292 2303 4276620 37405 10120 9757 4141329 9699',\n",
       "             4050: '158 9959 176 5217 3817484 5469736 45457 95835 18720 38679 6749597 17033 5469882 22977 85608 5654340 87886 1820 26631 5186 6003958 18398 93798 10182 5061260 76867 452 16044 9222920 74716 6561 6019 6696245 58962 36362 86148 24466 101136 38199 6696244 79370 14453 5600 58709 93711 3571479 960 15988 16993 3566680',\n",
       "             4051: '5217 27745 7410 26222 7027 7028 24849 101142 26223 94058 4203075 39628 69014 30291 101316 26402 6003850 58202 7061935 3583088 5481759 6565232 90108 5063129 6697267 58726 6697275 58787 20331 98352 709 158 1300 166 9959 176 39590 5657365 2586485 2146 23499 180 177 2544 165 8547 66893 13344338 10016 2597',\n",
       "             4055: '72796 65641 25842 72790 25843 67241 201809 292 9645 285 25841 5045404 61687 74849 65526 287 8697 9690 6003575 72795 286 86832 3045838 1746 59168 49915 3060634 3082637 45283 61464 90932 67590 45456 2566477 24839 158 26095 64176 24831 266 199359 3039841 455 95961 14264 74368 45591 8104 57711 24485',\n",
       "             4111: '93667 1289 1534 83973 26232 82045 82182 709 158 1300 166 9959 176 39590 5657365 2586485 2146 23499 180 177 2544 165 8547 66893 13344338 10016 2597 67694 21904 3497419 20499 5217 10095 285 10015 9593 17314 2137 14564 7401 9152094 100 49911 2165 170 66966 9842 66969 224 59980',\n",
       "             4139: '96223 27471 96237 30366 30365 63731 26734 93893 65388 709 158 1300 166 9959 176 39590 5657365 2586485 2146 23499 180 177 2544 165 8547 66893 13344338 10016 2597 67694 21904 3497419 20499 5217 10095 285 10015 9593 17314 2137 14564 7401 9152094 100 49911 2165 170 66966 9842 66969',\n",
       "             4168: '2324 6368465 37458 20100 59441 50466 84006 50220 70204 51514 6771170 102779 7107022 201194 709 158 1300 166 9959 176 39590 5657365 2586485 2146 23499 180 177 2544 165 8547 66893 13344338 10016 2597 67694 21904 3497419 20499 5217 10095 285 10015 9593 17314 2137 14564 7401 9152094 100 49911',\n",
       "             4180: '5993768 1498154 66964 79213 7324104 5479412 7061899 6693335 6693337 66957 7324877 7324469 7413258 50219 7034641 38309 7323300 5481318 7323291 45459 7323159 44866 45437 15099 5051160 61303 6210173 7365572 67611 6210174 75316 75602 75317 75315 3593095 75318 5061139 24943 7043593 7043596 75321 5061197 74139 7323246 7323117 7323150 45460 24692 7323145 7323086',\n",
       "             4238: '180 55133 69669 5178 5481680 5481691 60107 5070 198493 6748738 592 7342761 73512 6748729 2564084 10153 10151 104554 709 158 1300 166 9959 176 39590 5657365 2586485 2146 23499 177 2544 165 8547 66893 13344338 10016 2597 67694 21904 3497419 20499 5217 10095 285 10015 9593 17314 2137 14564 7401',\n",
       "             4240: '709 2597 225 3817484 2558 69669 72006 96208 2635 5468823 2525 3302557 5479931 69015 57170 5479493 4830912 5654340 60278 39666 584 61102 14474 66958 62826 5177 13349 37167 64045 6952 26159 20071 69373 4033787 61582 66845 63872 61065 5051544 55095 84364 5214960 39447 8280 57057 58836 15535 5483287 7325302 95671',\n",
       "             4245: '57174 2542 4033648 24843 26314 2572 8473 14853 24839 58715 7107295 2835084 6786 7061990 7107299 57807 5072864 709 158 1300 166 9959 176 39590 5657365 2586485 2146 23499 180 177 2544 165 8547 66893 13344338 10016 2597 67694 21904 3497419 20499 5217 10095 285 10015 9593 17314 2137 14564 7401',\n",
       "             4302: '2544 10016 67694 4592908 407 13560 66959 3883053 14853 9881 22976 3497519 44802 58783 75009 3599479 4592907 22912 64108 5479916 7036247 12781 79943 72828 52546 5060427 7328937 3497593 92347 3497418 10010 6756940 4529 36764 6770108 7034872 30273 67376 15064 97945 3083039 23150 5060419 1946433 7034449 7323117 71644 7323145 3083038 95698',\n",
       "             4345: '12343 20062 198667 7056215 9690 25842 9626 9645 65641 25844 5060686 55128 6756967 9127348 4275725 14828 6768284 660 945 7030673 6756959 22043 10095 38581 649 78766 5060710 5060687 96245 5217 80983 12333 57630 80605 7036226 91587 10120 3497419 3817591 9254892 54728 7106587 92418 21202 5074676 5045328 13211 6756954 7517 7519',\n",
       "             4348: '21767 3497570 3497505 3497463 21440 17145 21813 25516 20567 3821458 6368482 67124 3497447 27828 39761 26172 39751 4205474 7034515 61683 60377 60028 6770256 7034517 44756 5060423 3847867 6696960 60059 7034558 61544 78667 6771171 6771005 3847061 61109 7030793 709 158 1300 166 9959 176 39590 5657365 2586485 2146 23499 180 177',\n",
       "             4379: '10095 5469728 100849 9950 3817512 3302557 5479931 50 5479493 5479853 3048672 39796 14465 44787 13793 143 93798 64174 61490 77152 5047346 5997200 64224 3817488 5261 23 45159 51 58709 198629 5260 5046350 94407 6974 16567 7053 5481309 17055 6371332 15232 17108 5062439 53090 6861 12005 89976 93271 5044601 3559099 80383',\n",
       "             4403: '7401 3817484 182 69669 3817512 201891 3817489 94333 5481691 7495 3302557 64213 14572 72283 91095 78247 2834432 107 14624 3302554 26197 471 4277747 17024 91183 8866 14434 2834444 22283 20330 5074392 5073440 3848269 14041 93794 92123 14617 57891 71359 90108 30789 5476740 7071980 65291 14604 709 158 1300 166 9959',\n",
       "             4411: '8723 5473480 5651519 26833 49818 80456 67409 1565 3068634 6607564 23882 4203124 7062083 97946 85 24866 1039 8136 22965 20119 59820 7500 13932 1300 14003 57372 9793 64712 79078 105473 104701 5214959 6375474 37260 104768 36502 6607563 6210209 67399 10120 5479493 100849 79084 20275 254 6748563 16660 50482 10169 49923',\n",
       "             4419: '5073475 67208 5469643 5073506 39590 15072 15079 15096 104 5217265 2833873 981 2833870 29588 84492 39665 201892 5469687 8031812 64750 69475 7339411 30361 66894 6694912 70449 29587 64121 26200 26296 70874 63900 36532 89640 91384 8335 9679 85433 10071 102847 77094 20297 200957 76997 5047516 9916 6695454 66788 5044290 5488904',\n",
       "             4434: '177 36242 64712 60179 27471 26299 27472 62939 6618 27474 4507 30789 10175 58726 58729 15284 3561078 709 158 1300 166 9959 176 39590 5657365 2586485 2146 23499 180 2544 165 8547 66893 13344338 10016 2597 67694 21904 3497419 20499 5217 10095 285 10015 9593 17314 2137 14564 7401 9152094',\n",
       "             4448: '14564 24836 71404 78643 24835 6805305 77099 5074230 15215 7014915 13484 67503 38116 24834 75393 36423 77072 72100 6782763 28077 54397 6782780 46270 30188 75068 30232 6691943 70235 6693306 6747223 68485 6749502 56555 85725 16338 6565290 24990 5047198 24888 24969 3858299 7323811 29814 67521 67227 29767 29735 6748035 29749 75054',\n",
       "             4450: '158 10095 9152094 49911 222 67693 24831 72875 20276 96306 54728 6369 95835 67499 6370 202196 26333 67199 5481688 66088 93684 9970 67212 96217 6365 95825 55266 15986 6003852 13117 6375454 2834359 48322 17133 23138 26632 1159933 13112 16019 21879 67026 201311 100449 14754 90073 21869 1914830 5051544 94112 247',\n",
       "             4487: '981 55140 36067 9867 3497570 72003 13302 7036235 5182 45459 399 18677 3497463 39726 14506 78821 5257 1787 72929 85680 68347 7036239 71432 3497432 8550 6640642 5045462 3497450 85679 67701 22976 3497519 65483 152 95601 36269 3497423 3497347 7313793 3497348 6756975 198139 7043350 15148 3497492 58962 9652 85606 64834 37211',\n",
       "             4530: '69669 63780 72006 5046645 3817507 92418 96437 91095 6390644 452 58920 24849 38730 67126 2603 198630 7015770 36945 58202 45568 61899 3818537 29612 5481767 10202 5481759 14437 22260 58158 5217272 4705 14715 20027 7325151 96371 5046029 709 158 1300 166 9959 176 39590 5657365 2586485 2146 23499 180 177 2544',\n",
       "             4572: '3817484 72006 5479511 304 64273 13757 5256 91682 64676 64713 93895 87996 99824 5471492 15650 15649 3595473 13443 4277603 709 158 1300 166 9959 176 39590 5657365 2586485 2146 23499 180 177 2544 165 8547 66893 13344338 10016 2597 67694 21904 3497419 20499 5217 10095 285 10015 9593 17314 2137',\n",
       "             4626: '39589 7391 14572 68347 26763 26140 892 74849 3594675 7044047 7044046 7340030 75382 7044043 7044045 101117 7043642 7044044 20352 105481 14412 87534 3096229 7043710 201171 3048662 89565 7324054 5060765 7034495 3828260 4203025 7365572 6770830 4211476 64643 3856658 7414752 60907 709 158 1300 166 9959 176 39590 5657365 2586485 2146 23499',\n",
       "             4653: '24775 7324996 64099 5471575 58782 27415 6696245 6388062 30337 7766 67050 8353 709 158 1300 166 9959 176 39590 5657365 2586485 2146 23499 180 177 2544 165 8547 66893 13344338 10016 2597 67694 21904 3497419 20499 5217 10095 285 10015 9593 17314 2137 14564 7401 9152094 100 49911 2165 170',\n",
       "             4676: '39590 21904 49911 224 225 15593 69669 39589 75924 45457 67326 96223 45459 10163 181 3302557 19562 20295 5479493 7021 69372 96409 67027 84319 22161 37368 18398 5634 17024 57319 79376 21446 94054 4689 44848 4276320 58149 102370 49923 58962 14479 10169 29607 26223 65807 65628 37377 64676 5481252 7062199',\n",
       "             4700: '16295 6565249 69937 5214861 5214862 65525 85252 95547 5481745 86832 66258 7325312 38481 5217 5488990 57882 15517 1775 3570287 4276770 5076176 17260 3818787 63072 91786 74610 29658 89679 4203123 60105 5481263 74623 74621 182 7062074 57852 9990 5061244 90256 3818565 7062072 84039 5044296 66867 13147 5657553 7062075 5993842 4274945 36423',\n",
       "             4708: '54728 24869 100813 96173 58080 57809 4276595 37384 6749958 3820661 103092 5476550 84097 7342604 58683 3819484 6607565 5214925 5061313 98407 709 158 1300 166 9959 176 39590 5657365 2586485 2146 23499 180 177 2544 165 8547 66893 13344338 10016 2597 67694 21904 3497419 20499 5217 10095 285 10015 9593 17314',\n",
       "             4735: '23519 5629939 13982 4203443 23521 18424 101136 101138 37419 72924 22980 49911 2835223 21827 39565 13978 54305 57950 14478 1187 60179 89747 64800 22979 3583073 6770004 66815 9720 71386 7015769 10291 59820 47070 5060634 709 158 1300 166 9959 176 39590 5657365 2586485 2146 23499 180 177 2544 165 8547',\n",
       "             4862: '17314 478 14838 1987 26631 457 26296 20408 4523 59820 90227 17286 2833535 61625 200439 397 16987 77047 6291 7326741 105473 50164 618 64009 31490 200840 82210 5016 6607560 57451 5471269 709 158 1300 166 9959 176 39590 5657365 2586485 2146 23499 180 177 2544 165 8547 66893 13344338 10016',\n",
       "             4893: '5217 17314 100 225 9979 69669 63072 10049 57291 20276 13191 14264 95961 57292 4275036 77405 57290 95835 71049 60116 304 5046645 69219 60105 5481688 59460 14248 136 5074363 6337 24827 67420 55151 6346 66843 57198 86111 13333 17699 240 86112 87886 63646 50258 3562687 7342765 5488904 86113 4274952 36593',\n",
       "             4918: '5474376 37484 2634 9908 58861 44866 4274953 6749978 5214888 7048 6622 4274957 16557 4274958 3068634 6697379 6697380 6770821 6749935 4274946 57082 96298 4276445 4274950 5477794 5046291 25735 709 158 1300 166 9959 176 39590 5657365 2586485 2146 23499 180 177 2544 165 8547 66893 13344338 10016 2597 67694 21904 3497419',\n",
       "             4947: '9152094 9979 14264 6347 3817542 288 10163 6337 19562 6346 14681 2272 63843 77152 10186 2566477 18421 21999 13322 2833709 5663 3564281 5479848 1230 37367 36827 102716 3302555 101096 3817485 22192 4592726 7004533 13826 5470977 90707 57922 5639 57399 823 12799 2017 1661 55268 5657372 13331 37259 5217348 709 158',\n",
       "             4984: '709 166 67694 478 487 5649 63034 455 66703 76429 3569885 26141 2599279 44866 5673 5045983 26743 144 92527 2600496 1289 4592672 86743 5051517 5045564 5046161 5097 20307 6640645 5479379 4033559 20256 5993736 69340 9384 5046162 158 1300 9959 176 39590 5657365 2586485 2146 23499 180 177 2544 165 8547',\n",
       "             4987: '5074437 44247 407 5074436 14590 5469728 63057 9654 3594675 7342221 94400 4831055 50397 17653 17649 17647 25836 4830911 50529 64174 38488 105650 3302524 7313790 31364 6003958 4141783 13982 651 4471 58204 38809 15426 6749603 9803 7342625 4277726 26590 3817484 981 39779 13333 59672 16665 15593 15975 16908 18757 14280 14281',\n",
       "             4990: '158 176 159 3817484 69669 52657 20276 64712 9425 15441 5178 17761 5187 58812 62826 37167 263 20059 2098 39771 58080 37539 71183 85 5189 37190 231 6677963 14385 15914 5209297 65250 709 1300 166 9959 39590 5657365 2586485 2146 23499 180 177 2544 165 8547 66893 13344338 10016 2597',\n",
       "             5007: '58715 61639 100102 3849456 5060614 981 100796 67035 196891 5060543 4592908 100785 5060429 4277484 5060560 72326 196890 24486 15395 201983 7328937 96117 103931 106292 37052 57198 3497330 3820658 8022591 5074716 7042870 7043561 5214768 5060542 5074715 3052228 25514 9127347 57329 94423 100823 5473444 3863897 63461 3497505 1242 3051037 7032143 7032311 7031119',\n",
       "             5012: '2600083 7043713 6390643 24402 67030 3052258 3863895 7043360 3821887 76827 3824658 6824617 3863890 3863887 7034621 7034501 3863901 7042989 3832658 7043616 7032127 709 158 1300 166 9959 176 39590 5657365 2586485 2146 23499 180 177 2544 165 8547 66893 13344338 10016 2597 67694 21904 3497419 20499 5217 10095 285 10015 9593',\n",
       "             5045: '166 10016 14338 104 478 58082 5479493 69372 2599278 1037 14339 36593 21308 72094 2326 650 5183 4831045 651 20298 66795 200877 5061800 57028 6930 12732 4141333 5481325 8179 1193 38349 145 14509 196930 64821 9444 64215 95738 13932 3817735 882 14183 13937 9637 15325 3079837 88420 199610 124 87916',\n",
       "             5055: '1300 49911 981 26184 96212 1746 96205 58812 96409 7979 26222 20062 6210170 57517 15543 38362 83944 64800 85433 14345 86825 22979 9780 13824 2205 5483119 5481731 5470923 5483118 25174 37241 6678029 49933 95779 96279 2206 4141702 75436 4276223 7325182 5045563 5474224 57515 4141818 4274891 19034 709 158 166 9959',\n",
       "             5063: '39590 177 7401 39591 39589 63780 24775 9496 60413 24866 202196 60422 7391 4202912 24827 2320 58004 6352 64176 26314 198044 68347 2834045 63295 9936 5217354 38036 64069 9911 49818 3565884 3854295 6677992 6717 99816 57988 5062860 63815 18713 6824042 18710 1159911 37128 6882 57246 85433 6210224 57863 6410 36872',\n",
       "             5073: '158 176 10016 71404 24852 63780 14337 130 39726 10198 13487 10182 100372 36257 39569 6410 57248 89704 21441 7735 2834722 26749 10212 7766 66900 6591109 5481769 10206 14993 5657394 4033769 16687 198514 5997163 88282 709 1300 166 9959 39590 5657365 2586485 2146 23499 180 177 2544 165 8547 66893',\n",
       "             5085: '8547 58170 38679 67499 58004 67213 14681 69250 5470939 57988 13666 65297 1830 64057 76469 36105 3565897 709 158 1300 166 9959 176 39590 5657365 2586485 2146 23499 180 177 2544 165 66893 13344338 10016 2597 67694 21904 3497419 20499 5217 10095 285 10015 9593 17314 2137 14564 7401 9152094',\n",
       "             5118: '21904 3497419 39591 222 45457 45459 60116 202196 1990 21545 102 60119 90518 72154 5657403 21827 3497521 7036182 50218 3497403 3497535 72196 3497457 57612 90558 4276410 216 25560 96348 215 7043785 3497585 59633 3497416 53075 6756959 5215451 3497484 6771056 4937 36927 7068 36961 7106587 17212 51475 3497601 8016753 17055 70048',\n",
       "             5178: '14770 5072 36280 158 4033497 9152094 10019 9950 102 18450 69372 67407 72154 45457 4033459 3865479 39591 9496 709 9979 4033676 57934 37377 18931 4275808 5657404 63638 7064842 67326 27267 199352 57523 50018 130 14836 2600083 63815 21654 22035 102860 58709 1300 25717 58795 105547 57252 91897 57205 8269 39604',\n",
       "             5182: '4226677 39796 7016385 944 15395 709 158 1300 166 9959 176 39590 5657365 2586485 2146 23499 180 177 2544 165 8547 66893 13344338 10016 2597 67694 21904 3497419 20499 5217 10095 285 10015 9593 17314 2137 14564 7401 9152094 100 49911 2165 170 66966 9842 66969 224 59980 55133 66967',\n",
       "             5184: '5642 37212 38717 45435 2833991 410 70857 63704 72310 4203376 90228 57563 17769 7387406 37222 20323 5651529 5651528 2834430 7313812 7342749 5062935 709 158 1300 166 9959 176 39590 5657365 2586485 2146 23499 180 177 2544 165 8547 66893 13344338 10016 2597 67694 21904 3497419 20499 5217 10095 285 10015',\n",
       "             5260: '64099 14386 5651487 61812 709 158 1300 166 9959 176 39590 5657365 2586485 2146 23499 180 177 2544 165 8547 66893 13344338 10016 2597 67694 21904 3497419 20499 5217 10095 285 10015 9593 17314 2137 14564 7401 9152094 100 49911 2165 170 66966 9842 66969 224 59980 55133 66967 96161',\n",
       "             5281: '3817542 7048379 709 158 1300 166 9959 176 39590 5657365 2586485 2146 23499 180 177 2544 165 8547 66893 13344338 10016 2597 67694 21904 3497419 20499 5217 10095 285 10015 9593 17314 2137 14564 7401 9152094 100 49911 2165 170 66966 9842 66969 224 59980 55133 66967 96161 7000939 159',\n",
       "             5304: '709 3497419 55134 63072 72875 3497570 77094 2600083 3497505 78672 96205 75676 1786 130 3302557 46015 63295 20414 5063007 78247 39666 65525 9760 26313 67272 7036182 21308 5256 14632 3497502 7342762 51355 5997200 7054384 5051521 655 96326 66879 17195 5060611 21202 3497416 76984 5051436 28067 10068 3497601 50109 67520 13564',\n",
       "             5395: '709 10095 55133 55134 3817484 63072 10049 100849 72006 39725 5481688 37395 36484 95359 5478983 100812 5469788 96409 65525 7024300 57517 77668 2269 24838 24837 8309 5479078 65526 96237 20819 27925 6977 22969 30371 3817530 5074223 5469730 84272 64804 84000 29713 24428 5481731 4141719 14007 5061185 8131 3557474 5476550 10202',\n",
       "             5402: '68323 21511 21503 4240674 78177 5214793 18017 36191 5075782 16731 6375427 6368482 7341997 103142 21620 7048764 20755 5044697 93940 36083 65195 1278 95801 7108811 14943 48227 5063208 38049 20800 709 158 1300 166 9959 176 39590 5657365 2586485 2146 23499 180 177 2544 165 8547 66893 13344338 10016 2597 67694',\n",
       "             5459: '39589 3497570 3497505 4275810 46966 70257 13481 46971 3497521 59813 72084 5479811 3850654 3497585 6391 4277735 45557 3067435 3059031 200041 4236275 4205075 15258 3053877 3082235 52917 7043749 71131 3031095 6770196 7048807 91040 72710 59542 7043792 67995 7043769 7043330 5060721 3031066 7043757 7365594 4275420 7029962 709 158 1300 166 9959 176',\n",
       "             5463: '709 10095 55134 3817484 5469728 5074620 69669 63072 3497570 61 6005364 201891 2601 10163 73690 3817489 60 73 55130 92418 50 57196 10198 10265 5469882 4830912 5469788 15145 55128 37061 13481 55266 91095 37368 92368 62826 50260 200939 26197 20273 4033668 3817547 2589315 7030140 7071972 5047346 4276620 5481314 37364 198493',\n",
       "             5570: '709 1300 177 5217 55133 30361 55140 24852 69669 63072 27745 14466 9867 9645 25843 3817542 201891 5046645 7036228 5481691 25848 4141754 30247 17761 9620 157 96409 8717 5654340 75006 9626 8716 38036 91095 78247 39660 8718 9602 7042851 95805 65179 5046281 58137 9592 4592981 96237 26296 66866 17560 24849',\n",
       "             5580: '59980 57174 72155 16825 8353 5062967 5469251 24360 27892 91943 709 158 1300 166 9959 176 39590 5657365 2586485 2146 23499 180 177 2544 165 8547 66893 13344338 10016 2597 67694 21904 3497419 20499 5217 10095 285 10015 9593 17314 2137 14564 7401 9152094 100 49911 2165 170 66966 9842',\n",
       "             5607: '709 1300 45584 24851 399 7092 3302557 39726 3865881 5479493 4276378 27571 96439 5217354 3817487 30368 5631 59908 3302554 26197 26200 100446 688 3577475 5659264 66703 38464 3577474 5488888 4203124 66845 17324 27572 38227 26072 4276177 6210211 6210221 38226 5045 20783 7068 5062444 84363 28055 58307 14348 28 6895 2834881',\n",
       "             5611: '39590 10016 3497419 14630 55140 18887 31277 3497570 6347 73492 5045302 7036235 45457 3497505 57251 14469 60114 478 138 5045301 487 46800 14583 7036241 21503 57199 56899 46966 5074363 6345 10189 6340 6329 2833643 1037 6343 71432 3497432 84318 2834432 4275765 3497450 14404 3497519 57865 85607 70697 65179 4033502 14827',\n",
       "             5625: '709 158 55133 55134 9979 55140 15593 14264 5045302 95961 7324996 39725 94333 5045301 5481688 65349 5074363 6345 3302524 92418 57205 55151 6340 7410 5479493 13333 46971 7342765 39796 86113 3571077 15997 50260 24837 5074498 7016402 94054 6342 37457 67187 5694 70857 56935 96429 8126 4203420 7004212 5479466 7004208 26769',\n",
       "             5703: '74649 23004 5060933 3063044 58766 27986 99556 7328905 3086230 709 158 1300 166 9959 176 39590 5657365 2586485 2146 23499 180 177 2544 165 8547 66893 13344338 10016 2597 67694 21904 3497419 20499 5217 10095 285 10015 9593 17314 2137 14564 7401 9152094 100 49911 2165 170 66966 9842 66969',\n",
       "             5885: '7401 26621 4444 4426 39790 38532 3048648 3048644 88103 22911 88215 88889 3302760 201477 88538 88839 88846 88585 3817881 3817701 89027 88199 88234 88729 88734 7408794 4274715 88154 201484 88288 88289 709 158 1300 166 9959 176 39590 5657365 2586485 2146 23499 180 177 2544 165 8547 66893 13344338 10016',\n",
       "             5899: '176 14564 3497570 67281 22035 399 13757 4226677 26763 21308 22547 92109 4276192 4141320 37211 5061800 58839 49924 79410 65025 4033825 7014228 4593007 36453 9444 5046161 22061 96117 3819516 7061937 100102 5060576 3080628 37255 709 158 1300 166 9959 39590 5657365 2586485 2146 23499 180 177 2544 165 8547 66893',\n",
       "             5902: '9152094 222 69669 52657 5469736 3817529 55130 37481 10265 6343 5180 142 6717 99 5183 6621 44771 19299 7062136 44765 3818399 15258 5063043 5578 49937 4831397 49935 15041 57344 6986 6784589 49936 97 36994 68540 5541 709 158 1300 166 9959 176 39590 5657365 2586485 2146 23499 180 177 2544',\n",
       "             6006: '24836 1747 5481691 3817507 92418 55151 55266 5070 76429 5470926 4141783 28077 9122128 15241 3601486 59614 5051537 13692 5061095 4277616 5072251 5072245 709 158 1300 166 9959 176 39590 5657365 2586485 2146 23499 180 177 2544 165 8547 66893 13344338 10016 2597 67694 21904 3497419 20499 5217 10095 285 10015',\n",
       "             6017: '24852 10049 2600 96223 19562 67031 45924 5074500 80869 96334 200877 3818400 13669 4141489 23894 20788 2835008 709 158 1300 166 9959 176 39590 5657365 2586485 2146 23499 180 177 2544 165 8547 66893 13344338 10016 2597 67694 21904 3497419 20499 5217 10095 285 10015 9593 17314 2137 14564 7401',\n",
       "             6029: '709 39591 27745 13029 7004207 50260 5073753 57558 7032787 57566 6749598 5997200 25385 58966 199380 3082645 96429 100901 61225 2622077 59404 16829 57423 84126 4276233 5051529 37349 3569493 18287 25642 18983 199796 199798 7439722 7054932 69113 54305 7044085 5860 2833452 6003925 5481215 158 1300 166 9959 176 39590 5657365 2586485',\n",
       "             6049: '10033 2520 7342762 5217060 5629937 22035 6210221 170 29619 5046282 5479797 9501 4275056 14469 198543 60278 55134 5469728 6005364 709 4277441 6694783 19482 5074659 18398 5631 67240 74633 100345 247 57174 93684 5062459 2573 14853 14657 69553 236 58947 39725 77038 7004187 9500 23560 100789 3817544 63876 2600 4276178 5074548',\n",
       "             6060: '36266 36269 3818446 36265 4276462 4033743 4592908 5061792 6785165 709 86194 5479511 57056 36267 38712 9679 21438 165 55133 981 45496 10128 49944 9673 36902 12781 78238 5190 36483 27873 24341 5218 81207 38654 64804 5481726 13944 100812 14145 158 1300 166 9959 176 39590 5657365 2586485 2146 23499 180',\n",
       "             6102: '39590 159 5469728 222 69669 100789 3817507 2518 105764 3302554 36269 6368557 2589314 2599279 12732 4141333 4830973 95465 811 5479544 9431 10151 65006 7062736 18716 709 158 1300 166 9959 176 5657365 2586485 2146 23499 180 177 2544 165 8547 66893 13344338 10016 2597 67694 21904 3497419 20499 5217 10095',\n",
       "             6105: '709 2586485 30361 27745 45457 5642 6131 2601 10163 57624 7391 26338 8273 8282 5650 12817 30161 58783 5076176 1504 36509 29988 5061278 21652 6388062 90073 57985 93940 67019 3819127 14931 45560 36085 15925 6749978 27677 102807 4033676 7325193 28042 58832 17356 8093 3583481 57886 5036523 7071562 15937 7071564 7062203',\n",
       "             6175: '9959 4275033 21895 36266 64713 7325384 709 158 1300 166 176 39590 5657365 2586485 2146 23499 180 177 2544 165 8547 66893 13344338 10016 2597 67694 21904 3497419 20499 5217 10095 285 10015 9593 17314 2137 14564 7401 9152094 100 49911 2165 170 66966 9842 66969 224 59980 55133 66967',\n",
       "             6194: '24831 24842 4202912 57170 24845 102868 61015 5074655 8305 30188 3557474 8304 22581 57857 3593099 7681 7361 65575 7513 68455 27382 6145122 709 158 1300 166 9959 176 39590 5657365 2586485 2146 23499 180 177 2544 165 8547 66893 13344338 10016 2597 67694 21904 3497419 20499 5217 10095 285 10015',\n",
       "             6336: '72466 1989 14474 14153 6387963 96219 20056 2561 22626 5062447 39723 23520 1987 26072 49915 14465 11994 9495 5469736 1176 5469882 55128 22994 709 45558 14630 10095 3817489 22982 4831174 5639 54728 13070 60888 9814 38853 9837 487 8187 13323 3096235 3302524 6005363 6005364 26159 9757 85 71620 981 36826',\n",
       "             6395: '14866 69020 37344 9986 709 39796 6564722 85680 5797478 80 91786 3302523 100411 13826 69553 49921 5051537 100372 2600486 54728 5053 7342221 199801 100849 14862 36067 5797477 6749938 158 36362 60850 96182 14956 4517 2630481 92457 79376 74649 96293 14466 3583481 3817507 37369 27571 10198 7766 3571484 5481325 8282 89605',\n",
       "             6416: '7401 24273 2323 24843 93461 23119 66958 24839 8097 58782 84058 8104 2833535 44843 44867 3818700 9127313 64211 6953 196437 17498 3837859 7043366 7553 49236 61707 1841 6770006 709 158 1300 166 9959 176 39590 5657365 2586485 2146 23499 180 177 2544 165 8547 66893 13344338 10016 2597 67694 21904',\n",
       "             6449: '72027 2606081 14870 18677 172 12404 77258 159 13128 8547 7030140 57948 13129 5075959 3497330 7036229 166 15593 3497341 57033 26700 26296 20064 45607 19931 38812 19922 13121 7043480 7034805 20429 5060765 60515 7034782 55056 13073 13075 9961 13074 21111 56 26621 201614 15914 4517 12668 4275950 5474220 90194 69553',\n",
       "             6464: '158 46193 74849 14264 215 2600 6978 3058704 86490 57787 2304 15512 9979 76025 263 7107864 6375417 14630 16920 38686 90462 14564 39591 57578 3105030 64194 7000352 96173 2305 7048682 91972 869 67213 67499 180 6694821 24838 48315 24465 67214 30016 14294 7029517 23138 52657 7531 130 60028 3039045 5075751',\n",
       "             6466: '177 10095 7401 55133 55134 3817484 5469728 55140 69669 100849 14466 5469736 2600083 72006 3817512 6371 95835 4276286 73690 7324996 2833784 6370 202196 4276287 3302557 57033 55130 55151 25241 5469788 6697382 55266 91095 5063007 5488904 6210170 39796 18711 5476137 14824 57462 6003928 62826 5073714 5073752 4033458 5073753 17024 25248 6210171',\n",
       "             6496: '158 10016 14286 18720 69937 3302524 96161 14534 63072 5470864 5046548 58812 26631 6368538 709 5469728 6640642 59713 55133 5470835 18734 24842 57174 37126 4443 18733 49447 68465 6749958 6607599 18735 5470842 50548 13239570 100849 30361 5047387 14497 92368 64886 5047388 4830912 5217196 3302557 84319 38717 4276598 15094 61208 61897',\n",
       "             6503: '10049 45459 57624 26333 46800 19562 2834407 23138 29988 87887 7036223 7043785 5075343 1505754 13929 7034877 5060933 5062180 26339 103446 53315 9127335 74805 15235 59277 18108 7326862 6770698 5654319 887 6695864 60359 709 158 1300 166 9959 176 39590 5657365 2586485 2146 23499 180 177 2544 165 8547 66893 13344338',\n",
       "             6506: '55133 14630 69669 20276 2575 5481691 38458 4202912 20269 6003958 61016 7342674 37423 61046 61634 6677963 96184 79024 6210196 6785179 4592684 3818710 15427 4141729 5061736 4141730 7008742 21917 59260 709 158 1300 166 9959 176 39590 5657365 2586485 2146 23499 180 177 2544 165 8547 66893 13344338 10016 2597 67694',\n",
       "             6524: '18971 6691067 4141513 5062474 66855 14269 6784228 4276764 2833524 2833534 5217 158 15543 7108811 27770 68465 4592646 45591 45584 7399 96169 21511 5047144 5476180 21503 7048367 93552 10077 10081 29713 36483 58793 29588 7114 7048368 29586 6697382 5051521 5479876 9935 30247 14835 37455 104 63698 6762 1034 30361 5566938 5062991',\n",
       "             6562: '2525 3818442 5072 5076012 8195 26172 6785017 4276283 45600 1251 6559 911 65584 4141426 5063247 5477443 709 158 1300 166 9959 176 39590 5657365 2586485 2146 23499 180 177 2544 165 8547 66893 13344338 10016 2597 67694 21904 3497419 20499 5217 10095 285 10015 9593 17314 2137 14564 7401 9152094',\n",
       "             6711: '7401 30361 27745 5997136 50028 6640642 85607 26176 60123 15245 96185 58966 198139 95442 85606 26172 21438 57055 26149 4033710 4276596 8130 30339 5071871 39526 60005 3583481 83958 15682 24683 5993778 5062132 5153 5044266 58784 709 158 1300 166 9959 176 39590 5657365 2586485 2146 23499 180 177 2544 165',\n",
       "             6761: '709 49911 67407 95835 24866 9590 82738 64176 63640 25516 5481356 8309 2835413 10757 5214862 9410 2492 7015954 73850 57034 17256 68344 17290 7342489 76210 90591 6691482 6390495 5046243 6620996 7347557 7347552 7397935 158 1300 166 9959 176 39590 5657365 2586485 2146 23499 180 177 2544 165 8547 66893 13344338',\n",
       "             6795: '709 100 9842 224 24836 39591 222 69669 72875 3497570 78672 3817542 63984 3817489 407 2542 5481691 138 3817507 14863 6694776 57252 73 55130 100812 55034 5469882 22999 9936 69553 103938 4443 8867 5186 5180 2615 200939 24839 23500 3817547 63843 2589315 100813 57279 5062860 14749 5481726 6368557 4275056 50190',\n",
       "             6825: '10016 10095 55134 3817484 10019 182 14466 14876 2628 58093 7324996 3817507 5629937 57033 25241 22194 4276378 5470974 65140 38241 2834045 38703 91095 78247 69261 7004207 70372 3565884 5073753 26200 26632 103798 38242 4991 22969 84320 38699 77963 6697385 94019 64320 57978 58179 38702 38155 7325211 5044228 4276409 5579 5044217',\n",
       "             6846: '1300 67694 981 63072 1746 60114 1242 96437 38036 96231 8309 36059 18939 96348 5061790 4141370 5483073 1996 26177 27812 52516 5481257 67980 96436 63706 67320 13697 28058 13690 3855885 198522 709 158 166 9959 176 39590 5657365 2586485 2146 23499 180 177 2544 165 8547 66893 13344338 10016 2597',\n",
       "             6857: '1300 10016 66915 45584 57251 15441 5474263 7495 3865881 45585 24840 14624 9837 6685956 17196 45586 100173 66788 77963 5060312 5074594 47064 77053 15535 15534 13273 5816 709 158 166 9959 176 39590 5657365 2586485 2146 23499 180 177 2544 165 8547 66893 13344338 2597 67694 21904 3497419 20499 5217',\n",
       "             6889: '69669 27745 96223 60114 24842 39725 5481680 10033 60107 84118 96347 62040 9711 38301 7048764 65807 5076289 59359 6763 25975 7908 93552 7071777 68621 24416 83913 709 158 1300 166 9959 176 39590 5657365 2586485 2146 23499 180 177 2544 165 8547 66893 13344338 10016 2597 67694 21904 3497419 20499',\n",
       "             6892: '9959 24852 24775 37480 39489 6131 9901 6371189 8273 8282 50258 92368 57608 57985 6907 25240 45479 6678043 22242 90415 53177 198523 709 158 1300 166 176 39590 5657365 2586485 2146 23499 180 177 2544 165 8547 66893 13344338 10016 2597 67694 21904 3497419 20499 5217 10095 285 10015 9593',\n",
       "             6909: '58170 45607 58169 38679 6349 60119 67420 3497446 6365 4444 95294 7036223 7043849 5051436 4276387 5050796 7328937 6314 17704 3052249 5638 5050783 3593101 6210249 7552 6771282 6390627 86345 99381 3059033 57924 7831 85844 709 158 1300 166 9959 176 39590 5657365 2586485 2146 23499 180 177 2544 165 8547 66893',\n",
       "             6936: '1300 49911 7397 66957 14836 183 95825 24845 5476075 1159911 655 7446 8179 8062 23521 30343 7820 7479 24886 8182 4276230 30216 25690 7822 17211 17206 6388044 82340 5061193 30310 5074147 4276229 4276228 709 158 166 9959 176 39590 5657365 2586485 2146 23499 180 177 2544 165 8547 66893 13344338',\n",
       "             6952: '3497419 22045 2005 20295 3497521 3497535 39761 73681 3497492 3497474 90574 3497430 3497601 3497341 6756948 7356270 3497506 3497608 3839053 709 158 1300 166 9959 176 39590 5657365 2586485 2146 23499 180 177 2544 165 8547 66893 13344338 10016 2597 67694 21904 20499 5217 10095 285 10015 9593 17314 2137 14564',\n",
       "             6990: '10049 24473 27471 64227 12569 65807 2833535 8267 29782 5044294 10742 29652 57327 709 158 1300 166 9959 176 39590 5657365 2586485 2146 23499 180 177 2544 165 8547 66893 13344338 10016 2597 67694 21904 3497419 20499 5217 10095 285 10015 9593 17314 2137 14564 7401 9152094 100 49911 2165',\n",
       "             7006: '158 10095 285 55134 5469728 49921 75924 2600083 45584 39489 38679 73690 94333 26625 19562 72154 78247 13550019 5481364 69011 22161 6640642 5650 21308 200939 70697 13047 83944 5634 26632 96350 6300 5062860 58715 65412 9908 94054 84099 37536 2531 57863 15148 38686 7062082 94227 13048 67017 6005183 18327 58862',\n",
       "             7022: '67694 981 10049 9950 103039 104 9496 63984 18677 1786 7399 56899 3817529 36483 26164 6565238 28138 6749607 4277747 7342251 64174 79376 26304 56900 9699 28173 199801 20299 57527 1005 460 7716 3592687 18971 1049 9790 4203452 71320 30188 64229 199352 6694690 29704 5074105 13692 36200 18081 7820 1013 7781',\n",
       "             7052: '2542 709 158 1300 166 9959 176 39590 5657365 2586485 2146 23499 180 177 2544 165 8547 66893 13344338 10016 2597 67694 21904 3497419 20499 5217 10095 285 10015 9593 17314 2137 14564 7401 9152094 100 49911 2165 170 66966 9842 66969 224 59980 55133 66967 96161 7000939 159 2549',\n",
       "             7054: '172 5470974 24845 50258 20064 67527 29988 7734 5214803 26141 4209074 9282597 72471 7739 7043642 7342486 3096242 60241 57221 3859910 7733 66414 7064860 103259 5044803 7043704 3868660 7061909 7061908 77355 3052261 6770617 3043040 3592678 7406901 67670 5044380 7365564 3834255 5215917 4203139 709 158 1300 166 9959 176 39590 5657365 2586485',\n",
       "             7061: '2636 14465 2634 21441 20353 18743 18799 709 158 1300 166 9959 176 39590 5657365 2586485 2146 23499 180 177 2544 165 8547 66893 13344338 10016 2597 67694 21904 3497419 20499 5217 10095 285 10015 9593 17314 2137 14564 7401 9152094 100 49911 2165 170 66966 9842 66969 224 59980',\n",
       "             7090: '15593 7410 27987 24839 39727 26304 1035 8258 3818707 67520 74451 91630 5060991 76201 1033 6698208 3866655 15412 3820257 16906 5474222 7042971 5060976 7326493 62113 102441 62211 198638 7369025 6771215 7369026 709 158 1300 166 9959 176 39590 5657365 2586485 2146 23499 180 177 2544 165 8547 66893 13344338 10016',\n",
       "             7094: '43 20286 20289 6685882 6805305 26625 73291 76626 39616 7339409 5045991 37065 7107833 5045771 7015770 7048557 73903 5074347 7014923 73430 7048479 73724 5045721 5045938 709 158 1300 166 9959 176 39590 5657365 2586485 2146 23499 180 177 2544 165 8547 66893 13344338 10016 2597 67694 21904 3497419 20499 5217 10095',\n",
       "             7153: '11 14484 15517 2601 215 93463 4276314 99 105551 254 105764 1039 5177 7397 201891 68465 5217376 7539 50 63072 5481325 55134 6640642 61016 100813 15512 27826 36101 21854 1746 44787 37539 14142 198455 10163 1037 6003958 5481691 100789 57644 67217 1747 105591 69553 60850 78672 9793 13550019 36059 67694',\n",
       "             7230: '17557 6780 709 158 1300 166 9959 176 39590 5657365 2586485 2146 23499 180 177 2544 165 8547 66893 13344338 10016 2597 67694 21904 3497419 20499 5217 10095 285 10015 9593 17314 2137 14564 7401 9152094 100 49911 2165 170 66966 9842 66969 224 59980 55133 66967 96161 7000939 159',\n",
       "             7261: '709 176 10095 59980 4592908 100789 456 104 3817512 5642 45459 304 202196 7092 102 76838 3302524 26616 38241 5217354 55266 457 24848 24869 38717 5479901 236 7437 18327 4033574 4592982 5094 24968 24953 18329 5061162 27322 4592987 7323246 7810 3819008 27342 61559 57556 7043250 13231225 7924 25964 5488972 3819012',\n",
       "             7382: '1300 39590 21904 5217 55134 36067 18887 39589 36243 1771 26751 9425 7391 1990 6371189 876 1787 1242 5044203 5469788 9990 37117 1267 91374 13793 4276462 20273 4033668 20270 4277747 9727 20430 3565486 7071972 5062860 20819 14963 20431 1652 5214803 57923 3565485 2491 58861 199258 38711 9621 14485 4141740 6749958',\n",
       "             7390: '709 166 9959 49911 55133 55134 36242 5469728 69669 63072 52657 100849 3497570 100789 3817512 57251 3817542 5046645 7324996 5481691 3817507 15512 130 56899 7342538 5479931 3817529 55130 5479493 66877 15145 69944 21813 91095 67289 78247 21827 7024300 5479797 60888 62826 200939 3817547 14581 91183 61038 198493 58795 56900 14610',\n",
       "             7396: '24836 67408 6782783 5045001 79785 37128 71946 102569 74451 57329 4902 57777 20327 36444 76589 90127 709 158 1300 166 9959 176 39590 5657365 2586485 2146 23499 180 177 2544 165 8547 66893 13344338 10016 2597 67694 21904 3497419 20499 5217 10095 285 10015 9593 17314 2137 14564 7401 9152094',\n",
       "             7397: '4592908 61115 31364 21620 64920 9935 24348 39447 71505 52567 38852 5073641 5034 62638 3819123 62637 7071754 78765 709 158 1300 166 9959 176 39590 5657365 2586485 2146 23499 180 177 2544 165 8547 66893 13344338 10016 2597 67694 21904 3497419 20499 5217 10095 285 10015 9593 17314 2137 14564',\n",
       "             7427: '5481356 5469736 55130 3817507 58795 6370 3497570 6371125 6565242 6697382 69372 7043189 88095 3817735 92368 5261 130 5636 7047810 5217224 5061792 68465 6371211 16610 89151 25455 18398 7061938 7124 2589314 30968 69195 39665 5479383 28187 5481654 55140 10115 89055 88789 3302697 88027 45440 102811 7029846 201171 76364 3497505 71432 55056',\n",
       "             7522: '18404 6390498 58167 58920 6210616 5564 13781 69250 46762 5479458 5634 66855 61135 61812 6784706 61625 3832659 14610 11913 14752 14581 18015 36067 5044844 85627 6375233 97948 7406904 71521 20307 7062136 5047346 45393 71873 7043784 94400 63915 50190 5061234 75882 4274694 60119 9554 64821 6749406 5061233 5051591 64025 10049 25716',\n",
       "             7527: '67694 21503 57170 8016 15543 13577 91682 7880 3532673 18063 8305 8306 5657581 84469 8084 24341 911 7334 199358 25093 24426 709 158 1300 166 9959 176 39590 5657365 2586485 2146 23499 180 177 2544 165 8547 66893 13344338 10016 2597 21904 3497419 20499 5217 10095 285 10015 9593 17314',\n",
       "             7531: '9959 177 981 69943 304 64712 66843 6367 21450 6210170 25987 65407 14269 74716 50415 26697 21442 4033661 4141732 64118 7048911 4203335 37322 22349 15629 709 158 1300 166 176 39590 5657365 2586485 2146 23499 180 2544 165 8547 66893 13344338 10016 2597 67694 21904 3497419 20499 5217 10095 285',\n",
       "             7547: '57251 13073 26751 20286 39489 96294 13113 96296 57346 76596 13114 102 57205 10198 3818565 50137 60137 67045 62040 7339416 58783 7054238 73377 39616 77069 5739 21652 76599 75086 59126 1519359 7044049 4275402 4275455 4275428 6692980 7044050 5075751 65275 5742 6591161 5046002 66208 78724 69803 7054839 7339479 4275661 4275821 6695297',\n",
       "             7568: '3817484 100849 3497570 100789 45457 54728 45459 18720 3817489 407 1786 94333 102932 65349 3302557 69372 15145 2324 13854 69553 39692 58030 69011 3302554 91784 62781 239 7071972 5215230 4141329 18027 655 58080 2589314 18450 94227 3817592 38908 63624 1824 66862 95671 45600 66794 3302558 5045132 397 5217291 58177 5478961',\n",
       "             7591: '14770 15593 69669 67035 7324996 5481691 4141821 1590 26616 20295 7036239 13481 4274956 3817487 78247 84318 9387 38931 63712 2833446 16019 14963 29988 7036223 20391 57509 20299 5483073 67437 4274953 870 198455 17724 5044581 5657402 37159 7024333 4274957 5044584 6770597 9127347 3048679 6591116 60275 3833457 7034870 4274925 89526 7034608 50052',\n",
       "             7695: '709 66893 7401 13120 57291 57292 13121 2305 13181 66843 4830912 96561 3562687 5631 2304 92368 66894 5476075 91662 5653 4141492 5636 13943 27894 18750 2306 8195 9735 64874 10063 57057 5046170 4592615 4830973 58025 6376 14779 4141505 45263 17200 5075725 58935 158 1300 166 9959 176 39590 5657365 2586485',\n",
       "             7758: '1300 67694 9593 9595 9598 57706 14630 9610 9733 57733 25842 49921 65641 17526 1771 17528 25829 14292 5182 14294 25830 10163 25841 67499 57703 9761 25840 138 25848 9601 44739 4141754 57747 72796 29676 72795 4592637 9670 9620 67212 10198 45924 6368546 93461 25844 5654340 24845 198667 45929 2570',\n",
       "             7768: '10039 24866 57174 24871 57865 39526 5657394 8823 36274 709 158 1300 166 9959 176 39590 5657365 2586485 2146 23499 180 177 2544 165 8547 66893 13344338 10016 2597 67694 21904 3497419 20499 5217 10095 285 10015 9593 17314 2137 14564 7401 9152094 100 49911 2165 170 66966 9842 66969',\n",
       "             7787: '7401 7000939 73725 73492 7036235 45459 7036228 6805305 7036226 15215 6744999 6827367 73436 6368465 7043350 7036238 200953 93667 77150 6691964 26851 8016750 6691966 60857 89799 7043889 5046537 27365 5476743 27374 3086274 709 158 1300 166 9959 176 39590 5657365 2586485 2146 23499 180 177 2544 165 8547 66893 13344338 10016',\n",
       "             7819: '30161 59008 9282597 24470 74584 709 158 1300 166 9959 176 39590 5657365 2586485 2146 23499 180 177 2544 165 8547 66893 13344338 10016 2597 67694 21904 3497419 20499 5217 10095 285 10015 9593 17314 2137 14564 7401 9152094 100 49911 2165 170 66966 9842 66969 224 59980 55133 66967',\n",
       "             7841: '2165 57948 8551 5051549 6326 6565247 10019 66969 5479147 69553 9979 72006 158 18748 6131 286 4203264 6368554 3501486 18104 91879 5479143 5469788 6893 14838 198509 4986 45283 14264 4994 105435 13793 58996 95783 2586485 5214960 1190 5479931 20408 19313 4276842 7324996 6565231 65044 21061 45393 5469728 20804 91095 46015',\n",
       "             7842: '225 76913 2834432 85187 45425 17312 25769 17319 6227 4592954 4592953 8887 38865 85239 38851 2835226 14281 4033854 6693265 5075945 38853 5657543 14175 709 158 1300 166 9959 176 39590 5657365 2586485 2146 23499 180 177 2544 165 8547 66893 13344338 10016 2597 67694 21904 3497419 20499 5217 10095 285',\n",
       "             7863: '18438 69943 96277 10002 5577588 85152 2600083 36249 7015886 7106117 9127348 7034093 36237 52 2564086 5481770 37384 58866 7339416 9621 103406 75645 75676 67045 86439 92527 45460 39802 3497463 7356268 7384182 79410 73291 5570026 5572795 5571028 77094 99571 3497461 6698280 21767 3497447 86616 3850655 5571030 67700 72745 77075 72910 5571048',\n",
       "             7911: '4277395 1298 4275049 6371189 8472 1159921 96166 96161 64800 27553 18473 18475 5062860 26688 26304 5179 5629938 93997 8474 67694 198455 21620 102868 3865881 24488 69937 5221 50120 2833589 13559 62790 93911 67413 15524 145 4033509 5063391 4275056 7397 31176 144 95835 13854 158 3591085 45459 5061028 3823471 77999 50121',\n",
       "             7923: '10095 72875 104 6005364 1747 6749597 3817507 65349 14506 92418 2518 5997093 69372 55128 3817487 84319 50028 19480 8196 14581 61045 50235 60692 12404 5075712 92109 67734 45598 22 15148 6696245 20188 14610 80379 5046118 8195 13322 25905 20391 5185 64913 50451 66856 67176 93510 9806 65025 5481325 15535 10291',\n",
       "             7940: '66989 58279 58715 3067443 5479415 44847 7496 6771051 57547 6804676 44818 44824 6770270 68421 73136 199 7015769 7415095 50477 9778 94054 72717 20269 5470923 7043880 38447 65185 7439733 7036201 5074436 17314 6696908 76476 3060251 84055 7439552 22161 6565209 407 3052249 6677992 6677990 13478 91655 58235 61078 3564681 96453 72003 44865',\n",
       "             7947: '170 67693 104 60 72027 51487 72154 461 37061 57867 3883053 103 9808 452 64800 57863 70724 27677 20330 103790 5045994 9668 12852 103809 5045987 7034562 6744998 3564283 70060 7323116 103757 51099 7406910 6770339 709 158 1300 166 9959 176 39590 5657365 2586485 2146 23499 180 177 2544 165 8547',\n",
       "             7960: '709 981 36067 72011 78643 39770 17033 66982 73697 75391 45481 26197 85699 6685956 70264 100446 6784195 6697844 9858 71448 45559 57028 6691916 60033 72424 7386015 90818 6691271 63236 70625 70189 77268 7384191 74319 57777 57820 74321 6747232 85071 27409 7000339 85997 79048 27774 7823 7339419 6743245 6743246 24935 27807',\n",
       "             7974: '7042944 6694879 6694878 66930 14404 7042792 3855460 37551 3497521 13488 62716 2833784 10095 174 100849 709 74249 5631 3061841 3061842 22976 58170 5470939 3497419 5636 9959 103 6005366 10527043 7042798 176 76839 50260 3497505 3818569 199407 6896 37455 73492 55056 3497386 8553 7029931 93584 2606081 19917 5061244 13128 3574676 7107864',\n",
       "             8071: '55134 69669 80460 24866 84118 84240 91095 69553 78247 24840 5046143 9416 216 4274973 64365 83777 5217196 4141370 5214888 58960 14534 91338 12698 63795 92355 6678046 6607575 14186 83913 50745 44768 6784569 37272 709 158 1300 166 9959 176 39590 5657365 2586485 2146 23499 180 177 2544 165 8547 66893',\n",
       "             8083: '39590 100849 61 95961 20286 304 9425 21511 46964 4141822 5654340 455 46971 39666 39665 39560 3562685 14824 411 2589315 5061260 6368557 69475 72326 4592951 5061790 3817592 94141 7124 5479057 59 21438 3570287 5673 94566 80609 16830 1049 7048911 10527043 4033881 7114 59857 6371203 432 5075361 5217380 9799 709 158',\n",
       "             8124: '14462 10019 4202912 64213 63295 5062860 6696244 9974 7634 5044719 64229 2835401 6876 5074105 5657399 5470989 57922 4276172 67571 5044667 6003574 5061190 5061191 69496 52165 18308 709 158 1300 166 9959 176 39590 5657365 2586485 2146 23499 180 177 2544 165 8547 66893 13344338 10016 2597 67694 21904 3497419 20499',\n",
       "             8142: '24831 5478983 60850 39723 9881 50235 3851061 1198 5261 59008 1914830 5075323 45557 28042 66605 8263 3822679 15426 13550150 7781 15615 58947 4276178 4954 64764 198608 26154 5044814 71651 5063231 6770738 71652 64808 709 158 1300 166 9959 176 39590 5657365 2586485 2146 23499 180 177 2544 165 8547 66893',\n",
       "             8152: '68465 456 63762 99817 3601477 57016 99816 3601476 7734 83777 44824 65244 44771 59204 58839 44765 44867 198653 15480 63786 5654341 7733 30367 5061149 6770182 31646 50083 12843 29680 5060714 52435 3061060 1093 7034802 5483065 53316 709 158 1300 166 9959 176 39590 5657365 2586485 2146 23499 180 177 2544',\n",
       "             8177: '709 39590 5217 10095 55133 3817484 39589 5469736 3817512 1771 57251 5479511 2575 3817542 94125 24866 67408 5481691 10115 9590 66088 876 10189 821 22107 4830912 2834045 55266 63646 5481356 92368 66880 5063499 17133 7016402 69260 5469714 2639 651 2589314 9682 7004211 6677988 202129 5044600 105671 39804 7004212 57832 14145',\n",
       "             8205: '94677 96359 4424 15148 37539 1824 7036247 37294 15223 46347 3103028 21875 64346 88012 88070 7042982 88261 88156 6606568 88234 89135 88806 709 158 1300 166 9959 176 39590 5657365 2586485 2146 23499 180 177 2544 165 8547 66893 13344338 10016 2597 67694 21904 3497419 20499 5217 10095 285 10015',\n",
       "             8243: '9959 5096 6390605 709 158 1300 166 176 39590 5657365 2586485 2146 23499 180 177 2544 165 8547 66893 13344338 10016 2597 67694 21904 3497419 20499 5217 10095 285 10015 9593 17314 2137 14564 7401 9152094 100 49911 2165 170 66966 9842 66969 224 59980 55133 66967 96161 7000939 159',\n",
       "             8287: '9959 7397 24836 65641 60174 57289 96205 57280 24842 4275967 2833784 14752 96217 6367 2522 6951 5045001 85608 87886 9626 22995 60888 18438 14638 67445 24838 39604 5651519 199 45425 17133 7071972 3601481 74716 17315 2833650 84058 86825 199380 5044804 85606 105967 38305 105964 36256 69681 18970 27834 50450 5062854',\n",
       "             8394: '158 9959 66969 4202912 3865881 68347 37061 12260 60212 5488990 8071 2834411 12833 14622 6226 9708 58788 64108 29694 20003 6893 64855 5060771 6005128 6678159 22994 7348044 104768 104701 13485 10694 16874 199358 36277 5045405 5045406 57838 36454 5044612 16864 7064644 3599884 79130 63928 96354 23152 6749314 5073053 38050 4592349',\n",
       "             8411: '96294 94125 66088 1598 96217 6003852 17312 3566284 4276620 6226 25638 7060804 25769 17323 199694 7033791 3572678 58250 6390464 57976 5074732 5044380 58917 5046264 709 158 1300 166 9959 176 39590 5657365 2586485 2146 23499 180 177 2544 165 8547 66893 13344338 10016 2597 67694 21904 3497419 20499 5217 10095',\n",
       "             8452: '39590 21767 14466 3497570 77094 9950 7036235 45457 9496 201891 75676 7036241 9500 102 3497463 73 76476 51487 3497352 7036239 9127329 4517 22043 7036182 471 650 3497347 3497348 94423 3497492 3497474 3818087 14453 13488 7036247 20388 12731 56 2833858 5061798 7043131 5657399 2563684 7034608 9127395 3827853 3833463 5695 4860 49951',\n",
       "             8468: '285 5476609 2600 286 288 3818446 25645 9590 876 5476180 292 85026 6003575 14465 287 17143 1989 9711 6784195 91972 18179 44866 93711 4592612 63709 64855 102278 17440 9897 6678014 709 158 1300 166 9959 176 39590 5657365 2586485 2146 23499 180 177 2544 165 8547 66893 13344338 10016 2597',\n",
       "             8475: '10095 10049 3865881 5045462 102868 30342 3594675 79004 3850658 6750096 62611 5479916 4276440 7034764 15607 3856653 6750094 6750095 64116 7043808 7325218 7325269 38487 3116228 74643 30208 62558 7365874 7042870 5997143 7032742 87533 7032908 7034762 9339834 9139131 709 158 1300 166 9959 176 39590 5657365 2586485 2146 23499 180 177 2544',\n",
       "             8537: '709 166 39590 177 67694 100 55133 55134 5469728 55140 69669 72011 67281 20285 73492 7325382 3817512 5479511 7092 6805305 10115 102932 37455 2005 66252 37481 6749602 17699 77063 37559 50026 7064842 5479797 73436 59094 7339416 57552 37160 39616 94420 38730 5073611 37457 7339409 17487 6771051 9682 37277 6999896 20168',\n",
       "             8540: '709 158 159 3817484 55140 69669 24831 9425 38458 661 3302557 3302524 95736 5074230 55128 6343 91095 4275765 5045462 6003958 6749605 14465 24839 5651519 199590 199 471 9808 7342626 20553 102868 3817552 60353 14497 12857 6342 38730 6882 57561 813 57985 26214 6909 14575 30902 9780 5654343 26072 36827 61097',\n",
       "             8541: '158 166 180 67694 21904 5217 9152094 100 59980 159 55134 3817484 15593 36067 69669 10049 72875 49921 20276 5469736 3497570 103039 45457 3817512 1771 6005364 67326 27569 63984 45459 10163 64712 9425 202196 7092 94333 10115 1990 17033 6371189 5214 38458 56899 46966 82738 4202912 19562 5649 5479931 24827',\n",
       "             8585: '5469728 2558 9867 24775 2628 45457 3817512 78672 3817542 5154 14863 93684 17761 29676 29553 105764 5479853 13333 84118 77063 78247 2834359 91183 8097 4033669 4592981 5566924 4141492 29648 94420 37210 6368557 10077 29988 6561 77052 813 64620 95430 29707 38199 37539 7892 10063 94112 6005183 5061275 13341 24954 6749054',\n",
       "             8596: '166 7397 225 55134 3817484 14630 981 55140 36067 222 69669 63072 10049 100849 14466 2600 20276 6347 96306 72006 78672 67035 77405 14341 45459 201891 3818446 7324996 1786 5481688 14583 30247 1590 6352 59187 7410 66843 36483 240 5654340 20414 38036 6353 39666 39660 39665 69011 4444 39604 1776',\n",
       "             8603: '222 14752 3817487 84319 5657403 72282 38856 5650 100345 39771 37221 15880 37216 21442 37201 57095 100272 69325 5657665 23165 13461 5657666 709 158 1300 166 9959 176 39590 5657365 2586485 2146 23499 180 177 2544 165 8547 66893 13344338 10016 2597 67694 21904 3497419 20499 5217 10095 285 10015',\n",
       "             8645: '176 7397 68465 29588 8181 24849 29586 24348 18327 28120 5997140 5044844 8197 29587 18329 5474346 94111 28121 5063239 18328 104479 5063242 24638 24605 709 158 1300 166 9959 39590 5657365 2586485 2146 23499 180 177 2544 165 8547 66893 13344338 10016 2597 67694 21904 3497419 20499 5217 10095 285',\n",
       "             8677: '9727 5052 709 158 1300 166 9959 176 39590 5657365 2586485 2146 23499 180 177 2544 165 8547 66893 13344338 10016 2597 67694 21904 3497419 20499 5217 10095 285 10015 9593 17314 2137 14564 7401 9152094 100 49911 2165 170 66966 9842 66969 224 59980 55133 66967 96161 7000939 159',\n",
       "             8692: '54916 5694 67789 36408 16894 76913 7348046 67040 69136 5444 263 5657543 5073753 5653 54728 7325214 1300 14572 9950 7397 8130 5469736 5479853 22549 22614 37368 45568 102474 709 100849 44830 3817489 80869 85879 5061789 69594 4203420 5061790 3302557 78672 57081 26754 19562 57993 103441 7325347 9501 7062059 3817592 201261',\n",
       "             8766: '10095 6005364 78672 5469882 55128 7024300 5479797 5045462 8102 64257 14479 4203124 105671 5792187 71898 5578 9661 55059 45275 709 158 1300 166 9959 176 39590 5657365 2586485 2146 23499 180 177 2544 165 8547 66893 13344338 10016 2597 67694 21904 3497419 20499 5217 285 10015 9593 17314 2137 14564',\n",
       "             8798: '67241 3043449 3827056 10186 14286 100312 2834432 2835283 2834440 7030099 67594 67272 216 7043131 84321 14564 37061 45566 215 72282 85368 4033702 45458 59568 66949 77405 6188 7030196 44802 4275810 7063052 24838 7048714 7327139 91784 7364834 74342 54299 86 84320 93584 5045454 3042268 37495 3077055 2600083 68225 62032 78821 24831',\n",
       "             8818: '407 50258 26763 1159907 14474 198510 7032787 2606 63815 45435 6607608 6607606 5479466 3039031 20783 6607609 63698 61119 39523 58233 6390787 77412 5060553 72567 50397 37511 709 158 1300 166 9959 176 39590 5657365 2586485 2146 23499 180 177 2544 165 8547 66893 13344338 10016 2597 67694 21904 3497419 20499',\n",
       "             8843: '1321 5044749 58170 8545 9977 68069 20819 66877 14339 1746 13179 94342 1747 5481760 22 5642 1752 45584 50123 38679 64273 56 8550 9592 14564 4443 6749938 5044494 5481777 66794 64366 57561 5051522 57950 38155 4706 170 14341 37060 5217384 981 23 18569 4141788 6785017 39639 176 24839 10196 458',\n",
       "             8868: '176 55133 3817484 7048452 9867 72011 5479511 6369 6805305 76596 57199 6345 51487 73291 79785 78247 21827 6782771 6695070 15263 6782788 36257 73377 72425 76592 46612 15555 71174 45159 71178 6782767 22283 6827374 16004 5481242 59857 6782757 7015562 17657 1915 7015561 6782756 2630479 7325127 76827 50277 3826653 71010 10247 5075632',\n",
       "             8871: '176 39590 177 66969 66967 67595 261 157 8016 12824 27269 68370 67593 4831087 3096242 6770597 95634 7378 64121 7397595 93180 9824 29563 7987 3866662 60109 7107864 101575 3868253 3866664 4251474 4250677 7414941 5061091 4275324 5060853 5060852 7035132 7032984 9963229 709 158 1300 166 9959 5657365 2586485 2146 23499 180',\n",
       "             8896: '45459 3850655 85679 14613 64874 14596 79410 55111 458 13412 6953 199733 61463 3043462 3073845 709 158 1300 166 9959 176 39590 5657365 2586485 2146 23499 180 177 2544 165 8547 66893 13344338 10016 2597 67694 21904 3497419 20499 5217 10095 285 10015 9593 17314 2137 14564 7401 9152094 100',\n",
       "             8902: '4275033 96208 96561 96560 66965 45349 91662 4141492 5479151 3818428 85259 6005128 71722 709 158 1300 166 9959 176 39590 5657365 2586485 2146 23499 180 177 2544 165 8547 66893 13344338 10016 2597 67694 21904 3497419 20499 5217 10095 285 10015 9593 17314 2137 14564 7401 9152094 100 49911 2165',\n",
       "             8903: '49921 5214793 201126 45496 20784 8080 20783 8109 20756 8084 58228 5476728 5476729 6768111 709 158 1300 166 9959 176 39590 5657365 2586485 2146 23499 180 177 2544 165 8547 66893 13344338 10016 2597 67694 21904 3497419 20499 5217 10095 285 10015 9593 17314 2137 14564 7401 9152094 100 49911',\n",
       "             8907: '7397 104 199355 27945 13944 57345 29561 6511 29564 5473452 86329 80636 709 158 1300 166 9959 176 39590 5657365 2586485 2146 23499 180 177 2544 165 8547 66893 13344338 10016 2597 67694 21904 3497419 20499 5217 10095 285 10015 9593 17314 2137 14564 7401 9152094 100 49911 2165 170',\n",
       "             8937: '709 1300 39590 180 177 7401 69937 3817484 5469728 4275033 10049 57291 9950 104 57292 57290 9425 14248 93684 4202912 6346 10265 6367 21813 5217354 5063007 39666 39660 5481364 21827 38169 20064 57279 7342674 7330060 5479153 2835394 14754 57056 22 5051494 64320 26224 15704 14434 23 3818726 64828 20429 25177',\n",
       "             8947: '709 39590 2137 55134 9979 2558 69669 66956 95961 3817542 201891 9425 2529 7036228 5178 10115 21503 63034 105764 39723 5997136 50258 103 27987 5177 50260 71681 17143 17133 5076176 4991 6696245 20632 37276 66890 45479 3051428 60855 90701 4701 5045 5483287 14866 7015769 6003791 20396 19052 10204 6749923 16646',\n",
       "             8956: '63781 37295 38719 66895 4033462 22547 4226677 63680 86752 4659 15042 84057 30902 37273 29690 6371361 120 6784594 69545 7061990 10049 4275776 5478198 709 158 1300 166 9959 176 39590 5657365 2586485 2146 23499 180 177 2544 165 8547 66893 13344338 10016 2597 67694 21904 3497419 20499 5217 10095 285',\n",
       "             8966: '2544 3497419 7397 14630 55140 18887 43 21767 9950 57251 5182 4275810 75676 399 1990 102555 7036241 57205 72929 2005 7410 72779 37061 72653 3497432 93568 84318 9127329 3883053 3497330 22043 5540 66958 7036182 22976 1159931 26336 85873 66880 7032787 3821458 63724 87449 9127342 72279 21654 57208 96106 96348 26349',\n",
       "             8968: '5849 9593 66967 158 66969 9970 14337 2539 2543 14462 2549 58169 96498 5189 58170 94342 14341 13274 17601 57952 57623 38679 86 4986 18526 91284 20352 14827 14490 6765 21879 6749605 58255 25497 6766 14757 64224 67432 60081 38359 5062860 9766 5051496 18887 37367 7032900 4987 5205 8745 63636',\n",
       "             8975: '2578 27987 57558 57566 17315 57631 1213 67034 709 158 1300 166 9959 176 39590 5657365 2586485 2146 23499 180 177 2544 165 8547 66893 13344338 10016 2597 67694 21904 3497419 20499 5217 10095 285 10015 9593 17314 2137 14564 7401 9152094 100 49911 2165 170 66966 9842 66969 224',\n",
       "             9029: '2562 94329 2553 94330 14770 6346 20452 69261 57828 13073 15373 57952 58093 6695159 67377 66964 2625 37061 13075 45650 199 6371 6390640 13074 6369 8306 4275049 64422 7071972 57513 6952 37282 3500686 1159933 5483120 6565242 3582674 5063129 1752 58812 2324 45932 20276 93714 20553 6784187 7342542 13550019 4277747 64244',\n",
       "             9034: '176 9990 18422 709 158 1300 166 9959 39590 5657365 2586485 2146 23499 180 177 2544 165 8547 66893 13344338 10016 2597 67694 21904 3497419 20499 5217 10095 285 10015 9593 17314 2137 14564 7401 9152094 100 49911 2165 170 66966 9842 66969 224 59980 55133 66967 96161 7000939 159',\n",
       "             9049: '10016 4592908 49921 1159921 5182 93684 5045454 1242 3048678 45460 64365 84320 7043350 3051428 61302 7393963 7043705 5061235 5051481 31370 2834419 201893 7043858 2834373 9340958 36060 709 158 1300 166 9959 176 39590 5657365 2586485 2146 23499 180 177 2544 165 8547 66893 13344338 2597 67694 21904 3497419 20499 5217',\n",
       "             9055: '159 58170 21545 66950 19562 66952 2566477 7325190 58218 14643 37434 58213 6003841 86089 5479907 58007 3841063 3841064 6003842 5371 5657369 7043858 3841061 5657370 3841062 7043347 61324 7055805 5060803 709 158 1300 166 9959 176 39590 5657365 2586485 2146 23499 180 177 2544 165 8547 66893 13344338 10016 2597 67694',\n",
       "             9063: '224 55134 3817484 39589 100849 5479511 38458 136 3302557 58082 55151 45924 105764 5469788 65140 59348 3817487 24871 5186 5636 4276554 37210 4274973 45598 50415 24872 101031 20784 64913 6005183 592 92498 4276896 68243 3817485 94111 3302523 69744 100343 5469874 5074941 6003970 30308 38734 80636 22360 64908 37058 709 158',\n",
       "             9089: '3497419 7401 7397 1746 74649 24827 45458 10074 75006 59771 27837 1948031 39761 3045033 3096242 105079 39729 5047595 3116228 6824129 6770787 5060977 29896 62714 709 158 1300 166 9959 176 39590 5657365 2586485 2146 23499 180 177 2544 165 8547 66893 13344338 10016 2597 67694 21904 20499 5217 10095 285',\n",
       "             9099: '177 10095 2600 2628 45584 9809 58093 5182 3817542 13113 13114 8546 38458 46964 3302524 46887 26616 64273 58358 13180 5479493 10265 5479853 45614 3818565 5476137 59919 77317 45484 67527 46963 67124 13108 101142 46969 5997208 4141370 25976 1966032 5479848 6784582 79704 49944 3565482 4275528 5047596 64684 4276235 3302555 6784581',\n",
       "             9102: '158 39590 60174 45596 4275840 7043726 14301 5044753 6771267 57362 64984 45341 4274843 90154 61283 6770859 6694829 14996 9339109 91743 3053925 7000376 76848 3077078 7030411 3865857 9364005 709 1300 166 9959 176 5657365 2586485 2146 23499 180 177 2544 165 8547 66893 13344338 10016 2597 67694 21904 3497419 20499 5217',\n",
       "             9146: '1300 166 66893 55134 55140 69669 2600083 100789 72006 3817512 5479511 5182 9425 67352 5214 136 661 7342538 55151 14833 1242 5479493 7032900 58812 2324 20062 78247 103 584 20055 38169 59094 4276462 1309 3558281 58958 4033669 8770 60151 59543 6003630 5469740 94653 813 5477651 71124 7060816 1315 5997155 39804',\n",
       "             9207: '60179 95667 60886 4210674 88086 93667 8282 88023 911 57332 8334 5470035 39726 24839 5217410 88753 88175 8333 5073727 25170 8306 97479 89217 3302668 5483278 7326494 97544 709 158 1300 166 9959 176 39590 5657365 2586485 2146 23499 180 177 2544 165 8547 66893 13344338 10016 2597 67694 21904 3497419',\n",
       "             9244: '102555 130 67294 14876 3818399 96359 709 5469736 3817542 17318 2564083 8263 7901 1534 55130 8287 1597 7979 61625 29641 105764 69669 55134 24341 7048352 91095 50548 57174 5061277 15094 8242 24572 84522 8821 5481257 7061934 14465 848 94054 2589315 5631 5182 16556 45457 44797 159 5060986 4203124 39751 94677',\n",
       "             9305: '66966 67377 60413 39726 67289 67045 60418 49869 75393 1035 13143 60132 5215606 13275 13183 5074384 106021 93625 4276599 3819486 17269 3031049 3031071 199294 51068 709 158 1300 166 9959 176 39590 5657365 2586485 2146 23499 180 177 2544 165 8547 66893 13344338 10016 2597 67694 21904 3497419 20499 5217',\n",
       "             9317: '158 17314 18887 75924 456 26751 27569 38679 399 73690 14583 58004 24843 59187 50 57196 51487 10198 10265 4276378 65140 8201 84240 20414 57867 21827 26313 457 107 47771 14404 9387 8196 48316 5073753 59907 5072 36059 58782 48314 5659264 57978 37539 30902 37410 25739 8179 4203075 14424 7364753',\n",
       "             9377: '60840 67410 6352 67411 17113 3817512 70137 18720 57248 5479853 82738 5469728 86807 4592982 3569493 89975 25977 38199 4141822 95874 69272 5479078 55134 84058 3497570 9790 7071570 64726 64729 95361 6003488 72875 709 10524544 3818787 26071 92109 39666 69669 21813 38913 45404 62939 5488904 62938 5177 56935 948 14769 28067',\n",
       "             9380: '3817512 103771 25636 6005141 5073424 58648 709 158 1300 166 9959 176 39590 5657365 2586485 2146 23499 180 177 2544 165 8547 66893 13344338 10016 2597 67694 21904 3497419 20499 5217 10095 285 10015 9593 17314 2137 14564 7401 9152094 100 49911 2165 170 66966 9842 66969 224 59980 55133',\n",
       "             9404: '8016 1775 28173 21441 3591087 2012 77785 7781 58762 17688 709 158 1300 166 9959 176 39590 5657365 2586485 2146 23499 180 177 2544 165 8547 66893 13344338 10016 2597 67694 21904 3497419 20499 5217 10095 285 10015 9593 17314 2137 14564 7401 9152094 100 49911 2165 170 66966 9842',\n",
       "             9445: '69669 24831 58170 37480 58169 10163 138 5187 14838 69372 84318 4443 5650 137 37458 3569885 50415 49923 6909 4277725 592 37452 37382 3566680 4831075 70883 4592672 4033884 7048373 4277726 20396 5044 6003485 4277616 2567680 4276813 6375231 2631680 709 158 1300 166 9959 176 39590 5657365 2586485 2146 23499 180',\n",
       "             9496: '66855 71203 71201 4203322 14945 22956 22957 2482 5062991 64174 17709 2505 37548 4864 2300 462 15922 1529 196964 20801 15962 5481688 14607 17260 4274956 58083 5154 10163 55128 200850 5178 16719 80613 4274946 7439552 6390644 1034 1035 1033 4832 19300 1036 6795 22466 14560 104 38819 80508 9139947 4141666',\n",
       "             9501: '61 1771 14469 6749597 14624 5044727 59813 16019 13435 849 3822658 7323161 7323116 7323159 7343237 7323101 7323165 7055652 7323160 7323890 7323272 7323228 7323177 72109 7364447 7343210 7323296 709 158 1300 166 9959 176 39590 5657365 2586485 2146 23499 180 177 2544 165 8547 66893 13344338 10016 2597 67694 21904 3497419',\n",
       "             9576: '23004 709 158 1300 166 9959 176 39590 5657365 2586485 2146 23499 180 177 2544 165 8547 66893 13344338 10016 2597 67694 21904 3497419 20499 5217 10095 285 10015 9593 17314 2137 14564 7401 9152094 100 49911 2165 170 66966 9842 66969 224 59980 55133 66967 96161 7000939 159 2549',\n",
       "             9596: '709 176 21904 49911 3817484 36242 4592908 69669 58170 100849 9950 45457 3817512 6005364 5479511 58093 9496 58169 7324996 94333 59460 38458 57199 4141754 58082 6387963 36666 69372 57867 26631 13854 91095 15543 69261 5476137 5186 24839 6784393 4277747 100372 57319 4141656 5479153 5217410 4276620 37457 198493 5217196 39771 4424',\n",
       "             9616: '3817484 10115 136 3562687 3562685 9837 4277747 6390644 5653 58708 37458 44741 7463 6784706 17582 62161 3561885 86850 7479 7071983 7480 71285 62464 198584 7468 12148 64216 12153 17630 3819217 38925 709 158 1300 166 9959 176 39590 5657365 2586485 2146 23499 180 177 2544 165 8547 66893 13344338 10016',\n",
       "             9668: '67679 96475 39660 9959 225 7386392 2551 36243 13147 37457 26621 14770 224 6345 709 77339 4141320 95359 6368 69937 14264 17752 7391 3820255 62939 4831055 22035 7365 73690 4141821 222 6367 104 105591 61 37536 72875 5481234 7401 45459 50235 7032787 84319 981 93646 5217431 8097 29927 5046195 100849',\n",
       "             9684: '177 224 2833784 3818498 25645 26616 196 58795 15704 77999 25548 5044581 9510 19175 9514 6210198 90273 37399 66927 198065 200850 66928 83915 81505 4033626 81833 82334 5074583 709 158 1300 166 9959 176 39590 5657365 2586485 2146 23499 180 2544 165 8547 66893 13344338 10016 2597 67694 21904 3497419',\n",
       "             9686: '10015 12404 12569 30371 6614 79217 8353 6766 10055 24671 8766 45445 45443 9907 4276601 45446 709 158 1300 166 9959 176 39590 5657365 2586485 2146 23499 180 177 2544 165 8547 66893 13344338 10016 2597 67694 21904 3497419 20499 5217 10095 285 9593 17314 2137 14564 7401 9152094 100',\n",
       "             9709: '39590 7397 4033462 61 201891 2586488 172 8016 39666 8196 28138 38362 878 28173 8195 18352 4141783 175 18353 7726 3818707 19498 5045 3592674 24470 5075751 5074105 57554 7326414 4276223 2835107 9266362 9266360 9266359 9266361 709 158 1300 166 9959 176 5657365 2586485 2146 23499 180 177 2544 165 8547',\n",
       "             9745: '75006 58149 4141370 71327 5657430 709 158 1300 166 9959 176 39590 5657365 2586485 2146 23499 180 177 2544 165 8547 66893 13344338 10016 2597 67694 21904 3497419 20499 5217 10095 285 10015 9593 17314 2137 14564 7401 9152094 100 49911 2165 170 66966 9842 66969 224 59980 55133 66967',\n",
       "             9750: '88795 201477 97626 88538 89457 88285 3817881 88526 88101 3302707 89233 88688 88017 89045 201383 88639 89228 7408200 89138 6606352 88229 709 158 1300 166 9959 176 39590 5657365 2586485 2146 23499 180 177 2544 165 8547 66893 13344338 10016 2597 67694 21904 3497419 20499 5217 10095 285 10015 9593',\n",
       "             9801: '55133 3817484 4275033 15517 100789 6005364 3817542 202196 10115 7342538 55130 5479853 5217354 31300 5046281 91183 58079 4203422 24849 2098 38301 4274656 3570287 38654 22561 390802 6371191 198543 38863 3818535 2834236 3818537 82272 64040 17686 4275055 63030 7062100 7048185 7439281 2515 709 158 1300 166 9959 176 39590 5657365 2586485',\n",
       "             9807: '69669 9950 67326 102 5177 86 1989 3565078 38526 37190 37023 6748563 57922 21932 9122226 709 158 1300 166 9959 176 39590 5657365 2586485 2146 23499 180 177 2544 165 8547 66893 13344338 10016 2597 67694 21904 3497419 20499 5217 10095 285 10015 9593 17314 2137 14564 7401 9152094 100',\n",
       "             9820: '2549 38694 9554 5062990 96400 90073 30361 61 5045005 69475 4593012 4592612 5044804 6565231 24872 86064 58004 5469728 55034 709 38700 878 15241 38679 4033595 5189 63045 39590 64642 5481691 4274992 8550 5044810 1746 1747 14836 4954 10095 57867 4830973 105761 39725 4033661 12732 7520 5469882 7518 7064842 26771 57853',\n",
       "             9839: '158 176 67694 18887 58812 18711 9990 4276462 6590 18713 18710 18422 57248 26617 74038 64165 22912 4033820 14660 38526 144 28055 5479375 8134 13272 89951 57533 5047608 15429 7071464 6749994 709 1300 166 9959 39590 5657365 2586485 2146 23499 180 177 2544 165 8547 66893 13344338 10016 2597 21904',\n",
       "             9868: '63984 5061792 3048672 95825 1749 5479810 4033668 5481361 7071972 5481362 58080 37190 23894 3040232 17702 4141996 69023 91898 709 158 1300 166 9959 176 39590 5657365 2586485 2146 23499 180 177 2544 165 8547 66893 13344338 10016 2597 67694 21904 3497419 20499 5217 10095 285 10015 9593 17314 2137 14564',\n",
       "             9879: '104 25461 58190 24732 709 158 1300 166 9959 176 39590 5657365 2586485 2146 23499 180 177 2544 165 8547 66893 13344338 10016 2597 67694 21904 3497419 20499 5217 10095 285 10015 9593 17314 2137 14564 7401 9152094 100 49911 2165 170 66966 9842 66969 224 59980 55133 66967 96161',\n",
       "             9889: '20285 104 6371189 26616 50 105 72155 84318 151 38169 4275049 5217196 19299 6375421 36945 6565228 36248 14468 44747 18424 16346 58934 4720 38438 199661 36533 5479381 16675 80432 5214785 69727 4719 6005134 4674 3818343 709 158 1300 166 9959 176 39590 5657365 2586485 2146 23499 180 177 2544 165',\n",
       "             9953: '7397 67326 3817489 7324996 5479931 6749604 60850 183 27571 6749603 84099 5481321 7739 9740 63236 20352 15627 3302555 61081 15715 5046951 6692163 84430 86979 58924 4277062 1118 6565 709 158 1300 166 9959 176 39590 5657365 2586485 2146 23499 180 177 2544 165 8547 66893 13344338 10016 2597 67694 21904',\n",
       "             9958: '59980 61053 9496 24848 5062891 64184 45541 2834236 3577480 57533 31580 3577476 7014 84439 81505 6785092 6003552 709 158 1300 166 9959 176 39590 5657365 2586485 2146 23499 180 177 2544 165 8547 66893 13344338 10016 2597 67694 21904 3497419 20499 5217 10095 285 10015 9593 17314 2137 14564 7401',\n",
       "             10001: '2544 55134 2600 3818498 9425 67040 10115 59187 66252 4226677 66868 67701 1159931 64069 36059 5061260 58708 6605 4523 8242 58962 101031 67165 36311 1914830 2833535 14453 21588 38526 72455 64750 37382 105481 8287 1837 6678029 63899 96588 45311 4203260 5046419 4276297 37497 6827838 28041 7044084 4831295 15599 5046080 5993779',\n",
       "             10019: '4141821 6678190 12320 12260 84319 177 4440 3817542 39590 103039 67208 4276343 45457 69669 52657 6976 105 80460 24852 31180 36067 14731 77152 199694 6975 3817513 5469788 94256 4592908 3302557 60179 66845 67014 3817489 59980 3818895 14610 10265 75924 14581 39662 55034 4276380 6005389 69553 5186 19562 5651530 104 7036223',\n",
       "             10113: '176 49911 58170 3497570 3497505 14292 71049 57280 14303 19940 50 10198 49915 22043 13301 22976 18723 86838 3497423 18710 13108 14731 4592951 84321 13129 18721 3045033 2606081 3039037 201702 19986 7036227 19937 19987 3052258 28126 67321 99598 102769 5051107 78715 73143 3825081 63690 26681 3039059 45406 59643 6743256 709',\n",
       "             10142: '18438 20499 196 4203454 3825075 38699 61113 38702 4203453 981 18677 5483287 14630 85598 67279 2586493 6368557 2293 58022 63780 6749607 48315 5997157 6749598 1772 66843 38700 5073714 5073725 92338 7988 452 199 104 24273 6403 15722 7064842 5178 5483283 14824 2834045 7325308 8084 7342762 1159911 4277725 7573 7559 50258',\n",
       "             10152: '14343 2597 4141821 36280 10002 709 5997136 38694 58093 69250 14292 14303 14770 158 60840 9970 4033574 55133 92786 63610 50260 22035 5479511 13323 100849 4141320 5046159 4033822 25550 5214802 5305 93652 4141382 4141728 5481714 39660 3817489 3817484 7048185 38169 63072 7071972 3817529 37201 20214 5481688 5479458 5479153 4033786 37520',\n",
       "             10162: '7397 10049 52657 67281 100789 96223 14867 57170 66959 13854 13047 199 95601 45349 100648 96237 196 21620 6909 57243 10023 1230 47844 13852 30366 13348 27943 51388 21423 89613 57221 84006 196961 47843 29547 196960 38356 50220 6784060 4831396 47846 58903 57343 93624 27972 58981 58983 27590 104701 39681',\n",
       "             10252: '55133 3817484 63072 7324996 3817507 5481356 5180 58958 5183 72279 76429 67171 38363 37448 5479916 3582674 6749933 9779 84165 2600496 17198 13809 4592672 19159 13928 3082638 3818537 2834972 7339958 38487 2011 25693 4830875 14978 3817511 17773 13765 7325199 2600486 4277616 5062839 5997135 5199 38462 618 5476552 7014 3817589 4276842 709',\n",
       "             10286: '3868668 67352 5655 6768086 4275256 5473476 5075447 3043036 17656 7034562 60154 1498154 6768164 3043447 25854 25852 6770286 60741 67404 6768167 13560 3869066 77277 5479071 3829462 57747 57700 57703 57642 57706 57685 57632 6770689 71124 14375 50578 72283 6768310 131 6695066 6768 8016612 86793 102555 59430 12845 52657 3497403 75382 60147',\n",
       "             10295: '4275722 4275717 4275723 66964 7000390 7000391 25158 6003558 17051 7000388 3053867 3053868 5045921 5045922 93177 38116 2542 59460 77077 7057447 5061721 201114 14844 24357 25516 6371 92418 24827 57608 4275718 287 74010 74662 6370 6369 4203419 7397 57399 48417 57610 37361 70061 76656 73725 45520 27597 7107762 17033 7401 17311',\n",
       "             10373: '68465 6371 6369 93461 6697382 3497519 7036232 3497457 39761 9127322 4277735 68858 3497534 4277617 3045040 9127377 102598 52437 68898 3083039 72074 7043352 5060880 3039836 5060882 709 158 1300 166 9959 176 39590 5657365 2586485 2146 23499 180 177 2544 165 8547 66893 13344338 10016 2597 67694 21904 3497419 20499 5217',\n",
       "             10375: '57608 80869 7048357 26753 538 7048284 5046073 92122 6104 21908 103204 7323788 709 158 1300 166 9959 176 39590 5657365 2586485 2146 23499 180 177 2544 165 8547 66893 13344338 10016 2597 67694 21904 3497419 20499 5217 10095 285 10015 9593 17314 2137 14564 7401 9152094 100 49911 2165 170',\n",
       "             10406: '20820 2188 9593 9606 9595 7386526 57733 65670 57723 4033497 10019 5481691 286 709 2566477 288 13487 69553 9607 9598 4033670 9610 18480 2589310 96205 5469882 14631 5073419 3302557 5657672 9490 100952 2599278 7342224 10132 18498 64224 55140 158 14572 4277072 65291 65349 18481 9775 399 287 26314 14431 96530',\n",
       "             10444: '3497419 36067 57622 2600083 57624 26333 3821899 44802 7029518 7107820 6771056 17326 5892 69776 3047050 104085 7043711 17330 3058704 78621 63742 17006 3497448 7284106 6770090 101706 709 158 1300 166 9959 176 39590 5657365 2586485 2146 23499 180 177 2544 165 8547 66893 13344338 10016 2597 67694 21904 20499 5217',\n",
       "             10476: '100 9979 72875 14264 68700 10163 9425 5178 25241 90640 13179 1037 5997136 7342765 50260 1309 98790 90439 45479 91973 48344 90228 4033701 6893 89945 7348021 4593020 5305 2834846 5051537 7342752 21495 7348045 7062036 57295 5479791 12744 2835284 6390459 9280136 25759 7342539 709 158 1300 166 9959 176 39590 5657365',\n",
       "             10478: '709 1300 3497419 9152094 100849 100789 72006 6005364 5642 288 75676 4275967 67408 7036226 56899 3302557 5469882 57787 65140 84318 22161 21827 61102 3302554 7036182 18013 59771 25248 3497558 56900 78576 64366 6756954 25250 21438 5062459 5479466 6785165 47064 38526 14590 50477 4141513 6694821 3823464 60005 103523 9712 44859 13936',\n",
       "             10487: '44866 92961 709 158 1300 166 9959 176 39590 5657365 2586485 2146 23499 180 177 2544 165 8547 66893 13344338 10016 2597 67694 21904 3497419 20499 5217 10095 285 10015 9593 17314 2137 14564 7401 9152094 100 49911 2165 170 66966 9842 66969 224 59980 55133 66967 96161 7000939 159',\n",
       "             10488: '4592908 72003 7036228 67420 4227874 72154 67027 67028 14824 6368465 26197 6685956 64244 3497423 64045 3096248 10120 4424 7036223 44771 6696244 61557 6566 76918 7034877 3497430 70625 6591107 7365673 7042616 66661 93548 86893 5060439 3820676 7397595 30272 2834855 3045036 57197 6692072 7326446 6695697 7313830 67548 25794 38266 7030022 5654322 25795',\n",
       "             10502: '709 10095 58170 43 58169 93291 86616 55018 7040941 73733 79785 2834045 57867 71432 58168 92368 77096 200939 3817547 6005363 2589315 3565880 37128 6882 5471526 38700 57863 72326 3817544 105507 73681 64257 86148 410 6805285 71946 36719 92909 105671 73477 57994 90818 73843 7364753 5045570 64756 85840 58173 94836 2833445',\n",
       "             10535: '709 158 39590 49911 224 55133 225 55134 69669 2322 3817512 2321 24273 3817489 24866 2542 2578 2325 14757 92418 100812 60850 55034 15145 2324 69553 36593 62826 6749605 200939 105470 10034 86 91183 20059 20567 5479153 18713 4274636 18710 13322 4141333 18712 4276595 694 5630482 21195 2833625 3302558 5051530',\n",
       "             10552: '74516 709 158 1300 166 9959 176 39590 5657365 2586485 2146 23499 180 177 2544 165 8547 66893 13344338 10016 2597 67694 21904 3497419 20499 5217 10095 285 10015 9593 17314 2137 14564 7401 9152094 100 49911 2165 170 66966 9842 66969 224 59980 55133 66967 96161 7000939 159 2549',\n",
       "             10582: '2578 13179 20395 2542 13181 709 6003725 6003724 67091 60214 22108 23499 7397 3817542 66820 130 36593 95359 90302 4202912 3819127 15373 8547 5469882 49818 5481284 1747 50190 67709 90220 6003721 61065 10065 14836 22107 37279 200839 4274991 95835 5481325 5479458 61155 101031 58467 7734 13070 13071 10264 6005363 86174',\n",
       "             10620: '39590 55133 55134 69669 52657 22035 73690 7342538 55130 5469882 85879 38675 5481678 62826 4277747 58275 22547 5469740 64257 2302 61899 7004187 6390524 16070 57097 10055 14969 90082 89882 5676 86490 5468864 31211 2512 63030 18980 3302550 61693 709 158 1300 166 9959 176 5657365 2586485 2146 23499 180 177',\n",
       "             10670: '3497492 1660 104117 73136 7034562 7365586 85924 5943 3064247 3863535 7029901 709 158 1300 166 9959 176 39590 5657365 2586485 2146 23499 180 177 2544 165 8547 66893 13344338 10016 2597 67694 21904 3497419 20499 5217 10095 285 10015 9593 17314 2137 14564 7401 9152094 100 49911 2165 170 66966',\n",
       "             10759: '158 39590 21904 7401 100 9842 7397 3817484 67407 45584 96306 45457 60174 3817489 94333 67408 5481691 138 661 3302557 14836 19562 14297 3817529 18028 5187 26616 19940 59187 50 66252 10265 49915 21450 21664 63295 2599278 26222 45585 69011 36593 5479797 107 69012 9387 39561 28138 5074353 44788 67564',\n",
       "             10835: '78672 10039 1749 45272 7342221 65184 47844 47843 37041 30396 4276782 22996 4277632 1253 73315 6770196 96117 24272 68010 71876 71991 70749 5051480 103389 3820658 6771251 709 158 1300 166 9959 176 39590 5657365 2586485 2146 23499 180 177 2544 165 8547 66893 13344338 10016 2597 67694 21904 3497419 20499',\n",
       "             10932: '7397 2322 96212 14863 91008 87886 21664 65522 65525 21663 24839 67140 21662 47845 100951 89611 23504 100948 47844 89613 5045431 13275 13272 13276 709 158 1300 166 9959 176 39590 5657365 2586485 2146 23499 180 177 2544 165 8547 66893 13344338 10016 2597 67694 21904 3497419 20499 5217 10095',\n",
       "             10937: '19051 5629938 24273 10019 24872 2586487 184 20276 5554 18017 14468 45457 5634 76913 69669 3817484 813 30902 14748 14734 9859 37536 36483 4831055 4274920 103302 10095 16633 5650 57013 4689 5177 2835235 6005363 2589315 47495 12018 3048644 20058 6210221 5642 3497570 92418 45479 6769 26086 3567883 5190 5194 9950',\n",
       "             10962: '10095 49911 55133 72006 14292 487 20269 69372 3817487 5481678 27567 24869 24873 64800 650 96185 7734 58795 37361 2589314 95430 58179 27572 5046355 63619 24357 4276305 7751 24867 29545 63900 5053 4141323 4274869 22053 14631 7048203 35024 2833533 83955 7342286 7014872 57402 50200 1967 18078 709 158 1300 166',\n",
       "             11001: '166 177 9979 4033462 26184 14264 58093 288 67499 3818498 67031 36153 2834045 38703 60246 7342765 69261 26197 96255 100446 45486 4203422 26198 25548 7016417 14386 7325211 7799 5063315 7731 25549 58699 95801 26612 69303 4276010 14507 3590686 58158 3590685 7047725 38068 7332 22580 7047723 57430 7325325 7047724 29883 709',\n",
       "             11002: '709 21904 5217 3817484 67035 5046645 6368 136 10074 4033651 67027 67028 5997136 24871 6696868 31300 58958 5046281 1159923 5061788 5471575 2834517 2535 24872 57985 5046282 16592 7062199 6784706 77785 57320 6591 6784103 5657492 16908 37241 28170 5478961 5046002 9707 5046357 26108 44731 158 1300 166 9959 176 39590 5657365',\n",
       "             11004: '26062 18970 2575 709 158 2320 38226 26751 30215 4274991 69372 5481356 9990 91357 100849 9592 60951 6371189 65349 3817489 100812 198455 4275012 4274968 3817507 38234 7386338 6677915 10034 58958 3817512 5217349 55133 61731 5479406 37449 15148 38236 876 64220 38235 3819484 36828 58914 90243 44734 24843 37448 2322 94566',\n",
       "             11059: '9959 10095 7401 24836 10019 66956 24775 54728 24851 2601 7391 3817507 60850 55128 5997136 7042851 199 17803 74633 16825 6696245 19007 7043845 57243 7396544 9127322 67195 4203420 27677 62097 71154 85341 57221 5483287 90932 3069038 6390830 7387493 4203250 71327 7072099 45541 2833686 86384 4276355 3069429 45540 3069037 69954 102127',\n",
       "             11078: '13107 9425 56899 36238 45458 38241 20414 21813 3562687 4235874 39660 5631 4831055 14824 21308 45586 5481726 4033695 4689 5479909 4523 6375429 91972 1914830 5630482 4524 5479910 4831075 7342624 36618 5470989 4423 16608 4276003 9122186 6678033 709 158 1300 166 9959 176 39590 5657365 2586485 2146 23499 180 177 2544',\n",
       "             11105: '4592908 77094 72003 7036226 261 10265 3497432 4444 22976 22975 59792 4873 3045033 6756954 13666 7034722 5051436 37433 7043784 5474356 1831 50219 77916 13496 102872 3077051 7043755 71644 15979 5051307 7406314 6771005 70192 38414 3064247 52659 7032893 3835057 7029847 709 158 1300 166 9959 176 39590 5657365 2586485 2146 23499',\n",
       "             11121: '3497419 66966 224 57952 77094 45457 15375 94125 15374 23140 45256 67214 67242 57810 23139 6003852 48316 21868 17803 8071 67240 102240 48314 131 26617 5075857 53319 6756959 60537 36239 95018 72071 201199 44790 6693103 3078248 86573 36240 3572683 54719 61480 7032317 3039836 7032316 3825854 7034783 3497487 5074057 709 158',\n",
       "             11122: '7004186 23004 10016 2572 2562 58170 2544 2573 9501 3818446 58169 38679 19007 5199 39560 6749605 512 67767 7451 29558 64045 91374 2599278 5214959 5474256 24835 4277753 6565233 4277752 6565236 5474257 7064842 7342624 6749602 7015896 24827 63927 5217 7559 29707 100300 5182 37315 31277 96168 1746 63854 83846 5036523 3818701',\n",
       "             11135: '1300 5479810 24848 98040 38060 21438 592 57665 28120 28085 64184 29649 8263 5476550 28121 84169 7071777 28040 4831113 29882 709 158 166 9959 176 39590 5657365 2586485 2146 23499 180 177 2544 165 8547 66893 13344338 10016 2597 67694 21904 3497419 20499 5217 10095 285 10015 9593 17314 2137',\n",
       "             11172: '10016 7397 39729 20355 2625 79410 14564 21999 55034 7375 54718 198863 6210173 6749019 5479848 3817487 6591106 14630 52221 3497570 3497521 39829 7106652 3497452 3497474 12732 22045 7880 5479853 94653 5469736 3302557 21767 8017003 9127420 7324009 3497347 8017086 6677915 6591107 5469882 15593 100446 4830912 6005364 78672 3497519 6003464 24831 7740',\n",
       "             11211: '9959 39590 55133 3817484 24852 67693 63072 20276 3497570 9950 6347 72006 5479511 2575 9932 304 7324996 2833784 6368 5214 6337 6345 17761 3302524 95359 55130 92418 6340 50 94334 14681 4830912 49915 27571 13481 6343 13550019 39665 6003958 5651431 67550 5476075 9852 57612 38492 5566970 67233 38464 67187 7048764',\n",
       "             11215: '709 1300 10095 9842 55133 55140 63072 100849 3497570 3817512 2575 73690 7324996 4141754 55130 92418 5046083 55034 5469882 15145 55128 13550019 38675 5481678 19480 591 2835413 2589314 5657402 1278 7295 7061234 7062368 57362 4276579 9122173 9712 4033740 13936 18417 60848 5980513 3817508 5476084 5061306 13550162 158 166 9959 176',\n",
       "             11256: '3817484 55140 6347 72006 58093 157 65140 55266 50028 91183 5479848 3042233 54397 38447 67497 31437 73136 72398 103413 6691444 102349 7396075 6827201 3046628 5479101 6813 8017347 6691447 6691448 7029554 9260828 709 158 1300 166 9959 176 39590 5657365 2586485 2146 23499 180 177 2544 165 8547 66893 13344338 10016',\n",
       "             11297: '4275810 57174 2578 5214 4202912 3302557 5629938 4226677 5186 4033646 825 19300 37484 63638 56900 58032 94653 37276 37277 3818847 37275 57836 69196 25054 6749556 5192 5046350 1750 15241 37271 4831077 3819536 5387 37241 7766 44254 37413 5063043 4276191 3819537 9139479 36657 29785 89527 5074551 86742 7344352 24713 96241 53061',\n",
       "             11316: '5214768 4141460 158 57535 14294 14292 4227874 66949 69372 6591106 37457 201700 67027 37167 2544 6349 37168 14853 10265 9556 57513 14734 1746 15607 17196 5997101 95835 3599473 30319 5479853 4276670 89922 9410 67151 60116 36586 6794 8771 104 1990 86221 9425 95442 22333 20269 17260 304 16705 5481252 10163',\n",
       "             11325: '159 3574676 86480 73492 7517 4275840 5073704 96364 66339 64819 201171 8710 3869066 7365555 6770437 6768265 51059 6768285 89744 4523 5654304 17613 7043798 15997 25851 100300 10049 7016117 67586 3053924 75926 51478 10265 13481 7043778 7324478 5216644 7478 68526 131 7043786 17615 709 158 1300 166 9959 176 39590 5657365',\n",
       "             11336: '176 21767 3497505 45459 60 7036241 93684 102 10265 3048678 4440 4517 4443 178 3497403 2834517 59610 9858 7029518 200953 63681 9254892 71054 4513 86020 2834380 15235 52437 89900 95832 6770637 709 158 1300 166 9959 39590 5657365 2586485 2146 23499 180 177 2544 165 8547 66893 13344338 10016 2597',\n",
       "             11337: '10016 24775 30247 8201 18711 26690 18713 18710 8074 18712 6885 4276407 8179 6607609 7376 3828264 196930 29561 93832 4276408 7326741 8182 6395 709 158 1300 166 9959 176 39590 5657365 2586485 2146 23499 180 177 2544 165 8547 66893 13344338 2597 67694 21904 3497419 20499 5217 10095 285 10015',\n",
       "             11339: '73 591 5653 4141329 57978 5997156 2048 1220 57535 87519 5044590 709 158 1300 166 9959 176 39590 5657365 2586485 2146 23499 180 177 2544 165 8547 66893 13344338 10016 2597 67694 21904 3497419 20499 5217 10095 285 10015 9593 17314 2137 14564 7401 9152094 100 49911 2165 170 66966',\n",
       "             11381: '176 2600 5642 60850 23119 69011 1611 94141 94140 16569 15241 3566680 6003791 20329 5045997 16643 5483288 3818447 709 158 1300 166 9959 39590 5657365 2586485 2146 23499 180 177 2544 165 8547 66893 13344338 10016 2597 67694 21904 3497419 20499 5217 10095 285 10015 9593 17314 2137 14564 7401',\n",
       "             11408: '60119 5045462 5180 7043350 4277368 3052242 6591116 7032492 7032491 7032494 7324483 7060898 709 158 1300 166 9959 176 39590 5657365 2586485 2146 23499 180 177 2544 165 8547 66893 13344338 10016 2597 67694 21904 3497419 20499 5217 10095 285 10015 9593 17314 2137 14564 7401 9152094 100 49911 2165 170',\n",
       "             11429: '36067 72875 2518 1787 15145 1764 896 37221 37276 5044335 17494 61099 38735 49997 25128 38734 39812 5062902 2835225 63945 709 158 1300 166 9959 176 39590 5657365 2586485 2146 23499 180 177 2544 165 8547 66893 13344338 10016 2597 67694 21904 3497419 20499 5217 10095 285 10015 9593 17314',\n",
       "             11446: '159 9842 14770 67326 22982 26621 10019 709 85680 58002 22527 24852 72154 2272 7401 85679 18720 196 69372 4274951 20356 487 13854 456 9444 13596 9793 66650 6697382 6371 26739 25110 67693 60774 6486 1830 25027 15069 17765 9130738 27948 3501486 452 60005 199 24826 68465 91374 7352 9974',\n",
       "             11449: '45284 157 7375 709 158 1300 166 9959 176 39590 5657365 2586485 2146 23499 180 177 2544 165 8547 66893 13344338 10016 2597 67694 21904 3497419 20499 5217 10095 285 10015 9593 17314 2137 14564 7401 9152094 100 49911 2165 170 66966 9842 66969 224 59980 55133 66967 96161 7000939',\n",
       "             11456: '1300 17314 59980 69669 64712 10115 102932 2005 58812 47769 9936 5479810 64099 47771 58958 4275049 15984 9935 2010 37277 25548 44771 6930 18327 67860 16022 44867 63955 5063249 4276440 14835 44846 60504 4274957 75487 58832 26585 4274954 6607698 44847 25549 4203423 6314 10212 198609 5481257 26612 3587073 2834880 4274951',\n",
       "             11470: '709 100849 22035 5479511 5481691 5214 38458 4444 7342708 69218 16102 6620899 6351892 6351890 6351857 158 1300 166 9959 176 39590 5657365 2586485 2146 23499 180 177 2544 165 8547 66893 13344338 10016 2597 67694 21904 3497419 20499 5217 10095 285 10015 9593 17314 2137 14564 7401 9152094 100 49911',\n",
       "             11526: '709 158 55134 3817484 10019 55140 57952 100789 54728 3817542 96205 24273 60153 94333 130 7495 3302557 14836 5479931 89577 24827 39726 79082 2005 5479493 55034 105764 93461 20269 72283 1037 3817487 69553 103938 22161 5631 5481356 6640642 47771 60133 3599473 5476580 96578 58783 9793 137 61078 67013 829 128',\n",
       "             11531: '5217 4202912 55130 95736 96185 95442 1159924 3051036 6003865 36586 57574 44733 64346 199623 24980 6697242 5481703 84486 5481704 709 158 1300 166 9959 176 39590 5657365 2586485 2146 23499 180 177 2544 165 8547 66893 13344338 10016 2597 67694 21904 3497419 20499 10095 285 10015 9593 17314 2137 14564',\n",
       "             11565: '10012 24273 5629938 8550 4033459 67140 8062 709 158 1300 166 9959 176 39590 5657365 2586485 2146 23499 180 177 2544 165 8547 66893 13344338 10016 2597 67694 21904 3497419 20499 5217 10095 285 10015 9593 17314 2137 14564 7401 9152094 100 49911 2165 170 66966 9842 66969 224 59980',\n",
       "             11588: '176 39590 2586485 10016 24836 67407 26184 20276 288 66088 59460 26338 47853 2320 5483097 26334 69372 69250 26222 7015896 18017 4831055 3571077 93655 26739 26197 8196 24837 20273 5075782 5470939 67564 26200 100446 7071972 58782 5074500 72279 7446 91879 5997186 7044046 45911 25548 9692 3818847 5051544 3584675 28150 7325271',\n",
       "             11624: '709 158 2586485 7401 9152094 225 3817484 24831 67407 100849 60174 39489 6131 67103 14752 57252 63034 24843 76476 3817487 50258 4444 50260 14581 16731 5045574 3832659 7025 68370 57208 37364 7734 4424 4523 6618 5050870 37361 5045575 66895 58788 7732 5045573 99572 8126 6749978 7735 29694 29631 16893 5481337',\n",
       "             11652: '709 165 57342 36067 22035 5642 102932 57346 14833 1987 67615 825 4592981 77152 14832 4689 56900 37515 12848 57932 12850 38162 20033 104335 25577 104834 20202 57257 5216138 158 1300 166 9959 176 39590 5657365 2586485 2146 23499 180 177 2544 8547 66893 13344338 10016 2597 67694 21904 3497419',\n",
       "             11656: '21904 36242 55140 9867 72003 456 7036235 3497505 78672 45459 5178 7036226 198043 172 5257 20295 3497386 63646 85879 14470 3497330 4517 67148 471 94677 5045991 38464 58962 13464 13435 20299 2564086 7036181 90701 7036247 9122128 3096242 22584 45264 39635 4224674 5218 6756956 37294 6695618 25966 70048 61546 7043362 64821',\n",
       "             11829: '3497446 25950 5044894 20100 91972 60283 91572 3497401 92746 7329567 6770256 71496 13734 5060423 3846255 5060419 22475 5060451 60958 202197 7042903 3043040 4141494 85924 7034580 60560 6770705 3824667 6770635 3042279 71489 6771259 7043497 19460 3084277 3084278 7030133 6771237 709 158 1300 166 9959 176 39590 5657365 2586485 2146 23499 180',\n",
       "             11836: '1300 9152094 7397 24836 10019 63072 2628 14337 24273 64712 60 15512 6337 59187 60850 6367 7021 8201 27571 266 3562687 84318 14465 39604 825 6590 37484 14749 20819 14613 26225 58795 39547 44824 20820 78969 5046168 6975 82277 51 4873 76956 69476 93714 7740 36248 6565229 20389 28170 7048357',\n",
       "             11959: '20499 2562 4033648 63897 911 7292 12306 12337 709 158 1300 166 9959 176 39590 5657365 2586485 2146 23499 180 177 2544 165 8547 66893 13344338 10016 2597 67694 21904 3497419 5217 10095 285 10015 9593 17314 2137 14564 7401 9152094 100 49911 2165 170 66966 9842 66969 224 59980',\n",
       "             12038: '2586485 66956 39489 6131 45283 8286 27987 2834854 17803 4276239 57319 79376 5061788 26141 4141624 57985 4628 709 158 1300 166 9959 176 39590 5657365 2146 23499 180 177 2544 165 8547 66893 13344338 10016 2597 67694 21904 3497419 20499 5217 10095 285 10015 9593 17314 2137 14564 7401 9152094',\n",
       "             12050: '39589 21767 7036241 3497463 6640642 3497450 6368538 3497492 5060312 9127333 3045040 77215 3053860 3045039 7034805 709 158 1300 166 9959 176 39590 5657365 2586485 2146 23499 180 177 2544 165 8547 66893 13344338 10016 2597 67694 21904 3497419 20499 5217 10095 285 10015 9593 17314 2137 14564 7401 9152094 100',\n",
       "             12086: '709 9959 39590 177 55134 36067 69669 20276 5469736 5045302 6005364 6369 24851 20289 38679 6370 39725 3817507 5481688 59460 130 45430 59187 66843 65140 8273 50258 24871 5488904 5997215 39665 18438 7008784 200939 38169 66880 4277747 6375427 57988 58275 5061788 18939 5601 76867 14749 20819 6003558 6375428 4203422 1159911',\n",
       "             12091: '709 166 55134 981 14337 304 10163 7324996 9425 14836 15145 9881 86719 3569885 1159928 69166 6695706 5217380 158 1300 9959 176 39590 5657365 2586485 2146 23499 180 177 2544 165 8547 66893 13344338 10016 2597 67694 21904 3497419 20499 5217 10095 285 10015 9593 17314 2137 14564 7401 9152094',\n",
       "             12124: '5045301 76867 131 7031268 5063336 7043102 222 176 85679 7032308 96161 57607 4592985 158 9959 407 3868662 86480 7032303 4211879 7061980 22987 58920 69250 20273 478 58038 7342762 18327 3817484 709 4033458 14994 14743 5063043 6371203 26827 4274936 304 201890 58202 3083039 4860 7342450 67138 199642 3497461 3045028 7325211 6347',\n",
       "             12139: '45459 46966 102 39665 6368465 58137 71349 21999 3850658 9254893 7034712 7365673 57085 7043344 709 158 1300 166 9959 176 39590 5657365 2586485 2146 23499 180 177 2544 165 8547 66893 13344338 10016 2597 67694 21904 3497419 20499 5217 10095 285 10015 9593 17314 2137 14564 7401 9152094 100 49911',\n",
       "             12168: '5217 49911 7397 2322 1746 5214 2325 3865881 72283 72282 59771 10034 5214802 78288 59772 6368538 57221 3068634 5566936 24826 36382 38224 7415 5046310 709 158 1300 166 9959 176 39590 5657365 2586485 2146 23499 180 177 2544 165 8547 66893 13344338 10016 2597 67694 21904 3497419 20499 10095 285',\n",
       "             12177: '14466 7325382 73690 2833784 4202912 95736 58812 6697382 60278 5997215 21827 61102 7064842 2834359 58022 6717 61013 6565242 6749598 16019 9763 4203422 103142 4277633 36872 94653 37276 4986 5483120 4426 61065 36852 61046 9122174 37005 61015 57836 9898 61634 4203421 25524 5045832 36945 37271 69131 97950 29955 5214790 14003 37241',\n",
       "             12200: '709 39590 21904 59980 39591 981 222 24831 63072 13120 49921 1746 456 13121 26751 45459 399 3817489 102932 138 67679 21440 100812 60414 69372 9859 37061 72155 36593 137 1764 18428 6605 50190 69373 6748562 4274656 3817592 5481616 5479399 9127418 9127333 4033574 100901 31181 20210 93859 199266 1930 6748729',\n",
       "             12235: '10095 55140 31277 100849 72875 6005364 67109 10163 5481691 9590 3817507 13152 9500 3302557 95359 10198 5479493 15145 55128 37061 22161 3818569 62826 27567 103920 38301 58795 58149 84866 7061235 7062073 4986 19917 4277725 85823 7062075 7062074 5044581 6784706 7044043 22283 3818752 85341 96542 10068 4277724 7044044 84165 29583 4141499',\n",
       "             12267: '158 1300 2544 10016 2597 21904 2625 3817512 2539 66975 24866 39725 5481691 3817507 4202912 64213 58812 4830912 27571 8273 8282 30307 14474 105591 5476075 5044801 7030140 8266 37292 18422 18428 4141329 5075769 25638 3599480 8003 39804 25054 3591087 3559474 25106 8062 4591 7478 37271 22562 69940 25078 7072099 96174',\n",
       "             12283: '9842 55134 73492 9809 9977 7036228 3302557 57948 24827 39726 8016 5063007 8548 199590 13071 60012 17809 3591086 13112 60022 76112 36423 3599479 15148 58365 3599480 100709 200863 201126 4203124 12732 57659 13111 7726 100901 694 198549 7064623 4276233 58335 71992 104838 27337 68269 60357 57699 7064624 104335 5075864 104550',\n",
       "             12288: '10016 21904 7397 45459 11 2834432 39727 13349 58782 26141 8333 87534 28163 82336 60331 3034632 69347 709 158 1300 166 9959 176 39590 5657365 2586485 2146 23499 180 177 2544 165 8547 66893 13344338 2597 67694 3497419 20499 5217 10095 285 10015 9593 17314 2137 14564 7401 9152094 100',\n",
       "             12355: '66962 66975 7323827 6565322 4033498 48315 76870 7325306 2564085 16897 73580 76391 9735 71906 77596 50126 5045116 15625 1197 76670 76669 73492 3497419 50036 39751 1198 103799 9751 3824656 4526 39726 3865885 5215568 68646 79084 94426 6695194 77763 7324054 6867 7323117 7323159 7323291 201891 2835149 2835152 2835150 7061938 6649 67693',\n",
       "             12357: '4033710 36993 37012 37003 37001 709 158 1300 166 9959 176 39590 5657365 2586485 2146 23499 180 177 2544 165 8547 66893 13344338 10016 2597 67694 21904 3497419 20499 5217 10095 285 10015 9593 17314 2137 14564 7401 9152094 100 49911 2165 170 66966 9842 66969 224 59980 55133 66967',\n",
       "             12405: '4274968 1092 16868 196879 709 158 1300 166 9959 176 39590 5657365 2586485 2146 23499 180 177 2544 165 8547 66893 13344338 10016 2597 67694 21904 3497419 20499 5217 10095 285 10015 9593 17314 2137 14564 7401 9152094 100 49911 2165 170 66966 9842 66969 224 59980 55133 66967 96161',\n",
       "             12443: '9500 1590 20414 26197 59094 26200 100446 64227 26198 5216971 36974 71201 7061938 14969 709 158 1300 166 9959 176 39590 5657365 2586485 2146 23499 180 177 2544 165 8547 66893 13344338 10016 2597 67694 21904 3497419 20499 5217 10095 285 10015 9593 17314 2137 14564 7401 9152094 100 49911',\n",
       "             12482: '709 49911 399 14752 10189 49915 5997136 25516 13483 6375454 37212 806 38717 14497 85152 84058 57150 37412 14261 6930 63057 6391 37216 37024 37410 3818399 5044585 37190 14306 4831077 45464 57563 14308 12845 3583481 5047354 102186 12843 69272 4275012 37222 69596 6744453 3561077 7325166 63618 50373 7406367 14484 4940',\n",
       "             12492: '49911 1747 8273 8282 29648 5566937 24872 2622077 29587 29652 29651 5076169 5071870 7062139 709 158 1300 166 9959 176 39590 5657365 2586485 2146 23499 180 177 2544 165 8547 66893 13344338 10016 2597 67694 21904 3497419 20499 5217 10095 285 10015 9593 17314 2137 14564 7401 9152094 100 2165',\n",
       "             12555: '2558 2635 14877 14857 7345 24677 57441 709 158 1300 166 9959 176 39590 5657365 2586485 2146 23499 180 177 2544 165 8547 66893 13344338 10016 2597 67694 21904 3497419 20499 5217 10095 285 10015 9593 17314 2137 14564 7401 9152094 100 49911 2165 170 66966 9842 66969 224 59980',\n",
       "             12589: '49911 15593 57174 14836 8016 72154 24839 8097 37292 62038 38837 5387 104550 104558 58065 5659278 7439722 99691 7306 10752 56993 10688 56994 82109 98762 3564297 709 158 1300 166 9959 176 39590 5657365 2586485 2146 23499 180 177 2544 165 8547 66893 13344338 10016 2597 67694 21904 3497419 20499',\n",
       "             12590: '37548 37549 73344 93626 102724 9496 90273 7004207 5997164 4033462 13564 16022 84319 17670 5628 7325347 18939 7342674 5650 55151 5483283 9935 26073 17672 37399 36828 5479901 8003 10095 55266 709 158 1300 166 9959 176 39590 5657365 2586485 2146 23499 180 177 2544 165 8547 66893 13344338 10016 2597',\n",
       "             12592: '5062860 5476588 5476589 7035305 8399 709 158 1300 166 9959 176 39590 5657365 2586485 2146 23499 180 177 2544 165 8547 66893 13344338 10016 2597 67694 21904 3497419 20499 5217 10095 285 10015 9593 17314 2137 14564 7401 9152094 100 49911 2165 170 66966 9842 66969 224 59980 55133 66967',\n",
       "             12610: '158 456 58169 56899 75926 9970 24827 24845 72084 1989 27415 17892 79004 86148 6041 67438 24428 17326 76839 57398 29797 196891 74451 82274 90832 72071 67010 1535754 7501 5045374 79006 30227 5074941 24947 7048994 106386 7043799 68475 76519 3823468 5060631 3830659 62460 24977 62415 62310 38310 5045376 7966 7042703',\n",
       "             12625: '4033558 709 158 1300 166 9959 176 39590 5657365 2586485 2146 23499 180 177 2544 165 8547 66893 13344338 10016 2597 67694 21904 3497419 20499 5217 10095 285 10015 9593 17314 2137 14564 7401 9152094 100 49911 2165 170 66966 9842 66969 224 59980 55133 66967 96161 7000939 159 2549',\n",
       "             12627: '66969 21545 22981 23500 5074498 67564 17281 4276620 1159911 16825 2835394 59100 26225 5829 70833 26042 6749985 5046297 94051 17213 9569 93624 2835389 3573873 4831297 16839 38127 3587478 87928 16799 52025 93538 709 158 1300 166 9959 176 39590 5657365 2586485 2146 23499 180 177 2544 165 8547 66893 13344338',\n",
       "             12634: '4988 38233 4987 27297 38238 9844 709 158 1300 166 9959 176 39590 5657365 2586485 2146 23499 180 177 2544 165 8547 66893 13344338 10016 2597 67694 21904 3497419 20499 5217 10095 285 10015 9593 17314 2137 14564 7401 9152094 100 49911 2165 170 66966 9842 66969 224 59980 55133',\n",
       "             12640: '15593 50128 59893 709 158 1300 166 9959 176 39590 5657365 2586485 2146 23499 180 177 2544 165 8547 66893 13344338 10016 2597 67694 21904 3497419 20499 5217 10095 285 10015 9593 17314 2137 14564 7401 9152094 100 49911 2165 170 66966 9842 66969 224 59980 55133 66967 96161 7000939',\n",
       "             12641: '860 21904 92123 6565230 7048882 26821 26224 63984 59991 2098 65575 5045181 61040 78766 8016341 61045 13997 9867 15657 36106 9643 5478983 26222 15475 5481682 4592980 55034 25719 9808 709 158 1300 166 9959 176 39590 5657365 2586485 2146 23499 180 177 2544 165 8547 66893 13344338 10016 2597 67694',\n",
       "             12668: '3497419 15593 43 3497570 456 7036235 7036239 2834432 3497450 7342221 6756975 7043847 7036229 14575 5060611 3497454 7034563 20320 7106587 74638 64747 3042235 3497426 94542 7384824 3042234 7034870 57135 84055 7365581 5044793 3031050 7042925 7043684 3497536 92340 5047535 7030101 7397325 7414780 7071122 9964389 61954 709 158 1300 166 9959 176 39590',\n",
       "             12725: '177 170 3817484 39591 222 57251 26621 304 407 478 46966 50258 15986 66881 66880 8187 59543 29988 30342 20100 29669 8104 5045851 3045033 8003 3818707 4274992 14578 86221 26061 16301 198609 60275 4393 7071564 67128 36502 20354 8192 330 91416 7062289 62462 3865070 3050234 77305 36264 3865860 5060436 80611',\n",
       "             12738: '5217 69669 3817507 5214 64913 31373 5046420 5061750 50103 915 5044354 6749065 61898 38566 7064665 101546 709 158 1300 166 9959 176 39590 5657365 2586485 2146 23499 180 177 2544 165 8547 66893 13344338 10016 2597 67694 21904 3497419 20499 10095 285 10015 9593 17314 2137 14564 7401 9152094 100',\n",
       "             12762: '709 1300 9959 39590 3497419 5217 55133 55134 24836 55140 24852 67693 39589 61 3817512 3497505 5479511 96223 6371189 5214 14757 55130 50 157 3497352 60107 5654340 50258 3497432 39692 39665 50028 20430 8770 2098 20431 58795 28009 3497474 93911 4873 8269 17723 93711 7043716 105551 14696 5044228 15988 64747',\n",
       "             12766: '49921 1746 2321 45283 4274956 5566924 216 2492 57243 201782 60504 101323 8202 14935 58228 64923 104040 2406 60265 63781 3039829 60411 3819415 6770116 76380 3865468 7062004 709 158 1300 166 9959 176 39590 5657365 2586485 2146 23499 180 177 2544 165 8547 66893 13344338 10016 2597 67694 21904 3497419',\n",
       "             12827: '66966 5629937 5488904 5481340 9790 6210248 12764 5046085 57882 709 158 1300 166 9959 176 39590 5657365 2586485 2146 23499 180 177 2544 165 8547 66893 13344338 10016 2597 67694 21904 3497419 20499 5217 10095 285 10015 9593 17314 2137 14564 7401 9152094 100 49911 2165 170 9842 66969 224',\n",
       "             12831: '2536 25712 17269 17246 17238 17287 709 158 1300 166 9959 176 39590 5657365 2586485 2146 23499 180 177 2544 165 8547 66893 13344338 10016 2597 67694 21904 3497419 20499 5217 10095 285 10015 9593 17314 2137 14564 7401 9152094 100 49911 2165 170 66966 9842 66969 224 59980 55133',\n",
       "             12841: '59980 57251 66975 24835 50258 70647 37458 59610 37452 25054 70412 30340 7042616 4902 70874 85839 61270 57234 90108 3075041 7539 45239 59832 61283 4698 3075043 3075042 22475 68221 15703 3076637 61414 17753 3075044 15693 68421 7034580 3074703 22474 7034417 3074704 85828 3818562 7365860 49957 7034418 7033638 7391865 7033639 7030729',\n",
       "             12851: '10095 100 55133 9979 67407 3497570 2625 100789 60174 73690 96294 4275967 96296 3302557 96437 64273 5479493 5045001 7342765 67409 70647 6375428 70962 58795 38654 5483119 96436 199254 65094 5481283 3818379 64908 14151 709 158 1300 166 9959 176 39590 5657365 2586485 2146 23499 180 177 2544 165 8547 66893',\n",
       "             12867: '158 159 14462 54728 67213 67212 20295 20414 64017 13854 50258 9571 17316 14632 17312 6300 14510 10000 20392 6368557 2835394 86855 101031 20298 14596 19540 94141 63704 17370 17319 14590 5474192 4033730 26743 5483287 20387 36293 22993 4592719 17340 50396 50404 397 69424 6318 6694963 4592726 78901 69365 3817961',\n",
       "             12912: '30361 10049 2575 9496 2833784 14248 876 7342538 821 6346 5046083 84118 39796 29556 5479797 5651431 14465 4033458 877 46762 65407 4033459 22614 37458 22969 79129 38464 2833650 5046168 5046282 25548 198630 16900 37444 21900 21901 57691 3566680 14007 13550375 60842 5657492 13930 58039 25550 19301 5657493 66889 36087 5479476',\n",
       "             12960: '38251 36666 59348 45932 2010 199380 20635 84497 2012 90174 4033793 2833603 19513 64590 5568 69576 709 158 1300 166 9959 176 39590 5657365 2586485 2146 23499 180 177 2544 165 8547 66893 13344338 10016 2597 67694 21904 3497419 20499 5217 10095 285 10015 9593 17314 2137 14564 7401 9152094',\n",
       "             12986: '18887 3497570 45459 14583 21511 21503 10196 152 7036229 20168 9127322 49944 4937 3497411 13944 4902 9127335 6771208 7036224 84055 73973 7032760 21112 7029498 9340591 6747874 7032779 709 158 1300 166 9959 176 39590 5657365 2586485 2146 23499 180 177 2544 165 8547 66893 13344338 10016 2597 67694 21904 3497419',\n",
       "             13005: '66867 2146 2524 57342 30361 285 38227 9999 288 7004207 26314 63815 1590 79374 91008 62792 17314 10095 4275765 66877 13301 4861 31277 5479399 39651 6003575 5217 5481691 51392 3818498 2833439 64615 67002 102192 45435 78905 13968 6607698 2586486 9425 65195 8201 66893 105435 69860 20567 5061103 61706 3497563 4033661',\n",
       "             13007: '158 176 66967 2549 24831 100789 3817542 64712 64213 55034 57865 37295 13349 27471 37126 38234 20072 3599480 101031 12732 84272 694 5481337 3302558 37294 10132 30396 63870 27409 37279 65094 5046159 8821 24860 63868 30398 64066 8366 64054 13550044 81658 709 1300 166 9959 39590 5657365 2586485 2146 23499',\n",
       "             13015: '1300 45457 5256 5062860 3569885 5074655 49924 6622 90932 104335 7403 1310 36274 5797476 709 158 166 9959 176 39590 5657365 2586485 2146 23499 180 177 2544 165 8547 66893 13344338 10016 2597 67694 21904 3497419 20499 5217 10095 285 10015 9593 17314 2137 14564 7401 9152094 100 49911 2165',\n",
       "             13042: '5046679 10163 75006 176 55 7008784 20173 12824 7008789 71180 5997195 63793 66881 4141370 73690 60123 6749535 12825 26313 9763 71175 18553 60107 46015 67156 7064867 6749924 16288 7008780 170 177 22043 69372 14466 55128 7048409 6390512 95294 91095 6369 157 2833784 4276410 7030140 5479376 198044 48391 96161 9964 69669',\n",
       "             13047: '2271 78539 9152094 71049 4275036 69219 9979 57290 3562687 3562685 67408 6368550 4277752 4277753 177 18677 14294 14292 39566 202196 58030 13074 61706 45570 4831180 57291 15935 63638 7439578 166 67027 45457 26175 59813 93654 91889 4831179 981 3817487 26176 37167 100 4276303 63646 58365 18713 6565228 66883 4831177 5481230',\n",
       "             13048: '5993767 69033 2271 5657403 59980 23860 36309 1749 1908 158 14303 2269 2270 1746 3818553 2835018 6695447 3571915 36852 96335 60717 9643 1771 18312 102553 14142 100412 75882 37053 2272 538 5045247 18910 50137 39730 75027 22542 22558 6210211 3077438 75924 5075751 7401 13485 76469 7004179 5062899 7052 7053 5062447',\n",
       "             13075: '4211879 10015 96236 20276 4141821 388401 14770 37067 6210242 201891 37061 90415 166 50126 10186 3497457 165 26095 60984 72282 7323165 222 67281 5062131 67408 7043321 7343205 46700 199380 3041044 7325185 2834887 7036229 3302555 5479493 18438 58223 5217196 18723 39591 5483333 70255 71548 7356270 7323159 38393 83934 4275049 59170 3497341',\n",
       "             13102: '26751 7979 4274956 72155 4274952 85187 85607 85595 36269 20408 23 85606 45159 1996 6784706 4274968 36270 85889 14359 5044266 709 158 1300 166 9959 176 39590 5657365 2586485 2146 23499 180 177 2544 165 8547 66893 13344338 10016 2597 67694 21904 3497419 20499 5217 10095 285 10015 9593 17314',\n",
       "             13107: '709 158 39590 55134 10019 10049 8474 9828 63780 2600083 45459 304 3817489 407 478 487 14248 9500 6337 4275808 6749602 5469882 55128 1037 26222 50258 66953 7064842 21308 91353 99 1039 829 7030140 68225 26225 7734 57513 3817544 59772 92338 4033787 24859 5217412 61582 7879 58862 28120 31181 5483287',\n",
       "             13128: '709 5217 55134 3817484 9979 5469728 10019 63072 5469736 2600083 9950 22035 95961 78672 9501 304 10163 7324996 407 478 94333 14752 21545 65349 102 3302557 19562 6694776 5479931 26616 5074617 20295 5479493 5469882 105764 58812 4276378 13487 9936 5629938 26631 4440 3817487 7015896 4235874 5997215 86113 22161 3571077 4517',\n",
       "             13196: '709 158 1300 66969 55133 55134 4033462 57251 38251 2321 2166 66975 3817542 1747 3817489 67103 261 2324 21450 55128 23501 69553 67289 5476137 39561 9916 44788 5634 17143 25248 14956 8071 18939 63815 5217410 14832 84099 216 14963 6784195 655 96326 25651 6375429 78969 7004209 1653 5479458 4986 5217413',\n",
       "             13197: '5217347 13191 3854295 14337 5217354 5062953 93479 6005132 4240674 76849 3818600 68323 7048 13435 24852 63780 30372 67199 91095 58149 30247 36191 76913 29879 26198 24869 60081 5488968 58151 65212 2835394 10016 7325302 200840 69490 82272 38162 5074103 3564295 75974 2835150 63624 14621 7325293 63979 92418 6784225 5479514 5488967 5663',\n",
       "             13232: '158 9959 36242 5651431 388401 177 5481688 3559474 5481364 25519 6565228 21828 67352 20204 9852 4141754 2834887 69937 1300 44843 6371189 96347 709 7324996 5479153 4275049 46762 4141788 37160 96277 94334 6367 5479078 6346 7060816 63072 102868 10524401 9592 63638 60114 7014642 5046418 7342538 14248 39604 6337 6368 6785 103441',\n",
       "             13255: '3829463 51303 68421 5045301 46970 3829460 100548 3833853 59640 39691 3497505 4444 66804 7356636 5483294 3497463 46966 7043886 3052673 4276294 7043887 5060557 201973 157 66382 158 6003928 23840 76839 72027 70918 51058 59834 3497347 65742 176 7036235 3052255 7336964 21007 4698 6696998 3043470 14749 3042266 6770618 96321 5045859 95294 91493',\n",
       "             13280: '158 709 1300 166 9959 176 39590 5657365 2586485 2146 23499 180 177 2544 165 8547 66893 13344338 10016 2597 67694 21904 3497419 20499 5217 10095 285 10015 9593 17314 2137 14564 7401 9152094 100 49911 2165 170 66966 9842 66969 224 59980 55133 66967 96161 7000939 159 2549 69937',\n",
       "             13311: '14497 285 60606 18748 10012 45284 158 66255 9152094 6565241 26708 20298 18438 67407 4033854 18026 39590 2321 72073 3828264 709 26616 5075667 5651532 14407 3575076 6765 7397 15512 19928 14474 6003928 5471001 159 2305 10198 4274642 20396 7342760 6784393 60 37212 4782 9901 2566477 78905 96441 18104 6131 14572',\n",
       "             13320: '709 177 2544 10095 7401 55133 10012 7397 3817484 2521 24831 100849 2628 9809 72006 57251 21545 23004 23140 46964 55151 95642 13179 55266 96347 79374 12218 23139 20804 13047 49447 38492 96348 102370 9935 13048 106 3818400 6210247 7316 6390763 13438 100737 84097 6390764 4592986 7306 158 1300 166',\n",
       "             13331: '96208 74582 709 158 1300 166 9959 176 39590 5657365 2586485 2146 23499 180 177 2544 165 8547 66893 13344338 10016 2597 67694 21904 3497419 20499 5217 10095 285 10015 9593 17314 2137 14564 7401 9152094 100 49911 2165 170 66966 9842 66969 224 59980 55133 66967 96161 7000939 159',\n",
       "             13364: '73492 51487 10196 3497386 9254888 4276275 26597 6027 90738 3497401 6029 67300 7048373 3586277 49269 60732 7032492 86554 7032497 60742 66389 7042746 3052257 7032495 4203875 13406 3824655 3833462 82517 7043848 85965 3058695 5566919 7032223 7106121 3586276 103905 7034397 77646 3058631 709 158 1300 166 9959 176 39590 5657365 2586485 2146',\n",
       "             13516: '7397 18887 3497330 127 65184 7043847 15148 20298 22912 3045033 67332 37294 17555 9127420 6189 8016737 99598 16379 3105029 44818 5060716 67197 17660 3060242 6827100 70149 6691303 7042739 7048180 709 158 1300 166 9959 176 39590 5657365 2586485 2146 23499 180 177 2544 165 8547 66893 13344338 10016 2597 67694',\n",
       "             13533: '9959 176 4275033 24851 21545 9916 100372 6561 6562 5074547 59170 6762 101114 61768 5046301 709 158 1300 166 39590 5657365 2586485 2146 23499 180 177 2544 165 8547 66893 13344338 10016 2597 67694 21904 3497419 20499 5217 10095 285 10015 9593 17314 2137 14564 7401 9152094 100 49911 2165',\n",
       "             13540: '5075971 64023 64079 6744997 63948 5481318 7343201 3850674 7324513 709 158 1300 166 9959 176 39590 5657365 2586485 2146 23499 180 177 2544 165 8547 66893 13344338 10016 2597 67694 21904 3497419 20499 5217 10095 285 10015 9593 17314 2137 14564 7401 9152094 100 49911 2165 170 66966 9842 66969',\n",
       "             13569: '709 39590 177 10016 67694 981 63984 57170 37536 17764 84320 47063 5673 10010 20462 5073685 59818 158 1300 166 9959 176 5657365 2586485 2146 23499 180 2544 165 8547 66893 13344338 2597 21904 3497419 20499 5217 10095 285 10015 9593 17314 2137 14564 7401 9152094 100 49911 2165 170',\n",
       "             13580: '23520 23521 709 158 1300 166 9959 176 39590 5657365 2586485 2146 23499 180 177 2544 165 8547 66893 13344338 10016 2597 67694 21904 3497419 20499 5217 10095 285 10015 9593 17314 2137 14564 7401 9152094 100 49911 2165 170 66966 9842 66969 224 59980 55133 66967 96161 7000939 159',\n",
       "             13588: '3041860 4276526 5483121 45616 6750033 2518 6748747 6748748 5474314 45614 6803585 5045496 85879 6748750 6750032 2603 63843 18017 6375463 18721 23004 45615 5657585 30370 6375464 38169 13129 20276 6824083 70857 26071 56935 18723 6346 5045301 4274973 591 6345 26703 18526 94037 14583 6337 39604 3817489 1300 7064664 22161 39590 21904',\n",
       "             13603: '10049 24851 8016 8282 8196 83944 10077 29713 29564 24417 4276356 29645 95446 709 158 1300 166 9959 176 39590 5657365 2586485 2146 23499 180 177 2544 165 8547 66893 13344338 10016 2597 67694 21904 3497419 20499 5217 10095 285 10015 9593 17314 2137 14564 7401 9152094 100 49911 2165',\n",
       "             13605: '176 9152094 67407 72875 75924 60174 4275967 407 60 7399 6345 96219 94334 461 5045001 1037 6343 60888 27987 127 21308 99 27471 50036 128 7341997 21999 57985 14513 44830 460 7062136 3497563 6885 15241 7478 22993 44846 56906 3566680 6896 1289 63698 6893 93548 25174 22549 68216 1159924 6694963',\n",
       "             13608: '20462 37368 2558 14466 59187 5217407 99682 5488888 89602 6823931 4276920 80869 198045 5659264 5469788 87898 7047826 7047825 67662 55134 4275036 5148 650 5993765 71049 90672 99681 83762 80831 67013 198043 81038 2204 651 95825 1300 14630 59656 3533076 81922 4277627 26749 5469736 57221 4277429 5073439 55133 3817512 5044480 5215567',\n",
       "             13616: '9959 39590 55134 4592908 69669 20276 5469736 3497570 6005364 3817489 5046645 136 172 55130 3817487 5483205 142 2589315 100345 7386392 2589314 199380 6375421 26769 57744 58979 6390643 24350 10180 17335 5051537 20396 6749922 19419 64923 29594 3563094 1253 6189 20395 103302 90001 5476579 7550 4033786 7386516 4141676 4203143 4141677 709',\n",
       "             13620: '55133 5479511 5178 95359 8286 21895 27987 62826 2834854 5739 5769 235 5471286 24470 4276223 24671 10086 709 158 1300 166 9959 176 39590 5657365 2586485 2146 23499 180 177 2544 165 8547 66893 13344338 10016 2597 67694 21904 3497419 20499 5217 10095 285 10015 9593 17314 2137 14564 7401',\n",
       "             13640: '39590 2625 9950 104 4141821 14638 14632 61045 2835413 5470926 6565232 6738 37260 37281 709 158 1300 166 9959 176 5657365 2586485 2146 23499 180 177 2544 165 8547 66893 13344338 10016 2597 67694 21904 3497419 20499 5217 10095 285 10015 9593 17314 2137 14564 7401 9152094 100 49911 2165',\n",
       "             13648: '46800 3497463 51487 96439 3826253 3826254 2303 56 3497509 7048807 6770868 709 158 1300 166 9959 176 39590 5657365 2586485 2146 23499 180 177 2544 165 8547 66893 13344338 10016 2597 67694 21904 3497419 20499 5217 10095 285 10015 9593 17314 2137 14564 7401 9152094 100 49911 2165 170 66966',\n",
       "             13662: '709 166 5217 10095 55133 63072 18887 100789 304 7324996 60 5061792 67352 17761 37392 38703 57978 4592982 67018 4831405 36144 6748563 96372 158 1300 9959 176 39590 5657365 2586485 2146 23499 180 177 2544 165 8547 66893 13344338 10016 2597 67694 21904 3497419 20499 285 10015 9593 17314 2137',\n",
       "             13670: '1300 166 9959 39590 170 55133 225 55134 5469728 39591 182 69669 100849 72875 20276 5469736 3497570 1746 100789 104 3817512 6005364 6371 6369 77405 2833784 6370 5481691 10115 3817507 66088 21503 6371189 93684 3302557 55130 92418 19940 1787 59187 96217 14508 66843 60850 5479493 5997093 240 69372 13481 76913',\n",
       "             13691: '58950 4141821 14770 10199 158 93461 2538 196 36280 4033670 10163 18438 540 166 14631 199 3501486 5633 14674 14752 37087 9916 57289 36262 60 69669 1823 4275056 1159933 304 3569074 538 63638 49911 6352 76867 5481285 90701 7391 64923 6003769 78672 14434 22980 39668 55134 13991 178 49921 5075323',\n",
       "             13731: '10016 49911 222 2600 96205 3818446 6749597 46800 4202912 1749 14474 18438 67013 64800 2834448 82277 2833535 5997156 63624 8090 4274968 14478 26061 38212 20352 64871 6785095 18424 5473440 5474346 8230 5062967 30301 29636 20191 57234 5074137 17498 7451 5471492 25690 39651 36095 29645 7048350 6210604 22332 15413 22440 50803',\n",
       "             13756: '55133 7397 55134 981 5629937 73 5479797 5061260 29707 4033574 31181 7325367 5112 3869069 6697159 709 158 1300 166 9959 176 39590 5657365 2586485 2146 23499 180 177 2544 165 8547 66893 13344338 10016 2597 67694 21904 3497419 20499 5217 10095 285 10015 9593 17314 2137 14564 7401 9152094 100',\n",
       "             13895: '71174 7065175 4214677 39590 39660 5074617 5474314 67679 7325235 3048678 5483404 6210159 65441 157 3060266 5045897 9867 39493 57013 13476 76875 36666 24273 95961 9979 2834440 14264 3497352 24843 3569885 49921 2600083 10049 61038 57131 39589 46193 3819581 4275927 3497535 3497534 4274919 10265 71432 45457 9950 17006 85295 13487 65412',\n",
       "             13915: '2562 2521 2625 2520 14870 96236 57706 75906 5471495 67377 57685 85152 5214771 30361 66975 5481678 67199 2577 4227874 73 57903 1309 5651431 18327 21904 35387 65349 3817512 5482385 6005364 55133 3827453 58713 39547 2563684 61053 59980 18328 22981 17314 5046281 24869 9935 5479383 7017 5469736 58637 24992 6824049 55134',\n",
       "             13929: '709 55134 55140 25842 100849 5469736 9645 9690 9501 45459 25841 25834 9761 72796 72795 25847 17145 25844 198667 9626 9602 5634 58137 5636 16044 2303 67126 67125 16002 61706 17340 17345 17356 6894 100952 76916 4276176 4203249 76915 5481371 10205 10238 50594 158 1300 166 9959 176 39590 5657365',\n",
       "             13987: '38153 13349 100648 20072 6368550 27482 709 158 1300 166 9959 176 39590 5657365 2586485 2146 23499 180 177 2544 165 8547 66893 13344338 10016 2597 67694 21904 3497419 20499 5217 10095 285 10015 9593 17314 2137 14564 7401 9152094 100 49911 2165 170 66966 9842 66969 224 59980 55133',\n",
       "             14008: '201892 7339408 73411 7339416 74038 96334 7014953 44867 7106993 100316 39691 13928 64755 67007 5075962 6696772 6770638 6692843 7393494 6692845 6749443 96081 3833458 5063407 73689 5045682 6749436 7065017 7393503 7393492 7466713 709 158 1300 166 9959 176 39590 5657365 2586485 2146 23499 180 177 2544 165 8547 66893 13344338 10016',\n",
       "             14055: '7401 57174 7391 24827 29553 26299 8280 27474 24357 29583 66605 24373 62562 5045876 4033704 17200 5045875 5044838 18060 57546 709 158 1300 166 9959 176 39590 5657365 2586485 2146 23499 180 177 2544 165 8547 66893 13344338 10016 2597 67694 21904 3497419 20499 5217 10095 285 10015 9593 17314',\n",
       "             14076: '1300 176 2146 8547 10012 200876 13120 5469736 100789 104 27569 45459 304 13114 21503 63034 55130 76476 9859 3818565 26164 9881 24840 6749605 5177 38169 58022 21502 23138 13147 7342221 38168 4276620 13108 27475 4424 6696245 100411 91972 21111 13322 101070 5997186 6696244 69681 61727 67860 6777 5044335 65025',\n",
       "             14082: '67694 100789 26751 39725 26222 127 67013 20805 59656 6027 20820 4203124 17446 10063 6041 30366 9621 5044217 5215606 13830 45265 2835006 36453 4276582 19051 24684 3565876 7062203 45315 4203374 44799 5046116 5047144 90001 5046357 5481303 93552 67012 6824041 63904 80939 5046391 25982 709 158 1300 166 9959 176 39590',\n",
       "             14116: '709 5217 55133 14630 69669 31277 20276 72006 6005364 7324996 5481691 10115 39566 6371189 21545 65349 198043 4202912 7495 4830912 5654340 5997215 4517 26164 7064842 67701 58022 63843 945 6749598 58782 5490 16044 7062126 59100 3562688 79129 62939 6618 3819581 27834 67410 3584675 50466 4830920 48344 8255 58049 3566680 92364',\n",
       "             14138: '5072926 709 158 1300 166 9959 176 39590 5657365 2586485 2146 23499 180 177 2544 165 8547 66893 13344338 10016 2597 67694 21904 3497419 20499 5217 10095 285 10015 9593 17314 2137 14564 7401 9152094 100 49911 2165 170 66966 9842 66969 224 59980 55133 66967 96161 7000939 159 2549',\n",
       "             14184: '3817484 304 10163 7324996 7342538 14838 37481 60850 4276378 69372 4275267 13481 4274956 5481364 69011 4274952 4141721 4275270 5997144 4141788 5488905 63638 37536 37457 16825 4523 5481732 10169 39530 14142 5062962 4203075 15096 63980 5481731 16865 6824049 2834484 70883 58810 15636 6403 36200 4277441 15993 76469 90273 6005132 3302523 84492',\n",
       "             14192: '709 158 1300 9867 104 14292 14294 14297 14303 91008 55034 5488904 5186 65483 5061260 3850672 1086 10000 1198 5217429 64703 5046161 1206 38066 6003712 5479397 4276573 166 9959 176 39590 5657365 2586485 2146 23499 180 177 2544 165 8547 66893 13344338 10016 2597 67694 21904 3497419 20499 5217 10095',\n",
       "             14214: '709 10016 10095 4592908 39589 49921 68465 100789 45457 54728 45459 60 94333 38481 21545 19562 5214861 2167 36238 69091 26164 57462 66898 24838 67241 19012 5479153 37536 15555 5214862 17725 14479 45496 3818757 6749927 7052 4033819 6747323 15249 5629994 4592982 94256 26149 84507 60842 60513 13441 94046 1927 93584',\n",
       "             14223: '1300 2544 10016 14286 2625 67035 14292 10163 18677 2524 2525 22194 45924 23119 4831055 5650 7048400 44788 5634 58783 9793 6390644 57608 688 100345 67014 63724 67222 44824 44770 67187 67046 20632 5479785 7326428 44771 67220 4873 63057 15924 53020 69264 7064865 102660 199359 9570 6210164 72127 6210163 20056',\n",
       "             14231: '59980 225 4592908 2600083 9950 61053 22035 45457 37480 2636 6371 67035 2575 10039 2601 93684 102 61556 26616 14838 20295 5479493 55034 68347 85879 5481678 14824 21636 37368 4275840 67445 91784 70372 6677992 67576 64174 61490 14749 58782 103920 37405 5073611 37364 6003630 5045991 84320 69475 3569885 14754 1036',\n",
       "             14250: '158 5217 55134 69669 5469736 104 5178 38458 50 4440 5481364 5657403 4444 5045462 6784393 6590 17281 8770 5481361 5481340 5481362 17725 5481615 57978 17724 6784706 15722 37444 60504 5218 4276579 31437 16070 15561 200852 92016 5481759 7004046 3827453 4203397 198497 76426 7465950 2833483 6982621 14640 7465952 72220 709 1300',\n",
       "             14254: '1300 20276 10163 70697 5634 45598 49923 5073 59359 8197 22549 96197 26041 4033800 13531 709 158 166 9959 176 39590 5657365 2586485 2146 23499 180 177 2544 165 8547 66893 13344338 10016 2597 67694 21904 3497419 20499 5217 10095 285 10015 9593 17314 2137 14564 7401 9152094 100 49911',\n",
       "             14274: '12970 1521354 91353 7021 67014 170 5061266 20059 58415 68323 6784058 13152 52633 2834974 5490 64748 60216 14827 90007 19924 61005 6636207 49818 52537 37539 16677 29586 8547 102789 13191 20819 7724781 14836 61003 58705 14832 6337 78842 49915 5045404 70161 6343 27653 6345 5063007 60418 6636208 38242 96530 7342765',\n",
       "             14312: '10012 55134 2600 456 94330 57289 80460 18677 67199 2578 14836 24827 20295 86111 15145 13854 50026 3599473 15592 8097 77152 7365 37181 14731 57561 57853 14479 6909 4203124 45592 2834444 8267 57836 28131 5189 25120 5387 50404 37282 38746 36453 37012 9824 24462 5471572 101110 62790 3086233 1531 6591103',\n",
       "             14328: '17316 37495 18898 2010 30368 225 62938 15927 222 18450 57371 199643 96223 2048 1990 3818987 26708 24433 24835 13788 36280 6607577 38362 5540 39523 7949 1987 27305 2011 80470 78993 5651484 36104 44760 6326 18748 3820255 5076073 24332 5074098 24703 7325265 28078 29884 6388048 58107 27330 93552 5997156 3096235',\n",
       "             14336: '57196 5217376 20285 19562 5694 6390643 12825 5469882 9809 9959 5469736 37406 36533 37065 84058 709 75487 5479493 100849 202196 200939 78672 22155 69272 63072 39725 5663 22192 13486 85341 10205 45457 13447 22194 158 37407 7015769 7032787 14668 30247 4275967 5209328 36483 5182 60174 36200 24840 6695385 92368 5178',\n",
       "             14389: '158 49921 9496 96205 5476180 1529 15916 50415 1509 74038 45591 1005 45588 7000352 24350 911 17773 5481213 24416 105975 709 1300 166 9959 176 39590 5657365 2586485 2146 23499 180 177 2544 165 8547 66893 13344338 10016 2597 67694 21904 3497419 20499 5217 10095 285 10015 9593 17314 2137',\n",
       "             14416: '177 3817484 69669 5045302 3817512 9501 9496 2305 3817489 5481691 10115 5045301 65349 6694776 7342538 26616 2005 1242 50 5479853 6677990 72154 11 67242 20414 4274956 66930 72155 5217052 7024300 4274952 9837 4275840 14465 5073753 4277747 7342626 2303 12857 4141329 57853 37121 95430 6677988 7386338 1005 78535 25250 20773 25237',\n",
       "             14433: '709 3817484 981 2600 78672 45459 201891 9425 10115 66088 67213 15941 96400 85608 6640642 45481 5177 65483 4277747 17705 95442 2564079 15627 16607 84421 36586 158 1300 166 9959 176 39590 5657365 2586485 2146 23499 180 177 2544 165 8547 66893 13344338 10016 2597 67694 21904 3497419 20499 5217',\n",
       "             14446: '1300 8547 14564 9152094 3817484 981 4592908 67407 57291 75924 9950 45584 96306 57292 60174 67326 57290 1985 67499 48315 94125 7092 94333 67199 69219 66088 14752 198043 198045 4275808 13759 67213 2005 1242 67214 26314 13757 198044 13179 21664 4440 3562687 7015896 45585 39796 39560 21663 39561 5051493 5256',\n",
       "             14451: '57622 75924 26335 58093 66975 1747 16735 304 5154 24842 80460 46800 59187 66252 26314 84118 21813 4274956 5540 18398 24838 1776 1775 102868 94420 9908 9222920 5659264 10077 85433 5481732 20188 5488888 80379 22967 4141783 36311 96429 5063419 28006 69196 57994 85341 36122 58092 67497 1159945 28069 12485 37447',\n",
       "             14458: '709 7401 22045 39489 45459 10163 7092 75641 19562 17145 22194 5488904 4444 6827376 20392 100201 2566477 44797 61097 16182 5060725 65110 4275971 60702 93804 105389 93812 73904 10210 201114 3837854 71998 3568676 104564 95894 6695362 104655 5044929 104608 158 1300 166 9959 176 39590 5657365 2586485 2146 23499 180',\n",
       "             14461: '5469728 24851 95736 7342625 58812 37295 20270 64174 2589315 3591086 27815 1159911 58032 30371 96429 5876 84000 76956 3591087 7048352 5488906 17107 57387 17111 17104 77634 5874 201700 3591085 39473 4831392 22390 5047148 709 158 1300 166 9959 176 39590 5657365 2586485 2146 23499 180 177 2544 165 8547 66893',\n",
       "             14485: '67694 7401 96161 7000939 9979 24836 85789 21757 49921 57291 72011 14264 73492 39777 7325382 77405 77079 70763 6685882 9424 6805305 75641 5046675 6749608 21511 37455 198043 73286 6345 63034 24843 4275315 4141822 79783 67404 71050 3850655 37559 9254888 75606 13239579 72281 6749606 4275840 6341 6824586 37212 7008781 5601 45447',\n",
       "             14512: '1300 2577 4033648 2168 7043847 89744 63712 158 96561 5217196 5044697 6390773 5657403 80522 9708 39675 5657402 6593937 6748738 57631 6784429 80460 26743 31126 58815 24775 6770821 1434 9569 59008 7979 5062908 37382 16004 65044 57068 3587873 95412 5051542 6977 5051600 3572273 15524 5051543 455 61812 177 90075 12799 6695637',\n",
       "             14630: '1300 9959 67694 66966 7397 67693 68465 60116 9932 60105 5476180 29619 4141656 64675 4986 4203075 1930 12485 7925 3593110 12868 15610 3593101 24671 19161 31163 19160 5479053 3593873 80636 80582 80613 12406 3593893 3593491 5062998 3593493 15490 12499 709 158 166 176 39590 5657365 2586485 2146 23499 180 177',\n",
       "             14671: '63780 7381 13487 20295 19562 18677 14627 64874 17368 2833480 38053 15993 66208 2833572 6930 9808 68127 7386338 55641 5503 80379 24473 6466 7046 7062206 50193 14838 97 14836 5216403 27948 83986 25985 120 709 158 1300 166 9959 176 39590 5657365 2586485 2146 23499 180 177 2544 165 8547',\n",
       "             14679: '9959 59980 9932 96294 75906 5481691 18028 5074230 3571077 21636 96321 12824 38712 72094 4275048 26073 15245 26215 4203422 96320 4275056 16916 57547 60283 38711 4203420 6375421 6695458 36997 6767 4203421 16865 6795 37067 17212 72127 52516 6695454 4513 14099 71838 14166 199496 4141382 50373 105410 67962 102758 58303 75998',\n",
       "             14733: '240 58187 72027 198610 3829459 85635 176 65140 5051086 3825056 231 3829458 9727 16927 3850658 7043350 3497432 143 9867 59610 23004 58962 130 57867 22045 3497505 138 84509 6692900 103422 3074639 77053 201936 67180 95294 7042747 5060593 7397 7042892 5060607 196890 93399 25514 263 7036235 7036226 24827 5180 75547 69815',\n",
       "             14766: '709 5469736 3817542 2833643 2589315 6210171 3562688 67410 5483119 57437 36236 22192 22965 5690 22348 80511 6972 36381 2065 95531 4033786 87920 7044072 92122 57374 5719 17813 37379 87918 7062022 158 1300 166 9959 176 39590 5657365 2586485 2146 23499 180 177 2544 165 8547 66893 13344338 10016 2597 67694',\n",
       "             14772: '76916 102474 199694 9936 896 7071562 16777 14978 7013629 67013 48315 87064 26171 6003852 20276 67027 201261 3563096 200839 182 66845 59187 6390496 59375 22108 17314 94125 4440 20302 36997 59656 3859910 87918 36266 6895 27322 37283 5629995 6607527 67589 92368 6375446 4830973 5217 5061202 5061201 17324 5629994 7342641 80869',\n",
       "             14784: '176 7401 26590 410 95376 77412 709 158 1300 166 9959 39590 5657365 2586485 2146 23499 180 177 2544 165 8547 66893 13344338 10016 2597 67694 21904 3497419 20499 5217 10095 285 10015 9593 17314 2137 14564 9152094 100 49911 2165 170 66966 9842 66969 224 59980 55133 66967 96161',\n",
       "             14831: '6390609 96161 36484 18659 7013629 5177 4141329 3817489 58962 5073440 18677 5651432 304 3817513 6368557 26616 14465 5469728 57915 7325144 5479573 105470 57239 15145 5246 5045991 10134 24873 5044600 2833985 10757 5046315 5107 24849 58931 10742 38152 86769 5471583 2599278 60504 56929 5046161 2833472 7061938 36829 9959 84118 22960 5471555',\n",
       "             14837: '2636 6004066 14862 5480 6565193 14857 14430 9122099 127 93420 6756955 6785016 3817507 69669 13331 4830887 21767 7043500 7439527 15432 69573 200863 39768 5471583 15395 3497505 38487 8306 1220 5469728 1199 36640 201319 4033558 804 25926 59802 3045032 21503 3497404 46682 36248 5481664 91095 9841 5061278 55095 13222 58958 45586',\n",
       "             14862: '1747 21545 58151 36059 36509 98039 45588 28120 59204 76469 199427 7048203 13820 709 158 1300 166 9959 176 39590 5657365 2586485 2146 23499 180 177 2544 165 8547 66893 13344338 10016 2597 67694 21904 3497419 20499 5217 10095 285 10015 9593 17314 2137 14564 7401 9152094 100 49911 2165',\n",
       "             14877: '709 176 21904 285 55134 30361 4275033 10049 5469736 3497570 1746 100789 14338 36243 5045302 3817512 22045 67035 9501 9496 68700 1747 45459 10163 7324996 14343 75906 25645 94333 5061792 46800 15487 76876 9500 93684 4141754 261 47853 5187 78821 3497446 50 66252 17145 4830912 49915 15145 22108 55128 57867',\n",
       "             14881: '14770 176 5657403 157 39548 13121 14534 3818565 38155 85607 60835 225 222 76469 37067 85187 4033502 13120 198044 13487 198045 63650 57290 57291 9122139 85606 158 3562688 5657396 24831 5630482 13114 8546 105583 60513 57033 5214802 14425 4275036 50190 58795 57292 5469728 13113 10153 3817489 3302524 5479853 4830912 709',\n",
       "             14892: '24827 7342311 709 158 1300 166 9959 176 39590 5657365 2586485 2146 23499 180 177 2544 165 8547 66893 13344338 10016 2597 67694 21904 3497419 20499 5217 10095 285 10015 9593 17314 2137 14564 7401 9152094 100 49911 2165 170 66966 9842 66969 224 59980 55133 66967 96161 7000939 159',\n",
       "             14896: '709 57622 6005364 27569 67408 14752 58082 14506 7410 4440 57610 5180 39604 2834854 48322 6717 24848 46762 14749 7342674 48314 9763 38271 14610 10169 67187 65244 14686 77655 7879 7124 4988 8269 3582674 28085 84117 8271 3818987 63980 4524 58049 9563 5046297 10164 92364 2834484 28061 10055 57554 57484',\n",
       "             14943: '709 21904 30361 24831 39589 31277 456 67035 5182 67326 24842 7324996 6749597 130 14838 96437 57170 84118 37061 96439 58010 103938 5488904 85879 30307 95805 6749607 25987 4276462 10182 50235 96237 14731 65184 1199 17032 4033787 29607 66795 37377 37380 6784706 25137 4276595 960 7740 199630 2012 77428 6390643',\n",
       "             14948: '709 176 20276 100789 72006 46800 65349 57609 10265 13487 17009 6005363 19300 57608 7062000 3818672 7048352 5677 25497 16004 5997164 71100 25888 5479514 89838 4592726 10176 4428 7061934 57122 25889 158 1300 166 9959 39590 5657365 2586485 2146 23499 180 177 2544 165 8547 66893 13344338 10016 2597 67694',\n",
       "             14961: '709 1300 166 9959 67694 2549 57342 36242 75924 5468823 7457005 77337 29676 7109 4592981 58079 15880 200871 37521 15079 15072 37434 4592985 5046350 36945 58049 5046546 45541 37492 65275 5047146 158 176 39590 5657365 2586485 2146 23499 180 177 2544 165 8547 66893 13344338 10016 2597 21904 3497419 20499',\n",
       "             14965: '158 285 182 24831 63780 456 13302 104 26751 5182 30247 39726 5187 45614 94037 75440 46971 25516 45615 29556 5631 36313 292 5186 60179 26701 44787 30213 26703 2057 96320 18027 18742 25548 64676 7519 2564086 68147 83974 2048 30246 6565230 44867 56 6757 7295 25740 86866 68216 3819053',\n",
       "             14968: '17761 5046083 27837 64165 27838 49948 36144 6210248 3599075 13550145 86771 27326 7439603 5483078 709 158 1300 166 9959 176 39590 5657365 2586485 2146 23499 180 177 2544 165 8547 66893 13344338 10016 2597 67694 21904 3497419 20499 5217 10095 285 10015 9593 17314 2137 14564 7401 9152094 100 49911',\n",
       "             14972: '1300 30361 63072 68465 45459 12565 7399 6210229 21545 199645 3821899 6823930 66964 84118 29588 63295 9936 26222 38036 5481364 4275765 66965 4141721 21308 61016 5061260 4141788 5478993 67217 45460 91682 12569 94653 84866 8722 8715 26224 8739 9935 585 64702 80522 5473477 8269 61727 3818707 15722 102789 61634 4203075',\n",
       "             15035: '1300 10016 10049 1746 2321 2325 2323 2561 1749 60179 2560 10034 14956 20567 100411 5044603 97950 96242 58793 199653 709 158 166 9959 176 39590 5657365 2586485 2146 23499 180 177 2544 165 8547 66893 13344338 2597 67694 21904 3497419 20499 5217 10095 285 10015 9593 17314 2137 14564',\n",
       "             15051: '4141388 201789 17560 5473483 5473484 8717 45932 36376 45496 6695706 2538 14296 3497570 37275 7048368 55140 9563 4994 16019 661 2271 9705 100849 37295 69669 13785 9496 5481771 67522 13550375 44765 64958 4277633 80460 27629 10171 72282 6005363 69481 67614 14757 2835394 9500 3077438 8213 5044 29807 38393 64017 59412',\n",
       "             15106: '67694 170 7397 39591 67693 31277 67407 60116 4275967 67408 58004 3497386 67409 6818339 78115 60123 67013 945 58715 16019 59656 96348 101142 3848654 869 6210242 64701 7029518 5489 6769 7107820 6771056 57951 51067 7328937 77553 105926 72227 5060439 63331 4275563 6784571 2834380 3082235 15252 68708 5051333 6692073 4202926 71697',\n",
       "             15116: '55140 45459 96208 9679 3497386 9254888 3497330 96164 29648 7734 7463 27533 3497332 1220 4276283 7751 8010 7608 3045040 28170 68181 7866 3861860 57484 1187 3497574 200974 57490 7043738 36273 82511 3861081 7042891 24474 5060441 3497532 7043044 3855862 91072 7392834 7043227 709 158 1300 166 9959 176 39590 5657365 2586485',\n",
       "             15127: '37480 94329 94330 2561 2601 61556 60720 2269 9733 9690 7112 57728 57733 67615 2271 9645 9620 2272 3577889 198667 25843 36313 9624 9598 25842 25831 64116 9496 9593 65670 1924 17654 23140 23141 6784126 67266 20805 17145 9501 2833444 20804 14945 2482 4276018 72796 58415 65641 7113 57747 57642',\n",
       "             15151: '39723 5657452 96560 6677986 14870 5476608 66966 2548 2190 3818428 176 6677992 10182 180 6677990 96561 60821 4274953 66898 24852 6210229 66964 2531 96533 5045301 6565241 69669 5476604 13570 6784123 48391 30968 2322 58637 5481664 10081 10077 5072 5479143 7053 4277432 20392 14615 59656 37382 7052 14757 49915 4033676 64800',\n",
       "             15157: '709 1300 166 177 182 31277 49921 20276 7324996 21511 21503 6349 55130 26616 6365 22108 77063 9936 61115 92 22995 21827 61102 4517 37482 45425 6677992 61045 5476075 61490 103920 60151 14832 4203422 5659264 67126 5479900 67734 76429 67171 4523 67125 66854 80869 4203450 66795 31491 37539 5483073 3073828',\n",
       "             15166: '180 21904 24836 67407 57291 57292 57290 4275967 1786 17033 6749608 21503 76069 6749604 80234 60128 29556 22988 13411 6697844 6694772 6749601 7393783 7048726 8080 52692 13562 7016398 21854 5046682 100994 75777 95625 22479 87181 7325912 6827797 7108074 8027524 104981 6692411 7326685 9961018 709 158 1300 166 9959 176 39590',\n",
       "             15230: '5074265 2558 36408 7325780 5483241 456 78421 3366760 6607678 7414736 5046393 7472174 61990 15480 5045433 5045435 5045434 5045436 21931 9139804 3366533 65575 709 158 1300 166 9959 176 39590 5657365 2586485 2146 23499 180 177 2544 165 8547 66893 13344338 10016 2597 67694 21904 3497419 20499 5217 10095 285 10015',\n",
       "             15306: '709 3497570 9496 21545 9679 5481364 67445 1315 5063419 6622 7064622 67614 199396 7325364 82896 37322 38854 39099 39098 3571076 158 1300 166 9959 176 39590 5657365 2586485 2146 23499 180 177 2544 165 8547 66893 13344338 10016 2597 67694 21904 3497419 20499 5217 10095 285 10015 9593 17314 2137',\n",
       "             15365: '709 1300 21904 59980 24836 39591 67693 24831 27745 68323 13121 75078 6369 96205 13189 80460 3818600 1990 13114 21545 46964 3302524 57948 4240674 10189 29553 59187 14838 66252 60850 2522 86111 6365 1749 6353 22995 17194 93815 5062131 29619 96548 10182 7342626 1765 64174 64244 64729 5997127 98040 84085',\n",
       "             15375: '158 10019 36243 456 77405 26751 68700 46800 21440 96561 2538 57867 38694 96560 12840 5651431 92038 65483 45280 5872 1039 91662 1989 57863 38699 38060 70724 58154 6877 3570287 2048 71723 2592 13275 58276 5217291 13441 6640484 3565484 9872 7325308 64640 7325326 5046348 5657375 63799 709 1300 166 9959',\n",
       "             15436: '1771 1037 2834409 17312 2834410 25166 3818607 17319 17329 7907 17340 27268 3818668 2124 13877 74140 709 158 1300 166 9959 176 39590 5657365 2586485 2146 23499 180 177 2544 165 8547 66893 13344338 10016 2597 67694 21904 3497419 20499 5217 10095 285 10015 9593 17314 2137 14564 7401 9152094',\n",
       "             15437: '39590 5217 9593 9607 9595 9598 3817484 9610 4033462 9696 9733 57733 20276 25831 57723 17526 57728 17527 17528 5479511 25829 65670 96223 9606 201891 25830 3817489 80460 478 25828 5481691 21503 17525 57747 7410 5479493 22107 60107 96409 75440 455 96231 5479810 37117 15986 591 20214 9911 85873 30213',\n",
       "             15451: '5178 6749597 38458 29607 22989 133 57320 24899 74983 7736 709 158 1300 166 9959 176 39590 5657365 2586485 2146 23499 180 177 2544 165 8547 66893 13344338 10016 2597 67694 21904 3497419 20499 5217 10095 285 10015 9593 17314 2137 14564 7401 9152094 100 49911 2165 170 66966 9842',\n",
       "             15486: '4141762 6565238 25241 63780 66088 2599278 225 96545 57247 68347 6694811 58782 222 5073752 4141763 7036236 5044845 17312 98040 27471 61079 165 87534 6644 5257 66845 7033083 61132 5044844 17323 45588 20055 166 17316 5187 5178 64213 7634 7519 7517 7577 6743818 68362 3817544 5044801 25175 198573 6642 30287 57245',\n",
       "             15488: '18422 20408 5217196 28030 28164 68674 82295 27855 28054 98841 36803 5217415 709 158 1300 166 9959 176 39590 5657365 2586485 2146 23499 180 177 2544 165 8547 66893 13344338 10016 2597 67694 21904 3497419 20499 5217 10095 285 10015 9593 17314 2137 14564 7401 9152094 100 49911 2165 170',\n",
       "             15515: '1300 177 10095 57342 5045302 96223 1747 96294 67199 96296 57346 4202912 5074230 45924 69372 45929 1597 45932 10034 2835083 38234 20819 26215 18668 20820 5074231 67138 7060800 20755 26754 13476 3818399 20634 3818400 5483187 38226 19175 3818398 4592612 61706 64944 6003978 38235 20756 64982 13471 64979 38232 20637 49927',\n",
       "             15552: '709 39590 165 10095 14564 63072 57251 407 38153 3302524 63034 20269 3302554 5029 4276012 5483287 10164 27666 3818751 7062212 86970 64215 17166 59657 17174 158 1300 166 9959 176 5657365 2586485 2146 23499 180 177 2544 8547 66893 13344338 10016 2597 67694 21904 3497419 20499 5217 285 10015 9593',\n",
       "             15572: '8016 8003 8263 14086 7406 9355 13946 7403 64156 7501 24417 5061273 5062080 84387 5541 5046219 9401 4203148 93840 93853 93841 709 158 1300 166 9959 176 39590 5657365 2586485 2146 23499 180 177 2544 165 8547 66893 13344338 10016 2597 67694 21904 3497419 20499 5217 10095 285 10015 9593',\n",
       "             15642: '57016 3818400 64057 26314 5993765 200839 25241 69250 103677 93655 54728 85 3048673 3817507 39660 5477660 5470939 30902 3558283 5488888 4203421 71239 199485 45459 59187 36902 5469788 58934 69553 4203422 36939 57988 2589315 5194 6005363 7386338 19562 10265 44859 3817512 14746 3562688 4203420 5051508 5659264 45592 72875 36974 5481688 39590',\n",
       "             15653: '4592908 15593 2600 7036235 22045 3497505 7036228 13560 3497446 3497352 3497386 84318 22161 4517 14853 6003852 7042851 7036182 67445 825 3497457 26073 7043350 869 7043845 20298 2564086 3042233 7043811 7042858 7048 7036247 28085 7043726 69195 39480 6771267 103793 9127347 7406913 49934 49933 7046 7329547 72460 77278 7034753 3052259 76618 8016737',\n",
       "             15784: '7061988 2165 6750216 9999 5217 25248 20603 66903 4033800 5285 7060800 61490 6677986 158 67004 5470984 85823 58082 6678030 31181 6677992 6677988 51392 58123 6784706 58795 5657507 5476580 20939 5657430 45929 5478503 64642 5217291 198510 16742 64684 37405 5061788 64681 49921 57886 4276620 7027 67213 5214 7325125 73118 10177 5479153',\n",
       "             15791: '43 2600 103039 1771 3497463 45458 17316 152 3497535 9808 72084 22924 16019 87449 7356268 37221 17324 9127373 64804 14578 60011 201286 22584 4033825 37023 46347 100647 3042229 5060765 3845857 91691 846 37228 7328951 7365437 3064237 7034404 7343899 77248 60302 9254130 3847053 709 158 1300 166 9959 176 39590 5657365',\n",
       "             15798: '10016 67694 49911 159 10012 2322 57292 4275036 27569 15441 24866 4202912 2320 59187 27571 1820 85187 60179 85607 27567 8266 22 18569 39588 65807 23 85606 45159 57509 66845 1005 5479399 6566 30246 21442 5566922 20003 85 8255 36239 72127 39565 20756 71100 13944 57533 15599 1229 36240 38445',\n",
       "             15806: '4831316 58151 15512 60119 7342762 14752 4592611 25715 45283 64712 5481230 5187 7014872 7015896 21545 24836 36740 8181 202196 93632 5177 24354 24342 24341 24357 52174 20408 5076176 981 144 3818707 4276223 30226 5045983 64227 17223 14833 14832 9837 10051 7062198 2057 1985 51799 8273 13346 145 5074091 30161 7570',\n",
       "             15816: '709 2544 2600 2628 22035 201891 3817489 23004 3302557 5187 14838 5479493 55034 183 77063 20414 26222 60278 6749599 1749 3302554 5186 5180 37295 5653 896 18999 5887 3817488 63649 13435 5185 64676 55095 37275 37024 12731 5567 13222 61154 905 28114 91786 68181 10132 5061235 65584 86019 9431 30262',\n",
       "             15833: '39590 55133 69669 5479511 73690 48315 67040 9500 9936 6565237 96231 6565334 59094 105591 76531 17133 3565486 26597 58708 15245 5469740 3565485 37121 7004211 37315 58179 38676 89704 37123 7004208 5483294 7004210 5628 2834749 67549 5044217 6784103 89854 13242 10177 25802 25550 89838 57097 58797 2834293 4203076 5051501 25803 5046346',\n",
       "             15840: '39549 199538 151 6770201 9945 91096 39751 22045 20100 77094 6770933 5257 7324478 7458070 20058 77748 181 39718 7036182 7348050 3497570 72003 37140 3497544 59771 6937 7105062 14085 3497330 172 3839054 9867 6756944 176 66208 4235874 63984 5051315 101069 3855076 68127 5075496 7029773 7406821 45459 49915 3497519 8016284 49911 6909',\n",
       "             15854: '5476075 411 86160 3817484 6640642 14632 16346 39590 5628 104 5189 19562 4203411 5650 1300 2564085 50 13550019 21111 15993 1159933 39589 4203443 2544 6620872 196 4831174 69553 38168 96205 14731 9711 16803 16831 66054 4141673 4830912 94333 9569 4276378 60353 85213 4276620 30902 86966 31300 13648 5630482 61898 5044301',\n",
       "             15880: '13181 60904 67408 8477 67189 60344 86663 6770090 6041 63843 19480 55134 101031 5178 102932 7374 5444 54710 93492 5481321 3817547 59183 45484 7029497 100813 709 158 1300 166 9959 176 39590 5657365 2586485 2146 23499 180 177 2544 165 8547 66893 13344338 10016 2597 67694 21904 3497419 20499 5217',\n",
       "             15883: '2597 26184 14927 6003841 2322 5045659 73371 70249 7029470 67407 102982 5997155 69595 7092 53304 7109 37536 2833446 66487 5045462 7036235 7036232 5045663 76913 5997156 182 5651531 96194 13929 66930 201891 3066231 7043117 5659315 6694776 45932 7098 3074662 14032 106046 64057 45341 36256 69959 20635 14949 5029 63034 67200 16742',\n",
       "             15892: '96548 67404 26133 6955 57787 66982 6750033 4033822 9601 7032148 24835 3041828 224 45445 36910 45444 45439 7414680 84118 96296 96294 75382 60717 225 19007 2835389 5074348 7034517 5075453 48342 72033 72095 24831 5217349 88109 88245 9970 7489 8181 67353 71681 23144 7705 23141 58817 5075454 90604 4746 102 58083',\n",
       "             15893: '39590 177 21904 285 49911 30361 2271 286 5642 24851 9496 14341 96205 2305 68108 3818600 59460 17033 4202912 4033497 64273 57787 24845 55128 9936 4033496 5217052 6640642 9881 30307 7027 6375454 2630 36059 45486 254 198619 7342762 37292 65184 45476 4141370 9935 198618 2629 26754 64730 7052 38233 38683',\n",
       "             15923: '709 3817484 14630 63072 20276 104 5479511 9496 7324996 94333 3302557 100812 63762 60730 6951 2599278 61115 58030 584 39560 5479797 5177 91784 13411 5428 5062860 20553 15916 4274973 4276192 6027 57985 6641 37277 38837 93646 45432 4276595 72310 9636 12731 26648 4274919 44846 4831077 101316 5445 58810 15732 44865',\n",
       "             15987: '39590 180 7000939 73725 73492 39777 13759 76069 73291 80234 73028 77150 15627 4275521 5471504 7392793 7060907 7392801 709 158 1300 166 9959 176 5657365 2586485 2146 23499 177 2544 165 8547 66893 13344338 10016 2597 67694 21904 3497419 20499 5217 10095 285 10015 9593 17314 2137 14564 7401 9152094',\n",
       "             16000: '165 86616 13487 13481 3850672 77077 6782786 74412 65244 8264 7384217 7014920 6827374 15258 15252 6805335 72097 7326655 709 158 1300 166 9959 176 39590 5657365 2586485 2146 23499 180 177 2544 8547 66893 13344338 10016 2597 67694 21904 3497419 20499 5217 10095 285 10015 9593 17314 2137 14564 7401',\n",
       "             16028: '24775 86519 18734 18735 8282 64099 64069 49447 4592649 26186 709 158 1300 166 9959 176 39590 5657365 2586485 2146 23499 180 177 2544 165 8547 66893 13344338 10016 2597 67694 21904 3497419 20499 5217 10095 285 10015 9593 17314 2137 14564 7401 9152094 100 49911 2165 170 66966 9842',\n",
       "             16058: '49911 9842 59980 57342 24836 24831 80460 24866 2542 7092 89578 30247 14836 24827 29676 91008 29553 3865881 57170 183 14572 68347 95825 7373 58030 69011 45481 95805 45484 38362 8001 8102 37167 8181 9416 37536 83777 57513 6952 3096235 23520 74412 3818758 7326428 64676 3818847 5481252 57659 38305 14844',\n",
       "             16065: '39590 9593 55134 55140 4033462 24831 100849 3497570 67281 65641 9606 9425 5178 94333 3817529 5187 13333 2834432 8550 14490 24840 4275270 24838 20064 4033458 7342762 103677 14963 65184 45598 3818469 45591 38060 36083 5471001 85341 38212 37425 45312 38736 37426 25900 20191 14535 38735 7493 5044694 24272 57675 5061141',\n",
       "             16067: '2597 2607 61580 69033 2152 96212 9139633 7387362 2167 7342731 2168 9511 5479564 2166 2606 7387363 66984 9139500 91008 5479143 14877 2575 14994 71723 96560 77668 96561 7071780 71722 5063493 91825 2322 5657418 4141763 23519 9609 2636 6697127 6565229 71404 18450 19175 66928 57291 57290 5479146 5993734 100165 67256 4141764',\n",
       "             16086: '67693 67035 9501 9425 9500 69015 26222 66953 9727 59072 5428 5737 21879 22547 5739 15922 1199 21869 5566942 66992 5851 15654 9570 96542 3818790 6564722 4141388 67188 59872 44747 14509 10071 16831 15426 37046 4033800 5073416 13230748 38932 76426 16645 4203395 6351892 709 158 1300 166 9959 176 39590',\n",
       "             16110: '2544 63072 10163 96208 407 478 7391 5481688 130 102 3302557 13759 19562 100812 64176 10265 55034 24845 55128 24871 3302554 14465 17685 5634 15245 67140 20392 216 2834517 10169 651 12732 9127418 38233 60855 13488 9961 38226 13222 38235 13809 77345 5076168 28157 58166 5061279 5045374 77139 59532 13817',\n",
       "             16124: '26663 46193 7032671 201761 1498154 3042266 7034785 3841090 7044043 7393972 90073 6770707 7397026 3865861 4226676 59187 90130 18720 26763 7044049 7044050 59610 103777 66252 3039054 3039055 7043516 7044047 70858 5075665 6003841 21630 3841084 7391525 6691471 7034553 39572 39571 67615 59165 1990 3819110 4444 7401 22976 3841088 94023 4517 14509 72155',\n",
       "             16127: '3818498 4276275 709 158 1300 166 9959 176 39590 5657365 2586485 2146 23499 180 177 2544 165 8547 66893 13344338 10016 2597 67694 21904 3497419 20499 5217 10095 285 10015 9593 17314 2137 14564 7401 9152094 100 49911 2165 170 66966 9842 66969 224 59980 55133 66967 96161 7000939 159',\n",
       "             16135: '31181 10153 6748563 6748562 4275808 5473 54728 31126 3302555 31111 19482 57057 199645 4830973 9808 200939 65026 37167 60850 5076 5002 4274641 7048380 69371 31122 6591103 5053 6368557 64221 94400 5481309 78969 5045640 84118 15615 7397 4592908 94333 4982 3818070 5046232 5470925 5046161 45469 64808 24831 6694883 6591105 4141988 3817544',\n",
       "             16148: '24842 24827 183 24840 8196 8126 8305 9139620 709 158 1300 166 9959 176 39590 5657365 2586485 2146 23499 180 177 2544 165 8547 66893 13344338 10016 2597 67694 21904 3497419 20499 5217 10095 285 10015 9593 17314 2137 14564 7401 9152094 100 49911 2165 170 66966 9842 66969 224',\n",
       "             16153: '4033462 67404 176 6770640 21879 21869 4141822 4226676 1966032 6770632 7043131 202196 172 12218 5045088 18970 5046350 74636 3855464 36269 8062 64673 39480 100448 66252 8584 7032153 6770625 5060612 5051340 5044793 96530 4782 74642 65575 58739 5651519 5051225 76875 36266 25560 14286 14294 14296 96439 24827 68223 3821057 5566938 7397',\n",
       "             16159: '10095 55133 69669 100849 72875 3497570 2600083 3817512 78672 26751 10163 3817489 7324996 5178 5481691 38481 7036241 6371189 38458 3302557 4275808 19562 5073438 57170 5479493 5469788 15145 27571 26631 22161 5481356 5479797 3497450 37482 59771 6784393 5073439 61045 23138 91183 7036232 5653 14510 3817552 131 67217 13478 27475 6561 5073442',\n",
       "             16161: '709 55134 5469728 24836 30361 10019 63072 5469736 3497570 45584 3817512 6005364 78672 14292 3817542 57174 5178 5481691 39566 5481688 15487 6371189 38458 661 65349 14296 3302557 19562 95359 172 14303 3817529 19940 37481 5469882 36483 240 36666 68347 5654340 37061 13481 58010 5217354 4274956 91095 7024300 5488990 7008784 20064',\n",
       "             16187: '709 166 49911 15593 36067 1985 80460 478 1786 13560 2005 7979 67027 13481 9936 67028 45448 137 5476075 64729 63638 1989 1086 37292 5045991 1199 3599480 21111 6909 7988 13435 258 2564086 36828 1752 36827 69530 5044296 39628 1750 37140 69531 36248 5046420 36974 20033 198609 5481257 13272 8025',\n",
       "             16198: '67694 36243 7457005 18970 6749054 1278 56929 25078 7002 4831291 68967 12764 6785075 59880 709 158 1300 166 9959 176 39590 5657365 2586485 2146 23499 180 177 2544 165 8547 66893 13344338 10016 2597 21904 3497419 20499 5217 10095 285 10015 9593 17314 2137 14564 7401 9152094 100 49911 2165',\n",
       "             16205: '158 7401 14877 5178 3817507 45260 2190 100813 14749 68225 6784706 38040 47495 25524 86089 9518 9554 44747 57699 25110 13423 14617 27281 13403 6784593 7334 57067 14774 4141316 25020 5046335 7326420 3819037 27282 5046334 7939 27413 7325265 78658 101364 57720 709 1300 166 9959 176 39590 5657365 2586485 2146',\n",
       "             16304: '5799 4592982 3302557 3817512 83791 60842 5214802 10120 13333 84176 5481691 105764 19286 31175 61015 5178 93425 4991 55133 83944 69372 5217 96117 96118 82738 7048350 136 55266 57150 3817484 813 45459 61557 37167 5479781 37377 2833987 18428 58373 19562 4276782 6371217 63072 93538 3559099 64887 77038 9571 7062039 4235874',\n",
       "             16325: '3497419 49911 159 9979 31277 67407 57291 3497570 17526 22045 17528 57290 68700 63984 74649 24842 93684 261 45924 6677990 36666 3497386 3497432 18711 66868 3497330 3497450 22988 45484 3497535 7511 877 57988 3497347 24834 3497348 4592949 3039832 39761 25638 45553 4592951 84321 18569 200863 3497492 20775 6909 201782 86998',\n",
       "             16326: '158 456 45457 1747 94333 13759 5479493 26631 96237 5047346 10000 37292 36266 20408 63649 13549707 20275 22993 37293 10132 36270 24341 65094 36265 69646 5215567 7396 4141792 709 1300 166 9959 176 39590 5657365 2586485 2146 23499 180 177 2544 165 8547 66893 13344338 10016 2597 67694 21904 3497419',\n",
       "             16365: '10049 31277 67377 3497446 65329 10074 22108 10196 1749 21308 7032787 67013 10120 6756975 37221 5217213 6756963 7324478 15947 68993 61683 90462 58018 7053 37294 6694963 4275563 2406 198127 21200 6950 3497493 78847 86909 68127 62462 5215567 7054925 7048682 5073630 3820299 6771347 6770920 7030004 709 158 1300 166 9959 176',\n",
       "             16386: '94342 62781 456 23499 14341 5474192 10074 10164 2628 2586485 7072098 71404 3818446 13222 2600 2541 7724771 6677990 66953 2578 128 45345 7341870 69937 69627 7064867 37403 23560 6971 25769 10115 6565231 63970 39561 2834722 17770 72154 14535 69553 57170 3817484 2634 4592530 64822 24811 66915 5061201 67214 60774 18015',\n",
       "             16393: '66956 2625 78672 58004 5073438 8282 50258 27987 2834854 58783 5076176 5061788 45486 6210224 5061278 45476 4592650 26141 67732 4592649 67019 67017 96542 1532 7062203 76426 14149 709 158 1300 166 9959 176 39590 5657365 2586485 2146 23499 180 177 2544 165 8547 66893 13344338 10016 2597 67694 21904 3497419',\n",
       "             16425: '177 57952 15373 49921 86572 45650 23140 45924 57740 68347 23139 57601 58022 26200 74582 60214 58782 2057 67091 5044757 27475 105435 103142 1199 1035 67639 77359 4986 2482 5997186 29707 6390641 93911 57782 4988 57809 77360 2835403 67709 57435 67088 4275455 60014 64830 6390640 67300 16912 96335 71505 4275943',\n",
       "             16447: '180 7401 66949 7391 4202912 24827 183 14857 64069 2835413 99 7365 74704 39771 16916 199355 3818726 7780 8269 27948 2835415 3817513 6227 23521 7740 77785 23003 6678015 5063202 20056 38356 27541 4141388 28169 28165 7431 67962 36274 8945 4142001 36742 709 158 1300 166 9959 176 39590 5657365 2586485',\n",
       "             16498: '13120 456 13302 13113 13152 84318 20056 36982 7403 6394 3819110 65860 709 158 1300 166 9959 176 39590 5657365 2586485 2146 23499 180 177 2544 165 8547 66893 13344338 10016 2597 67694 21904 3497419 20499 5217 10095 285 10015 9593 17314 2137 14564 7401 9152094 100 49911 2165 170',\n",
       "             16506: '39590 18887 2600 1985 19562 3497463 9970 72154 20062 39666 96164 103406 20270 254 2833524 20100 3569076 65244 17187 7036238 3497522 3820264 69530 63619 5045983 6591 12668 6756956 7365673 91889 103092 59625 10083 3052259 52452 5047144 4274990 15625 7721 52454 58350 106386 57390 7328951 68343 18337 59242 7047716 18339 5072252',\n",
       "             16514: '2165 7397 2166 8201 5186 1267 15925 8305 8855 10068 7030310 8306 71693 28069 199358 27591 27614 3592685 5481623 36081 709 158 1300 166 9959 176 39590 5657365 2586485 2146 23499 180 177 2544 165 8547 66893 13344338 10016 2597 67694 21904 3497419 20499 5217 10095 285 10015 9593 17314',\n",
       "             16519: '9959 981 222 3817512 6749597 5997093 36483 96409 18659 37061 59813 84099 12857 15555 5045610 46969 50126 4592952 18327 7048359 3584675 6785165 101117 26585 103523 10132 7342450 6747311 18328 198477 4141818 709 158 1300 166 176 39590 5657365 2586485 2146 23499 180 177 2544 165 8547 66893 13344338 10016 2597',\n",
       "             16568: '225 14462 27745 14264 6347 5045302 5481688 6337 94334 6367 6210170 57517 60888 5045462 96321 825 199 59771 46762 96350 95294 5217410 87449 196 3039832 1199 22 20820 14345 86825 67138 7437 1914830 50451 4141333 45456 6784706 62652 4478 5483187 6210221 5044843 4592954 5063249 25524 61746 30739 70137 39492 5483118',\n",
       "             16593: '55133 157 5479493 15145 3302554 5186 655 6696245 95430 15561 1830 5044 12868 84097 6982621 94139 4203133 17971 13926 709 158 1300 166 9959 176 39590 5657365 2586485 2146 23499 180 177 2544 165 8547 66893 13344338 10016 2597 67694 21904 3497419 20499 5217 10095 285 10015 9593 17314 2137',\n",
       "             16594: '2544 10016 285 39591 2322 1746 104 78672 45650 26342 5186 28138 47780 142 5179 137 5479153 63724 655 14994 6641 3850671 92786 14575 89704 4033574 7726 17432 200439 89854 90174 6314 29542 6291 4033793 16647 75347 17722 96180 3820655 96289 709 158 1300 166 9959 176 39590 5657365 2586485',\n",
       "             16606: '21767 7036228 3818600 7036226 7036241 36313 22043 3096248 6210175 3829471 3563105 28060 3041851 87534 5657404 77784 69700 7365444 709 158 1300 166 9959 176 39590 5657365 2586485 2146 23499 180 177 2544 165 8547 66893 13344338 10016 2597 67694 21904 3497419 20499 5217 10095 285 10015 9593 17314 2137 14564',\n",
       "             16632: '2600 2630 15732 709 158 1300 166 9959 176 39590 5657365 2586485 2146 23499 180 177 2544 165 8547 66893 13344338 10016 2597 67694 21904 3497419 20499 5217 10095 285 10015 9593 17314 2137 14564 7401 9152094 100 49911 2165 170 66966 9842 66969 224 59980 55133 66967 96161 7000939',\n",
       "             16653: '709 1300 166 10095 100 3817484 14630 49921 20276 58093 3817542 96205 65349 44739 17761 55151 5073438 57198 5479493 55034 58812 5470974 2834045 69944 67028 25516 22995 388401 69261 6640642 20302 93798 3565884 4033668 59072 24869 17143 9592 10757 7016402 16019 3043444 5061202 74632 58795 50415 6677915 37277 5061203 96277',\n",
       "             16657: '66988 5474314 96294 2835083 96296 7063218 94178 199799 27554 3563096 70647 5797477 14994 14630 4276521 5797478 2834722 7109 3569885 11894 96185 5052 67222 37357 202038 12042 7062039 7396951 5073443 90108 200439 137 38686 8548 170 144 59860 4274641 101096 1990 2833351 5153 105250 55134 31314 14185 6390493 5062860 61045 5483159',\n",
       "             16669: '224 55134 58093 10163 3302524 84319 5063007 69261 12840 17143 91183 18939 26589 102868 57578 67734 25638 57923 3817544 25651 60817 592 5657402 37159 7004208 5060725 3818987 14711 5062865 5218 66855 58209 69712 28000 19927 49997 19926 81231 5468864 25038 67554 7029837 18856 7325374 25037 7013614 709 158 1300 166',\n",
       "             16680: '9977 89679 5051537 63072 709 55134 15375 27571 3850671 7342538 37455 7465950 13181 54728 196962 57346 3817542 9122174 26702 5474259 74621 13121 5214 58958 69669 13180 13120 13302 3817489 50006 7109 4277768 5218 5217 67035 76476 200939 5478514 5469244 5192 876 5053 5190 3817484 7325312 67027 478 7325293 6824171 5045997',\n",
       "             16683: '159 14462 37395 10196 14490 95442 6930 105650 6885 64855 37282 71286 15651 57130 2047 7342416 709 158 1300 166 9959 176 39590 5657365 2586485 2146 23499 180 177 2544 165 8547 66893 13344338 10016 2597 67694 21904 3497419 20499 5217 10095 285 10015 9593 17314 2137 14564 7401 9152094',\n",
       "             16716: '14142 5651431 37536 92038 67119 5797477 39590 36242 14770 64967 90302 64729 5214 5694 4592908 87898 5217 5051496 10523759 6210247 76866 5214928 76682 22330 5797478 20432 67709 23139 67085 177 69475 64726 37482 9936 1733 67091 7021 54728 60541 14774 37087 5797426 57188 709 2834484 98565 36826 39589 4033819 85679',\n",
       "             16717: '1300 15487 4141754 17761 27415 3599480 5483073 64941 6786 9775 64982 44254 6765 4141361 709 158 166 9959 176 39590 5657365 2586485 2146 23499 180 177 2544 165 8547 66893 13344338 10016 2597 67694 21904 3497419 20499 5217 10095 285 10015 9593 17314 2137 14564 7401 9152094 100 49911 2165',\n",
       "             16727: '10016 55140 21767 3497570 3497505 5182 7036241 72236 5997093 37061 3497432 15543 5045462 7042851 73413 96350 17199 64673 3497347 2303 84099 96173 5481996 96359 3497474 7043329 7043716 7043763 24428 5050780 3497401 7043726 57951 4210675 90462 58018 7397320 7043386 6756940 37041 7043783 10202 7494 7452 3851056 60319 3074663 6697904 76415 5051481',\n",
       "             16738: '2529 66956 12355 86089 9609 14290 14474 26676 14312 22283 18104 63762 63756 2483 66890 2507 5178 14307 10163 5474225 709 5046419 5387 66893 5045001 50408 14615 96537 49924 10198 5481688 2572 91374 18451 285 7398 61367 3817552 14299 71175 143 21511 74649 16301 26656 103302 4203019 14836 37400 49919',\n",
       "             16742: '5073 8003 63160 5471073 4593451 5483426 5471078 5479892 709 158 1300 166 9959 176 39590 5657365 2586485 2146 23499 180 177 2544 165 8547 66893 13344338 10016 2597 67694 21904 3497419 20499 5217 10095 285 10015 9593 17314 2137 14564 7401 9152094 100 49911 2165 170 66966 9842 66969 224',\n",
       "             16766: '2271 2321 201891 2323 58812 9571 6368465 103406 37295 7016402 18422 7004209 7052 7004208 2494 7053 4033702 9554 37273 2834450 72358 7406846 709 158 1300 166 9959 176 39590 5657365 2586485 2146 23499 180 177 2544 165 8547 66893 13344338 10016 2597 67694 21904 3497419 20499 5217 10095 285 10015',\n",
       "             16794: '1300 39590 5217 55133 5657364 3817484 39591 4592908 69669 20276 75924 72006 5642 3817542 10163 73690 7324996 94333 38481 5214 57199 26338 4141754 55130 105 13481 91095 103938 85879 5479810 14824 5479797 18438 26197 26336 5634 37548 26200 4033669 96350 9852 4141656 100446 4592981 58920 16591 96185 37364 96173 2834517',\n",
       "             16800: '66975 67377 2562 18677 30247 7410 7373 46971 61102 15592 1652 25639 38060 29669 8062 77815 5046679 29608 28182 101155 29668 67451 5488969 709 158 1300 166 9959 176 39590 5657365 2586485 2146 23499 180 177 2544 165 8547 66893 13344338 10016 2597 67694 21904 3497419 20499 5217 10095 285',\n",
       "             16830: '14857 158 10012 58708 14938 231 23497 9500 7365 254 66933 66935 14967 54916 7431 6784089 7021 36239 39590 5653 13929 452 456 96436 75924 6784360 5479901 39561 457 25423 30247 21976 69553 3817489 16607 50464 5997165 25550 709 37067 5636 240 5481654 26222 4141370 37292 9586 57832 39796 4033572',\n",
       "             16839: '58082 4277768 38060 37539 27948 63980 8855 36248 20056 17213 5469244 64057 6390763 8980 104352 8824 80918 5469295 13531 5469292 709 158 1300 166 9959 176 39590 5657365 2586485 2146 23499 180 177 2544 165 8547 66893 13344338 10016 2597 67694 21904 3497419 20499 5217 10095 285 10015 9593 17314',\n",
       "             16868: '2597 2599278 200863 96265 5651499 39577 10523846 709 158 1300 166 9959 176 39590 5657365 2586485 2146 23499 180 177 2544 165 8547 66893 13344338 10016 67694 21904 3497419 20499 5217 10095 285 10015 9593 17314 2137 14564 7401 9152094 100 49911 2165 170 66966 9842 66969 224 59980 55133',\n",
       "             16954: '36593 44788 44797 6210221 6565184 5045 4979 25716 6375233 5571329 5570029 5574482 5579299 5568339 5577682 5578778 5578889 5573298 5582576 5576178 5571290 709 158 1300 166 9959 176 39590 5657365 2586485 2146 23499 180 177 2544 165 8547 66893 13344338 10016 2597 67694 21904 3497419 20499 5217 10095 285 10015 9593',\n",
       "             17044: '158 39590 15593 67693 68465 75924 456 24851 2601 4202912 9942 72155 26739 60179 4276620 45598 27894 100411 77655 10061 7739 59204 65025 8654 17340 38309 24350 24334 61040 3048648 8353 64121 562 37520 31144 102165 27482 25035 5109 10086 8776 59864 14668 44784 69324 5194 5657394 38438 199563 36640',\n",
       "             17071: '709 9959 39590 9593 9607 55134 9595 9598 9610 69669 9696 9733 57733 61 25831 103039 57723 17526 104 57728 17527 17528 25829 65670 9606 25830 80460 25828 100691 60105 17525 93684 50 17145 105 14572 76913 4440 96164 5177 26197 38169 20214 18748 5634 67564 58137 100446 15245 5651484',\n",
       "             17075: '14466 1747 304 80460 94125 66088 13759 37481 86111 26222 60278 38036 61115 5061861 29556 3571077 4275765 8867 103173 61013 63638 5217410 27629 12404 5651484 5075712 85433 67734 27894 67171 96326 74038 9410 80379 6618 26223 2010 66795 200877 61557 61065 12484 21588 14142 61015 6566 6749933 2586486 6743220 6697365',\n",
       "             17137: '6565238 74582 58004 5474258 5479505 57952 3039032 86572 15374 4592908 5997287 22035 71722 407 9828 39561 6677990 5047181 24871 3533482 5046949 201907 10095 3083040 5074437 95835 95825 71092 71777 16633 44830 6770857 5061012 30295 30294 64240 25491 25490 67013 20408 50260 78618 6677962 24836 44865 201881 4276350 22043 61 71723',\n",
       "             17145: '39489 9901 5073438 58783 8242 7326428 199359 3864279 709 158 1300 166 9959 176 39590 5657365 2586485 2146 23499 180 177 2544 165 8547 66893 13344338 10016 2597 67694 21904 3497419 20499 5217 10095 285 10015 9593 17314 2137 14564 7401 9152094 100 49911 2165 170 66966 9842 66969 224',\n",
       "             17164: '10016 159 36067 68700 5045001 26742 26141 14844 5479374 6992 5483411 7062656 5285 6966 7062017 709 158 1300 166 9959 176 39590 5657365 2586485 2146 23499 180 177 2544 165 8547 66893 13344338 2597 67694 21904 3497419 20499 5217 10095 285 10015 9593 17314 2137 14564 7401 9152094 100 49911',\n",
       "             17173: '2521 96205 2518 2550 45256 198845 2520 2577 2482 4033461 3818519 14945 5046418 2300 709 158 1300 166 9959 176 39590 5657365 2586485 2146 23499 180 177 2544 165 8547 66893 13344338 10016 2597 67694 21904 3497419 20499 5217 10095 285 10015 9593 17314 2137 14564 7401 9152094 100 49911',\n",
       "             17193: '709 2544 20499 2601 94125 6371189 96217 5483097 96400 86112 37212 411 4277624 829 18428 87887 1199 9708 2833709 4274953 69627 59860 21940 6785017 24357 8255 1049 17107 20118 5997157 5044802 24341 44737 37222 6003851 8284 57088 58223 24342 7048379 58312 58683 17114 4274873 44735 63893 4276771 93986 9662 3561079',\n",
       "             17248: '709 10095 3817484 63072 100849 100789 6005364 18677 5481691 5481688 3302557 100812 14838 55034 36666 55266 69553 37295 86 5481726 37292 5997200 198493 6952 3817538 5479458 651 37277 12732 5029 6041 694 5481664 15627 5479544 19493 22982 17211 70126 59657 22626 64908 13549738 5797622 17216 20934 6784576 36901 158 1300',\n",
       "             17272: '176 7397 24836 2322 2321 64712 2325 2323 67214 36483 68347 2541 45929 59771 100372 10034 64675 59772 20632 25905 20056 10071 25111 23149 201602 709 158 1300 166 9959 39590 5657365 2586485 2146 23499 180 177 2544 165 8547 66893 13344338 10016 2597 67694 21904 3497419 20499 5217 10095',\n",
       "             17295: '10016 36313 38234 2491 2492 45393 5075385 47811 6770008 3855053 47822 7106892 105837 6565248 7032190 59888 6770149 47826 3819868 7065114 7104179 5060569 709 158 1300 166 9959 176 39590 5657365 2586485 2146 23499 180 177 2544 165 8547 66893 13344338 2597 67694 21904 3497419 20499 5217 10095 285 10015 9593',\n",
       "             17315: '2600 14338 72154 10182 38836 63077 63070 709 158 1300 166 9959 176 39590 5657365 2586485 2146 23499 180 177 2544 165 8547 66893 13344338 10016 2597 67694 21904 3497419 20499 5217 10095 285 10015 9593 17314 2137 14564 7401 9152094 100 49911 2165 170 66966 9842 66969 224 59980',\n",
       "             17316: '76838 2202 60950 9793 10196 66194 57561 6390773 9571 103204 61172 78003 2834941 57057 59732 7064842 5217348 60635 826 3559074 5061202 5061201 67214 96306 67199 66088 6770063 87886 86111 86113 87887 6770067 13493 9363829 9363828 9363836 3839055 709 158 1300 166 9959 176 39590 5657365 2586485 2146 23499 180 177',\n",
       "             17356: '10095 26184 13191 67679 72282 8472 5634 44836 1039 5653 15232 27701 8619 8618 8016283 6641346 6641345 709 158 1300 166 9959 176 39590 5657365 2586485 2146 23499 180 177 2544 165 8547 66893 13344338 10016 2597 67694 21904 3497419 20499 5217 285 10015 9593 17314 2137 14564 7401 9152094',\n",
       "             17420: '166 8547 3817484 14630 67693 24831 20276 3817512 73690 59460 4202912 103938 20270 4277747 38234 1086 216 57578 6977 5215568 15480 30188 57362 65872 37437 100952 89508 5690 1159920 7695 709 158 1300 9959 176 39590 5657365 2586485 2146 23499 180 177 2544 165 66893 13344338 10016 2597 67694 21904',\n",
       "             17437: '2549 66967 102555 1206 10019 18859 6895 4203376 61225 85653 7495 397 6644 38141 24843 17803 57319 5061278 57320 4272274 63731 478 3565883 6694823 18887 39591 5566925 7328109 7328111 5566938 4202912 709 158 1300 166 9959 176 39590 5657365 2586485 2146 23499 180 177 2544 165 8547 66893 13344338 10016',\n",
       "             17440: '158 7401 3817484 69669 200876 68465 45457 2548 57174 94333 7399 66968 66843 6003958 64045 64083 1005 63876 13549707 64023 7295 12003 17752 63636 1013 12868 25926 4831397 7000915 25927 103059 104802 14776 5216967 709 1300 166 9959 176 39590 5657365 2586485 2146 23499 180 177 2544 165 8547 66893',\n",
       "             17512: '10012 55134 3817484 5469728 182 45457 54728 5479511 5182 407 69553 4444 127 200939 2630 14956 5481314 45345 19196 70833 4274992 7311 64217 85902 3302558 63793 5488970 57034 5051517 57144 63784 65137 92355 6749986 24364 5184 5061173 39813 19201 6677974 21178 5630771 90722 6591099 4276844 709 158 1300 166 9959',\n",
       "             17528: '39590 10016 9152094 224 55134 14630 222 2628 2548 10115 14836 1590 76476 6749602 7021 14572 84118 13487 26222 14474 5063499 58137 66867 96293 15245 16044 9757 6410 37515 6747322 85213 9778 45456 52174 44781 4276440 1159915 5190 50276 45455 7016387 14144 7342757 57764 4621 67366 57465 5047 57891 7330',\n",
       "             17552: '5479415 13476 19012 7109 103798 287 10016 9979 5469728 18887 4701 5217 5046079 6975 4440 54728 29574 5997136 6770737 5797477 8887 19320 22558 688 6770738 6562 7048 5642 821 1786 38730 3570287 5221 4991 6607527 10523993 18439 13666 56969 14583 64642 6352057 26589 39590 95961 5479797 7450736 50235 5217342 45338',\n",
       "             17647: '21767 68465 3497432 85679 57319 103677 21654 7043724 68993 8070 3083040 67030 92174 6768202 67024 5061057 709 158 1300 166 9959 176 39590 5657365 2586485 2146 23499 180 177 2544 165 8547 66893 13344338 10016 2597 67694 21904 3497419 20499 5217 10095 285 10015 9593 17314 2137 14564 7401 9152094',\n",
       "             17652: '100 4592908 55140 7036235 7036241 19562 3497446 37061 37559 6640642 2834359 5256 78842 58958 4033669 4592981 7313793 5073442 3850671 6756954 3570287 84497 7043811 7017 4524 78400 19313 4831405 7339958 7061231 4412 47207 7329547 44859 92123 6784225 90108 5047146 3850669 6784220 101315 31580 3585903 57882 7032716 7043887 102582 709 158 1300',\n",
       "             17697: '4033462 30902 6769 15249 6767 5483288 36530 12119 5062028 12116 12156 709 158 1300 166 9959 176 39590 5657365 2586485 2146 23499 180 177 2544 165 8547 66893 13344338 10016 2597 67694 21904 3497419 20499 5217 10095 285 10015 9593 17314 2137 14564 7401 9152094 100 49911 2165 170 66966',\n",
       "             17703: '304 105764 9936 584 5045640 46682 8317 905 15591 61738 15649 79952 709 158 1300 166 9959 176 39590 5657365 2586485 2146 23499 180 177 2544 165 8547 66893 13344338 10016 2597 67694 21904 3497419 20499 5217 10095 285 10015 9593 17314 2137 14564 7401 9152094 100 49911 2165 170',\n",
       "             17706: '2833784 5474314 5074617 5657557 15517 166 14466 9959 6375428 176 165 66915 66964 6375427 102711 2326 5477911 36293 225 64108 39590 6210171 6692237 96161 2834045 36242 3571484 7342764 15985 6643 86350 50415 2833643 19957 7330060 7342752 6390498 26071 70857 6784061 64609 56935 59187 981 6697382 59980 6368554 26149 5214768 7325213',\n",
       "             17721: '176 158 18711 13302 22976 13152 6975 68700 3497535 6974 19928 8553 53 24831 78247 7284107 201892 58715 69278 201761 72154 6771137 63034 10265 5061242 37536 62097 263 3105038 3497419 142 48322 105671 26590 63072 3096235 51487 13189 3497463 6390644 45645 7042746 8017974 7401 4141820 6697379 72127 9254932 6369 3497495',\n",
       "             17738: '88990 89075 88753 88058 88611 88155 7408187 88548 89107 201386 88540 89289 89238 97641 709 158 1300 166 9959 176 39590 5657365 2586485 2146 23499 180 177 2544 165 8547 66893 13344338 10016 2597 67694 21904 3497419 20499 5217 10095 285 10015 9593 17314 2137 14564 7401 9152094 100 49911',\n",
       "             17766: '10049 10074 8201 7511 57319 3594675 201241 7446 5061010 30337 7437 29673 7739 29684 7740 7445 7365682 29563 7741 5062080 24337 68267 28027 62763 709 158 1300 166 9959 176 39590 5657365 2586485 2146 23499 180 177 2544 165 8547 66893 13344338 10016 2597 67694 21904 3497419 20499 5217 10095',\n",
       "             17799: '175 26621 14292 63780 176 39566 56 45457 78672 59980 1766 9496 1750 63984 65144 44818 39726 45464 6838 13469 39591 103120 86846 13569 5060290 73377 59069 57252 821 14434 17324 38155 72326 51302 20276 5061792 95825 69372 84318 44824 49911 93568 5073714 4276378 61045 44756 3817512 93652 21827 5481726',\n",
       "             17808: '158 1300 285 159 10012 103039 286 5642 60116 24842 399 10163 10115 5061792 7391 7399 46800 3865881 8723 8725 7979 13487 13481 9936 8716 17601 17600 20804 9705 26128 17441 20805 36509 58782 96348 5566970 26130 67714 50415 7446 26129 57200 3565482 47064 9511 5628 25925 4979 21873 99558',\n",
       "             17812: '2561 63779 38250 5046583 64789 45430 5479412 7061899 37481 22107 5481259 22981 6368 3819599 3819602 6349 93978 95442 7008791 70372 7008792 198659 37480 6390830 64017 59980 84272 14424 71176 6695168 56734 200865 9959 10002 19931 4033505 7062001 6335 14292 14294 7062000 2833643 45457 5474692 58979 69444 709 39589 57342 57346',\n",
       "             17814: '10095 21757 39777 6371 6369 78643 6685882 6370 75641 73 80233 20058 50137 76410 20055 77096 6565242 6827376 38053 26617 29975 73664 73479 75631 73724 89799 7008747 89792 5483434 709 158 1300 166 9959 176 39590 5657365 2586485 2146 23499 180 177 2544 165 8547 66893 13344338 10016 2597 67694',\n",
       "             17878: '709 158 166 176 180 5217 59980 182 63072 5469736 61 72006 63984 202196 38458 13759 3302524 45430 14506 55151 21440 7381 96437 5479493 5997093 20269 2834045 9936 5997136 5488904 5657403 15543 9881 591 5073752 54467 10182 26176 6784393 24869 5217177 8181 96293 3565880 63638 6695608 87449 59300 216 57578',\n",
       "             17883: '5469728 981 15441 12565 5061792 3817507 21440 20414 8867 20553 8213 59656 4236274 12569 6768045 38060 31491 1005 6770097 5479848 93711 45557 89605 36248 84507 7053 4831359 3302555 67011 5073648 4592944 3082638 10180 92112 22192 100952 61031 30396 5638 562 6591145 4141489 4276380 93625 13211 1190 21447 11931 3819419 80693',\n",
       "             17885: '9867 2518 2550 388401 591 58708 31364 22969 58862 5062880 26074 8943 198859 709 158 1300 166 9959 176 39590 5657365 2586485 2146 23499 180 177 2544 165 8547 66893 13344338 10016 2597 67694 21904 3497419 20499 5217 10095 285 10015 9593 17314 2137 14564 7401 9152094 100 49911 2165',\n",
       "             17886: '73725 66949 77079 261 3497463 79783 3048678 66881 66880 61016 61078 67734 76429 10169 85152 13488 49927 7339418 6827372 96297 7014927 60049 73880 75652 6692901 6696234 89799 201252 7106988 95635 76722 7103754 7103753 8026748 709 158 1300 166 9959 176 39590 5657365 2586485 2146 23499 180 177 2544 165 8547',\n",
       "             17952: '24836 96306 78672 45459 60 94333 5187 1037 26222 6003852 18398 5070 17312 5061201 5183 1652 38464 25639 1653 26224 14616 61625 2599282 50529 17329 24992 38865 69471 25110 59812 14692 4526 25926 5476178 6210271 58875 5469873 6390784 709 158 1300 166 9959 176 39590 5657365 2586485 2146 23499 180',\n",
       "             17954: '13302 45613 78539 5044992 45616 67662 3818444 14876 158 23499 8553 19917 3818569 57740 17314 13152 9828 102555 4275455 8474 2833784 7107009 76226 7107000 7325142 65140 36242 3829460 69739 57033 57978 66880 3829469 25241 16844 38703 65150 104117 74524 7348050 4141670 7325272 38271 16567 30161 37448 18424 58360 2834859 7311',\n",
       "             17967: '46800 9500 8547 4141821 6210242 104 3043444 4033497 7724770 6750093 39566 5045361 199 1037 98583 5474376 4274972 60215 70857 7034872 5521 22995 7415 5474377 5060422 49923 57016 102868 45459 67564 5060652 47769 3045040 70833 3077438 8017343 6750094 10163 4236674 202197 3497419 20219 26631 98554 103677 9122174 7414756 5217130 57252 26200',\n",
       "             17996: '709 39590 285 14462 4592908 63072 24851 80460 5178 3817507 5214 65349 3865881 9942 30307 92368 93815 19480 200939 5070 30213 5179 5428 102868 5997127 5217410 87449 56900 38464 9410 3850671 27770 98039 9713 58352 8179 9122128 6565184 5044603 5094 13550375 36622 397 69471 58196 80474 39629 7004046 83778 38352',\n",
       "             18092: '7401 4592908 52657 2600 3497570 7036235 1786 7036226 14583 95736 7036239 9127329 8718 85187 74582 96350 67240 3497412 84099 96173 3851061 7034775 3045033 198603 61302 4033676 60242 51345 89801 9514 5074507 199697 31642 102598 15235 3824656 4243074 3083039 6770879 6678051 19188 3078247 3822660 7043857 7364571 7414729 5061070 92209 20256 7365564',\n",
       "             18107: '57607 26701 5044602 57601 13349 59697 1300 2599278 36313 58983 66845 96436 96437 5585 5639 5217431 287 1187 48344 6003460 456 22035 91537 58903 8104 5149 57609 58981 78969 811 60835 95404 4642 539 709 94287 58982 57239 7445 7014641 58896 13322 911 14417 14422 20353 14631 5148 26225 64874',\n",
       "             18150: '180 2188 4276180 10174 98790 98788 14731 14770 3601485 14785 10199 6003630 6390644 37086 3302557 176 661 651 63072 7969 64712 4202899 64057 62362 60850 10169 10191 58962 16492 10171 57547 12731 177 26770 3043444 58862 263 138 10311 9950 55151 100849 67408 5075984 61135 20356 9959 78672 2600 266',\n",
       "             18166: '981 15593 95835 56899 26222 76913 7015896 6003852 9727 15592 7342626 9793 1039 945 6895 67039 6894 6318 63870 6316 9608 5046326 9122221 709 158 1300 166 9959 176 39590 5657365 2586485 2146 23499 180 177 2544 165 8547 66893 13344338 10016 2597 67694 21904 3497419 20499 5217 10095 285',\n",
       "             18192: '14949 2551 66969 2549 14931 14479 14967 3562685 44799 17183 45598 22108 8716 10163 63780 9705 8739 5478993 5073895 222 69278 66895 228 21938 14465 67018 58202 14440 5478198 5154 4592950 13464 3562687 94054 6565238 100789 6794 84318 93798 31580 5470984 50180 4523 64224 14572 5046075 37067 58797 709 5216813',\n",
       "             18194: '1300 2544 55133 55134 39589 100849 3497570 22035 54728 399 7324996 80460 63761 9601 9609 30247 3302557 14833 69091 69553 50026 5993734 100934 14827 26133 5634 806 100931 100902 38234 5490 68225 4689 14596 7519 27943 30364 30291 6697381 36453 199798 9139810 106202 63731 4142056 198547 709 158 166 9959',\n",
       "             18223: '66893 55133 57342 14630 24831 2600083 9950 95961 6005364 78672 64712 9425 10115 57346 56899 4141754 5074363 17761 5187 55151 7032900 13757 6677990 4276378 39621 9936 9571 14490 3562685 85026 78842 6695061 7387362 19300 63724 2833524 38242 105435 56900 4236274 1036 26141 3577474 64257 5797477 25157 45331 5479146 6747322 4592952',\n",
       "             18231: '5694 2519 94329 6565238 225 57248 27259 2561 51 102860 478 102857 74517 4033510 38199 48342 471 14564 5651533 5651529 5074379 981 31181 105547 7979 15441 37005 10199 104 6909 709 9936 37266 4276773 5797403 59614 100812 7061937 407 4033825 58812 2562488 80914 57246 91897 6005364 1005 103302 5469728 661',\n",
       "             18283: '2544 21904 10049 9867 45457 54728 3817542 95359 5187 105764 22161 3302554 62781 100813 1230 6643 1200 6747323 1220 5044347 9775 7724771 91432 5792187 63795 7724772 5228 6390657 3559878 95632 6351912 92333 3559879 6749082 5062364 709 158 1300 166 9959 176 39590 5657365 2586485 2146 23499 180 177 165 8547',\n",
       "             18303: '21904 285 49911 9979 10049 14338 14264 6347 95835 1747 57280 57174 7092 6368 56899 17761 5651531 5214861 7410 63763 461 69091 37061 57867 1749 72155 5488904 50028 15543 5045462 5473481 6749605 67701 91374 5483205 63843 5214802 66867 2303 9763 5166 60606 37536 1611 21652 26225 2835016 64642 94019 9410',\n",
       "             18333: '709 3817484 69669 63072 5479511 2562 7324996 3818498 13152 8553 2540 55151 55266 2553 5483205 100813 50190 7024333 6696251 158 1300 166 9959 176 39590 5657365 2586485 2146 23499 180 177 2544 165 8547 66893 13344338 10016 2597 67694 21904 3497419 20499 5217 10095 285 10015 9593 17314 2137 14564',\n",
       "             18335: '14337 3841064 1300 85026 69011 4033509 4033884 10186 66988 66893 22 5217349 2621 16591 9624 709 14345 4275056 5469736 63072 25830 5469882 25651 3105039 4991 26688 58782 27543 2589315 18677 36156 16993 10163 138 2589314 17051 25841 10265 6005364 9696 9609 70239 92368 5046168 254 31277 170 14864 72155 24831',\n",
       "             18380: '24381 709 158 1300 166 9959 176 39590 5657365 2586485 2146 23499 180 177 2544 165 8547 66893 13344338 10016 2597 67694 21904 3497419 20499 5217 10095 285 10015 9593 17314 2137 14564 7401 9152094 100 49911 2165 170 66966 9842 66969 224 59980 55133 66967 96161 7000939 159 2549',\n",
       "             18399: '7401 225 5469728 456 9425 4202912 78821 96409 45596 93568 45484 96237 37126 5481726 9127342 57208 5997200 96359 59772 57195 57547 25166 5471001 21195 78824 3601486 86089 3047050 5060439 3820676 62575 27468 660 949 6692072 105473 26158 5060854 57771 3865074 7545 3865853 29837 68421 60773 3865861 59265 60770 59267 97219',\n",
       "             18402: '7024300 31300 5481654 12781 6607716 93422 6003851 50373 69578 26108 36615 38457 709 158 1300 166 9959 176 39590 5657365 2586485 2146 23499 180 177 2544 165 8547 66893 13344338 10016 2597 67694 21904 3497419 20499 5217 10095 285 10015 9593 17314 2137 14564 7401 9152094 100 49911 2165 170',\n",
       "             18408: '158 9959 176 5217 224 4275033 981 4592908 15593 68465 6347 22035 96306 3817542 7324996 80460 66088 3302524 58004 2833643 70257 94334 9936 1820 60137 96321 31300 36059 27269 57552 9852 7032787 4276620 25578 96359 7386392 28173 5479376 5829 67220 592 26629 5063419 7726 20429 26042 69195 9779 36122 7325196',\n",
       "             18416: '709 158 166 9959 67694 21904 14564 7401 49911 55133 3817484 5469728 69669 63072 52657 100849 63780 9950 72006 6005364 67109 20286 18734 9617 10163 48315 9425 478 9761 25645 26625 9590 1990 6749597 6371189 661 6345 6349 95359 9620 6340 36238 64273 20295 10074 66877 5479853 86111 6365 24845',\n",
       "             18433: '2521 2166 4033648 37087 38234 59619 1990 66949 15517 56899 73 71693 71404 25638 14752 4689 709 5481688 64224 92457 26708 7014226 6591160 4274642 4274958 18720 65297 37539 15148 21904 13411 17752 158 2322 20391 2834834 4274956 9867 57205 4141754 61 19562 5479901 55130 3817552 2835413 21200 39537 39590 6375233',\n",
       "             18452: '9959 5217 69669 63072 9950 4227874 4235874 4444 4426 4033819 709 158 1300 166 176 39590 5657365 2586485 2146 23499 180 177 2544 165 8547 66893 13344338 10016 2597 67694 21904 3497419 20499 10095 285 10015 9593 17314 2137 14564 7401 9152094 100 49911 2165 170 66966 9842 66969 224',\n",
       "             18476: '1300 67694 5217 55134 3817484 981 182 67693 10049 52657 9950 72006 3817512 67035 9496 24842 73690 80460 57174 38481 6371189 9500 4141754 24827 3865881 96219 57198 60730 69372 5654340 29588 9936 5488904 5657403 50028 3302554 5062131 1267 24838 30161 105591 6784393 78842 8102 58958 64244 50036 26296 8213 31364',\n",
       "             18547: '10049 31277 5045462 471 96359 5051494 6768045 100949 7043713 7034877 71308 64886 64884 96119 37432 59990 64885 6771242 93813 6692096 5060583 3082637 67601 13443 5060598 100785 69815 6770977 3821069 5051206 86404 102748 5060632 47812 104084 89563 66372 93963 5062276 3823459 60355 7032252 7029470 6770189 60302 5060541 7032422 6771125 7030508 7043135',\n",
       "             18553: '25842 25843 72796 72795 25847 9620 25844 5997136 39692 76531 17133 8097 64045 25639 64607 2270 4276780 5061789 24428 5076015 68243 7406 4276297 8771 38380 4276296 24433 75431 709 158 1300 166 9959 176 39590 5657365 2586485 2146 23499 180 177 2544 165 8547 66893 13344338 10016 2597 67694 21904',\n",
       "             18559: '159 66949 6347 57199 57252 3497502 60855 14627 7043841 65584 4141426 7029465 6770637 3051044 9127392 3046639 709 158 1300 166 9959 176 39590 5657365 2586485 2146 23499 180 177 2544 165 8547 66893 13344338 10016 2597 67694 21904 3497419 20499 5217 10095 285 10015 9593 17314 2137 14564 7401 9152094',\n",
       "             18572: '166 39590 165 4592908 24831 63780 9950 13168 58093 19932 13169 1786 13170 70257 18659 10196 86847 14824 457 127 7511 62040 72084 216 14731 69260 5061012 5479909 69951 5060404 73055 22989 64702 14453 200953 76866 7034722 71617 7036247 6771056 57744 6029 7034515 5479910 3045032 7328937 76384 2833686 60028 82498',\n",
       "             18595: '2549 55134 14630 94333 92418 15145 6005099 4831055 4141320 2589314 57809 14590 4203251 37349 5073708 100368 4203249 50584 6749037 87934 37379 709 158 1300 166 9959 176 39590 5657365 2586485 2146 23499 180 177 2544 165 8547 66893 13344338 10016 2597 67694 21904 3497419 20499 5217 10095 285 10015 9593',\n",
       "             18596: '49911 63815 59656 2833429 2833428 2833452 37505 2833455 709 158 1300 166 9959 176 39590 5657365 2586485 2146 23499 180 177 2544 165 8547 66893 13344338 10016 2597 67694 21904 3497419 20499 5217 10095 285 10015 9593 17314 2137 14564 7401 9152094 100 2165 170 66966 9842 66969 224 59980',\n",
       "             18601: '2549 5469728 24831 68465 75924 96306 3817512 60114 1786 60105 30247 3302557 64213 38241 85026 26632 5653 14994 69373 27826 7004211 51369 10002 37423 16900 4141820 58307 3566287 67520 9668 4276363 10171 80470 24381 57529 57219 196842 5063046 10232 709 158 1300 166 9959 176 39590 5657365 2586485 2146 23499',\n",
       "             18608: '176 3497419 3497570 286 45459 50 2834359 63843 5653 5636 3497447 7437 14643 7519 4226676 64941 26174 3497418 3497462 7034585 102811 104569 30301 7032189 91700 7036197 3052257 4211474 823 6770879 7029495 7106914 4277454 6756974 5060622 7365854 709 158 1300 166 9959 39590 5657365 2586485 2146 23499 180 177 2544 165',\n",
       "             18610: '158 3497419 7397 981 52657 68465 456 1985 60116 77339 7391 261 75926 60119 266 5180 48322 3821458 4141445 5045991 45460 64701 9397 50451 25717 1728 8317 198549 5061007 7365676 3865883 5060461 7043833 3868293 3868295 7043346 7043352 103260 65214 62534 27830 77594 3868284 7368610 70413 7034933 3065434 68250 709 1300',\n",
       "             18618: '49921 21545 20302 22988 5488990 17685 16591 6695608 6749937 7062082 6749928 4276303 4426 16592 6749938 1824 69196 4478 4276305 4276304 7061231 14099 80532 201652 58312 4617 7061236 69278 3818532 6636198 6003621 4276446 6005134 10523437 9959229 10524068 10526405 709 158 1300 166 9959 176 39590 5657365 2586485 2146 23499 180 177',\n",
       "             18638: '14564 9152094 49911 9842 7397 981 1746 9809 24851 1747 1985 67499 25645 76876 4141821 876 47853 29553 67213 67212 7410 66843 57170 18201 58812 96400 69250 96409 84118 61115 5997215 5217052 61102 50137 45262 8196 44787 825 66713 61113 8001 37295 8472 287 17143 5063499 61016 65407 9793 1039',\n",
       "             18663: '23004 66969 2551 9152094 5479372 18713 399 2835282 14876 76745 5575071 10265 37061 1990 7044046 13946 9550 63979 60394 407 54728 5471001 78672 6003678 17314 58010 5479373 65412 6677915 6003572 5586498 83974 103876 76429 7048373 5573393 55134 9221144 88504 8104 107 13487 30377 709 60850 10095 7397843 5469736 5569185 7324903',\n",
       "             18675: '709 63072 54728 67035 92418 4830912 9936 22969 13435 5663 55095 3570287 61154 36945 13550375 61135 5630647 7387406 103302 4277754 6371128 9122208 103909 13437 95789 20167 158 1300 166 9959 176 39590 5657365 2586485 2146 23499 180 177 2544 165 8547 66893 13344338 10016 2597 67694 21904 3497419 20499 5217',\n",
       "             18707: '158 49911 14630 39591 8544 72003 45457 95835 45459 18720 74649 9977 57199 9970 24843 45458 37061 13117 13301 5073714 65483 24839 61113 96350 84320 14575 3497476 1914830 71888 184 9127295 7324199 7034585 7480 100051 7043743 5566969 20050 27725 64 5483394 7825 7326740 13596 7042625 7414795 7062733 92075 6368539 6692632',\n",
       "             18740: '709 9979 69669 95961 10163 73690 25645 96296 7399 46966 92418 8723 5997093 8725 8724 17600 5473479 5479797 5650 26215 38464 1509 100411 2833650 7386338 14253 4203420 4275517 50276 201680 58177 10153 4276010 2834293 14993 64040 76426 76385 5657507 4203146 4203138 158 1300 166 9959 176 39590 5657365 2586485 2146',\n",
       "             18778: '177 5217 69669 39589 304 4275967 9609 26616 2005 14681 65140 78247 50026 38712 9592 4592981 37484 4275056 5051521 16916 5061790 2010 6278 69490 5046350 4274871 37266 3859910 39668 25042 57898 3586277 63856 7328894 7901 17557 7917 6003488 8762 3568682 25811 198644 7071565 3593082 3593081 27432 7071563 66215 6003464 5654314',\n",
       "             18805: '63072 67377 19562 3817529 5631 29619 58137 4141329 62939 38359 38357 5063044 3817591 10128 7048114 7061938 50608 103908 3818717 709 158 1300 166 9959 176 39590 5657365 2586485 2146 23499 180 177 2544 165 8547 66893 13344338 10016 2597 67694 21904 3497419 20499 5217 10095 285 10015 9593 17314 2137',\n",
       "             18819: '158 39590 66893 14564 224 981 36067 222 69669 100849 3497570 61 60174 67326 45459 3817489 94333 69219 19562 72283 37392 38036 13854 69553 13550019 5217052 50137 66883 6717 64615 91183 100648 128 5045633 20072 96185 66914 198493 4141329 103771 6368538 3599480 20071 4033787 95442 5657381 6747322 64247 58839 76549',\n",
       "             18827: '158 2597 100 49911 24836 4592908 45457 39595 399 14583 8016 18201 49915 14572 10196 95825 5997136 5217354 24871 107 20215 14465 39561 20214 5476580 17143 829 58782 67443 216 90073 18202 37380 2205 6041 51080 24357 5046170 17326 3865479 5046420 8883 1289 7731 6678064 6697379 4276579 4592944 4033670 2834846',\n",
       "             18839: '10015 7025 6750019 6352 54995 6694897 9959 5075354 94053 3819465 63780 18720 5214768 29844 14866 24396 64257 55641 36593 17206 69082 5047180 410 3558673 8311 84497 8102 3302557 69079 5044602 3817538 5063315 4277583 30213 94007 39723 39813 5481284 27475 94006 107 8697 198591 199610 6784186 10527043 5997156 27472 5481314 55134',\n",
       "             18841: '709 55133 69669 3497570 5481688 3302557 3302524 92418 13179 411 3817552 4033661 54962 23882 158 1300 166 9959 176 39590 5657365 2586485 2146 23499 180 177 2544 165 8547 66893 13344338 10016 2597 67694 21904 3497419 20499 5217 10095 285 10015 9593 17314 2137 14564 7401 9152094 100 49911 2165',\n",
       "             18852: '21904 30361 1771 80460 1242 26222 26164 60179 22976 9387 24839 7511 8102 5072 29648 12857 38301 66788 58149 57561 57853 64366 57547 57509 7892 84661 8062 5217224 20221 18884 15732 25027 61570 29617 57534 25110 28041 57535 57533 7500 36502 27403 7539 13790 57538 7888 60049 89582 5061753 57536',\n",
       "             18952: '5073848 1300 6691267 158 6691108 1985 65670 57733 57728 57723 9696 9733 17526 17528 17527 9595 9610 9593 9598 9607 176 3827453 174 98788 4592908 76596 71435 2833643 78247 3817547 76819 57295 77096 6691110 14294 99817 6368 72357 6827226 5063007 6367 82212 55140 2586485 26164 5061789 709 9682 39692 71399',\n",
       "             18955: '67035 1747 64712 13560 17312 13577 17319 5478961 85862 5046144 5075945 50120 16768 89883 709 158 1300 166 9959 176 39590 5657365 2586485 2146 23499 180 177 2544 165 8547 66893 13344338 10016 2597 67694 21904 3497419 20499 5217 10095 285 10015 9593 17314 2137 14564 7401 9152094 100 49911',\n",
       "             19023: '158 9593 9607 9595 9598 9696 68465 25831 57723 17526 57728 17527 25829 65670 9606 25830 5481688 17525 100812 10265 10074 91374 30213 9916 8102 63843 37548 59813 5072 27471 5183 4988 64262 64263 7520 7295 7311 14494 20060 29797 86866 84469 5074091 57211 14488 57554 27468 5074092 4141323 57026',\n",
       "             19051: '4592908 38036 8242 4478 64231 63804 5217272 8368 709 158 1300 166 9959 176 39590 5657365 2586485 2146 23499 180 177 2544 165 8547 66893 13344338 10016 2597 67694 21904 3497419 20499 5217 10095 285 10015 9593 17314 2137 14564 7401 9152094 100 49911 2165 170 66966 9842 66969 224',\n",
       "             19052: '225 5469728 3497570 45457 14836 73 92418 14838 60850 11 22995 39561 5045991 5481284 38155 56 36927 5063044 2833985 6005155 54756 36918 709 158 1300 166 9959 176 39590 5657365 2586485 2146 23499 180 177 2544 165 8547 66893 13344338 10016 2597 67694 21904 3497419 20499 5217 10095 285 10015',\n",
       "             19058: '88073 88060 89217 88990 88084 3817822 89457 88428 88949 5209522 88476 88248 88345 3302741 4274768 5209589 709 158 1300 166 9959 176 39590 5657365 2586485 2146 23499 180 177 2544 165 8547 66893 13344338 10016 2597 67694 21904 3497419 20499 5217 10095 285 10015 9593 17314 2137 14564 7401 9152094',\n",
       "             19059: '9959 55140 10049 72875 2519 3497570 9950 57251 96205 62826 6565241 15602 7342762 14622 4141329 90227 16633 3497563 20358 6697381 95465 7061232 1924 10132 58077 55124 3048644 1661 7031391 7061949 709 158 1300 166 176 39590 5657365 2586485 2146 23499 180 177 2544 165 8547 66893 13344338 10016 2597 67694',\n",
       "             19080: '13301 9999 3302554 51369 18312 10237 45459 67694 1746 67409 13114 141 7015896 62097 95889 95835 1749 20414 56900 6951 65483 30294 13113 36059 7324701 13108 13181 13121 37292 58746 104 1771 72094 7801 58941 85869 28164 709 8016 10049 44739 9397 59770 4203376 10115 2835235 5474192 55134 5076168 94227',\n",
       "             19085: '158 9959 39590 14770 4033462 67281 26621 75641 44739 72027 7040941 73733 8016 72283 12817 2834359 2834741 45932 4033669 4592981 61490 66951 96334 6694654 62792 196962 5851 21940 72455 70986 6782758 37425 75974 7949 37403 37426 5063488 37496 7014960 6972 38734 75973 5062956 7106848 61341 7106847 47721 6804784 7071 27363',\n",
       "             19087: '14286 6352 14877 26198 100446 22035 2324 5636 5471575 2600083 10196 96205 14836 69372 24866 2636 21904 5479466 4202912 2322 45459 10189 14857 18720 5481691 709 158 1300 166 9959 176 39590 5657365 2586485 2146 23499 180 177 2544 165 8547 66893 13344338 10016 2597 67694 3497419 20499 5217 10095',\n",
       "             19096: '7397 981 67693 21757 54728 57174 6749597 93684 30247 14838 57170 5469882 105764 5479853 26222 6749603 5045462 5186 93815 66713 37295 5634 12824 17312 100648 5471575 13943 10186 5997200 78969 3823470 58032 59820 3817488 64165 47845 64221 26223 45592 47063 66845 5185 6696244 64676 30902 20356 6227 26743 5044844 60504',\n",
       "             19110: '166 5217 10095 3817484 14630 68465 14338 72006 5481691 66930 60692 57923 5046118 5797475 5471001 25234 5488989 44737 5469874 93747 58021 5046116 89705 5483042 5797476 709 158 1300 9959 176 39590 5657365 2586485 2146 23499 180 177 2544 165 8547 66893 13344338 10016 2597 67694 21904 3497419 20499 285 10015',\n",
       "             19111: '24831 7391 4202912 7979 24811 24370 8025 38352 6395 709 158 1300 166 9959 176 39590 5657365 2586485 2146 23499 180 177 2544 165 8547 66893 13344338 10016 2597 67694 21904 3497419 20499 5217 10095 285 10015 9593 17314 2137 14564 7401 9152094 100 49911 2165 170 66966 9842 66969',\n",
       "             19145: '1300 55133 5469728 100849 22035 399 261 266 4831055 21636 3302554 5074498 3302553 67013 688 37536 3817488 101031 77038 4276177 4274871 14477 3820675 37246 3817511 2834687 15765 7468 7004226 7386390 5044292 4203228 709 158 166 9959 176 39590 5657365 2586485 2146 23499 180 177 2544 165 8547 66893 13344338 10016',\n",
       "             19164: '63780 1771 54728 5182 45459 399 9901 14506 5187 4141822 20269 2572 22981 9942 4235874 9881 18104 14465 86 5062860 254 3850672 5183 19928 12857 201311 19191 14479 69055 12825 13156 26172 1914830 26697 3818591 19931 2602 51080 85 5630482 4274992 18009 5045983 24357 23003 84391 59561 36236 5387 91889',\n",
       "             19187: '9809 67031 65412 27925 67233 67502 67732 67019 65652 63045 67038 5477789 6743230 77097 67552 5657751 5477790 8948 5073935 5073936 7397841 6818395 4831226 709 158 1300 166 9959 176 39590 5657365 2586485 2146 23499 180 177 2544 165 8547 66893 13344338 10016 2597 67694 21904 3497419 20499 5217 10095 285',\n",
       "             19205: '24836 39591 3497570 104 3497505 9496 75676 58169 38679 7036241 9500 51487 105 90518 7036239 13481 3497386 57867 9942 4444 60888 7036182 26200 64244 3497348 94423 72279 5997208 3823470 5481321 7036229 5046132 39718 7036238 235 4592700 7036181 7036233 7034563 4277724 7106587 105600 61746 2835005 16733 96184 64116 6607716 3497341 3045028',\n",
       "             19238: '1300 1086 9990 177 58812 20408 63712 104 158 5488905 9139728 44739 6824042 1159929 67694 17761 39595 5481364 6371190 101136 196879 5654326 4141721 7004202 5061141 6823967 1039 62448 57995 7015896 101546 5045875 105 82350 7048181 1985 63870 7013621 5046160 38719 5047612 5997197 6371189 26225 30034 7334 7008346 6634 17196 4141754',\n",
       "             19250: '709 158 7401 981 55140 100849 2322 72875 14338 2628 72006 54728 3817489 2325 3817487 103938 39666 39796 6640642 62826 85607 63680 31300 37212 263 85595 2589315 37484 896 37210 6368557 79129 57985 39588 95442 4986 3817592 85606 45159 7386338 37380 7013629 8264 4592955 20429 84497 22991 14478 57932 13549707',\n",
       "             19254: '10049 27569 9387 84117 4141799 5046243 5073317 98878 709 158 1300 166 9959 176 39590 5657365 2586485 2146 23499 180 177 2544 165 8547 66893 13344338 10016 2597 67694 21904 3497419 20499 5217 10095 285 10015 9593 17314 2137 14564 7401 9152094 100 49911 2165 170 66966 9842 66969 224',\n",
       "             19271: '709 158 7000939 77313 76838 17316 67700 77069 6818414 37214 37211 6827120 6564721 4033662 73726 76666 100214 73844 58469 3570290 6695388 1870 5075442 4033836 5477881 6685853 1300 166 9959 176 39590 5657365 2586485 2146 23499 180 177 2544 165 8547 66893 13344338 10016 2597 67694 21904 3497419 20499 5217 10095',\n",
       "             19273: '5479144 17525 5192 9607 3819599 3819601 3819602 25830 17528 17526 9696 9733 3819600 57728 65670 57723 57733 100691 25829 25831 25828 9598 3833463 4275270 4275267 13429 3045040 3047847 14752 7398122 78672 3821866 5060936 5060935 21767 7015604 7036226 6695557 8016787 56929 7036228 13481 7029518 66447 90518 94423 6695906 6824083 6640642 5182',\n",
       "             19276: '1300 9842 3817484 75924 66949 9950 2628 104 54728 24851 26751 5182 73690 60413 9901 102 3302557 60419 13333 17801 7373 5063007 7015896 103938 5481364 6590 5061260 6695060 3043444 896 45460 18563 3850671 585 6391 9778 6607607 17723 13666 5044722 3584675 5045936 4203421 57630 7386333 14348 36939 25839 199374 7072047',\n",
       "             19310: '10049 3497502 7042560 17752 66208 86486 7043345 7043869 3861878 7043815 6770710 7043806 77089 7043366 17753 7032758 8587 7043829 6406 6937 8016741 6770847 8016730 3821895 7032853 9959257 709 158 1300 166 9959 176 39590 5657365 2586485 2146 23499 180 177 2544 165 8547 66893 13344338 10016 2597 67694 21904 3497419 20499',\n",
       "             19329: '100789 14898 10063 57362 65508 95610 84663 6390620 6390622 6390621 6003668 709 158 1300 166 9959 176 39590 5657365 2586485 2146 23499 180 177 2544 165 8547 66893 13344338 10016 2597 67694 21904 3497419 20499 5217 10095 285 10015 9593 17314 2137 14564 7401 9152094 100 49911 2165 170 66966',\n",
       "             19361: '2586485 3817484 5469728 67693 5469736 3497570 103039 7324996 3817507 58373 55130 50 58235 10523759 66877 13550019 26164 6003958 62826 8102 22614 29648 14298 18713 5044757 6410 7325190 7386392 6696245 37361 66795 14312 5479848 8003 3565482 6210221 14300 37363 21976 91338 5215606 4203250 4203251 58810 58276 4987 3818701 22549 7004186 57343',\n",
       "             19392: '9959 9809 6786 58985 69218 50104 70449 4568 96385 709 158 1300 166 176 39590 5657365 2586485 2146 23499 180 177 2544 165 8547 66893 13344338 10016 2597 67694 21904 3497419 20499 5217 10095 285 10015 9593 17314 2137 14564 7401 9152094 100 49911 2165 170 66966 9842 66969 224',\n",
       "             19397: '709 10095 14564 100 55133 3817484 5469728 30361 63072 27745 31277 2519 5469736 100789 20285 96306 6005364 54728 78672 77405 1159921 3817542 24842 80460 9425 478 39725 67040 65349 876 82738 58082 95359 55130 92418 58004 55151 20295 8016 4830912 5479853 69250 15145 22108 84118 38694 584 15986 50137 4274952',\n",
       "             19407: '6005364 5044602 5479853 709 13189 5182 57280 78672 6371189 68770 3302524 5483205 69669 26006 68108 304 68323 17761 4274656 58960 38462 3818565 103302 3817552 6318 9122174 25489 55130 7471 104 5481688 14286 22995 7450748 5062880 9139831 104836 3817550 55134 5070 13550375 5478612 83777 90810 4141788 54962 7024328 5209383 9366 7386419',\n",
       "             19422: '7397 3865881 17196 6562 10052 709 158 1300 166 9959 176 39590 5657365 2586485 2146 23499 180 177 2544 165 8547 66893 13344338 10016 2597 67694 21904 3497419 20499 5217 10095 285 10015 9593 17314 2137 14564 7401 9152094 100 49911 2165 170 66966 9842 66969 224 59980 55133 66967',\n",
       "             19520: '2544 43 45284 76083 76209 5045429 6695703 3040231 6692222 6693164 709 158 1300 166 9959 176 39590 5657365 2586485 2146 23499 180 177 165 8547 66893 13344338 10016 2597 67694 21904 3497419 20499 5217 10095 285 10015 9593 17314 2137 14564 7401 9152094 100 49911 2165 170 66966 9842 66969',\n",
       "             19557: '2558 45929 8195 20637 7378 29643 2834973 709 158 1300 166 9959 176 39590 5657365 2586485 2146 23499 180 177 2544 165 8547 66893 13344338 10016 2597 67694 21904 3497419 20499 5217 10095 285 10015 9593 17314 2137 14564 7401 9152094 100 49911 2165 170 66966 9842 66969 224 59980',\n",
       "             19622: '158 14487 26751 5214 9959 45459 9999 45584 102 6749598 95825 21540 7391 709 38837 6694607 1989 10291 45458 5636 102982 70231 5470926 50247 89981 102716 15270 49915 15524 61038 14847 30211 44774 30271 17234 22578 198543 9425 849 6749599 4592999 6749603 5051530 64712 1310 44787 85 10196 44770 7071570',\n",
       "             19627: '709 39591 24831 63072 8474 31277 2322 1746 104 6005364 54728 2321 304 3817489 2542 2325 24827 39726 2323 13757 1987 55128 8473 13550019 3302554 2615 8584 8196 59771 63680 15592 72094 2326 39771 4424 7308 7398 105600 24402 5051529 37023 102553 16769 37403 24480 201319 5047609 74717 6565191 89867',\n",
       "             19644: '7397 24831 100789 45459 64213 7410 75440 13550019 29556 91374 58022 8102 2530 100372 8071 29988 5469740 23509 23498 15722 29694 5061276 7478 25130 198645 57085 10055 27875 6620802 7477 29998 615 709 158 1300 166 9959 176 39590 5657365 2586485 2146 23499 180 177 2544 165 8547 66893 13344338',\n",
       "             19703: '16288 71180 9945 71175 7008784 3566284 58235 57033 102816 26656 6390512 58373 20011 176 9974 5479153 70370 69166 7325196 7008785 7325301 286 285 26349 287 6003575 25639 39692 7325212 7004211 39590 39666 6750097 4428 5483043 3850671 5471001 29619 806 2600083 36913 5479356 199647 6300 24835 9908 84043 59980 5063007 7060816',\n",
       "             19705: '176 180 14564 170 6371 6369 6370 19940 6782789 72196 460 709 158 1300 166 9959 39590 5657365 2586485 2146 23499 177 2544 165 8547 66893 13344338 10016 2597 67694 21904 3497419 20499 5217 10095 285 10015 9593 17314 2137 7401 9152094 100 49911 2165 66966 9842 66969 224 59980',\n",
       "             19721: '2544 10095 9828 2600 68465 3497570 61 10039 2572 66959 24871 3302554 29619 23500 2630 8770 27471 58715 27475 23504 5630482 74609 10153 27873 8310 7397878 7047678 5591 709 158 1300 166 9959 176 39590 5657365 2586485 2146 23499 180 177 165 8547 66893 13344338 10016 2597 67694 21904 3497419',\n",
       "             19756: '709 100 55133 5469728 63072 10049 3817542 3817507 3302524 7410 5650 44836 100813 58137 77152 5047346 15245 196 50190 37121 4277725 14669 14616 90574 4033676 20330 9779 64394 17494 8353 7342450 6749930 75112 6749932 4526 57095 3593082 4033885 30013 6210271 13550162 6003625 158 1300 166 9959 176 39590 5657365 2586485',\n",
       "             19771: '14870 66967 13302 9977 45607 9842 10074 8855 30361 10052 4873 3855054 2628 3819485 13487 5650 5481688 4861 151 4274952 67046 97731 6749935 84508 89180 6677897 4864 88975 67700 94407 100674 26222 89286 6210229 38141 88103 88538 68674 201347 24831 7375 92043 88121 5060563 7739 62408 17699 92075 27351 7439734',\n",
       "             19785: '7325382 39726 20295 6749602 66877 584 59771 63680 21446 6749598 74716 24466 47063 9692 21438 5061789 1049 38349 6390785 15434 9782 21532 12868 30235 7071566 7071565 93736 709 158 1300 166 9959 176 39590 5657365 2586485 2146 23499 180 177 2544 165 8547 66893 13344338 10016 2597 67694 21904 3497419',\n",
       "             19790: '709 177 55133 55134 36242 10049 3497570 661 55130 7410 2561 18939 94400 201957 7328894 71898 7328893 5479397 158 1300 166 9959 176 39590 5657365 2586485 2146 23499 180 2544 165 8547 66893 13344338 10016 2597 67694 21904 3497419 20499 5217 10095 285 10015 9593 17314 2137 14564 7401 9152094',\n",
       "             19824: '3043451 7339560 60888 215 3826253 14770 95961 6565241 14471 66843 9950 9500 5182 15916 3105030 981 45459 2305 7036194 85606 85595 94125 14735 4517 69943 6697381 67694 1509 9979 3497500 452 14264 85187 4033502 67213 59204 67212 3850672 14483 2271 31491 78672 5481325 45430 5479794 54728 55140 54697 55133 5469728',\n",
       "             19827: '38679 96208 57174 7410 3048672 13487 266 8102 5214802 64244 64227 98040 6641 6695583 94112 45479 6877 25166 85626 7325271 64263 5046420 7907 9603 10055 7348044 104110 25636 3818759 27582 3818694 93747 198477 5483042 82209 89557 5479044 3593074 7033789 27824 9139660 9139661 86759 4276171 6748786 98043 709 158 1300 166',\n",
       "             19832: '10095 5469728 72875 55151 22107 22108 7064842 44787 2833439 2634 20567 2833446 16019 57725 13464 17113 4141333 36248 95874 4033844 23878 3829855 4642 65316 2042 709 158 1300 166 9959 176 39590 5657365 2586485 2146 23499 180 177 2544 165 8547 66893 13344338 10016 2597 67694 21904 3497419 20499 5217',\n",
       "             19836: '45459 5180 16592 7043763 61302 7043782 90331 7552 5051107 17219 16906 7034825 15108 73143 36587 61292 36869 7032785 7043648 3077439 6770318 16873 709 158 1300 166 9959 176 39590 5657365 2586485 2146 23499 180 177 2544 165 8547 66893 13344338 10016 2597 67694 21904 3497419 20499 5217 10095 285 10015',\n",
       "             19852: '177 67163 67272 69942 6003928 20454 14462 5476534 4033459 1300 56899 2573 6930 37275 37292 38110 38234 14967 14949 14938 14931 54916 14959 14958 38153 6318 6317 69545 2098 36221 5046309 100648 18960 709 158 166 9959 176 39590 5657365 2586485 2146 23499 180 2544 165 8547 66893 13344338 10016',\n",
       "             19859: '876 47780 4275049 102868 15079 15072 5044335 102660 6678030 5993765 5470991 3818701 7062037 26394 6678029 3828264 26612 39558 6748563 7316 79157 5476578 5479559 5075966 6784492 78950 24417 4274923 7450722 7064640 5061193 5044728 5061240 4274955 5481625 38455 85286 94640 5657396 69395 94638 84134 709 158 1300 166 9959 176 39590 5657365',\n",
       "             19875: '67013 13936 3559883 709 158 1300 166 9959 176 39590 5657365 2586485 2146 23499 180 177 2544 165 8547 66893 13344338 10016 2597 67694 21904 3497419 20499 5217 10095 285 10015 9593 17314 2137 14564 7401 9152094 100 49911 2165 170 66966 9842 66969 224 59980 55133 66967 96161 7000939',\n",
       "             19886: '9959 177 10095 3817484 4275033 69669 3817512 73690 67040 6371189 136 4202912 14836 64273 60850 8273 58010 5217354 91095 5997215 21827 50026 3817547 58783 17312 64244 57608 64227 38168 13478 5469740 105507 24872 67187 64221 101031 13956 94227 4033510 4033509 5061701 26072 7048352 201286 6003850 5217407 20074 15426 5479505 12868',\n",
       "             19892: '37160 74716 24466 78535 37159 37158 3583481 5046309 5046159 15659 709 158 1300 166 9959 176 39590 5657365 2586485 2146 23499 180 177 2544 165 8547 66893 13344338 10016 2597 67694 21904 3497419 20499 5217 10095 285 10015 9593 17314 2137 14564 7401 9152094 100 49911 2165 170 66966 9842',\n",
       "             19916: '8547 3497419 96161 67693 67407 2519 66949 77094 61 7036235 45607 39489 73690 4275967 7036228 13113 9590 13181 13114 8546 13560 17761 51487 66877 63295 3497521 4444 5540 96321 3497535 9727 96350 5428 3497423 95294 3826657 5074500 6375428 77632 96235 200871 1914830 3045033 61383 99572 7043849 17723 13666 20187 13030',\n",
       "             19924: '166 5469728 37160 4276595 37158 7068063 37010 7104075 709 158 1300 9959 176 39590 5657365 2586485 2146 23499 180 177 2544 165 8547 66893 13344338 10016 2597 67694 21904 3497419 20499 5217 10095 285 10015 9593 17314 2137 14564 7401 9152094 100 49911 2165 170 66966 9842 66969 224 59980',\n",
       "             19985: '14506 84240 27987 10757 64244 83777 8258 8280 105600 826 2834972 39813 84151 36661 5044608 50820 709 158 1300 166 9959 176 39590 5657365 2586485 2146 23499 180 177 2544 165 8547 66893 13344338 10016 2597 67694 21904 3497419 20499 5217 10095 285 10015 9593 17314 2137 14564 7401 9152094',\n",
       "             19988: '9959 55134 5469728 72875 20276 2519 66949 72006 5182 201891 4141754 55034 4033651 7021 69372 15145 96409 4440 36593 1159931 93798 63843 58958 105470 24869 24873 5428 5044602 59672 5471582 6368557 9682 12732 27474 9961 38802 9890 70137 20060 4431 4522 86769 69351 69365 4276586 69425 16229 7450722 5046111 95531',\n",
       "             20012: '709 158 100 24852 456 67035 57289 50 6951 58030 22161 37295 20270 101142 58080 14453 63704 37024 17370 25490 38863 7342641 4592672 15070 25491 6677957 26308 94157 3050234 5051500 36878 7439384 94155 4274872 67360 1300 166 9959 176 39590 5657365 2586485 2146 23499 180 177 2544 165 8547 66893',\n",
       "             20029: '709 10095 3817484 2519 100789 58093 9496 10039 96205 10198 2522 65140 37160 20213 3565485 5479458 37121 7386338 22283 91432 87064 4276971 36683 10230 158 1300 166 9959 176 39590 5657365 2586485 2146 23499 180 177 2544 165 8547 66893 13344338 10016 2597 67694 21904 3497419 20499 5217 285 10015',\n",
       "             20032: '4033462 5481688 5479078 26676 14307 14298 14312 64262 14300 15988 94400 83728 37483 57025 57415 99824 5997088 4276384 709 158 1300 166 9959 176 39590 5657365 2586485 2146 23499 180 177 2544 165 8547 66893 13344338 10016 2597 67694 21904 3497419 20499 5217 10095 285 10015 9593 17314 2137 14564',\n",
       "             20048: '176 73725 72011 72003 6347 103039 45457 96223 6685882 6370 57174 21440 27571 75606 95805 199 27567 8097 8181 3832659 15148 59772 64828 14578 20330 30291 77155 73664 84469 63881 63856 24354 29770 8099 7334 25092 196878 9339389 8336 63294 5488969 6805270 55178 72137 6693048 14229 13939 8217 6691902 8337',\n",
       "             20062: '10095 63072 94333 13550019 18104 6375429 45591 3587073 9495 66216 5695 5657671 84526 13550159 22360 50803 5060634 65427 6678026 6387950 709 158 1300 166 9959 176 39590 5657365 2586485 2146 23499 180 177 2544 165 8547 66893 13344338 10016 2597 67694 21904 3497419 20499 5217 285 10015 9593 17314 2137',\n",
       "             20077: '266 50260 49924 13486 139 101320 2833445 14785 78308 5217376 4141323 58233 12190 5997095 59452 84419 4831175 12189 4910 709 158 1300 166 9959 176 39590 5657365 2586485 2146 23499 180 177 2544 165 8547 66893 13344338 10016 2597 67694 21904 3497419 20499 5217 10095 285 10015 9593 17314 2137',\n",
       "             20087: '9708 78558 56906 58822 37273 86968 4276178 882 7439266 709 158 1300 166 9959 176 39590 5657365 2586485 2146 23499 180 177 2544 165 8547 66893 13344338 10016 2597 67694 21904 3497419 20499 5217 10095 285 10015 9593 17314 2137 14564 7401 9152094 100 49911 2165 170 66966 9842 66969',\n",
       "             20107: '8296 8252 709 158 1300 166 9959 176 39590 5657365 2586485 2146 23499 180 177 2544 165 8547 66893 13344338 10016 2597 67694 21904 3497419 20499 5217 10095 285 10015 9593 17314 2137 14564 7401 9152094 100 49911 2165 170 66966 9842 66969 224 59980 55133 66967 96161 7000939 159',\n",
       "             20153: '7401 10012 2572 14474 4203124 25166 5044347 4275656 30301 13438 7403 25690 25691 51102 709 158 1300 166 9959 176 39590 5657365 2586485 2146 23499 180 177 2544 165 8547 66893 13344338 10016 2597 67694 21904 3497419 20499 5217 10095 285 10015 9593 17314 2137 14564 9152094 100 49911 2165',\n",
       "             20162: '7000939 67326 39489 6131 9901 59460 57609 76996 6744999 6003575 6805293 38116 73570 16044 21654 21652 50018 21653 51391 51388 25497 14626 6694919 6390509 96292 18856 709 158 1300 166 9959 176 39590 5657365 2586485 2146 23499 180 177 2544 165 8547 66893 13344338 10016 2597 67694 21904 3497419 20499',\n",
       "             20172: '709 158 9959 7401 59980 225 55134 5469728 222 69669 100849 20276 5469736 3497570 61053 72006 58093 60114 18720 2562 304 67499 7324996 15441 6371189 56899 17761 38153 95359 24827 67212 67214 5469882 15145 55266 3817487 69553 4831055 4274952 36593 5044749 18398 1267 70697 18015 9911 3817547 91183 4033669 6300',\n",
       "             20184: '709 1300 49911 3817484 24852 63072 10049 100849 72006 14294 45459 6368 14248 14752 6337 14296 103441 55151 157 5479853 84118 9936 78247 86113 39604 26197 31300 26200 24869 7330060 3043444 24849 4274973 26304 84320 45404 7043350 26198 5694 37121 26071 56935 67176 24428 17223 5062900 63709 61047 103925 30232',\n",
       "             20197: '10095 103039 64712 94333 3302524 5187 5997136 3562687 3562685 60179 103406 8472 5566924 29648 29655 655 75882 8104 93911 4592649 2622077 6678064 94040 8093 10071 38348 6805229 29641 69446 7569 57842 7673 709 158 1300 166 9959 176 39590 5657365 2586485 2146 23499 180 177 2544 165 8547 66893 13344338',\n",
       "             20202: '24836 24831 15373 2519 6005364 67035 13075 57828 18677 57174 15374 45650 199645 3817529 5469882 5479853 72154 5474258 67027 91095 69553 58030 24840 24838 26632 6390644 63724 4274636 3040239 27475 44848 78969 20071 37221 26071 14534 70137 95874 5062865 65212 67050 13323 24354 24341 96366 24342 5655 4276230 7386400 2123',\n",
       "             20204: '158 9959 14564 66969 981 100789 104 66962 44739 102 39726 18028 67139 7342625 26222 4235874 825 45332 15263 7048938 58022 15592 57319 20219 12857 18027 103771 59820 58862 25717 5481337 5063156 16800 67011 3818421 65160 94051 61570 6762 17206 7325391 4409 17234 76239 29915 709 1300 166 176 39590',\n",
       "             20208: '10189 6352 10196 20062 17024 18984 4276620 5217412 38233 49924 38226 4274958 843 38736 15534 4141671 37426 4276438 76390 1565 4274955 100200 709 158 1300 166 9959 176 39590 5657365 2586485 2146 23499 180 177 2544 165 8547 66893 13344338 10016 2597 67694 21904 3497419 20499 5217 10095 285 10015',\n",
       "             20235: '3817484 14630 5469728 24831 100849 5469736 6005364 1985 478 93684 30247 29676 26616 5469882 69372 24845 26222 5997215 96231 30307 8187 17312 6005363 2589315 198619 5217410 39771 8663 3096235 57804 25905 5997186 38199 1996 5051600 5469730 5479399 64913 6643 45344 57435 17319 6749054 6227 6644 57607 7342701 59770 92364 24350',\n",
       "             20297: '10016 59980 55133 72875 73492 5479511 20286 7036228 57703 57632 7036226 67352 14583 7036241 57700 199645 4592637 45458 70370 7036239 26222 26590 39666 3497330 5177 4275256 5075447 25950 5075451 3850654 3497348 10077 7036223 10002 3570287 9127333 17723 7036233 3845855 5044829 7042560 6371132 14477 58702 7071566 25895 25896 25891 7043805 6770067',\n",
       "             20305: '4141821 45607 13180 26625 38251 24843 5178 7048332 36593 5051493 77339 63621 17314 95294 8546 78672 13481 63072 97924 7313836 39627 10198 3302523 15982 54728 6390643 1159922 4033702 5182 50133 39726 6210221 2835149 5481691 5075966 5481314 25358 17329 6695684 1989 166 5470926 4033821 709 4141826 3838260 99 6003512 36532 7815',\n",
       "             20320: '709 9959 165 55133 3817484 14286 55140 63072 72875 6347 6005364 14292 9496 60413 39566 3854294 14297 14303 55130 26616 60419 5476137 77668 3302554 22616 24839 86838 60418 8770 65526 7071972 58083 67208 105435 5483121 26141 50415 5046168 5479458 9935 67138 93940 10061 3570287 30267 28077 14835 10068 14945 73512',\n",
       "             20326: '7401 25645 23004 85026 57016 17315 6784195 44824 25651 86998 3818399 3818400 5217421 7341870 86996 21532 2043 93736 5483278 4202921 709 158 1300 166 9959 176 39590 5657365 2586485 2146 23499 180 177 2544 165 8547 66893 13344338 10016 2597 67694 21904 3497419 20499 5217 10095 285 10015 9593 17314',\n",
       "             20345: '66959 9959 5657403 5046282 15229 5634 5469736 20352 4203419 69419 37061 225 6368554 5471575 7043349 69669 2589315 55151 50290 50608 55037 3497570 56943 5993840 6351857 4830912 38169 6371189 5469882 5217367 5997157 4269474 222 63915 3817529 547 60451 5481691 7365501 3497432 7408983 6784405 1985 7036223 5062860 5209328 96223 50669 101136 5110',\n",
       "             20357: '9867 37395 37181 38717 37210 9636 37119 199604 709 158 1300 166 9959 176 39590 5657365 2586485 2146 23499 180 177 2544 165 8547 66893 13344338 10016 2597 67694 21904 3497419 20499 5217 10095 285 10015 9593 17314 2137 14564 7401 9152094 100 49911 2165 170 66966 9842 66969 224',\n",
       "             20374: '198492 5045404 60896 3819599 158 75926 1520156 174 59980 103039 5490 5489 5651531 93529 5651532 96182 7323992 70370 5045001 7324675 14497 67103 13049 13047 5075857 7036194 96293 3854301 9122206 6818328 7313835 17800 17801 13048 67106 21904 58872 5631 159 65991 30396 50174 3497515 66169 7036228 3497389 18460 5075861 5075859 102254',\n",
       "             20380: '39590 59980 55134 5469728 5182 96208 3817489 13152 14752 18028 14833 58358 36153 18711 5476137 5479797 6003958 60353 18027 78969 3817538 7044047 3074688 27581 63057 15072 7044044 38162 50529 92322 5657499 10202 5585 3116228 5044687 6004269 200850 7000710 5061027 6004270 3820297 72618 97311 6004271 3833461 89555 6825 92876 7070711 36150',\n",
       "             20381: '45459 39726 6340 51487 14624 6344 58839 59614 3045028 56795 23896 3076235 709 158 1300 166 9959 176 39590 5657365 2586485 2146 23499 180 177 2544 165 8547 66893 13344338 10016 2597 67694 21904 3497419 20499 5217 10095 285 10015 9593 17314 2137 14564 7401 9152094 100 49911 2165 170',\n",
       "             20392: '84152 4141702 6390600 14978 96161 37349 4831055 94013 199266 15517 86695 2834843 104 103039 7326490 892 38227 4141744 9950 69943 22474 893 5479916 6685956 4276514 96219 63815 6005370 38925 3817484 57601 69373 4276577 10177 20353 3817529 5478983 2834844 6784220 7386400 5566970 52657 49921 6003958 37024 26394 65244 5217 100345 58137',\n",
       "             20414: '709 7401 170 69669 18887 52657 100789 22035 286 67326 3817542 69033 24842 10163 9901 5474314 12565 2578 4202912 14836 2543 57948 24827 92418 12320 5074617 10198 105764 24845 29588 7373 24871 22161 50028 4517 4443 14624 66965 92368 92038 4276180 5651519 3599473 63680 263 86838 27815 4033505 4203041 68225',\n",
       "             20425: '9959 4275033 6371189 17761 9936 4274956 58958 5993840 6371191 13416 21453 14541 4275022 5046122 57910 15420 58637 6371122 5044314 5481667 5481670 17483 709 158 1300 166 176 39590 5657365 2586485 2146 23499 180 177 2544 165 8547 66893 13344338 10016 2597 67694 21904 3497419 20499 5217 10095 285 10015 9593',\n",
       "             20431: '67035 57198 67027 6771267 4232675 7043748 7107267 7034095 6770446 709 158 1300 166 9959 176 39590 5657365 2586485 2146 23499 180 177 2544 165 8547 66893 13344338 10016 2597 67694 21904 3497419 20499 5217 10095 285 10015 9593 17314 2137 14564 7401 9152094 100 49911 2165 170 66966 9842 66969',\n",
       "             20444: '10189 10196 7356268 20168 3497562 860 7043793 7043775 7414951 9371919 709 158 1300 166 9959 176 39590 5657365 2586485 2146 23499 180 177 2544 165 8547 66893 13344338 10016 2597 67694 21904 3497419 20499 5217 10095 285 10015 9593 17314 2137 14564 7401 9152094 100 49911 2165 170 66966 9842',\n",
       "             20463: '2600 1230 3850657 3497439 709 158 1300 166 9959 176 39590 5657365 2586485 2146 23499 180 177 2544 165 8547 66893 13344338 10016 2597 67694 21904 3497419 20499 5217 10095 285 10015 9593 17314 2137 14564 7401 9152094 100 49911 2165 170 66966 9842 66969 224 59980 55133 66967 96161',\n",
       "             20517: '55133 69669 52657 3497570 456 7325382 3817512 45607 4275810 304 24842 9999 478 5178 13113 60105 136 65349 4275808 19562 57948 20295 10198 60107 22108 13550019 86113 37368 13047 48316 37167 20430 37484 5062860 13112 37181 87887 198493 4991 5469740 69481 24811 26696 19482 5051494 50027 4986 37315 59008 67732',\n",
       "             20521: '10095 9842 9950 64712 14863 3865881 55266 39692 24840 60179 1159933 16019 13789 12852 25671 7452 63294 709 158 1300 166 9959 176 39590 5657365 2586485 2146 23499 180 177 2544 165 8547 66893 13344338 10016 2597 67694 21904 3497419 20499 5217 285 10015 9593 17314 2137 14564 7401 9152094',\n",
       "             20569: '53020 5993765 95835 96134 69475 50290 54305 25560 20279 14474 145 66713 9943 61113 61065 25691 37536 93998 5217412 9387 36083 9673 7398 21904 18224 5192 7403 709 158 1300 166 9959 176 39590 5657365 2586485 2146 23499 180 177 2544 165 8547 66893 13344338 10016 2597 67694 3497419 20499',\n",
       "             20574: '25829 17526 7381 48342 104 1300 36484 77227 48340 67445 57733 1753 10163 9593 9607 9606 70590 13585 6620905 7342567 7106846 9595 5075450 5075449 20414 14453 1751 14583 5654340 9799 77044 58822 4276471 7034608 7043024 7336966 3086642 7344212 93156 3497570 1747 58137 58962 67188 72282 72084 20273 5469728 201973 76824',\n",
       "             20628: '182 158 6677990 50 71359 3818498 74947 46682 22946 28076 4203419 79547 10095 50190 4274694 6005364 55266 20276 860 709 1300 166 9959 176 39590 5657365 2586485 2146 23499 180 177 2544 165 8547 66893 13344338 10016 2597 67694 21904 3497419 20499 5217 285 10015 9593 17314 2137 14564 7401',\n",
       "             20629: '2558 2636 2635 9500 14931 709 158 1300 166 9959 176 39590 5657365 2586485 2146 23499 180 177 2544 165 8547 66893 13344338 10016 2597 67694 21904 3497419 20499 5217 10095 285 10015 9593 17314 2137 14564 7401 9152094 100 49911 2165 170 66966 9842 66969 224 59980 55133 66967',\n",
       "             20639: '180 21545 6621 6403 5566936 6511 1514954 709 158 1300 166 9959 176 39590 5657365 2586485 2146 23499 177 2544 165 8547 66893 13344338 10016 2597 67694 21904 3497419 20499 5217 10095 285 10015 9593 17314 2137 14564 7401 9152094 100 49911 2165 170 66966 9842 66969 224 59980 55133',\n",
       "             20655: '9496 80933 4276289 26625 158 24851 22976 15986 104 4274991 7021 6566 20269 5073714 5479399 224 4832 222 5060312 10049 67010 6041 58353 37367 1786 10264 7032787 6784593 5076073 49923 7326107 878 4277629 25153 26086 876 15241 59353 4276780 10077 7062937 6784706 6367 6346 6337 5179 78672 37368 37361 5045361',\n",
       "             20656: '6352 6343 58950 130 10237 58890 58875 13411 3818943 57437 6353 16830 20356 22161 10081 15993 10077 14286 14308 709 4831 66877 5215606 30401 103039 18503 5469736 2272 3817529 69669 3817484 14297 1300 4203335 6210174 24837 13478 100 9496 4443 49921 3817512 7342628 14306 5073308 9699 5073725 461 6005364 45457',\n",
       "             20663: '9152094 7397 222 2600 24775 45584 96306 45457 67199 67040 6371189 96217 45458 96400 1037 76913 4274956 85879 4517 5045462 6003852 30213 100372 20430 17133 1039 37484 15245 5073442 4523 236 4033787 77655 5657381 30902 58862 84272 2048 7739 6777 5044581 199621 4478 90701 5192 7000352 82770 4524 93714 7634',\n",
       "             20705: '14785 78651 70410 12824 3818569 21664 77673 57852 90256 93714 5479785 10180 3817961 39718 7062062 5476738 5217362 13302 55034 5061113 1300 75709 14144 65525 7325235 65522 80426 13441 93584 45459 21662 2834480 21663 86384 2322 19917 67396 85606 3863902 198139 455 25241 85187 2835283 7062060 57977 6771146 36871 7397320 5797550',\n",
       "             20713: '7397 14630 103039 2636 67499 80460 9624 5476137 30307 5993734 1309 8187 74716 37364 59100 84320 19482 50415 14434 6004066 5479466 58113 62468 94058 7731 100596 7064857 19479 64871 44747 5120 16898 7326722 7500 5657553 7342489 7042970 38281 5470980 80461 35024 25167 7063203 81332 9140119 4203054 709 158 1300 166',\n",
       "             20753: '45344 14857 74609 9406 39726 4276282 7979 10039 8016 45260 6388156 6375427 37116 69260 63712 58154 3565882 9775 25548 7048367 6371332 78969 2589315 83755 95359 3817552 103938 7061961 18316 457 45345 5074225 78796 2639 27472 3819851 27474 12744 82340 14596 3599473 9382 6749406 24473 9688 6777 5659269 10115 709 158',\n",
       "             20775: '10265 3048669 26644 57994 6750092 7325193 84508 14734 65235 709 158 1300 166 9959 176 39590 5657365 2586485 2146 23499 180 177 2544 165 8547 66893 13344338 10016 2597 67694 21904 3497419 20499 5217 10095 285 10015 9593 17314 2137 14564 7401 9152094 100 49911 2165 170 66966 9842 66969',\n",
       "             20805: '1300 5217 55133 55134 57342 3817484 5469728 69669 5469736 3817512 6005364 60116 5154 10163 7324996 48315 96296 17033 38458 3302557 7342538 3302524 5074230 5479853 13333 5469788 38703 5997215 22161 5479810 5186 5650 4141721 591 5256 6784393 57131 25950 6640418 7032787 48314 31364 64798 38464 59906 5074231 5479848 9122174 7004212 3571479',\n",
       "             20861: '15593 157 55128 6824042 5076289 38526 17582 8616 17581 17652 17576 17583 58209 4276767 5061103 17650 95753 56904 14197 6641445 9139809 50413 27435 709 158 1300 166 9959 176 39590 5657365 2586485 2146 23499 180 177 2544 165 8547 66893 13344338 10016 2597 67694 21904 3497419 20499 5217 10095 285',\n",
       "             20865: '14867 5481628 28138 8187 5851 7398 8197 6390778 24354 28161 7403 24381 3866661 8981 103355 3858654 6749453 7034048 709 158 1300 166 9959 176 39590 5657365 2586485 2146 23499 180 177 2544 165 8547 66893 13344338 10016 2597 67694 21904 3497419 20499 5217 10095 285 10015 9593 17314 2137 14564',\n",
       "             20871: '38153 57952 57289 70505 60216 60214 215 8547 199645 9961 68078 5061266 19924 77359 3854309 27868 78080 67091 17794 60205 4276116 18659 58146 93684 7397 60159 20072 85595 4033819 96228 77360 63780 85606 5046978 2599278 7401 709 800 15935 17710 69373 93387 4202912 52633 61003 4276996 71174 4033502 85187 67389',\n",
       "             20898: '7401 2600083 72003 78643 96219 13483 75606 21308 2600082 128 5074348 651 36719 21194 201170 16387 66862 5062180 72070 5045181 61386 37184 75999 7008538 86544 5073065 201033 709 158 1300 166 9959 176 39590 5657365 2586485 2146 23499 180 177 2544 165 8547 66893 13344338 10016 2597 67694 21904 3497419',\n",
       "             20917: '69011 3818444 13058 20499 13121 13029 10012 20285 17801 67679 13049 4277755 14731 103039 9152094 4275967 91008 57289 159 13108 13785 5061124 20173 13114 9867 13181 261 14681 24871 7979 6748562 2321 58931 21441 39560 5980513 7391 91374 651 12728 4593022 67140 26771 52657 14578 44787 26768 254 57291 4275036',\n",
       "             20938: '176 5182 45459 38679 12565 138 21545 6340 65140 6429 39796 5657403 58168 5177 60179 37484 63638 16044 4141329 39771 3565485 86148 2629 7013629 5657402 15241 3565883 20221 4033701 95465 6697380 199697 6765 37413 14591 95437 1794 20017 4830970 709 158 1300 166 9959 39590 5657365 2586485 2146 23499 180',\n",
       "             20951: '709 55134 10049 96306 67199 67040 66088 68347 1987 14857 14657 45425 24869 14622 17315 28173 75882 60280 57057 54342 24465 25925 1289 92347 69273 26394 3559074 4593020 1251 4141717 15534 58853 57144 14879 26156 1176 7485 60176 23002 8336 2563690 5073420 21498 2564090 5073446 17733 57277 96289 59000 7107323',\n",
       "             20967: '20500 10115 13333 72155 17024 77152 6368557 3569885 2566477 6771051 49923 7061982 31181 5481325 7107297 4033884 84509 4033885 84499 6695835 7106117 84498 56923 6607574 7048330 709 158 1300 166 9959 176 39590 5657365 2586485 2146 23499 180 177 2544 165 8547 66893 13344338 10016 2597 67694 21904 3497419 20499 5217',\n",
       "             20970: '158 176 39590 10016 170 225 55134 3817484 31277 24273 3817489 9425 10115 3817507 5481688 3302524 5479931 66252 48391 5479493 55034 14572 5469788 15145 96409 13487 22161 9571 5476137 5479797 3302554 5650 9911 5872 86 1989 2057 64224 49923 77999 3574676 30902 5469730 2048 3574675 4203420 4524 14578 58470 3583481',\n",
       "             21047: '709 3817484 2575 26200 64257 2491 94112 1159945 3818553 3577892 96538 3577891 949 95462 36090 2835464 2835466 28165 6388077 64506 3577890 8868 71023 5062898 198439 2833556 44759 158 1300 166 9959 176 39590 5657365 2586485 2146 23499 180 177 2544 165 8547 66893 13344338 10016 2597 67694 21904 3497419 20499',\n",
       "             21061: '5469736 6371189 36666 36423 5217412 26754 6041 6565230 3818829 5189 20387 20073 14847 5479467 893 27409 50133 3561077 12744 4274920 6678195 6003692 709 158 1300 166 9959 176 39590 5657365 2586485 2146 23499 180 177 2544 165 8547 66893 13344338 10016 2597 67694 21904 3497419 20499 5217 10095 285 10015',\n",
       "             21072: '30361 159 96306 9590 67212 86744 59656 158 86747 70697 12824 67499 10182 9911 67213 18715 14484 65006 45427 10237 5481371 18662 1312 44787 5483077 8858 16832 18714 18663 24859 18224 44846 4276620 5481613 24860 9139648 93577 20210 3818347 6591159 9571 9139788 72127 83944 10206 44765 66378 4203193 9139730 56943',\n",
       "             21080: '21511 21503 5997093 4276378 9679 13481 45596 45585 201946 3497519 18013 263 7375 50128 1536 67124 4276410 10120 3574676 93940 3045033 100229 5479916 69196 7043642 63648 4276305 3497430 38933 3497607 3048671 7043187 6771242 62240 89565 26158 3052255 3083038 79200 7326740 90262 29657 7365857 3823456 6770195 3076233 91394 7324751 6769947 709',\n",
       "             21094: '67694 69937 7397 24836 9867 24842 64712 46887 55034 60278 29556 57517 60888 24839 4033459 3040239 91682 3599479 84866 2557 24466 64834 3865479 5076015 1289 57398 27812 94040 4276355 84469 5997157 61570 57808 102127 25643 36099 29594 21532 4252274 6607596 25642 90673 91416 6785175 5215604 8028 16189 57393 50803 79453',\n",
       "             21095: '2544 10016 2600 78672 2305 478 67352 65329 66952 67148 5179 68370 20775 63872 60280 20784 64702 2353 62206 20767 74748 61687 20783 6695385 56929 60741 45464 20782 3048648 5214779 6696827 63785 63784 7043421 69262 3043449 73081 7043420 61368 6984 16927 4277765 5215261 96273 4593218 5061065 3841089 3832653 89876 3077036',\n",
       "             21099: '96205 93461 2538 14757 3594675 4203452 388401 67241 23501 69014 67240 3861868 5663 66955 26095 14471 68497 64874 36153 7365492 1756 3817507 3058699 5044835 14752 6368557 78288 709 13657 5469736 103489 3570330 57026 57150 6005364 96357 55124 3861865 13487 36148 6955 36149 37211 59625 104840 4277222 5046350 5479542 3497570 6936',\n",
       "             21156: '1300 9959 10095 7000939 55140 69669 43 21757 72011 22045 9501 73431 78643 6782754 18720 9932 57280 60 75641 17033 73697 76996 7040941 79783 10198 70370 15215 18659 79785 67242 37061 91095 5650 92368 71548 7008605 17133 66867 50036 96293 4203422 101251 2833975 10169 5694 96334 101254 73561 5479848 96429',\n",
       "             21170: '158 96212 63984 304 4202912 67212 67214 39723 24845 76913 65525 69011 26313 77668 14474 5045462 6003852 45425 2589315 24873 58795 78969 57853 84058 59008 74532 67732 5061203 235 66487 3838658 58836 7048358 74535 45600 50207 38237 7724771 4276592 69371 96396 7061950 76891 5657659 64764 7340959 7340961 24885 7325361 2834872',\n",
       "             21196: '52657 9950 130 21827 45484 38931 5469494 22563 66366 9806 74609 14626 2833737 96438 2834130 3053859 59849 59041 58020 103444 59222 5060277 3044235 3053890 3050646 709 158 1300 166 9959 176 39590 5657365 2586485 2146 23499 180 177 2544 165 8547 66893 13344338 10016 2597 67694 21904 3497419 20499 5217',\n",
       "             21205: '176 49911 170 225 67693 72875 1746 69943 78672 10163 3817489 9425 5178 6749597 487 15935 5187 17699 49915 69944 1749 3562687 45585 22161 21827 584 7024300 3562685 457 5186 3562686 7511 142 17312 57319 86 5072 27471 6749598 452 14749 22924 8266 16591 5183 66885 63724 68225 58080 2566477',\n",
       "             21254: '709 5217 7401 55134 27745 68465 104 95835 45459 57252 58358 105 5479853 36483 14572 6749599 26590 9990 4274952 50026 199 7342626 5045633 37292 59300 18422 5051521 3817544 64165 37221 235 21540 16022 101069 5217224 14769 6696839 5073419 6371240 4276896 5073440 18026 64618 74451 5479544 93812 9960 5655 7334 7387429',\n",
       "             21255: '67407 68700 67499 4202912 96400 63295 24473 9808 98063 14367 5075751 10071 24354 24341 1188 26016 709 158 1300 166 9959 176 39590 5657365 2586485 2146 23499 180 177 2544 165 8547 66893 13344338 10016 2597 67694 21904 3497419 20499 5217 10095 285 10015 9593 17314 2137 14564 7401 9152094',\n",
       "             21310: '158 2137 100 55133 5469728 55140 71404 20500 67281 3817507 3302557 5649 55128 45448 3302554 96182 59907 86767 5062860 15148 59906 31491 7519 5044600 458 36122 105761 63935 82348 58651 16894 80470 30272 4274857 29565 30273 84176 96229 30211 95480 59452 5153 57344 4276350 618 3818943 3818705 8103 54643 64883',\n",
       "             21363: '10016 37216 37406 38233 23 14469 176 13929 2087 6375424 7342450 4275810 102982 456 158 38237 199631 10189 39588 7313835 37407 709 6643 12848 4224674 3865881 407 20269 37484 5479511 63680 14743 2084 24836 38362 6644 58157 21453 58855 51799 25199 14680 2586488 87004 66177 6390773 5642 67281 57561 10196',\n",
       "             21369: '14836 20214 4033558 17207 5479044 5479041 44721 5046300 709 158 1300 166 9959 176 39590 5657365 2586485 2146 23499 180 177 2544 165 8547 66893 13344338 10016 2597 67694 21904 3497419 20499 5217 10095 285 10015 9593 17314 2137 14564 7401 9152094 100 49911 2165 170 66966 9842 66969 224',\n",
       "             21460: '1771 14853 13476 9999 19924 1159911 64174 67352 12162 2518 9867 5653 8181 709 39589 57804 12187 2320 16019 5469728 13486 3819583 96208 5190 6784111 5192 59213 7397 4141752 6620962 62652 45589 7324996 39565 10757 38033 45430 36280 66794 6749602 67407 61102 9892 166 7401 15925 61013 66795 5636 222',\n",
       "             21485: '709 1300 39590 165 66893 225 3817484 5469728 222 69669 52657 31277 9950 45457 14469 26751 5182 9501 9496 45459 3817489 96296 9590 38481 21511 876 13759 46887 10265 22107 461 22108 3048672 13487 9859 7373 455 85879 50028 15543 5488990 5186 1267 93798 5634 877 24873 6300 16591 5481726',\n",
       "             21508: '2544 24831 31277 399 56899 22194 2272 36666 96231 2269 24839 142 8097 13478 50126 6975 8104 64623 20356 5554 7004210 15096 5567 7004214 56929 59950 7364753 47072 67520 9122215 198607 5081 7342450 14422 5470934 27342 6668 7464741 6005324 6004116 6004115 709 158 1300 166 9959 176 39590 5657365 2586485',\n",
       "             21571: '166 39590 39589 20276 9950 104 21545 67213 6749602 63763 69091 57462 20302 3601477 85873 65407 137 128 3601476 74704 96173 39530 36311 15924 5566925 199647 36997 26149 4277724 3865479 8197 26259 38309 7342641 5073415 5044852 8134 103092 8093 6390498 37041 5217421 60357 5566923 9495 29652 38929 6697440 5045260 8128',\n",
       "             21624: '5074602 2539 7008780 89577 7025 6565165 57948 5479153 8474 13117 285 93463 2606078 14338 57809 222 10016 39590 96168 19924 13107 67679 5180 5186 61032 105671 37356 45457 6770182 58170 6678043 61634 39589 5073696 18104 6771083 7325190 10163 6005389 6565237 6565334 6750094 65185 20071 58276 5214960 72018 82896 46682 236',\n",
       "             21665: '23672 79374 7004207 2606 6694783 66984 2165 2167 2168 4276239 79370 6697433 6750096 5074225 61812 10525602 5044757 8134 15094 74944 4987 61081 6694823 6750094 7325193 8016 75882 61097 8003 5481283 1253 4274845 50190 45457 198125 13550019 6390644 65094 25490 25491 26006 7000916 45321 61099 3592673 4831397 7000915 4831086 20215 20214',\n",
       "             21756: '709 176 39590 36242 39589 5182 14341 10163 5046645 3818498 5178 5061792 4033497 63034 67214 105 60107 67242 5654340 14339 39692 5997215 50137 86719 5072 5061201 1536 26073 90558 67292 5061202 25560 14464 49923 7008789 96334 6975 9935 61557 93940 58862 37005 14361 5797403 5044843 44846 67300 92527 5479478 5479499',\n",
       "             21799: '25497 71327 709 158 1300 166 9959 176 39590 5657365 2586485 2146 23499 180 177 2544 165 8547 66893 13344338 10016 2597 67694 21904 3497419 20499 5217 10095 285 10015 9593 17314 2137 14564 7401 9152094 100 49911 2165 170 66966 9842 66969 224 59980 55133 66967 96161 7000939 159',\n",
       "             21802: '39590 5217 55133 55134 3817484 9979 4592908 72875 14264 95961 5479511 9501 304 3818498 407 69219 876 5074363 58082 821 15941 85680 55128 9936 58010 63646 455 5631 9571 15986 20302 63650 4033458 36257 4033459 5214802 6368482 16591 6695608 16019 60606 6749937 6977 5479901 69816 2833650 64607 13464 36258 9708',\n",
       "             21805: '4592908 6347 14248 5257 6329 76841 5045967 96141 7043796 4592989 4592988 7107767 709 158 1300 166 9959 176 39590 5657365 2586485 2146 23499 180 177 2544 165 8547 66893 13344338 10016 2597 67694 21904 3497419 20499 5217 10095 285 10015 9593 17314 2137 14564 7401 9152094 100 49911 2165 170',\n",
       "             21829: '166 177 3497419 170 9979 20276 3497570 14264 45457 95961 2636 6131 201891 9901 15374 46800 5074363 6352 14838 51487 2834407 21450 7342765 3883053 7008780 103 21636 70505 96321 4033502 99538 6590 5074498 6390644 39761 198139 85606 39718 39639 51 258 7043849 14675 8280 20388 55056 5045850 64747 3835058 50135',\n",
       "             21837: '7397 24842 59460 57609 84118 25516 57610 36191 24873 57608 8074 39530 6643 26045 6003563 6644 29608 9569 7047725 84288 709 158 1300 166 9959 176 39590 5657365 2586485 2146 23499 180 177 2544 165 8547 66893 13344338 10016 2597 67694 21904 3497419 20499 5217 10095 285 10015 9593 17314',\n",
       "             21850: '25842 9645 1746 65641 25843 9690 1747 9617 25841 24835 72790 17534 72789 1820 5179 60841 55152 72198 103295 96581 7407 78777 9340926 3084344 8018500 709 158 1300 166 9959 176 39590 5657365 2586485 2146 23499 180 177 2544 165 8547 66893 13344338 10016 2597 67694 21904 3497419 20499 5217',\n",
       "             21911: '158 1300 21904 49911 20276 9867 2628 103039 201891 10163 2833784 55151 11 60278 39692 4444 15997 5540 29619 61113 4277747 61016 6565241 6390644 61078 6977 83777 25140 201126 27826 7879 44866 61065 7880 96429 29558 4478 62468 199647 5673 25133 4276409 7863 67522 6003460 5074245 58651 5633 87776 29563',\n",
       "             21923: '49911 24831 18887 20276 54728 5154 407 14583 46964 58004 5044203 14852 12817 50260 24839 263 10034 3565486 99 10077 26644 86825 70724 2833534 14253 57782 57961 67860 29558 58839 57435 5075323 60241 5579 4724 7325218 4033670 7325269 19419 5470936 5470934 97 3817514 709 158 1300 166 9959 176 39590',\n",
       "             22009: '39590 21904 225 4592908 15593 24852 49921 75924 456 45459 407 478 5187 8016 66877 7979 86113 26739 17316 19480 65407 5061260 67013 829 22924 65412 63638 4276620 38464 92338 64607 29607 90535 58002 4276597 67017 8080 5044335 17319 54342 5189 102716 14003 86160 8025 45337 5044748 6999 31164 75442',\n",
       "             22016: '158 7401 9152094 8474 49921 14264 69943 104 54728 68700 45459 304 407 478 12565 7391 130 56899 19562 3865881 14833 6346 8016 10074 18526 25516 86113 57517 4274952 36313 5045462 14624 14404 5045976 7008784 26701 18015 14827 471 7008785 9808 12824 3088231 5179 50036 14749 60904 1989 98040 14832',\n",
       "             22026: '4033462 94330 8866 16898 59980 130 85165 57985 4203397 64712 158 94054 17718 5654340 27472 9837 4202912 6410 99845 86221 72455 10752 8770 5470962 12764 37128 5061260 1242 13550148 69553 5471268 7733 30968 60128 5997093 6882 105979 709 1300 166 9959 176 39590 5657365 2586485 2146 23499 180 177 2544',\n",
       "             22032: '158 3045028 184 39729 99681 90045 99682 159 14564 5061798 2564091 84321 91241 5060982 14657 18456 7036198 45459 7511 13181 18458 26222 21204 22912 72155 14422 57289 5651533 63780 5657445 67124 7042677 9990 3859910 7036169 18710 680 3497419 3039036 18422 7401 84319 1990 68993 3497582 7036232 57453 45460 64673 7495',\n",
       "             22040: '8547 9979 14264 69943 6369 45607 75906 138 14248 23140 47853 13049 8016 10074 14465 70899 90089 6756975 57283 67187 26698 7437 27770 86832 26072 36236 198549 58810 6314 84522 15682 2835285 36502 88074 60901 5657650 68505 102484 88456 88400 201483 201466 89180 89140 89783 7043472 201350 88203 89189 88277',\n",
       "             22080: '49911 7397 981 15593 18887 75924 69943 20285 96306 95835 20286 1747 67499 64712 80460 26625 14867 6749597 7399 46966 30247 14836 58373 3817529 24843 95736 7410 22194 66843 48391 10265 8286 95825 24845 1037 6749599 7015896 39666 39660 13058 17800 30307 6749605 22976 5073714 9387 8187 102253 17441 5566924',\n",
       "             22136: '1300 5217 100789 45459 57199 96219 60850 5997136 96231 5061260 26296 50190 5479901 5479458 64702 59860 6566 5061791 69940 5094 52516 36144 5053 67320 7061934 5061215 5076 5063059 3587476 6678027 44772 5476643 25985 5046301 6523 5476642 5061213 199508 5216904 709 158 166 9959 176 39590 5657365 2586485 2146 23499 180',\n",
       "             22168: '2519 9990 3562686 4275049 14345 18569 23 45159 90701 5481257 7048357 16987 6749935 16894 4592937 84508 84499 6749921 24355 5051535 709 158 1300 166 9959 176 39590 5657365 2586485 2146 23499 180 177 2544 165 8547 66893 13344338 10016 2597 67694 21904 3497419 20499 5217 10095 285 10015 9593 17314',\n",
       "             22203: '1300 2146 2521 14466 96212 9950 36243 24851 27569 57624 26338 29676 5478983 4227874 26347 26334 64051 18723 17196 2520 24869 14938 5481230 14967 67353 5483121 5566937 36362 18202 18721 6562 59537 5481337 102559 64634 5044615 709 158 166 9959 176 39590 5657365 2586485 23499 180 177 2544 165 8547',\n",
       "             22242: '2558 23504 29631 14477 29645 58125 57807 709 158 1300 166 9959 176 39590 5657365 2586485 2146 23499 180 177 2544 165 8547 66893 13344338 10016 2597 67694 21904 3497419 20499 5217 10095 285 10015 9593 17314 2137 14564 7401 9152094 100 49911 2165 170 66966 9842 66969 224 59980',\n",
       "             22257: '166 39590 21904 3497419 14770 57342 39591 14286 4592908 222 18887 100849 3497570 77094 20285 456 45457 57251 5182 45459 75676 10163 7036228 60 7092 26625 487 14752 19562 57252 14757 5074230 45458 461 59348 13487 37061 92 3497330 3497521 5045462 14624 20302 3497450 93815 12817 3497502 3497423 95294 72094',\n",
       "             22267: '63780 4275033 4141821 9961 103039 14462 10180 7008780 5051517 85608 84382 45430 6565238 4274991 5481691 254 3592687 50026 24838 24831 7397 688 4831055 19493 4276230 5044266 77632 68078 70505 4831045 6591 4141643 13985 22035 57551 20387 2834432 709 3817487 7342286 5061792 3865881 45457 58297 13481 5187 61112 100755 5178 10169',\n",
       "             22279: '1746 14292 14294 1747 304 5488904 20214 10000 1529 15916 57561 1509 20071 3569076 57507 14575 57950 58862 14578 7033593 5062908 3822679 38852 5044972 6771264 5051531 10524544 709 158 1300 166 9959 176 39590 5657365 2586485 2146 23499 180 177 2544 165 8547 66893 13344338 10016 2597 67694 21904 3497419',\n",
       "             22284: '709 158 9152094 59980 3817484 67693 31277 49921 2519 5469736 61053 14338 456 3817512 5479511 5182 14337 73690 4275967 9425 407 478 5178 94333 66426 14836 19562 9970 4033648 55130 5187 55151 79082 10265 18201 67116 55266 3817487 1749 20062 26590 39796 13058 61102 6640642 92368 85026 50260 13793 152',\n",
       "             22287: '10049 5046645 157 9936 3497450 4831397 93653 198520 7043665 3031088 709 158 1300 166 9959 176 39590 5657365 2586485 2146 23499 180 177 2544 165 8547 66893 13344338 10016 2597 67694 21904 3497419 20499 5217 10095 285 10015 9593 17314 2137 14564 7401 9152094 100 49911 2165 170 66966 9842',\n",
       "             22293: '13107 55134 5469728 100849 13120 2600083 68323 5182 5479931 4240674 92418 10265 13333 91095 60132 6210221 9122128 7386400 5209305 709 158 1300 166 9959 176 39590 5657365 2586485 2146 23499 180 177 2544 165 8547 66893 13344338 10016 2597 67694 21904 3497419 20499 5217 10095 285 10015 9593 17314 2137',\n",
       "             22321: '709 158 24842 4202912 50 5650 13322 38060 51 4274957 72127 4274958 5997157 50608 3827453 15914 7062101 4831173 7062099 9359 7062098 6785175 1300 166 9959 176 39590 5657365 2586485 2146 23499 180 177 2544 165 8547 66893 13344338 10016 2597 67694 21904 3497419 20499 5217 10095 285 10015 9593 17314',\n",
       "             22322: '158 981 24852 26751 63984 24842 24866 26222 63640 9837 103406 86 26224 14513 5657381 15722 29560 5045609 84469 57911 25093 23150 2834433 5046217 10526148 80564 709 1300 166 9959 176 39590 5657365 2586485 2146 23499 180 177 2544 165 8547 66893 13344338 10016 2597 67694 21904 3497419 20499 5217',\n",
       "             22402: '104 10000 6804994 7033707 6804995 5481648 92432 72166 709 158 1300 166 9959 176 39590 5657365 2586485 2146 23499 180 177 2544 165 8547 66893 13344338 10016 2597 67694 21904 3497419 20499 5217 10095 285 10015 9593 17314 2137 14564 7401 9152094 100 49911 2165 170 66966 9842 66969 224',\n",
       "             22404: '8287 58019 6743223 709 158 1300 166 9959 176 39590 5657365 2586485 2146 23499 180 177 2544 165 8547 66893 13344338 10016 2597 67694 21904 3497419 20499 5217 10095 285 10015 9593 17314 2137 14564 7401 9152094 100 49911 2165 170 66966 9842 66969 224 59980 55133 66967 96161 7000939',\n",
       "             22407: '2525 18999 26307 12320 2625 6678044 5214861 20285 4033820 7387362 82373 661 2833991 6691067 5479493 225 5471526 3562684 31646 67240 86947 60850 69011 96208 67241 222 288 3565884 105256 1300 62781 6371 63072 69012 14836 37380 1199 5060590 67199 2566477 6770123 4276764 5061230 49923 24866 69261 24852 2544 96530 7048368',\n",
       "             22414: '177 14564 7397 14630 5469728 15593 68465 3497570 77094 86519 77405 67109 63984 45459 75676 18734 18733 18735 86572 138 76876 46966 79082 76476 36238 86215 1037 13029 67116 60246 3818780 22161 8550 39560 14824 14624 60125 151 17803 67787 3497558 6390644 8545 5061788 57812 59672 96162 86571 95361 5075341',\n",
       "             22416: '10012 7397 24831 24827 3865881 57170 8016 24837 8187 27471 27629 5481230 27472 74704 84866 29669 82277 29586 5481229 7880 37005 8090 8080 5566925 5075323 2622077 9586 29560 64263 8306 8769 3819851 29587 8265 38349 5074100 5566938 8084 27543 38348 5566923 10742 94041 8234 8068 25093 29541 3818719 6785178 4276771',\n",
       "             22430: '709 24852 63780 9999 80460 9425 67679 82738 3302557 66843 5469882 20269 72154 13179 13854 107 3302554 9808 13785 17312 100813 5062860 7341997 10120 17315 26159 62939 26224 15704 24466 20298 5479356 47063 57243 25769 5061800 5479848 27533 63619 4274992 37366 13922 1049 17329 6896 5476732 5061798 6893 18026 3302555',\n",
       "             22450: '2544 55134 981 69669 2322 2600 22035 45457 63984 14341 15441 95359 21895 13487 63295 21813 7373 66930 5217052 45425 37212 67013 2326 14832 9763 5046185 59656 14345 6368538 3817488 6641 8195 64874 5214860 23 20784 5489 2833986 7863 6697379 36104 5479876 78901 57922 7742 36057 21932 67008 51102 3503084',\n",
       "             22471: '7408049 98548 88046 88753 88387 201447 88161 88146 7408179 88314 88549 709 158 1300 166 9959 176 39590 5657365 2586485 2146 23499 180 177 2544 165 8547 66893 13344338 10016 2597 67694 21904 3497419 20499 5217 10095 285 10015 9593 17314 2137 14564 7401 9152094 100 49911 2165 170 66966',\n",
       "             22481: '709 2322 100789 54728 67499 94125 17655 9609 199645 5649 7410 6368546 85680 4274956 69553 63640 7511 25950 5046143 103798 128 27629 68225 4141329 58080 57756 17328 2834012 20766 6877 5481714 1200 72745 6749958 65012 37190 4830973 23167 20389 22583 562 24669 57911 3048644 2834133 87007 63718 74878 6375430 14685',\n",
       "             22510: '67693 9950 60114 7092 6352 29553 22194 6951 6353 39560 14824 29619 39561 72084 7030140 45460 3574676 5663 7034764 6770770 71052 5476732 3053877 5060439 3073830 62389 3045035 68411 3866671 202099 3827853 59967 59231 3865062 709 158 1300 166 9959 176 39590 5657365 2586485 2146 23499 180 177 2544 165 8547',\n",
       "             22535: '67281 5642 7495 8016 36483 75485 28173 7879 79084 25168 3592674 25063 29540 709 158 1300 166 9959 176 39590 5657365 2586485 2146 23499 180 177 2544 165 8547 66893 13344338 10016 2597 67694 21904 3497419 20499 5217 10095 285 10015 9593 17314 2137 14564 7401 9152094 100 49911 2165',\n",
       "             22542: '1300 65140 30370 5215230 4275967 58169 36242 5046679 7008785 7008786 7062000 7062001 7008784 67576 5650 10163 14299 2575 45430 14746 14770 96166 9959 103 37480 39590 709 75078 102932 37481 37407 100849 5046645 10049 13435 14312 177 26676 18735 2834749 66258 92418 4203422 46966 13058 13302 13121 75906 49447 5481773',\n",
       "             22558: '176 177 18887 3497570 456 7036235 57251 286 78672 67035 3497463 29553 57198 90518 67027 87886 67028 103 3497450 3497423 3497347 3497447 6756944 77632 4236274 20100 7034775 45517 4277735 7036181 44797 20170 20320 6591 92746 5047455 85902 60623 103790 95018 6744341 7043831 6770182 7325366 72388 7016491 102248 3825056 5479407 60546',\n",
       "             22657: '10095 63072 55128 26590 14465 25638 64246 65742 5481323 12799 74201 58762 709 158 1300 166 9959 176 39590 5657365 2586485 2146 23499 180 177 2544 165 8547 66893 13344338 10016 2597 67694 21904 3497419 20499 5217 285 10015 9593 17314 2137 14564 7401 9152094 100 49911 2165 170 66966',\n",
       "             22664: '199645 14465 709 158 1300 166 9959 176 39590 5657365 2586485 2146 23499 180 177 2544 165 8547 66893 13344338 10016 2597 67694 21904 3497419 20499 5217 10095 285 10015 9593 17314 2137 14564 7401 9152094 100 49911 2165 170 66966 9842 66969 224 59980 55133 66967 96161 7000939 159',\n",
       "             22666: '45584 60116 24842 407 57174 14752 67420 14757 20295 57170 105764 20269 20414 26222 3817487 21308 7048400 24838 64069 64677 24837 20273 63680 15592 9793 3039043 7375 254 45586 650 2833524 84099 96173 92338 20632 13322 24466 22979 5997156 4141333 15597 13476 20634 63955 4033676 85341 59823 38232 25168 3834253',\n",
       "             22678: '105967 105966 105964 105965 2569 14465 9999 2600 2561 8547 66977 2564 60664 7061899 13301 198619 27715 3817489 20221 100813 709 5044812 45459 10016 24831 6210221 6749958 78969 7401 7386392 103039 69669 50287 66788 58962 66877 37181 5479853 6351937 198493 3817542 86958 105764 2599278 10164 63887 16907 5187 9867 86767',\n",
       "             22707: '1300 5469728 63072 45457 3302524 5479931 100812 13333 26631 13550019 72282 28138 4277747 4033669 26632 99 5061260 64800 6695060 13322 94123 10010 5479400 27409 3579474 57234 3822655 7324844 67196 21544 1905 18844 709 158 166 9959 176 39590 5657365 2586485 2146 23499 180 177 2544 165 8547 66893 13344338 10016',\n",
       "             22710: '166 67694 9501 72236 96219 57867 22161 2834854 44802 60012 45586 6756944 20298 6909 31491 258 3818087 3497416 7034722 71617 7751 967 54351 90832 58228 3069436 28157 24816 87534 7365884 3818697 30010 85511 7034559 25795 25998 5215944 7397018 5036541 85786 8017103 62509 3818762 3835876 3868264 79208 709 158 1300 9959',\n",
       "             22727: '166 9593 9595 9598 14630 9610 4592908 9696 9733 57733 57723 57728 25829 65670 9606 25830 25828 26333 29676 21895 5650 2834741 60151 198493 6977 4523 6375429 21620 16887 196962 90701 57997 5740 10177 4275061 14834 77674 67422 709 158 1300 9959 176 39590 5657365 2586485 2146 23499 180 177',\n",
       "             22741: '709 20499 159 5469728 69669 72003 103039 7036235 94333 5481691 6951 26688 26590 58030 24869 24873 239 36269 7030140 66703 45435 62939 4141320 5469730 3045038 7033593 56906 5740 5073419 46948 24489 60842 4275580 105079 91889 7034585 70183 99598 5781 5060718 3828669 102573 50286 6003872 3864654 6827381 10524428 61999 158 1300',\n",
       "             22815: '23499 66956 2636 38251 96208 4227874 66965 66958 24473 93463 7342762 198618 69016 7048352 7048358 60664 7724771 89654 38352 7724773 5217380 67798 709 158 1300 166 9959 176 39590 5657365 2586485 2146 180 177 2544 165 8547 66893 13344338 10016 2597 67694 21904 3497419 20499 5217 10095 285 10015 9593',\n",
       "             22823: '9959 285 14630 20285 72006 57292 4275036 6371 6369 57280 6370 24866 67408 10115 5045301 6337 14296 6349 6352 7410 94334 6697382 26631 6353 4831055 7048400 7048399 142 12824 26632 5047346 6375428 60986 6882 18428 4275056 93654 64224 84085 105507 3817488 12825 37315 5483120 5481665 2564086 198455 6750096 10291 5044585',\n",
       "             22856: '55133 3817484 69669 10049 72006 5479511 10163 3817489 7324996 94125 66088 21545 96217 5479493 96400 9936 5650 6003958 5070 37160 95361 16044 25638 50415 25640 12732 55095 17506 14675 64728 37159 5651515 7024333 37158 92357 17505 14437 5046085 104558 35412 8083 4275039 31580 6568 6371122 36532 709 158 1300 166',\n",
       "             22870: '709 39591 58082 3302524 63034 37481 57196 36483 58010 198845 12840 86719 36059 6695440 14510 3043444 67714 3096235 38719 6695441 59860 5074594 105650 24954 5046350 1942830 3818987 7325211 77785 64220 31281 38393 7348050 63695 1837 22155 5476550 5120 44859 6747311 98583 64019 5482385 5797550 7348017 9765 98565 4276447 69117 5046079',\n",
       "             22885: '9500 2519 6824083 13495 49911 240 6005133 10204 86089 9553 38697 36872 16863 45457 13481 74632 5196 36871 66949 73973 1300 3302557 10169 5217 85 58914 75651 27492 20276 63955 5046645 50451 38698 1199 6749382 5182 1197 5062458 15605 6861 69739 15094 26753 5476614 22332 5997136 78247 199520 3850672 59460',\n",
       "             22906: '55133 5481691 661 5479493 22161 3302554 16591 13478 64422 1942830 5063044 36945 21976 12727 5063043 5221 5481657 15615 5481658 5481660 2834954 4141383 6486 83732 6480 6481 709 158 1300 166 9959 176 39590 5657365 2586485 2146 23499 180 177 2544 165 8547 66893 13344338 10016 2597 67694 21904 3497419 20499',\n",
       "             22948: '6004026 2578 96545 2615 58878 20387 39560 18569 1310 22988 22 2630 49911 26073 56899 19313 14345 49915 200857 4873 57552 13933 36826 55034 17400 66929 72316 4443 102982 3817489 50137 201891 76586 5997136 69716 25764 14836 478 58947 407 3302555 14086 26749 13222 63780 77405 222 36095 4274636 5045462',\n",
       "             22973: '7397 30247 29556 9387 8003 30366 3818701 4276363 78950 85764 709 158 1300 166 9959 176 39590 5657365 2586485 2146 23499 180 177 2544 165 8547 66893 13344338 10016 2597 67694 21904 3497419 20499 5217 10095 285 10015 9593 17314 2137 14564 7401 9152094 100 49911 2165 170 66966 9842',\n",
       "             22990: '2636 14857 14752 3572273 13852 28078 6390464 69372 4033822 102660 25691 38700 20358 2833985 57994 196930 6565231 100 39590 26621 63704 5471001 5634 69456 29538 165 1200 6368554 84319 84398 6565229 5217421 12547 5074660 80566 13550159 25690 25054 6388080 24739 4831367 24877 57170 9950 7753 14541 1990 709 158 1300',\n",
       "             23004: '25842 25843 72790 25847 3497457 4426 37433 3045032 7406913 6210248 3052259 3833459 73118 16629 3497453 6771034 4425 58073 36587 67629 7043596 9127385 709 158 1300 166 9959 176 39590 5657365 2586485 2146 23499 180 177 2544 165 8547 66893 13344338 10016 2597 67694 21904 3497419 20499 5217 10095 285 10015',\n",
       "             23022: '709 180 8547 9152094 49911 5044992 55134 3817484 14630 10049 57952 100849 5469736 75924 45457 6005364 24851 95835 1985 10163 57828 478 94333 10115 9590 3817507 14583 45646 19562 55130 50 5469882 14681 13179 5469788 15145 20414 174 7015896 23139 4443 13274 36191 60162 9387 91374 14632 13071 66883 13070',\n",
       "             23086: '68465 10074 17194 3599473 100372 5046132 29649 57765 8871 18081 709 158 1300 166 9959 176 39590 5657365 2586485 2146 23499 180 177 2544 165 8547 66893 13344338 10016 2597 67694 21904 3497419 20499 5217 10095 285 10015 9593 17314 2137 14564 7401 9152094 100 49911 2165 170 66966 9842',\n",
       "             23113: '4275033 36243 94330 3048665 14462 6749602 74649 23004 3497505 6749599 4276192 709 36265 3497419 86486 6771267 63295 38308 6375429 96223 5256 15984 3569493 4393 95805 38362 7397 7064842 7042575 7511 30361 102872 3817544 7325382 72952 85419 49911 55152 38458 5217 7036236 7036228 21767 10757 5044727 2544 28126 28008 24842 3817512',\n",
       "             23127: '3497419 12565 7036226 17145 3497352 9254888 3497521 21636 5180 3497519 3497535 51043 94677 25950 26597 7313793 26596 94363 3497500 62792 7124 6756959 3497598 3497401 2483 12781 103926 7365884 5045064 3497513 60854 4204274 3497465 7030115 7030114 7042816 94767 10913139 709 158 1300 166 9959 176 39590 5657365 2586485 2146 23499 180',\n",
       "             23161: '165 4592908 4141822 7008780 96231 5479810 20055 20429 7313832 709 158 1300 166 9959 176 39590 5657365 2586485 2146 23499 180 177 2544 8547 66893 13344338 10016 2597 67694 21904 3497419 20499 5217 10095 285 10015 9593 17314 2137 14564 7401 9152094 100 49911 2165 170 66966 9842 66969 224',\n",
       "             23184: '10049 12565 9970 8867 17194 8866 14510 59008 6562 12370 198607 80474 5997101 24826 57847 24541 80600 12156 24855 709 158 1300 166 9959 176 39590 5657365 2586485 2146 23499 180 177 2544 165 8547 66893 13344338 10016 2597 67694 21904 3497419 20499 5217 10095 285 10015 9593 17314 2137',\n",
       "             23202: '45616 31277 9959 5214861 4033648 10095 5217 2575 4274956 225 4592908 6750093 9950 5217291 176 709 2323 69553 177 5469736 4440 4715 103039 58170 2564079 100849 55134 10016 22283 5469874 55128 5217292 93425 158 59348 69669 14581 66877 3817487 5654340 55130 55151 13834 5479931 102 38703 58920 38481 25248 17760',\n",
       "             23272: '2558 23521 101096 96205 183 2538 58151 23504 9867 59697 96184 13854 27701 14469 5579349 709 61053 5583210 13481 5074507 10062 69481 5629939 6368557 58235 3096235 95359 84320 91095 7378 64713 825 6771083 20295 5045648 6331 18082 31300 5481629 8016 9387 5192 76429 4276462 37181 38714 67499 69669 5481726 27524',\n",
       "             23285: '95825 39595 49915 69937 57387 3574276 25621 67150 5074607 2204 69943 25905 37295 17051 14465 64712 100812 9950 198072 73345 5476725 44830 9139634 14453 24466 16989 26197 29705 26198 61065 64017 22968 22981 31277 49921 36239 5997287 60278 20219 5997288 1746 5481353 24840 67451 39627 38189 45457 5045 87886 127',\n",
       "             23298: '10012 55134 24836 10019 4592908 3497570 201891 661 55151 5479493 9936 5631 5481678 7024300 5073439 91183 57988 4275048 4275056 5073442 7062082 37448 27677 84497 22283 5479144 6210221 26150 58123 21195 24870 3302558 7325221 5051529 57886 15993 76469 57086 201904 5051517 660 2561678 90108 6784220 5209297 65097 58727 5184 5074145 64900',\n",
       "             23308: '9607 2612 66987 4033462 2525 67377 39723 22495 14430 91972 5047596 2603 61053 60741 23501 7327147 4226676 3069031 5045088 5214793 2625 4226677 18998 9593 202196 9959 57733 25830 6694771 20031 5075401 7392967 5651529 64923 54381 37549 1300 50126 70422 158 5657403 103142 5074379 944 16987 15997 4274968 69372 6694773 4210675',\n",
       "             23314: '166 4592908 2271 95835 39595 6368 6329 2005 6367 96463 292 4275840 93815 6782771 44788 62040 67700 13411 18984 37478 64798 20392 15148 44770 10081 38363 63915 101136 101254 13435 13424 3587474 5554 70429 70455 3865479 62024 70416 59917 49266 4213875 7015905 64211 4275879 89654 13449 3820294 5076172 6607672 69877',\n",
       "             23328: '5473476 9670 25829 17526 2570 3601481 17133 25852 17527 25639 25831 4276289 57642 25838 18428 25854 25853 9626 25844 25841 25848 36484 9620 25840 709 9932 49924 84477 2601 74632 142 5481688 25847 9602 57700 17528 57703 5479071 9598 57723 9595 9607 25828 25830 5044333 7391 24842 63638 17955 63072',\n",
       "             23362: '55133 55140 5481691 6371189 17194 4277747 4275049 27475 4275056 5993840 3599480 4033787 9868 101031 55152 5993842 4033730 4592719 16908 25671 4592726 7061934 5993841 5481213 9728 14834 14061 57267 16810 7004203 77905 5046101 5629935 89712 7342286 4274945 5046160 5063244 4274941 7048285 14126 4274935 14111 30362 709 158 1300 166 9959 176',\n",
       "             23366: '14630 57199 14836 461 15543 14474 6003852 5073714 86719 25987 6677992 9808 58137 96350 18984 7030140 20567 39569 96173 57513 50126 6677988 6607607 198574 3565482 49924 57221 57997 7634 23519 20056 16875 18870 105389 4831174 7826 7815 3864280 59784 93156 6228 3560690 57267 199427 30153 38238 18068 101139 78742 7106772',\n",
       "             23438: '709 49911 55134 57291 1746 72006 3817512 95961 57290 60114 3817489 7324996 5178 14836 14303 5187 18711 5631 5481356 9571 72281 5651519 2833439 5074498 5217177 6300 5636 38717 196 72279 6882 13478 5566970 67171 45404 6748562 5075818 86825 45456 59441 5073467 6591 105761 3566287 20389 16181 5488970 4141671 67166 6770317',\n",
       "             23517: '709 2586485 30361 15593 100789 10115 66959 92 46971 67045 96578 5045111 198493 7062082 4276303 39537 4988 7739 26072 95401 28150 4276305 5050796 6782 5050787 39480 3859910 843 7766 5050782 5081 5050785 18081 3834655 15682 100737 5044793 5050794 13799 13812 27399 158 1300 166 9959 176 39590 5657365 2146 23499',\n",
       "             23537: '30361 24835 5474314 5074617 8201 64227 27828 26223 5217349 27554 64023 5488906 3818700 29644 8896 29641 80600 80572 57834 709 158 1300 166 9959 176 39590 5657365 2586485 2146 23499 180 177 2544 165 8547 66893 13344338 10016 2597 67694 21904 3497419 20499 5217 10095 285 10015 9593 17314 2137',\n",
       "             23547: '5469728 3497570 3817512 821 92418 22107 5063007 22161 877 5183 13478 6388156 5051600 3082645 85724 76745 5192 37122 76587 37158 37120 69471 7048373 14086 3586277 9712 13946 24684 9720 5044333 9431 39681 7062216 61559 7465950 5228 3560674 5073694 14110 4831268 14085 4831269 14741 67393 709 158 1300 166 9959 176',\n",
       "             23554: '709 55133 55134 981 182 72875 58093 7324996 60 94333 67199 67040 14836 96217 5470974 13481 13854 91095 84318 69261 14824 9808 36059 91183 5214802 5636 1159933 2098 66788 38677 61632 103771 5217429 39537 59697 5481284 5483073 64913 21438 47064 1942830 6795 105725 6782 50477 811 4277726 16070 5063043 7062059',\n",
       "             23562: '709 55134 5469728 14286 30361 55140 222 63072 20276 5469736 104 37480 3817512 60114 60116 39595 7324996 9425 5214 38458 58082 60119 67420 55130 7032900 461 6951 69553 46971 72155 13550019 4274952 36593 5045462 151 21308 200939 6784393 3817547 142 5072 5217177 137 72094 5653 5062860 103920 94420 31364 38492',\n",
       "             23563: '2137 6749972 2168 5657499 7044070 7052 57622 76476 55134 198515 60850 37478 4617 5046949 7032852 17340 23878 18201 58179 58810 64072 5657501 105435 6375448 7053 3583088 4033806 58929 70953 38929 7107295 14168 58154 45256 5479493 8887 50137 39692 7061234 7048373 73118 57624 37270 76745 7061992 7061994 7061995 5481783 67151 5217',\n",
       "             23571: '709 166 7401 100849 3497570 57290 2586488 14836 21450 3817487 4831055 5180 22976 143 24473 5634 5061278 14754 5185 800 20356 85 6403 7866 14785 10210 37086 7361 10311 7072098 5074148 6838 2833470 21780 55099 38838 158 1300 9959 176 39590 5657365 2586485 2146 23499 180 177 2544 165 8547',\n",
       "             23576: '93461 66969 8548 66353 7032490 3846254 78672 5061235 5045462 90432 456 101156 85607 17329 59771 51487 7313793 64819 9254932 7032499 39595 6770301 69373 7042688 7031236 5051494 7043329 127 3834257 8017231 3083038 3839055 3835455 10186 4275984 6375208 6375139 6375209 7391294 57954 5060708 76380 76809 7043817 101888 7042691 91924 76827 10196 7042907',\n",
       "             23596: '2544 10016 981 63984 478 20295 8201 66959 93815 91784 45272 93463 8102 8199 38060 66845 5657381 5046683 5029 7880 83974 63704 93714 5046681 5387 37413 38657 85165 87922 25663 3865086 7030350 7030463 6696790 709 158 1300 166 9959 176 39590 5657365 2586485 2146 23499 180 177 165 8547 66893',\n",
       "             23609: '7061985 61556 9959 7107297 14508 5477519 2530 2531 7061980 130 5217196 4033646 7004071 7013629 18424 2544 5482080 5477639 64913 50027 64954 4517 10523993 5481882 4226677 5482079 2833985 38699 5477913 65628 86968 50396 4275048 4141787 2834955 80432 5482345 58958 57034 31491 5481877 25653 618 649 4033730 36828 5046348 36265 7342499 4274934',\n",
       "             23636: '285 49911 69669 9950 103039 86519 1771 57251 26621 45459 20289 60153 26625 66426 56899 4276526 876 17761 7342538 79082 10265 20269 13481 26222 93358 39660 39665 6003575 93815 60179 38169 877 5073439 6390644 100648 128 6695060 5074500 19928 5060777 4276620 6375429 9699 64642 8551 67639 64221 25905 64641 47063',\n",
       "             23641: '9990 2601 93463 1300 130 66329 36265 9959 46964 5469882 6005364 36269 100849 36270 69219 36267 5047607 57291 60850 39590 3302524 69372 57292 9813 5469728 36266 7062126 38712 7342538 36144 5469736 8273 38345 100789 37182 3817507 92418 1213 9496 24686 3817544 1598 78969 5046160 29617 2322 14956 1529 5469740 5063391',\n",
       "             23642: '2544 67694 100 170 5469728 27745 21757 69943 39777 6371 6369 73690 6370 6749608 136 3302557 78821 67212 60813 5479797 5044727 6749606 5177 5636 4689 7384222 13435 72745 38357 73903 36974 13469 13471 73664 5051537 7015562 103361 5044259 57532 25026 13195 202105 5061194 7008435 86680 709 158 1300 166 9959',\n",
       "             23693: '9601 9624 17655 9622 67239 26130 26129 6691482 7016273 2835411 6368547 6804227 7107221 709 158 1300 166 9959 176 39590 5657365 2586485 2146 23499 180 177 2544 165 8547 66893 13344338 10016 2597 67694 21904 3497419 20499 5217 10095 285 10015 9593 17314 2137 14564 7401 9152094 100 49911 2165',\n",
       "             23718: '9511 23520 2165 66927 66956 3579473 24843 25945 6784215 7013593 27473 67199 66880 7071981 67499 37458 24466 7403 6692163 7733 58788 6004237 84524 5481252 14836 67212 6824049 24489 66088 100789 17234 27572 7979 198070 7326741 24465 82274 58123 37455 58082 7344285 6005166 91338 24722 7014910 8099 4202925 709 158 1300',\n",
       "             23745: '27569 15487 29553 8016 96439 75440 9942 29556 57462 70697 3599473 18013 83944 8866 98040 24849 5076012 201126 24859 9397 1315 4831087 5044600 64232 62468 98063 98041 58092 64217 7907 97950 6784103 62309 82274 29608 5074105 10051 80470 10055 24567 6397 25077 82201 82209 8868 6568 93680 16799 94280 709',\n",
       "             23772: '49921 7036235 45459 57199 72929 7036239 44836 45460 3068645 64701 26754 3497416 50083 3833853 5046161 6861 60176 5062864 3068631 2834434 68720 62355 3858655 3084339 7033631 709 158 1300 166 9959 176 39590 5657365 2586485 2146 23499 180 177 2544 165 8547 66893 13344338 10016 2597 67694 21904 3497419 20499 5217',\n",
       "             23808: '7062002 7008787 7008789 61556 66864 14889 5197 7063145 29668 5061275 7063144 5476614 487 199520 5554 222 8195 64217 5074102 58030 60459 199267 6784185 7008351 64262 64640 14836 29608 6697395 7386400 29696 69669 91095 9779 6784186 63057 4831086 29669 5218 5044753 29614 1867 62476 5177 5189 4988 6784393 5045374 1005 7024300',\n",
       "             23849: '1300 9959 4275033 7324996 5476180 13550019 85259 92786 8703 12485 80510 80508 38821 709 158 166 176 39590 5657365 2586485 2146 23499 180 177 2544 165 8547 66893 13344338 10016 2597 67694 21904 3497419 20499 5217 10095 285 10015 9593 17314 2137 14564 7401 9152094 100 49911 2165 170 66966',\n",
       "             23894: '61115 5657421 20356 5657422 13570 3039043 4033509 19562 55134 7027 3302524 61015 180 5479493 5217291 176 26688 93711 239 231 3823470 5481654 20273 5479848 230 5651519 14286 3497570 14506 85679 72006 73690 38458 5217 4592700 5469736 69669 709 3817484 24866 3302557 3302554 18720 52657 2589314 85680 3817512 39589 3566287 78672',\n",
       "             23906: '10016 4592908 6369 5182 4275810 2562 78821 36666 5045462 50218 15245 5479406 200863 4986 4592907 4426 5074521 6770936 77115 38736 31278 4275022 5051517 4931 5046109 7062216 90001 14591 100674 89632 96460 13559 77564 5481681 5481772 5997092 4912 9339788 26138 709 158 1300 166 9959 176 39590 5657365 2586485 2146 23499',\n",
       "             23922: '3497419 14770 14630 24831 43 3497570 2600083 456 3497505 26621 63984 202196 20295 3497352 266 3048678 22161 3497330 17194 65483 39561 199 61113 3497558 67013 650 3497324 3048669 67217 4211879 5481996 5887 76874 6756975 84320 59820 58962 651 74412 3497585 20299 5051544 2833535 9127322 870 77400 38196 3497452 55056 57551',\n",
       "             23924: '17314 14770 4592908 15517 36243 26621 5178 15512 130 2005 14508 105 87886 9936 5476180 22995 5488904 6565238 4275048 5636 17828 18428 29655 5046118 29607 8074 5185 22615 13424 5073467 5062444 2494 3818375 5479478 8197 4033884 199374 6749057 14509 61032 38214 5046116 14061 31715 5478848 22501 13957 709 158 1300',\n",
       "             23944: '58093 58235 10523759 7048399 16731 4203450 6877 7348049 3565882 72018 6694823 3565883 6750095 3046647 6876 6591115 7107299 7348051 7341923 5044695 14930 7032351 5050948 7031179 7032471 709 158 1300 166 9959 176 39590 5657365 2586485 2146 23499 180 177 2544 165 8547 66893 13344338 10016 2597 67694 21904 3497419 20499 5217',\n",
       "             23948: '158 9959 24836 69669 4033462 2625 6347 3817512 60174 57624 3817489 4275967 57174 67408 59460 61556 86112 44802 1039 4141788 95294 688 96320 15916 5993768 103771 4203450 25925 3820661 5483118 16895 18810 2835226 25495 20078 77036 38735 5481281 94301 709 1300 166 176 39590 5657365 2586485 2146 23499 180 177',\n",
       "             23961: '2544 10016 69669 2600083 2628 96205 2601 24827 29553 9649 7410 2538 91095 12260 39796 26164 18398 26128 5483205 14581 61013 4277211 5044602 201787 17560 92109 4277633 24872 5473484 26129 4276909 5046282 29707 3818757 2569 5481714 69264 93510 61634 61154 16002 5046187 3823471 36982 92112 60005 84382 7724770 5997101 5488970',\n",
       "             24018: '10016 8016 8010 709 158 1300 166 9959 176 39590 5657365 2586485 2146 23499 180 177 2544 165 8547 66893 13344338 2597 67694 21904 3497419 20499 5217 10095 285 10015 9593 17314 2137 14564 7401 9152094 100 49911 2165 170 66966 9842 66969 224 59980 55133 66967 96161 7000939 159',\n",
       "             24031: '10016 285 10012 10049 100789 24851 18720 18677 57174 39566 15145 9936 39666 39665 457 22988 18015 10182 8102 86838 29648 4274636 4203419 58962 1653 65244 65807 25976 10002 57243 38155 37024 6210164 6210165 55155 6210166 6004065 44859 5476569 4203397 18500 5051509 4276490 57491 5469850 79076 709 158 1300 166',\n",
       "             24036: '2521 67272 158 176 45911 67694 2190 57196 45280 45242 5481340 67026 2165 95642 20500 2187 2137 20499 7064857 200878 2146 36242 57058 5214 12343 67693 12320 66930 7064865 26344 16592 15512 93461 1300 4277747 1159961 200876 5214861 1159959 5217 1159960 2189 4227874 6784706 14899 80965 5046645 3817484 69372 38837',\n",
       "             24037: '158 20285 8273 74716 655 24466 17195 57028 98039 5997155 25524 39492 5997157 8230 25109 86019 75436 7342604 102717 24342 27988 23151 14183 39101 199484 5479805 58700 199483 4202921 50267 709 1300 166 9959 176 39590 5657365 2586485 2146 23499 180 177 2544 165 8547 66893 13344338 10016 2597 67694',\n",
       "             24040: '55134 3497570 100789 103039 3817512 45459 55151 20269 5469788 5629938 69553 59771 9808 26690 14510 5490 18713 196 10120 5997200 4831045 22980 5481321 14370 6005183 64828 5630482 5481664 5651487 68089 38532 5473 6371332 18424 9811 22982 13832 64635 6697343 22626 1190 4141826 36776 4910 4277677 1259 4912 100831 709 158',\n",
       "             24103: '2521 30361 14338 36243 2305 4141754 5044203 7109 58083 2482 2302 7527 14945 20801 3557477 1532 3577482 5044803 29737 81138 6565217 50413 39100 709 158 1300 166 9959 176 39590 5657365 2586485 2146 23499 180 177 2544 165 8547 66893 13344338 10016 2597 67694 21904 3497419 20499 5217 10095 285',\n",
       "             24120: '1300 67694 96205 7324996 17761 68347 60278 91095 61102 66329 6003958 62826 61113 61013 61045 9793 61078 5044602 66788 198493 5469740 45598 58365 94227 61557 61065 198455 66862 61634 61625 26743 90932 61040 36144 79024 5488962 12764 3560676 7326178 9644 7004159 7061933 65573 5073690 84076 26731 3560285 7342691 709 158',\n",
       "             24147: '100902 67408 4275270 67407 5214782 16288 6368546 9624 18757 14281 5993734 63638 9601 9631 5488905 9139786 9638 3062637 58810 6607602 6003855 7439578 90415 5478970 151 93798 9881 57756 8097 17654 7342730 9609 14280 1771 6640610 57748 9501 71546 66252 18553 78672 6770632 1994 4274992 4275049 39725 24839 6770625 5073465 14624',\n",
       "             24170: '1300 176 24836 69669 72875 72006 5642 10115 8286 4274952 9837 58022 86 198493 5469740 69627 64789 3069429 9891 3566695 14446 14440 6730 709 158 166 9959 39590 5657365 2586485 2146 23499 180 177 2544 165 8547 66893 13344338 10016 2597 67694 21904 3497419 20499 5217 10095 285 10015 9593',\n",
       "             24194: '21904 2322 2321 45459 304 399 72154 50444 10034 1086 10000 39639 202019 5094 59640 7365582 15223 198620 6818444 76827 709 158 1300 166 9959 176 39590 5657365 2586485 2146 23499 180 177 2544 165 8547 66893 13344338 10016 2597 67694 3497419 20499 5217 10095 285 10015 9593 17314 2137',\n",
       "             24228: '1300 55140 3497570 66949 9425 3817507 876 4274956 5631 37484 37380 6678030 3082252 10180 83791 199519 58924 5078 15246 57116 80918 6003942 25324 13531 709 158 166 9959 176 39590 5657365 2586485 2146 23499 180 177 2544 165 8547 66893 13344338 10016 2597 67694 21904 3497419 20499 5217 10095 285',\n",
       "             24276: '1653 39473 5074230 177 4033661 103173 27837 22260 5792187 7397770 69669 28126 18377 18376 95825 96168 20215 199749 3861860 5073409 6765 45459 5246 59348 45457 5063156 24845 4443 9881 1775 4233074 913 4274992 5074231 22904 16923 5479916 67399 200839 981 77063 9813 9837 93496 57342 61621 66843 55134 30301 69481',\n",
       "             24287: '7397 8016 7979 24845 26164 5062928 30337 64676 8317 7731 25027 3818925 3861860 5046136 24739 6678014 38137 24696 5997097 3574674 27481 4247474 24883 24891 709 158 1300 166 9959 176 39590 5657365 2586485 2146 23499 180 177 2544 165 8547 66893 13344338 10016 2597 67694 21904 3497419 20499 5217 10095',\n",
       "             24288: '165 100789 73492 2575 7036226 136 66258 5044203 1987 5654340 78178 3048678 64017 67289 5471600 7387363 12817 591 5051493 86719 5063499 96168 5636 9908 63724 57578 5479909 25638 5075495 6278 5075496 3818399 694 7060815 6371158 3818400 58213 93648 17213 84361 5488953 3820294 7062038 69712 78497 93978 67186 68821 60847 5488955',\n",
       "             24303: '14770 3497570 72003 77405 7036228 17699 3497386 3497330 3497519 3497535 87449 7356268 13478 76874 51478 37065 3497585 3497474 5663 77257 7034764 5060427 13412 37023 86020 6692311 13438 51399 18500 13466 7043870 6770196 3043457 3079839 102961 39806 3043458 3042629 75987 7029642 3858279 709 158 1300 166 9959 176 39590 5657365 2586485',\n",
       "             24311: '5051517 69573 709 158 1300 166 9959 176 39590 5657365 2586485 2146 23499 180 177 2544 165 8547 66893 13344338 10016 2597 67694 21904 3497419 20499 5217 10095 285 10015 9593 17314 2137 14564 7401 9152094 100 49911 2165 170 66966 9842 66969 224 59980 55133 66967 96161 7000939 159',\n",
       "             24335: '709 9959 159 8544 52657 27745 67109 18733 80460 39725 5061792 58746 5478983 13049 5482163 67289 59923 6717 24873 9852 945 50126 90535 6824083 64247 9892 60891 102660 65804 59950 24867 100280 5481257 5477469 9925 39527 12844 83947 5997193 6695835 6607575 27480 5479804 158 1300 166 176 39590 5657365 2586485',\n",
       "             24360: '709 1300 177 67694 21904 20499 17314 69937 14630 100849 20276 9867 2166 9501 96205 478 55151 59187 10074 49915 67242 95825 9936 24871 18017 36149 4443 18398 5073752 48322 2833439 83944 67564 17143 5045361 16731 806 5044801 9852 36148 37126 8248 26589 65412 2833446 5074500 1159911 94054 4141614 50027',\n",
       "             24364: '9959 2636 67199 14863 4141492 3818428 709 158 1300 166 176 39590 5657365 2586485 2146 23499 180 177 2544 165 8547 66893 13344338 10016 2597 67694 21904 3497419 20499 5217 10095 285 10015 9593 17314 2137 14564 7401 9152094 100 49911 2165 170 66966 9842 66969 224 59980 55133 66967',\n",
       "             24479: '709 1300 67694 14630 67693 66915 2525 58373 58235 22194 60850 10523759 10523758 18422 60022 7062126 105671 21422 6885 67088 4033661 13441 20396 6636207 20395 158 166 9959 176 39590 5657365 2586485 2146 23499 180 177 2544 165 8547 66893 13344338 10016 2597 21904 3497419 20499 5217 10095 285 10015',\n",
       "             24589: '45457 6951 57552 58962 6318 709 158 1300 166 9959 176 39590 5657365 2586485 2146 23499 180 177 2544 165 8547 66893 13344338 10016 2597 67694 21904 3497419 20499 5217 10095 285 10015 9593 17314 2137 14564 7401 9152094 100 49911 2165 170 66966 9842 66969 224 59980 55133 66967',\n",
       "             24598: '16735 7062073 3818446 6771051 6347 30361 7381 69219 14643 67732 57291 2544 67502 66956 18017 709 54467 24726 21899 11895 4500 5474314 5074617 12817 84497 65195 4724 591 67028 592 82056 66955 5469728 89975 39590 6824083 4812 21545 5743 5737 27745 4991 5992 3302524 23138 94141 67027 3497570 35026 16012',\n",
       "             24602: '158 20499 159 2549 7397 2558 981 2636 45459 39726 821 24843 58358 14490 93815 17312 27471 45349 2634 59656 18027 58962 8074 57659 10023 62608 8090 93906 7398 90213 8197 67011 9122215 68216 84469 8202 6388064 14874 96216 7826 6390763 14881 4276282 27944 7326722 29554 7299 6189 17154 91424',\n",
       "             24627: '49911 2600083 72003 5182 95835 20289 487 1598 18028 72027 4275315 461 4517 4444 3497450 12817 93798 7036232 57552 7014937 6999845 7029518 22283 4033676 51067 16652 3069436 5045812 3045036 6770443 3497574 5045796 7014925 5050792 5045797 20305 7043725 5993781 5993782 52889 38704 5045365 477 7043837 5045362 5993780 6803 90254 709 158',\n",
       "             24640: '39590 67694 24836 103039 14877 478 39725 45284 8016 10074 39723 7511 6641 5217429 27992 5074245 5654331 6390785 5062905 26308 3533481 25627 709 158 1300 166 9959 176 5657365 2586485 2146 23499 180 177 2544 165 8547 66893 13344338 10016 2597 21904 3497419 20499 5217 10095 285 10015 9593 17314',\n",
       "             24644: '709 158 166 3497419 5217 159 981 4592908 36067 67693 27745 31277 20276 68465 2625 6347 73492 7036235 24851 5182 3817542 71049 10163 64712 7324996 14752 198043 58373 29553 76476 58235 6749602 7032900 10523759 9679 69944 1820 2599278 60278 71432 63646 39796 20214 58022 13785 105470 60012 61016 58137 86767',\n",
       "             24649: '3497419 67407 66949 60174 6370 7036228 10189 46887 3821899 4227874 93461 14853 4033502 13217 29648 4592949 67353 6756975 44765 5050759 9943 71617 102660 7043380 5476081 3497607 44790 13438 18491 67490 72132 76827 202050 67696 14430 3043468 4277224 6771296 9136253 7029620 709 158 1300 166 9959 176 39590 5657365 2586485 2146',\n",
       "             24673: '166 7397 5469728 2521 39591 182 69669 2271 24831 63072 2322 9867 96236 104 3817512 24842 3817489 38458 19562 63034 24827 821 25241 5479493 105764 2272 4830912 5479853 27571 2538 4274956 3817487 72155 96530 4274952 36593 5186 6003958 92368 5062131 50218 18398 200939 18015 86719 5073752 3599473 3817547 9727 877',\n",
       "             24675: '7489 7042620 29649 30339 68497 67400 7042574 7825 6827584 3858274 6210148 3861854 79069 77895 7563 79067 5071933 7030759 709 158 1300 166 9959 176 39590 5657365 2586485 2146 23499 180 177 2544 165 8547 66893 13344338 10016 2597 67694 21904 3497419 20499 5217 10095 285 10015 9593 17314 2137 14564',\n",
       "             24731: '158 7397 20276 96306 45457 24866 130 14836 55130 58004 26347 7979 76913 13854 7015896 60888 14624 70697 96166 9911 5476580 67564 7342626 6005363 5872 9793 57988 5062860 198493 79129 54378 5477651 24859 25157 14434 57200 7988 14575 8104 12848 69738 70833 28077 26042 1220 17319 4033661 5657657 30739 6896',\n",
       "             24748: '20285 69011 687 2563 6634 18835 50267 709 158 1300 166 9959 176 39590 5657365 2586485 2146 23499 180 177 2544 165 8547 66893 13344338 10016 2597 67694 21904 3497419 20499 5217 10095 285 10015 9593 17314 2137 14564 7401 9152094 100 49911 2165 170 66966 9842 66969 224 59980',\n",
       "             24784: '158 176 21904 10015 36242 24852 84240 48316 5046281 10757 4033787 3574676 198630 84117 5797403 9563 84165 5476732 5044354 4592937 5044353 79947 10223 79945 6770898 3559075 3061060 65716 16852 5062447 5062448 44731 709 1300 166 9959 39590 5657365 2586485 2146 23499 180 177 2544 165 8547 66893 13344338 10016 2597',\n",
       "             24785: '709 5469728 63072 5469736 3817512 5481688 65349 198045 57033 14836 14303 25241 198044 7048400 5074353 5073753 7048399 13785 3566284 5481314 3562688 85259 70724 90439 14261 7325306 6391 66859 14844 15072 800 101117 5217130 5051543 7471 14306 84436 84363 58307 26259 14348 28 7325221 14308 14352 45265 5045612 102186 5470936 5488953',\n",
       "             24796: '709 39590 285 39591 4592908 100789 7325382 5182 67499 60 67199 67040 661 876 7495 95736 6677990 96400 9859 4235874 66881 7064842 30307 20215 3302554 6685956 6677992 44836 4033459 105586 6226 4141329 3594675 39771 4695 5797475 6677988 6375448 5061203 46682 101117 55152 9898 12781 4033792 37266 4276896 5479374 4224674 6678029',\n",
       "             24817: '176 73492 5182 74649 18028 17145 58235 71432 10523758 65483 1597 76531 51043 17133 61490 103920 25639 57978 72018 5044829 37116 31642 7014642 2586489 3103028 86554 5474251 38238 5073584 103025 3076635 6770981 6692810 104554 6695282 199513 7048322 78567 3076638 49981 6771184 5060893 5060894 5060889 709 158 1300 166 9959 39590',\n",
       "             24847: '166 9959 39590 2544 10016 55133 55134 3817484 39591 14286 69669 20276 100789 61 3817512 39595 202196 60 2524 3302557 91008 5479493 5070 91183 5481726 6748562 91972 5479848 5474192 4276012 105600 50477 64855 61040 2835401 31107 104768 5221 5657512 5044333 7325378 84415 31112 5046217 5110 5478848 5111 3566290 4033555 21575',\n",
       "             24874: '158 66893 9593 9152094 9595 2271 9696 2322 25831 57723 17526 57728 17527 17528 25829 65670 27569 9606 25830 25828 69219 5481688 57252 2320 6677990 10196 21813 3562687 18711 5631 93655 27987 94342 17685 58137 3497423 5075449 52744 60717 37364 93654 6210224 18750 20775 37361 6677988 3048673 14616 16633 7726',\n",
       "             24908: '709 5217 2549 55134 30361 24852 39589 27745 72875 9867 100789 22035 104 6005364 57251 78672 3817542 27569 9999 7457005 5061792 15512 3302557 36484 95359 59187 105 6951 9936 6429 69553 5476137 50026 5045462 2834854 24869 38712 4141656 10058 5479153 17828 27629 5046168 5694 9935 38060 5481229 38711 5673 5044603',\n",
       "             24913: '55133 3817484 5469728 69669 100849 36243 72006 5154 94333 5481691 17033 23004 95359 29553 45256 5469882 4830912 84118 95825 77063 37061 9936 22161 8550 7024300 1267 2834741 5073753 24869 1775 66867 5061260 27815 7342674 2057 22969 64642 20188 2573 9935 30337 36828 76956 106 3818519 37444 14835 6729 13272 26612',\n",
       "             24943: '39590 225 182 201891 57174 876 60850 85879 14824 591 26340 15245 38168 5993840 3818672 6565184 4276012 70883 5481370 69218 6784593 67767 709 158 1300 166 9959 176 5657365 2586485 2146 23499 180 177 2544 165 8547 66893 13344338 10016 2597 67694 21904 3497419 20499 5217 10095 285 10015 9593',\n",
       "             24946: '285 26184 67679 60606 18179 3571485 5036542 9893 4276684 709 158 1300 166 9959 176 39590 5657365 2586485 2146 23499 180 177 2544 165 8547 66893 13344338 10016 2597 67694 21904 3497419 20499 5217 10095 10015 9593 17314 2137 14564 7401 9152094 100 49911 2165 170 66966 9842 66969 224',\n",
       "             24947: '2597 5469736 3497570 96212 3817507 2607 3817547 36280 39771 103481 17423 6641 38250 19196 25166 5062854 4274991 20003 61580 19159 7325293 8093 60357 7325294 6636192 57165 93492 18503 78754 4831175 45495 81409 39577 26383 83723 91203 81240 709 158 1300 166 9959 176 39590 5657365 2586485 2146 23499 180 177',\n",
       "             24979: '39590 9959 176 5075382 13121 26589 45632 200865 7325170 5046976 5046682 3497332 5659278 13072 8547 91784 7339408 13120 6744597 5046963 100 38232 6805293 67499 19479 5046481 67945 91384 5046492 85724 3497330 3497450 55140 7036235 5061203 7004579 5061202 5061201 5073515 26838 24836 44740 5062854 3818847 7071972 69481 5046978 14572 38712 6003513',\n",
       "             25024: '67694 55140 7036228 7036239 5481996 3052258 87523 82905 62201 86556 7414882 709 158 1300 166 9959 176 39590 5657365 2586485 2146 23499 180 177 2544 165 8547 66893 13344338 10016 2597 21904 3497419 20499 5217 10095 285 10015 9593 17314 2137 14564 7401 9152094 100 49911 2165 170 66966 9842',\n",
       "             25036: '170 9950 14469 1747 60850 1749 17194 57131 5061260 7732 16592 5479848 26177 17213 5479400 9569 59911 15432 13969 93577 4033769 5568 709 158 1300 166 9959 176 39590 5657365 2586485 2146 23499 180 177 2544 165 8547 66893 13344338 10016 2597 67694 21904 3497419 20499 5217 10095 285 10015',\n",
       "             25038: '26314 5481726 5044757 67026 37539 15597 9570 36376 44859 4642 4667 81235 81117 709 158 1300 166 9959 176 39590 5657365 2586485 2146 23499 180 177 2544 165 8547 66893 13344338 10016 2597 67694 21904 3497419 20499 5217 10095 285 10015 9593 17314 2137 14564 7401 9152094 100 49911 2165',\n",
       "             25039: '5469728 31277 21767 3497570 3817512 24842 17761 24827 3497446 24845 29588 5063007 45585 5479797 59771 67013 4276554 5045640 5997208 5479901 5261 2833535 15597 7728 5192 105551 5190 64830 16893 7799 16891 5053 3567882 4033793 5061235 16660 3817509 198620 5371 30249 5075400 4705 13937 7450722 64899 9844 57390 7043780 7043735 6565191',\n",
       "             25077: '67694 49911 10019 21503 64273 66877 6951 9859 3302554 7027 23141 59813 91183 66845 60280 9780 61097 95543 6607716 18417 3592681 93523 57944 36695 94301 54643 16086 64216 7505 709 158 1300 166 9959 176 39590 5657365 2586485 2146 23499 180 177 2544 165 8547 66893 13344338 10016 2597 21904',\n",
       "             25081: '5474263 13301 9999 66962 103142 2600 60730 96278 69943 100945 45457 96166 7027 58022 6749597 5177 6749605 60179 27533 69944 97 26616 72155 67694 44725 13341 19924 77152 981 5566937 15597 709 25925 58708 72006 69669 26743 50608 39591 13179 4203124 57909 3497570 102868 37392 62531 99 69553 100789 62970',\n",
       "             25103: '2833524 90832 6003623 709 158 1300 166 9959 176 39590 5657365 2586485 2146 23499 180 177 2544 165 8547 66893 13344338 10016 2597 67694 21904 3497419 20499 5217 10095 285 10015 9593 17314 2137 14564 7401 9152094 100 49911 2165 170 66966 9842 66969 224 59980 55133 66967 96161 7000939',\n",
       "             25110: '709 58169 67499 14752 55130 65140 58168 47771 2589315 57863 38699 57978 70724 8090 5471286 17340 26360 65418 7959 36155 29839 3818908 158 1300 166 9959 176 39590 5657365 2586485 2146 23499 180 177 2544 165 8547 66893 13344338 10016 2597 67694 21904 3497419 20499 5217 10095 285 10015 9593',\n",
       "             25120: '10012 10019 45283 821 3865881 1787 26314 2272 26313 4276462 5566924 69481 5566937 58080 7326428 38714 38711 4275580 5073415 6758 65417 5073416 25460 64325 29551 3571486 709 158 1300 166 9959 176 39590 5657365 2586485 2146 23499 180 177 2544 165 8547 66893 13344338 10016 2597 67694 21904 3497419 20499',\n",
       "             25144: '709 5217 224 57733 72875 25831 17527 54728 17528 25829 9606 478 25828 7399 17525 73 20302 18398 26197 4203422 5997200 2835394 100804 4831045 69816 85152 5046118 7004211 14669 6375448 27581 14616 38155 7004208 36997 56 56929 7004215 196961 89975 95874 196960 6677960 7016406 5657399 6591161 16896 7068063 2835086 5483286',\n",
       "             25148: '30361 27569 12565 6429 24848 6410 66992 5046132 1315 6769 6767 9569 17955 5051591 5483411 5046385 12507 709 158 1300 166 9959 176 39590 5657365 2586485 2146 23499 180 177 2544 165 8547 66893 13344338 10016 2597 67694 21904 3497419 20499 5217 10095 285 10015 9593 17314 2137 14564 7401',\n",
       "             25150: '709 182 2575 60114 2305 7391 29553 60850 7342765 3818569 7048400 7048399 2589315 90194 2306 64920 7044047 7044046 19917 5046132 7732 96429 57932 5061243 57909 5657593 5215606 75383 24992 64116 5046278 64110 7394020 4276765 7815 7823 7810 74135 8779 7325369 27598 6696115 6749970 5061194 75309 7342253 57491 7394707 7397079 86901',\n",
       "             25188: '21904 7401 59980 61053 1749 57462 5045633 74704 5469740 24394 94123 99575 58340 58322 50120 4141729 3818430 12792 9627 37220 709 158 1300 166 9959 176 39590 5657365 2586485 2146 23499 180 177 2544 165 8547 66893 13344338 10016 2597 67694 3497419 20499 5217 10095 285 10015 9593 17314 2137',\n",
       "             25241: '102932 56899 14836 58958 31491 16633 16022 39548 13984 18481 13985 18480 18476 18487 709 158 1300 166 9959 176 39590 5657365 2586485 2146 23499 180 177 2544 165 8547 66893 13344338 10016 2597 67694 21904 3497419 20499 5217 10095 285 10015 9593 17314 2137 14564 7401 9152094 100 49911',\n",
       "             25257: '2519 13486 158 60275 70505 5483205 66949 69250 6343 39549 9979 69260 25236 6352 84321 216 84508 239 10163 9970 64174 73586 7324472 86855 7397 2483 5177 455 7016417 80562 9963801 1039 7436 5046218 76481 84272 58038 58862 3497419 6620872 709 94154 5479848 6978 58079 88529 7406821 10095 5061203 27837',\n",
       "             25297: '3497570 45283 1990 3497463 93461 30213 3497535 1989 67443 44848 7036223 64641 44830 7780 77785 61119 7445 44847 67596 28060 94366 71992 2002 7767 14674 6749610 54403 7325257 6692810 709 158 1300 166 9959 176 39590 5657365 2586485 2146 23499 180 177 2544 165 8547 66893 13344338 10016 2597 67694',\n",
       "             25367: '96161 10012 7397 24831 200876 69943 2166 74649 15441 39726 3865881 96219 7979 6750019 5045462 60179 24473 27567 9808 58708 2169 24859 24466 58745 4203124 6770097 14931 45588 27533 58709 16887 30246 44765 100945 23889 1289 3068634 24467 2581 27532 10071 80474 8230 44790 5045621 24860 16313 39724 5483282 5363',\n",
       "             25374: '176 100 170 72011 399 67499 6685882 73286 73414 6782785 6744999 17196 5045631 6782780 90177 77086 67552 5074431 6770432 709 158 1300 166 9959 39590 5657365 2586485 2146 23499 180 177 2544 165 8547 66893 13344338 10016 2597 67694 21904 3497419 20499 5217 10095 285 10015 9593 17314 2137 14564',\n",
       "             25382: '55134 3817484 5469728 69669 72875 100789 7036235 72006 9501 9425 7036228 7342538 58082 2833643 7036239 5476180 6210170 7024300 5476137 20302 17316 6003852 39604 591 199 17312 7036232 4275048 4275049 94420 216 2098 5469740 215 7342764 5481321 9708 7036238 5481616 7013629 2087 5061791 4478 5061789 6885 5481654 4276440 69195 20275 59950',\n",
       "             25399: '21767 3497570 3497505 3497558 5739 3818087 7036181 5045831 3045032 200839 5060856 73315 4247074 49951 6771034 4232675 7396790 5050833 6771355 3031065 5050839 5050846 7396781 9372229 709 158 1300 166 9959 176 39590 5657365 2586485 2146 23499 180 177 2544 165 8547 66893 13344338 10016 2597 67694 21904 3497419 20499 5217 10095',\n",
       "             25435: '36269 26225 57563 3045028 13345 7408 709 158 1300 166 9959 176 39590 5657365 2586485 2146 23499 180 177 2544 165 8547 66893 13344338 10016 2597 67694 21904 3497419 20499 5217 10095 285 10015 9593 17314 2137 14564 7401 9152094 100 49911 2165 170 66966 9842 66969 224 59980 55133',\n",
       "             25454: '2521 2137 5651431 18734 13179 67109 89578 67272 45613 102724 71404 9842 60174 66890 8553 10163 18735 7029837 49447 26703 18742 39590 70505 57174 8473 86063 10322 14466 57367 9960 18733 27677 66868 6640642 5182 14463 15245 78177 14477 6003928 69944 7042650 1985 68078 26334 49923 26335 177 9908 1300',\n",
       "             25514: '15441 5061792 5074230 84118 26299 15555 5074231 64834 28120 53020 105650 15947 36828 16594 15722 45437 85635 6785 4408 49948 6005128 7014228 52701 45540 5044354 5481730 53095 4203134 17290 24731 76721 36106 15658 4403 201140 4276603 390801 4276604 5468928 5468857 5468932 5468856 5468963 5468934 5468960 5468993 709 158 1300 166',\n",
       "             25526: '2544 2558 10049 27569 6717 60147 60151 57332 64871 16962 57327 709 158 1300 166 9959 176 39590 5657365 2586485 2146 23499 180 177 165 8547 66893 13344338 10016 2597 67694 21904 3497419 20499 5217 10095 285 10015 9593 17314 2137 14564 7401 9152094 100 49911 2165 170 66966 9842',\n",
       "             25533: '709 3817484 67693 63072 72875 2600 54728 68700 67040 9590 46966 24843 26314 22107 96400 24845 77063 76913 13854 50258 4831055 39561 1309 17312 14749 7342762 100345 78969 5046168 37065 38837 4033820 77038 8306 29649 826 63613 5217421 89838 6291 7062059 64057 2833480 6794 7325369 7342566 6591104 14192 67034 14727',\n",
       "             25545: '176 180 285 55134 57291 14292 57290 26621 89578 19940 14838 60850 15941 13487 13481 4235874 22161 4443 107 7032787 64729 4033505 64800 199474 18909 15922 5481665 51 93711 22283 5073467 102982 4507 59556 69954 22260 2834430 6749361 709 158 1300 166 9959 39590 5657365 2586485 2146 23499 177 2544',\n",
       "             25559: '64712 7495 38153 36483 45585 50137 27472 27475 37005 27628 13348 37024 30364 15607 92347 5051482 67980 63899 13346 104838 57085 104837 4276594 7291 30300 50373 3858258 199498 25912 6003722 57925 22508 27431 4592919 27603 5061187 84341 709 158 1300 166 9959 176 39590 5657365 2586485 2146 23499 180 177',\n",
       "             25614: '27475 410 26172 10237 5051600 13424 15597 26174 65025 8771 6784030 5060679 2834473 7043743 882 5046073 13990 35618 7029702 709 158 1300 166 9959 176 39590 5657365 2586485 2146 23499 180 177 2544 165 8547 66893 13344338 10016 2597 67694 21904 3497419 20499 5217 10095 285 10015 9593 17314 2137',\n",
       "             25618: '1300 55134 6005364 5182 5479493 72154 26763 3302554 5186 73570 5600 63681 5051482 5051529 18506 3302550 709 158 166 9959 176 39590 5657365 2586485 2146 23499 180 177 2544 165 8547 66893 13344338 10016 2597 67694 21904 3497419 20499 5217 10095 285 10015 9593 17314 2137 14564 7401 9152094 100',\n",
       "             25622: '5483097 7342765 5074584 74716 85606 5657401 37452 51475 201680 7064623 3579073 6695697 5062839 4033837 16682 5702 16693 5063010 5729 709 158 1300 166 9959 176 39590 5657365 2586485 2146 23499 180 177 2544 165 8547 66893 13344338 10016 2597 67694 21904 3497419 20499 5217 10095 285 10015 9593 17314 2137',\n",
       "             25625: '5469728 222 22035 3817512 5154 9425 69372 15145 6749605 39561 1039 12857 7061235 90227 31175 6003555 83564 36622 5073648 5214744 9819 9798 5217367 5481271 69581 709 158 1300 166 9959 176 39590 5657365 2586485 2146 23499 180 177 2544 165 8547 66893 13344338 10016 2597 67694 21904 3497419 20499 5217',\n",
       "             25634: '3497419 7401 55140 5045302 15941 37405 4424 60828 7029518 9740 90177 3039030 37495 7365883 59843 1525 7030105 3074676 6003566 60392 4240676 6770240 7344363 61745 3846655 709 158 1300 166 9959 176 39590 5657365 2586485 2146 23499 180 177 2544 165 8547 66893 13344338 10016 2597 67694 21904 20499 5217 10095',\n",
       "             25646: '45457 96561 55128 2599279 2833535 18327 83974 5044845 9122221 709 158 1300 166 9959 176 39590 5657365 2586485 2146 23499 180 177 2544 165 8547 66893 13344338 10016 2597 67694 21904 3497419 20499 5217 10095 285 10015 9593 17314 2137 14564 7401 9152094 100 49911 2165 170 66966 9842 66969',\n",
       "             25652: '3497419 21767 3497505 67326 15374 66252 3883053 67180 22976 3497519 18723 60215 50128 452 60353 90089 5483121 76726 85017 58365 60052 14596 57435 7043716 3855460 8573 9603 1782 52907 4274857 5657400 52922 69222 51372 3042629 38926 5060869 94090 7043503 709 158 1300 166 9959 176 39590 5657365 2586485 2146 23499',\n",
       "             25660: '176 9152094 69937 14630 2521 9867 286 67662 304 2543 7342538 57609 96437 96219 4276378 58010 37392 24871 59928 15986 4275765 9837 1309 61113 14581 4276410 66788 9757 5061012 100411 101031 38060 61065 8003 63704 16887 58839 15479 57398 96204 45337 45338 60163 6785207 13936 77634 3074231 36502 7048355 4276356',\n",
       "             25670: '709 9959 100789 3817542 100812 17196 13349 100813 77152 20072 20071 24859 13322 101031 10061 2302 64262 5044296 10068 5046170 45264 5044719 5481337 7008345 64246 27615 27593 54966 27547 158 1300 166 176 39590 5657365 2586485 2146 23499 180 177 2544 165 8547 66893 13344338 10016 2597 67694 21904 3497419',\n",
       "             25738: '7397 10049 10058 27629 27569 57174 24831 1315 7908 10068 17935 59359 24671 24848 29651 199341 98043 29649 98040 29588 29587 29586 709 158 1300 166 9959 176 39590 5657365 2586485 2146 23499 180 177 2544 165 8547 66893 13344338 10016 2597 67694 21904 3497419 20499 5217 10095 285 10015',\n",
       "             25757: '49911 68225 6758 29680 1772 84387 64900 63707 63703 3570677 709 158 1300 166 9959 176 39590 5657365 2586485 2146 23499 180 177 2544 165 8547 66893 13344338 10016 2597 67694 21904 3497419 20499 5217 10095 285 10015 9593 17314 2137 14564 7401 9152094 100 2165 170 66966 9842 66969',\n",
       "             25803: '709 158 1300 2544 21904 24831 5182 2166 2305 24835 66957 17145 85680 38241 26164 7027 6003575 24839 152 17196 4592981 45486 58782 2057 4276620 8199 37536 57800 14963 96173 45476 26349 6027 100411 64642 7015770 2048 15925 58352 6695458 5075323 24806 20821 2833414 64627 26339 6694821 58832 16863 5074588',\n",
       "             25829: '2597 67272 18983 9942 4141754 65483 4443 9009 7397 2122 66843 1300 9808 981 67694 5651519 14286 4376 24842 16607 24860 67693 14294 4276381 14681 15997 58046 5657495 5657498 39566 105844 13550148 14292 64221 64712 38060 2129 20172 21450 7072047 2126 2124 50137 36086 198455 5046100 39692 2125 5481759 50466',\n",
       "             25840: '2146 200876 198482 95961 45243 45242 45244 9959 50235 177 5651530 75924 39590 2205 9152094 38694 5045301 46800 67407 96217 96437 5044702 66845 14927 6695159 5051549 5479791 5044701 6695158 5997093 7071972 96164 13956 5797403 44770 57561 5642 59460 6210221 200852 14967 4621 50342 76913 6210244 5214802 15426 9282597 5479471 16832',\n",
       "             25844: '49921 68465 22194 57558 17312 5061260 60022 60025 60021 30902 67082 64232 17319 15988 78088 20358 30739 72127 4592719 60513 7342624 15993 6636208 4276389 95738 24480 5797550 5214864 81360 709 158 1300 166 9959 176 39590 5657365 2586485 2146 23499 180 177 2544 165 8547 66893 13344338 10016 2597 67694',\n",
       "             25894: '166 39590 8547 21904 3497419 39591 14286 55140 39589 58170 22045 45607 63984 13114 58004 51487 10198 10265 24845 1037 57867 22995 3497330 39560 13301 22976 3497519 65483 30213 26176 57016 9808 17705 86767 44848 44824 6771051 59610 7036229 29607 70724 7029518 38105 5470984 44830 59633 7043329 71617 7043716 3497452',\n",
       "             25911: '7397 2521 27745 2600 66949 80460 57170 183 8201 68347 7979 66965 9387 3599473 59771 63680 15592 9793 5045640 5217410 5060777 3594675 58966 44866 23504 8090 20388 25158 7325367 20387 31189 68243 4831396 8230 7316 5214744 75830 6388042 3818753 709 158 1300 166 9959 176 39590 5657365 2586485 2146 23499',\n",
       "             25946: '709 69669 10049 5045302 286 76876 100812 6375464 94037 58010 91095 13058 23141 18013 26589 6695060 7365 5045640 5479811 4274636 5060777 44824 14253 57631 7042620 5481630 72376 68858 4979 38212 95423 59640 96441 3053877 78110 70231 7029466 5654350 5657512 3096229 7029650 89633 5689 4276178 81138 7034900 3825857 6694769 7032223 6390563',\n",
       "             25960: '10033 1159907 66962 5476609 5050914 96212 58708 96236 94058 6003928 6388046 3048648 3048643 5044709 176 5470983 6749970 102607 56899 5892 67199 16770 5876 66877 7313832 3043045 96306 7391 6371131 4277222 14465 3041836 107 7015610 58712 50287 96409 28094 3858282 6886 6885 6884 6824042 5979 3817489 45517 202196 4033792 6003852 14511',\n",
       "             25962: '12565 80609 22043 7326689 5062048 7396870 9363826 16762 7042620 3819639 3819641 90983 64673 7042625 7414726 709 158 1300 166 9959 176 39590 5657365 2586485 2146 23499 180 177 2544 165 8547 66893 13344338 10016 2597 67694 21904 3497419 20499 5217 10095 285 10015 9593 17314 2137 14564 7401 9152094 100',\n",
       "             25994: '39590 4033462 104 26621 876 19562 10265 4033458 36269 3818489 5075971 7062126 26742 7043847 26617 69373 5051600 7043716 6749556 4210675 5060933 4211878 3041856 7043727 7454641 58822 77154 67256 3042229 36273 102241 4831176 4033488 5045262 6694788 6696843 6694786 76627 709 158 1300 166 9959 176 5657365 2586485 2146 23499 180 177',\n",
       "             26000: '709 55133 55134 27745 2575 5044203 13487 5481678 37484 199258 98063 24870 6785 4203251 94642 95423 16891 80474 16769 93180 16767 16772 5479833 14837 6839 4033863 4033862 158 1300 166 9959 176 39590 5657365 2586485 2146 23499 180 177 2544 165 8547 66893 13344338 10016 2597 67694 21904 3497419 20499',\n",
       "             26037: '9959 39590 21904 7401 69669 45457 286 24851 288 67499 407 57205 72154 7979 27571 2324 50258 4831055 22988 15997 5073714 13793 25950 1775 5044602 103798 2326 66866 67443 27472 66865 49923 90073 90535 30902 5481252 83974 29690 6697365 50529 4033701 36622 82348 5045132 4033702 76469 7062212 2835283 30215 61087',\n",
       "             26045: '2572 2574 709 158 1300 166 9959 176 39590 5657365 2586485 2146 23499 180 177 2544 165 8547 66893 13344338 10016 2597 67694 21904 3497419 20499 5217 10095 285 10015 9593 17314 2137 14564 7401 9152094 100 49911 2165 170 66966 9842 66969 224 59980 55133 66967 96161 7000939 159',\n",
       "             26050: '7381 14286 5217429 199645 77632 18027 60283 981 21532 5481659 4202912 67408 6565241 661 5044814 5187 78935 75046 6784583 3817484 94333 72006 37410 4831045 16185 69669 51 20295 44799 5481657 57199 100789 165 45553 11 7325401 478 39796 5479853 709 70141 55133 5469740 5469728 55243 62826 202196 5178 60179 91095',\n",
       "             26078: '5074731 7056118 8654 4141489 6641444 7071692 709 158 1300 166 9959 176 39590 5657365 2586485 2146 23499 180 177 2544 165 8547 66893 13344338 10016 2597 67694 21904 3497419 20499 5217 10095 285 10015 9593 17314 2137 14564 7401 9152094 100 49911 2165 170 66966 9842 66969 224 59980 55133',\n",
       "             26085: '24852 202196 21545 6750019 8071 5044757 2833572 6749985 4033730 97950 4831396 6780 24671 96207 27598 8089 97944 6004048 5997263 709 158 1300 166 9959 176 39590 5657365 2586485 2146 23499 180 177 2544 165 8547 66893 13344338 10016 2597 67694 21904 3497419 20499 5217 10095 285 10015 9593 17314 2137',\n",
       "             26086: '55133 981 63780 5479511 399 3817489 5178 5481688 50028 6565238 63724 20391 2834444 63704 5479466 22991 4141762 20388 26769 20353 20358 18931 20389 3567890 5217414 4274925 5478329 5478331 3048644 20390 22911 63621 63718 94153 7062035 5044709 83998 709 158 1300 166 9959 176 39590 5657365 2586485 2146 23499 180 177',\n",
       "             26102: '176 7397 60137 62038 6771051 6907 7124 20189 30267 20210 95514 5657581 27883 30377 3052249 4592945 30272 76415 4276767 3833463 4275471 30266 85511 4203068 30255 7476 98760 9136253 3856272 3859493 7063249 3859883 90923 709 158 1300 166 9959 39590 5657365 2586485 2146 23499 180 177 2544 165 8547 66893 13344338',\n",
       "             26109: '49911 225 1746 96306 45457 5479511 45459 3817489 7092 38458 66957 5479493 55034 13487 4274956 69553 584 5045462 3302554 17281 37458 84497 57404 17223 5481654 5190 4274957 61155 4033538 4274948 4203264 882 4274949 23855 6565191 709 158 1300 166 9959 176 39590 5657365 2586485 2146 23499 180 177 2544 165',\n",
       "             26175: '5629939 709 158 1300 166 9959 176 39590 5657365 2586485 2146 23499 180 177 2544 165 8547 66893 13344338 10016 2597 67694 21904 3497419 20499 5217 10095 285 10015 9593 17314 2137 14564 7401 9152094 100 49911 2165 170 66966 9842 66969 224 59980 55133 66967 96161 7000939 159 2549',\n",
       "             26181: '4277768 52175 63980 72376 75399 72364 7323161 7323159 7323120 89631 7323934 7323308 7323941 7324029 709 158 1300 166 9959 176 39590 5657365 2586485 2146 23499 180 177 2544 165 8547 66893 13344338 10016 2597 67694 21904 3497419 20499 5217 10095 285 10015 9593 17314 2137 14564 7401 9152094 100 49911',\n",
       "             26188: '709 224 96161 7000939 14630 4592908 24831 31277 21767 72003 73492 1771 5479511 1159921 6782754 304 24842 6685882 9425 23004 198045 76838 59187 45458 17699 240 96439 26222 4235874 22995 96164 14624 37368 7048400 65483 3497535 7008785 7062001 806 3497423 96168 5601 8248 7008786 7062000 51355 3497324 60151 5659264 76617',\n",
       "             26197: '159 2600 26621 7054384 4592672 86746 7032189 7323246 7323117 7323088 7364434 7323160 105387 7323298 7323300 6756942 7040992 7323205 7069291 7323196 7323131 7323996 7323278 69759 7323343 7324419 709 158 1300 166 9959 176 39590 5657365 2586485 2146 23499 180 177 2544 165 8547 66893 13344338 10016 2597 67694 21904 3497419 20499',\n",
       "             26209: '177 17314 14564 14630 2271 20285 136 26616 7021 9936 5476180 72155 96530 105591 199 66883 4275048 5062860 4275049 66885 10000 38717 71175 58962 2573 71180 133 71176 71183 69196 58836 4033661 61683 58126 6607698 21453 37349 51047 18810 39629 5046161 14385 9811 14392 5063239 9798 38110 65436 5063243 9841',\n",
       "             26251: '45262 45591 58862 709 158 1300 166 9959 176 39590 5657365 2586485 2146 23499 180 177 2544 165 8547 66893 13344338 10016 2597 67694 21904 3497419 20499 5217 10095 285 10015 9593 17314 2137 14564 7401 9152094 100 49911 2165 170 66966 9842 66969 224 59980 55133 66967 96161 7000939',\n",
       "             26307: '10016 66966 2548 138 4141754 8016 13179 84118 15592 4276239 4592650 84866 5051600 141 24348 6041 21540 1220 5997140 7342761 2622077 29631 7342703 79084 8306 76206 8093 8334 69399 3817961 8821 77906 39681 21541 5076175 24487 82340 10708 709 158 1300 166 9959 176 39590 5657365 2586485 2146 23499 180',\n",
       "             26326: '57952 1746 9809 18734 399 9999 57828 9977 26616 24843 45458 3497352 96253 47769 84319 14853 60125 292 36191 4275840 6339 2834440 6341 59920 60215 287 5601 1764 7313793 3048669 100449 6344 13129 7103836 26700 6750096 86064 69681 52175 7044043 13486 37409 202195 13469 7044042 3834253 96441 72839 4745 58138',\n",
       "             26354: '709 39590 165 224 96161 2600 5481691 73 96219 58030 72282 3302554 63680 36266 1199 58032 9935 5657381 5479848 39635 58793 3817511 57122 83783 158 1300 166 9959 176 5657365 2586485 2146 23499 180 177 2544 8547 66893 13344338 10016 2597 67694 21904 3497419 20499 5217 10095 285 10015 9593',\n",
       "             26365: '22161 38700 159 39590 55151 58322 64057 4033574 13478 7863 10095 158 5179 24839 6005183 3571915 655 38526 3571916 709 5479797 39771 13341 65871 4235874 92109 3817512 5469728 37539 3817487 3570287 3817507 4141329 55266 50450 89605 103441 26769 50190 7386338 25106 94333 66845 13323 399 3302524 813 65872 24836 92020',\n",
       "             26383: '158 45459 45460 67046 2835401 13990 709 1300 166 9959 176 39590 5657365 2586485 2146 23499 180 177 2544 165 8547 66893 13344338 10016 2597 67694 21904 3497419 20499 5217 10095 285 10015 9593 17314 2137 14564 7401 9152094 100 49911 2165 170 66966 9842 66969 224 59980 55133 66967',\n",
       "             26401: '709 39590 7401 159 14462 10019 24831 72875 456 1159921 26751 45459 102932 5479493 60730 36666 22108 38241 50258 3302554 4033646 96166 16731 5044801 17199 2833446 38242 3569885 25548 4276295 39447 47064 62531 18009 48344 61154 25497 4507 3818475 4276318 93648 57362 14858 38243 14648 7724780 7724783 25949 6748563 6003856',\n",
       "             26413: '159 24851 5474263 7979 6749605 5062131 74582 68069 63724 15916 26159 5061113 95430 29673 3863902 27474 57332 27945 8093 25715 7479 25111 7008302 709 158 1300 166 9959 176 39590 5657365 2586485 2146 23499 180 177 2544 165 8547 66893 13344338 10016 2597 67694 21904 3497419 20499 5217 10095 285',\n",
       "             26473: '78672 7324996 4202912 1242 24845 9936 15986 5256 50235 19300 5044801 2833446 5481726 7054384 95442 5046683 61044 5481630 5471001 4830920 37201 21195 77621 6784186 66794 5479478 8306 4431 5046679 3082252 8304 16181 90331 5471036 7439590 3818742 6678045 10148 7000858 912 58019 14422 1176 31135 65097 199358 6678046 4372 5479794 4211474',\n",
       "             ...})"
      ]
     },
     "execution_count": 85,
     "metadata": {},
     "output_type": "execute_result"
    }
   ],
   "source": [
    "res"
   ]
  },
  {
   "cell_type": "code",
   "execution_count": null,
   "metadata": {},
   "outputs": [],
   "source": []
  },
  {
   "cell_type": "code",
   "execution_count": null,
   "metadata": {},
   "outputs": [],
   "source": []
  },
  {
   "cell_type": "code",
   "execution_count": null,
   "metadata": {},
   "outputs": [],
   "source": []
  },
  {
   "cell_type": "code",
   "execution_count": null,
   "metadata": {},
   "outputs": [],
   "source": []
  },
  {
   "cell_type": "code",
   "execution_count": null,
   "metadata": {},
   "outputs": [],
   "source": []
  },
  {
   "cell_type": "code",
   "execution_count": null,
   "metadata": {},
   "outputs": [],
   "source": []
  },
  {
   "cell_type": "code",
   "execution_count": null,
   "metadata": {},
   "outputs": [],
   "source": []
  },
  {
   "cell_type": "code",
   "execution_count": null,
   "metadata": {},
   "outputs": [],
   "source": []
  },
  {
   "cell_type": "code",
   "execution_count": null,
   "metadata": {},
   "outputs": [],
   "source": []
  }
 ],
 "metadata": {
  "kernelspec": {
   "display_name": "Python 3",
   "language": "python",
   "name": "python3"
  },
  "language_info": {
   "codemirror_mode": {
    "name": "ipython",
    "version": 3
   },
   "file_extension": ".py",
   "mimetype": "text/x-python",
   "name": "python",
   "nbconvert_exporter": "python",
   "pygments_lexer": "ipython3",
   "version": "3.7.6"
  }
 },
 "nbformat": 4,
 "nbformat_minor": 4
}
